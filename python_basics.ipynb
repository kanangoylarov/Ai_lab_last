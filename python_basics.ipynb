{
 "cells": [
  {
   "cell_type": "markdown",
   "id": "c197dece-b3e5-4e91-b9ed-415d9826187a",
   "metadata": {},
   "source": [
    "# Python Basics\n"
   ]
  },
  {
   "cell_type": "markdown",
   "id": "4269e894-8c55-4a5e-bac3-b6d45bc362cf",
   "metadata": {},
   "source": [
    "### 1.1 Dəyişənlər və Operatorlar"
   ]
  },
  {
   "cell_type": "markdown",
   "id": "9730e764-045c-46fc-ac45-2d011b919c4b",
   "metadata": {},
   "source": [
    "## Əsas dəyişən tipləri"
   ]
  },
  {
   "cell_type": "markdown",
   "id": "10f52669-2972-4d81-85c4-7c30f65138f8",
   "metadata": {},
   "source": [
    "**Python-da tip, dəyişənin içində hansı növ məlumatın olduğunu göstərir. Məsələn, ədəd, mətn və ya siyahı kimi.**"
   ]
  },
  {
   "cell_type": "markdown",
   "id": "bcd5d9c9-d48f-4cde-9932-da0b1dc3dd20",
   "metadata": {},
   "source": [
    "**`tam_ədəd`** dəyişəni **tam ədəd (int)** tipindədir və qiyməti 42-dir.  \n",
    "**`kəsr_ədəd`** dəyişəni **ondalıklı ədəd (float)** tipindədir və qiyməti 3.14-dür.  \n",
    "**`mətn`** dəyişəni **mətin (string)** tipindədir və \"Salam, Dünya!\" məzmununa malikdir.  \n",
    "**`məntiqi`** dəyişəni **bool (məntiqi)** tipindədir və qiyməti True-dur.  \n",
    "**`heç_nə`** dəyişəni **NoneType** tipindədir və heç bir dəyər daşımır (boşdur).  \n"
   ]
  },
  {
   "cell_type": "code",
   "execution_count": 4,
   "id": "d1dfc29d-8275-43fb-96f9-d0f4f04f3def",
   "metadata": {},
   "outputs": [],
   "source": [
    "tam_ədəd = 42                  # int\n",
    "kəsr_ədəd = 3.14               # float\n",
    "mətn = \"Salam, Dünya!\"         # str\n",
    "məntiqi = True                 # bool\n",
    "heç_nə = None                  # NoneType"
   ]
  },
  {
   "cell_type": "markdown",
   "id": "0fd549d5-b6c8-4c7f-965c-2c3c620a4297",
   "metadata": {},
   "source": [
    "### Çoxsətirli mətn"
   ]
  },
  {
   "cell_type": "markdown",
   "id": "189f5292-023b-4783-85e3-5534b74d0686",
   "metadata": {},
   "source": [
    "**`çoxsətirli`** dəyişəni üçqat qoşa dırnaq `\"\"\" \"\"\"` içində yazılmış,  \n",
    "yəni **çoxsətirli mətn (string)** tipindədir.  \n",
    "Bu üsulla mətn bir neçə sətirdə yazıla bilər.  "
   ]
  },
  {
   "cell_type": "code",
   "execution_count": 5,
   "id": "d9baf78d-3cff-4edb-97fa-8222d2b85fb1",
   "metadata": {},
   "outputs": [],
   "source": [
    "çoxsətirli = \"\"\"\n",
    "Bu çoxsətirli\n",
    "mətn nümunəsidir.\n",
    "\"\"\""
   ]
  },
  {
   "cell_type": "code",
   "execution_count": 7,
   "id": "b02a8058-f83e-4aef-b27f-c89a3788db6d",
   "metadata": {},
   "outputs": [
    {
     "name": "stdout",
     "output_type": "stream",
     "text": [
      "\n",
      "Bu çoxsətirli\n",
      "mətn nümunəsidir.\n",
      "\n"
     ]
    }
   ],
   "source": [
    "print(çoxsətirli)"
   ]
  },
  {
   "cell_type": "code",
   "execution_count": 8,
   "id": "d0eeb960-34e3-404c-a5d9-cfe8ff021468",
   "metadata": {},
   "outputs": [
    {
     "data": {
      "text/plain": [
       "'\\nBu çoxsətirli\\nmətn nümunəsidir.\\n'"
      ]
     },
     "execution_count": 8,
     "metadata": {},
     "output_type": "execute_result"
    }
   ],
   "source": [
    "çoxsətirli"
   ]
  },
  {
   "cell_type": "markdown",
   "id": "1e5b7008-1802-4f0e-9539-7ff57983c690",
   "metadata": {},
   "source": [
    "## Dinamik tip dəyişmə"
   ]
  },
  {
   "cell_type": "markdown",
   "id": "38a748e1-6985-4d82-ad7a-fd1886e7e2a2",
   "metadata": {},
   "source": [
    "`dəyişən` əvvəlcə **tam ədəd (int)** tipində təyin olunur və qiyməti 10-dur.  \n",
    "`print(type(dəyişən))` ilə dəyişənin tipi ekrana çıxarılır və `<class 'int'>` göstərilir.  \n",
    "Sonra `dəyişən` **mətin (str)** tipinə dəyişdirilir və \"on\" dəyəri verilir.  \n",
    "Yenidən `print(type(dəyişən))` işlədilərək tip yoxlanılır və `<class 'str'>` çıxır.  \n",
    "Python-da dəyişənin tipi istənilən vaxt dəyişə bilər, yəni dəyişkəndir (dynamic typing).  \n"
   ]
  },
  {
   "cell_type": "code",
   "execution_count": 10,
   "id": "7abb23c3-4f96-4882-a6c6-0be21b008929",
   "metadata": {},
   "outputs": [
    {
     "name": "stdout",
     "output_type": "stream",
     "text": [
      "<class 'int'>\n",
      "<class 'str'>\n"
     ]
    }
   ],
   "source": [
    "dəyişən = 10\n",
    "print(type(dəyişən))  # <class 'int'>\n",
    "dəyişən = \"on\"\n",
    "print(type(dəyişən))  # <class 'str'>\n"
   ]
  },
  {
   "cell_type": "markdown",
   "id": "dd279e52-0f3d-4083-b333-7cb745070304",
   "metadata": {},
   "source": [
    "## Operatorlara nümunələr"
   ]
  },
  {
   "cell_type": "markdown",
   "id": "d958016d-93ff-4c6d-b3f1-2790b1113494",
   "metadata": {},
   "source": [
    "`a` və `b` dəyişənlərinə müvafiq olaraq 10 və 3 qiymətləri verilir.  \n",
    "**Toplama (`+`)** əməliyyatı `a + b` ilə 13 nəticəsini verir.  \n",
    "**Çıxma (`-`)**, **vurma (`*`)**, **bölmə (`/`)** kimi əsas riyazi əməliyyatlar göstərilir.  \n",
    "**Tam bölmə (`//`)** `a`-nın `b`-yə bölünməsinin tam hissəsini qaytarır.  \n",
    "**Qalıq (`%`)** əməliyyatı bölmədən qalanı tapır.  \n",
    "**Üst (`**`)** əməliyyatı `a`-nın `b`-ci qüvvətini hesablamaq üçündür (10^3 = 1000).  \n"
   ]
  },
  {
   "cell_type": "code",
   "execution_count": 5,
   "id": "130ce578-1f1e-4c1a-b99a-1599b18c4638",
   "metadata": {},
   "outputs": [
    {
     "name": "stdout",
     "output_type": "stream",
     "text": [
      "Toplama: 13\n",
      "Çıxma: 7\n",
      "Vurma: 30\n",
      "Bölmə: 3.3333333333333335\n",
      "Tam bölmə: 3\n",
      "Qalıq: 1\n",
      "Üst: 1000\n"
     ]
    }
   ],
   "source": [
    "a, b = 10, 3\n",
    "\n",
    "print(\"Toplama:\", a + b)       # 13\n",
    "print(\"Çıxma:\", a - b)         # 7\n",
    "print(\"Vurma:\", a * b)         # 30\n",
    "print(\"Bölmə:\", a / b)         # 3.333...\n",
    "print(\"Tam bölmə:\", a // b)    # 3\n",
    "print(\"Qalıq:\", a % b)         # 1\n",
    "print(\"Üst:\", a ** b)          # 1000\n"
   ]
  },
  {
   "cell_type": "markdown",
   "id": "ce16e70a-27fb-427a-94c1-d5d84ccc932a",
   "metadata": {},
   "source": [
    "## Müqayisə operatorları"
   ]
  },
  {
   "cell_type": "markdown",
   "id": "9bfc5909-380d-4062-934a-67e405f337c4",
   "metadata": {},
   "source": [
    "Bu müqayisə operatorları iki dəyəri bir-biri ilə müqayisə edir:\n",
    "\n",
    "- `a > b` → `True` (10 > 3)\n",
    "- `a < b` → `False` (10 < 3 deyil)\n",
    "- `a == b` → `False` (10 bərabər deyil 3-ə)\n",
    "- `a != b` → `True` (10 fərqlidir 3-dən)\n",
    "\n",
    "Bu cür operatorlar **şərtlərin yoxlanması** və **idarəetmə strukturlarında** geniş istifadə olunur.\n"
   ]
  },
  {
   "cell_type": "code",
   "execution_count": 7,
   "id": "08d84c3a-5365-4b50-a819-7e4485ce0edd",
   "metadata": {},
   "outputs": [
    {
     "name": "stdout",
     "output_type": "stream",
     "text": [
      "a > b: True\n",
      "a == b: False\n",
      "a != b: True\n"
     ]
    }
   ],
   "source": [
    "print(\"a > b:\", a > b)         # True\n",
    "print(\"a == b:\", a == b)       # False\n",
    "print(\"a != b:\", a != b)       # True"
   ]
  },
  {
   "cell_type": "markdown",
   "id": "455de733-d5ec-427e-96eb-37e5fb0cd2ff",
   "metadata": {},
   "source": [
    "## Məntiqi operatorlar"
   ]
  },
  {
   "cell_type": "markdown",
   "id": "7fee231c-c4a8-423c-9514-66c06e10a96d",
   "metadata": {},
   "source": [
    "`True` və `False` məntiqi dəyərləri ilə **AND**, **OR** və **NOT** əməliyyatları tətbiq olunur.  \n",
    "**AND (`and`)** yalnız hər iki tərəf `True` olduqda `True` qaytarır.  \n",
    "**OR (`or`)** tərəflərdən ən az biri `True` olduqda `True` nəticəsi verir.  \n",
    "**NOT (`not`)** isə məntiqi dəyərin tərsini verir (məsələn, `not True` → `False`).\n"
   ]
  },
  {
   "cell_type": "code",
   "execution_count": 13,
   "id": "d0b87126-6799-40bc-871f-dbbaddcb877b",
   "metadata": {},
   "outputs": [
    {
     "name": "stdout",
     "output_type": "stream",
     "text": [
      "AND: False\n",
      "OR: True\n",
      "NOT: False\n"
     ]
    }
   ],
   "source": [
    "print(\"AND:\", True and False)  # False\n",
    "print(\"OR:\", True or False)    # True\n",
    "print(\"NOT:\", not True)        # False"
   ]
  },
  {
   "cell_type": "markdown",
   "id": "923910ac-c097-4663-b4c5-bc9dde9d1e26",
   "metadata": {},
   "source": [
    "# 1.2 Şərt İfadələri"
   ]
  },
  {
   "cell_type": "markdown",
   "id": "459ebe10-c631-4709-9f6e-733521468d9c",
   "metadata": {},
   "source": [
    " Şərt İfadələri proqramlaşdırmada müxtəlif vəziyyətlərə görə fərqli əməliyyatların icra olunmasını təmin edən məntiqi yoxlamalardır."
   ]
  },
  {
   "cell_type": "markdown",
   "id": "07826dc0-436b-45e2-bb3f-d3095309d017",
   "metadata": {},
   "source": [
    "`bal` dəyişəni 85 olaraq təyin edilir.  \n",
    "**`if`**, **`elif`** və **`else`** şərt blokları ilə qiymətə görə fərqli mesajlar göstərilir.  \n",
    "**`:`** işarəsindən sonra indentasiya (4 boşluq və ya tab) mütləqdir.  \n",
    "Bal 90 və yuxarıdırsa \"Əla!\", 70-89 arası \"Yaxşı!\", 50-69 arası \"Qənaətbəxş\",  \n",
    "50-dən aşağı olduqda isə \"Kəsildiniz\" mesajı çıxır.  \n",
    "```\n"
   ]
  },
  {
   "cell_type": "code",
   "execution_count": 15,
   "id": "ec3f1aa3-1ad0-43dc-b766-059c9dd2226e",
   "metadata": {},
   "outputs": [
    {
     "name": "stdout",
     "output_type": "stream",
     "text": [
      "Yaxşı!\n"
     ]
    }
   ],
   "source": [
    "bal = 85\n",
    "#burda her zaman indentention gozlenmelidir yeni : den sonra asagi setirde bir tab ve ya 4 bosluq\n",
    "if bal >= 90:\n",
    "    print(\"Əla!\")\n",
    "elif bal >= 70:\n",
    "    print(\"Yaxşı!\")\n",
    "elif bal >= 50:\n",
    "    print(\"Qənaətbəxş\")\n",
    "else:\n",
    "    print(\"Kəsildiniz\")"
   ]
  },
  {
   "cell_type": "markdown",
   "id": "af6950c7",
   "metadata": {},
   "source": [
    "yas dəyişəni istifadəçidən tam ədəd kimi alınır.  \n",
    "Vətəndaşlıq və ali təhsil məlumatları \"bəli/xeyr\" formatında daxil edilir.  \n",
    "**`if`**, **`elif`** və **`else`** blokları ilə müraciət üçün uyğunluq yoxlanılır.  \n",
    "Əgər şəxs ya vətəndaşdır, ya da ali təhsillidir və yaşı 18-dən yuxarıdırsa, müraciət edə bilər.  \n",
    "Əks halda uyğun deyilsə, ya da bəzi hallarda sənədlə müraciət mümkündür.  \n"
   ]
  },
  {
   "cell_type": "code",
   "execution_count": null,
   "id": "b050238c",
   "metadata": {},
   "outputs": [],
   "source": [
    "yas = int(input(\"Zəhmət olmasa yaşınızı daxil edin: \"))\n",
    "vatandasliq = input(\"Azərbaycan vətəndaşısınız? (bəli/xeyr): \").lower()\n",
    "ali_tehsil = input(\"Ali təhsilli şəxssiniz? (bəli/xeyr): \").lower()\n",
    "\n",
    "# Şərt: (vətəndaşdır VƏ YA ali təhsillidir) VƏ yaş >= 18\n",
    "if (vatandasliq == \"bəli\" or ali_tehsil == \"bəli\") and yas >= 18:\n",
    "    print(\"Siz ilkin olaraq müraciət edə bilərsiniz.\")\n",
    "\n",
    "# Əgər şəxs nə vətəndaşdır, nə də ali təhsillidir, və yaşı da 18-dən kiçikdirsə\n",
    "elif not (vatandasliq == \"bəli\" or ali_tehsil == \"bəli\") or yas < 18:\n",
    "    print(\"Təəssüf, siz müraciət şərtlərinə uyğun deyilsiniz.\")\n",
    "\n",
    "# Digər hallarda\n",
    "else:\n",
    "    print(\"Əlavə sənədlərlə müraciət etmək mümkündür.\")\n"
   ]
  },
  {
   "cell_type": "markdown",
   "id": "25f4fdfa-dcc3-4428-9cf9-ef427e272abf",
   "metadata": {},
   "source": [
    "### İç-içə şərtlər"
   ]
  },
  {
   "cell_type": "markdown",
   "id": "220d5154-6baf-4942-8178-778091915648",
   "metadata": {},
   "source": [
    "### İç-içə şərtlər (nested conditions) biri digərinin içində yerləşən şərt bloklarıdır və mürəkkəb məntiqi qərarları mərhələli şəkildə yoxlamağa imkan verir."
   ]
  },
  {
   "cell_type": "code",
   "execution_count": 3,
   "id": "47c245f6-498e-4328-9cb7-845f784d3eae",
   "metadata": {},
   "outputs": [
    {
     "name": "stdout",
     "output_type": "stream",
     "text": [
      "İş üçün uyğunsunuz\n"
     ]
    }
   ],
   "source": [
    "yaş = 20\n",
    "təhsil = \"ali\"\n",
    "\n",
    "if yaş >= 18:\n",
    "    if təhsil == \"ali\":\n",
    "        print(\"İş üçün uyğunsunuz\")\n",
    "    else:\n",
    "        print(\"Təhsil şərtinə uyğun deyilsiniz\")\n",
    "else:\n",
    "    print(\"Yaş şərtinə uyğun deyilsiniz\")"
   ]
  },
  {
   "cell_type": "code",
   "execution_count": 18,
   "id": "86a45b77-9097-4a16-9107-cd96d8348eef",
   "metadata": {},
   "outputs": [
    {
     "name": "stdout",
     "output_type": "stream",
     "text": [
      "Kiçik olan: 10\n"
     ]
    }
   ],
   "source": [
    "# İki ədəd təyin edir\n",
    "x = 10\n",
    "y = 20\n",
    "\n",
    "# x və y arasından kiçik olanı seçir\n",
    "# Əgər x < y-dirsə, kiçik = x olacaq, əks halda kiçik = y olacaq\n",
    "kiçik = x if x < y else y\n",
    "\n",
    "# Nəticəni çap edir\n",
    "print(\"Kiçik olan:\", kiçik)"
   ]
  },
  {
   "cell_type": "markdown",
   "id": "96e5c1a6-8bdd-4950-bdbc-3a587af8649b",
   "metadata": {},
   "source": [
    "# 1.3 Dövrlər"
   ]
  },
  {
   "cell_type": "markdown",
   "id": "3b4348e8-43be-4cfa-b2bf-70f938fc9b50",
   "metadata": {},
   "source": [
    "Dövrlər proqramda eyni əmri çoxsaylı dəfə təkrar etmək üçün istifadə olunur.\n",
    "Məsələn, əgər sən 10 dəfə “Salam” demək istəyirsənsə, dövr həmin əmri 10 dəfə avtomatik yerinə yetirir.\n",
    "Bu, əl ilə hər dəfə yazmaq yerinə işimizi asanlaşdırır və vaxt qənaət edir.\n",
    "Dövr başladıqda təyin olunan sayda və ya şərtə görə əmrləri təkrar edir.\n",
    "Beləliklə, proqram eyni işi çoxsaylı dəfə təkrarlamağa imkan verir.\n",
    "`types: for and while.`\n",
    "Aşağıda bunları daha yaxşı anlamaq üçün nümunələr verilib."
   ]
  },
  {
   "cell_type": "markdown",
   "id": "940272e9-1d51-4110-b2d5-1d2b3efa7ee6",
   "metadata": {},
   "source": [
    "Ekrana əvvəlcə **\"0-dan 4-ə qədər:\"** yazısı çıxır.  \n",
    "`for` dövrü **0-dan başlayaraq 4-ə qədər** (5 daxil deyil) olan ədədləri təkrar-təkrar çap edir.  \n",
    "`range(5)` funksiyası 0-dan 4-ə qədər olan ədədlər ardıcıllığını yaradır.  \n",
    "`print(i, end=' ')` əmri ədədləri boşluqla ayıraraq, hər biri yeni sətrə keçmədən ekrana yazır.  \n",
    "Nəticədə ekranda: `0 1 2 3 4` çap olunur.  \n"
   ]
  },
  {
   "cell_type": "code",
   "execution_count": 20,
   "id": "8901681e-1f18-4bb4-a9a8-eeffbd363bc7",
   "metadata": {},
   "outputs": [
    {
     "name": "stdout",
     "output_type": "stream",
     "text": [
      "0-dan 4-ə qədər:\n",
      "0 1 2 3 4 "
     ]
    }
   ],
   "source": [
    "# Ekrana \"0-dan 4-ə qədər:\" yazdırır\n",
    "print(\"0-dan 4-ə qədər:\")\n",
    "\n",
    "# 0-dan başlayaraq 4-ə qədər (5 daxil deyil) ədədləri çap edir\n",
    "for i in range(5):\n",
    "    # i dəyərini boşluqla ayıraraq çap edir (new line olmadan)\n",
    "    print(i, end=' ')\n"
   ]
  },
  {
   "cell_type": "markdown",
   "id": "a13c03bd-f68d-45cf-8f9e-bcf6b56133d5",
   "metadata": {},
   "source": [
    "Ekrana əvvəlcə **\"5-dən 9-a qədər:\"** yazılır.  \n",
    "`for` dövrü **5-dən başlayaraq 9-a qədər** ədədləri çap edir.  \n",
    "`range(5, 10)` funksiyası 5-dən 9-a qədər (10 daxil deyil) ədədləri yaradır.  \n",
    "`print(i, end=' ')` ədədləri boşluqla ayırır və yeni sətirə keçmir.  \n",
    "Nəticədə ekranda: `5 6 7 8 9` göstərilir.  "
   ]
  },
  {
   "cell_type": "code",
   "execution_count": 21,
   "id": "e68baa59-0860-4b73-b680-1100b04d38ea",
   "metadata": {},
   "outputs": [
    {
     "name": "stdout",
     "output_type": "stream",
     "text": [
      "\n",
      "\n",
      "5-dən 9-a qədər:\n",
      "5 6 7 8 9 "
     ]
    }
   ],
   "source": [
    "print(\"\\n\\n5-dən 9-a qədər:\")\n",
    "for i in range(5, 10):\n",
    "    print(i, end=' ')\n"
   ]
  },
  {
   "cell_type": "markdown",
   "id": "9cb3a668-31ab-4eea-a79c-c50c9ce1b402",
   "metadata": {},
   "source": [
    "Ekrana əvvəlcə **\"0-dan 10-a qədər 2 addım:\"** yazılır.  \n",
    "`for` dövrü **0-dan başlayaraq 10-a qədər 2 addımla** ədədləri çap edir.  \n",
    "`range(0, 11, 2)` funksiyası 0-dan 10-a qədər (11 daxil deyil), 2 addımla ardıcıllıq yaradır.  \n",
    "`print(i, end=' ')` ədədləri boşluqla ayırır və yeni sətrə keçmir.  \n",
    "Nəticədə ekranda: `0 2 4 6 8 10` göstərilir.  \n"
   ]
  },
  {
   "cell_type": "code",
   "execution_count": 22,
   "id": "8141e087-df95-4a93-b9b6-185d73c52c9b",
   "metadata": {},
   "outputs": [
    {
     "name": "stdout",
     "output_type": "stream",
     "text": [
      "\n",
      "\n",
      "0-dan 10-a qədər 2 addım:\n",
      "0 2 4 6 8 10 "
     ]
    }
   ],
   "source": [
    "print(\"\\n\\n0-dan 10-a qədər 2 addım:\")\n",
    "for i in range(0, 11, 2):\n",
    "    print(i, end=' ')"
   ]
  },
  {
   "cell_type": "markdown",
   "id": "d8de3a0e-b5e6-47c8-bd87-ff3cdbfb095b",
   "metadata": {},
   "source": [
    "`meyvələr` siyahısında müxtəlif meyvə adları saxlanılır.  \n",
    "`for` dövrü siyahıdakı hər bir meyvəni tək-tək götürür və `meyvə` dəyişəninə verir.  \n",
    "`print(meyvə)` hər meyvənin adını ekrana çap edir.\n",
    "Bu proses siyahıdakı bütün meyvələr üçün təkrarlanır.  \n",
    "Nəticədə meyvə adları sətir-sətir böyük hərflə başlayaraq göstərilir.  \n"
   ]
  },
  {
   "cell_type": "code",
   "execution_count": null,
   "id": "2f64ed9c-6a66-4ae0-b706-33fd18210596",
   "metadata": {},
   "outputs": [
    {
     "name": "stdout",
     "output_type": "stream",
     "text": [
      "\n",
      "\n",
      "Meyvələr siyahısı:\n",
      "Alma\n",
      "Armud\n",
      "Banan\n",
      "Nar\n"
     ]
    }
   ],
   "source": [
    "meyvələr = [\"alma\", \"armud\", \"banan\", \"nar\"]\n",
    "print(\"\\n\\nMeyvələr siyahısı:\")\n",
    "for meyvə in meyvələr:\n",
    "    print(meyvə)"
   ]
  },
  {
   "cell_type": "markdown",
   "id": "7aaad294-8ec6-4329-a97a-ba32b03f65db",
   "metadata": {},
   "source": [
    "`enumerate(meyvələr)` funksiyası siyahıdakı hər elementlə birlikdə onun indeksini də verir.  \n",
    "`for` dövründə həm `indeks`, həm də `meyvə` dəyişənləri təyin olunur.  \n",
    "`print(f\"{indeks}: {meyvə}\")` hər meyvəni onun indeks nömrəsi ilə birlikdə ekrana yazdırır.  \n",
    "Bu üsul siyahıdakı elementlərin yerlərini və adlarını birlikdə göstərməyə imkan verir.  \n",
    "Nəticədə, meyvələr və onların indeksləri nömrə:ad şəklində çıxır.  \n"
   ]
  },
  {
   "cell_type": "code",
   "execution_count": 24,
   "id": "18f13909-8cbd-4963-95f1-50dc1fde34b9",
   "metadata": {},
   "outputs": [
    {
     "name": "stdout",
     "output_type": "stream",
     "text": [
      "\n",
      "Meyvələr və indekslər:\n",
      "0: alma\n",
      "1: armud\n",
      "2: banan\n",
      "3: nar\n"
     ]
    }
   ],
   "source": [
    "# İndeks və dəyərlə birlikdə\n",
    "print(\"\\nMeyvələr və indekslər:\")\n",
    "for indeks, meyvə in enumerate(meyvələr):\n",
    "    print(f\"{indeks}: {meyvə}\")"
   ]
  },
  {
   "cell_type": "markdown",
   "id": "beaf4d57-c902-4006-a6e6-5b483519128b",
   "metadata": {},
   "source": [
    "## While dövrü nümunələri"
   ]
  },
  {
   "cell_type": "markdown",
   "id": "88f9b144-26b8-4370-87df-253ef076d944",
   "metadata": {},
   "source": [
    "while dövrü bir şərt doğru (True) olduğu müddətcə işləyən dövrdür. while dövrü, əvvəlcədən neçə dəfə işləyəcəyi bilinməyən hallarda, bir şərt doğru olduğu müddətcə işləyir.for dövrü isə adətən siyahı, sıra və ya müəyyən sayda təkrarlanacaq əməliyyatlar üçün istifadə olunur."
   ]
  },
  {
   "cell_type": "markdown",
   "id": "c813d0d4-7a19-4d65-b0d0-3e7d0b2611f5",
   "metadata": {},
   "source": [
    "`say` dəyişəni 0 olaraq təyin edilir.  \n",
    "`while` dövrü `say` 5-dən kiçik olduğu müddətcə işləyir.  \n",
    "Dövr daxilində `say`-ın cari dəyəri boşluqla ayrılaraq ekrana çap olunur.  \n",
    "Hər dəfə dövr işlədikcə `say` 1 vahid artırılır (`say += 1`).  \n",
    "Dövr `say` 5-ə çatanda dayanar və ekranda `0 1 2 3 4` çap olunur.  "
   ]
  },
  {
   "cell_type": "code",
   "execution_count": 25,
   "id": "7e99c923-42bf-4dc6-acfb-ecdf8f54a5b2",
   "metadata": {},
   "outputs": [
    {
     "name": "stdout",
     "output_type": "stream",
     "text": [
      "\n",
      "While dövrü:\n",
      "0 1 2 3 4 "
     ]
    }
   ],
   "source": [
    "# say dəyişənini 0 olaraq təyin edir\n",
    "say = 0\n",
    "\n",
    "# Başlıq olaraq \"While dövrü:\" yazdırır\n",
    "print(\"\\nWhile dövrü:\")\n",
    "\n",
    "# say 5-dən kiçik olduğu müddətcə dövrü işləyir\n",
    "while say < 5:\n",
    "    # say dəyişəninin cari dəyərini boşluqla ayrılmış şəkildə çap edir\n",
    "    print(say, end=' ')\n",
    "    # say dəyişəninin dəyərini 1 artırır\n",
    "    say += 1"
   ]
  },
  {
   "cell_type": "markdown",
   "id": "b37899f5-9fea-48bc-b252-8ecdb94cae7d",
   "metadata": {},
   "source": [
    "- `say` dəyişəni 0 olaraq təyin edilir.  \n",
    "- `while` dövrü `say < 5` şərti doğru olduqca işləyir.  \n",
    "- Dövr daxilində `say`-ın cari dəyəri boşluqla çap olunur.  \n",
    "- Hər iterasiyada `say` dəyişəni 1 artırılır (`say += 1`).  \n",
    "- `say` dəyəri 5-ə çatdıqda şərt səhv olur və dövr dayanır, `break` dovru durdurur.\n"
   ]
  },
  {
   "cell_type": "code",
   "execution_count": 26,
   "id": "ff06de93-8227-4d70-aff1-d3fb118b76dc",
   "metadata": {},
   "outputs": [
    {
     "name": "stdout",
     "output_type": "stream",
     "text": [
      "\n",
      "\n",
      "Break nümunəsi:\n",
      "0 1 2 3 4 "
     ]
    }
   ],
   "source": [
    "# break və continue\n",
    "print(\"\\n\\nBreak nümunəsi:\")\n",
    "say = 0\n",
    "while True:\n",
    "    print(say, end=' ')\n",
    "    say += 1\n",
    "    if say >= 5:\n",
    "        break\n"
   ]
  },
  {
   "cell_type": "markdown",
   "id": "a2bd311b-f1ba-4982-8bcf-a67582a5df47",
   "metadata": {},
   "source": [
    "- `say` dəyişəni 0 olaraq təyin edilir.  \n",
    "- `while` dövrü `say < 10` şərti ilə işləyir.  \n",
    "- Hər iterasiyada `say` 1 vahid artırılır.  \n",
    "- `say` ədədi cütdürsə, `continue` əmri işləyir və `print()` yerinə yetirilmir.\n",
    "- Nəticədə yalnız tək ədədlər (`1 3 5 7 9`) çap olunur.  \n"
   ]
  },
  {
   "cell_type": "code",
   "execution_count": null,
   "id": "b7567dda-87b3-4a26-a3df-996ff852cf1c",
   "metadata": {},
   "outputs": [
    {
     "name": "stdout",
     "output_type": "stream",
     "text": [
      "\n",
      "\n",
      "Continue nümunəsi:\n",
      "1 3 5 7 9 "
     ]
    }
   ],
   "source": [
    "#continue əmriylə biz bir nov bundan kec ve davam et deyirik\n",
    "print(\"\\n\\nContinue nümunəsi:\")\n",
    "say = 0\n",
    "while say < 10:\n",
    "    say += 1\n",
    "    if say % 2 == 0:\n",
    "        continue\n",
    "    print(say, end=' ')"
   ]
  },
  {
   "cell_type": "markdown",
   "id": "3d5b610d-b92c-48b4-9954-59dc0b7df1d2",
   "metadata": {},
   "source": [
    "## 2.1 Listlər"
   ]
  },
  {
   "cell_type": "markdown",
   "id": "2d40d286-eea6-4a3c-9bd5-bfc73f52d144",
   "metadata": {},
   "source": [
    "List (və ya siyahı) Python-da müxtəlif məlumatları bir yerdə saxlamaq üçün istifadə olunan verilənlər tipidir.(Digər tiplərdən fərqi ondadır ki, dəyişə bilən, sıralıdır, həmçinin daxilində təkrarlanma ola bilir.)"
   ]
  },
  {
   "cell_type": "markdown",
   "id": "3a0eac50-f722-41fc-b1d7-7596927f1992",
   "metadata": {},
   "source": [
    "- `boş_list` adlı boş bir siyahı yaradılır.  \n",
    "- `rəqəmlər` siyahısı yalnız tam ədədlərdən ibarətdir.  \n",
    "- `qarışıq` adlı siyahıda müxtəlif tipli elementlər (tam ədəd, string, float, boolean) mövcuddur.  \n",
    "- `list_from_range` `range(10)` funksiyası ilə 0-dan 9-a qədər ədədlərlə dolu siyahı yaradır.  \n",
    "- `list_from_string` isə `\"Python\"` sözünü simvollara ayıraraq siyahıya çevirir: `['P', 'y', 't', 'h', 'o', 'n']`.  \n"
   ]
  },
  {
   "cell_type": "code",
   "execution_count": 29,
   "id": "bffba610-e076-4c48-a031-771c6f4321d0",
   "metadata": {},
   "outputs": [
    {
     "name": "stdout",
     "output_type": "stream",
     "text": [
      "Rəqəmlər: [1, 2, 3, 4, 5]\n",
      "Qarışıq list: [1, 'iki', 3.0, True]\n",
      "Range-dən list: [0, 1, 2, 3, 4, 5, 6, 7, 8, 9]\n",
      "String-dən list: ['P', 'y', 't', 'h', 'o', 'n']\n"
     ]
    }
   ],
   "source": [
    "boş_list = []\n",
    "rəqəmlər = [1, 2, 3, 4, 5]\n",
    "qarışıq = [1, \"iki\", 3.0, True]\n",
    "list_from_range = list(range(10))\n",
    "list_from_string = list(\"Python\")\n",
    "\n",
    "print(\"Rəqəmlər:\", rəqəmlər)\n",
    "print(\"Qarışıq list:\", qarışıq)\n",
    "print(\"Range-dən list:\", list_from_range)\n",
    "print(\"String-dən list:\", list_from_string)"
   ]
  },
  {
   "cell_type": "markdown",
   "id": "33a20a1a",
   "metadata": {},
   "source": [
    "## İndexlərlə list elementlərinə çatmaq"
   ]
  },
  {
   "cell_type": "markdown",
   "id": "914461fd",
   "metadata": {},
   "source": [
    "Bütün collectionlarda indexləmə 0`dan başlayır, bu da rəqəmlərin sayı ilə index qiymətləri arasında 1 vahid fərq deməkdir. Hər zaman nəzərə alın!!!"
   ]
  },
  {
   "cell_type": "code",
   "execution_count": null,
   "id": "e3f72254",
   "metadata": {},
   "outputs": [],
   "source": [
    "my_list = [1, 2, 3, 4, 5]"
   ]
  },
  {
   "cell_type": "code",
   "execution_count": null,
   "id": "b006465d",
   "metadata": {},
   "outputs": [],
   "source": [
    "print(\"İlk element:\", my_list[0])       # 1\n",
    "print(\"Son element:\", my_list[-1])      # 5\n",
    "print(\"Son element:\", my_list[1])      # 2\n",
    "print(\"Son element:\", my_list[3])      # 4"
   ]
  },
  {
   "cell_type": "markdown",
   "id": "832ef96f-3a67-4181-a91c-e07306e15f25",
   "metadata": {},
   "source": [
    "### List slicing\n",
    "- `my_list[1:3]` ikinci və üçüncü elementləri (index 1 və 2) alır: `[2, 3]`.\n",
    "- `my_list[:3]` başlanğıcdan 3-cü indexə qədər olan elementləri qaytarır: `[1, 2, 3]`.\n",
    "- `my_list[3:]` dördüncü elementdən sona qədər olan hissəni verir: `[4, 5]`.\n",
    "- `my_list[::2]` isə hər ikinci elementi götürərək addımlı slicing edir: `[1, 3, 5]`.\n"
   ]
  },
  {
   "cell_type": "code",
   "execution_count": null,
   "id": "7c5b9845",
   "metadata": {},
   "outputs": [],
   "source": [
    "my_list = [1, 2, 3, 4, 5]"
   ]
  },
  {
   "cell_type": "code",
   "execution_count": null,
   "id": "31d6ab2d-880d-4682-81eb-78df8bed8426",
   "metadata": {},
   "outputs": [
    {
     "name": "stdout",
     "output_type": "stream",
     "text": [
      "İlk element: 1\n",
      "Son element: 5\n",
      "Slice 1-3: [2, 3]\n",
      "Slice başdan: [1, 2, 3]\n",
      "Slice sona: [4, 5]\n",
      "Addımlı slice: [1, 3, 5]\n"
     ]
    }
   ],
   "source": [
    "print(\"Slice 1-3:\", my_list[1:3])      # [2, 3]\n",
    "print(\"Slice başdan:\", my_list[:3])     # [1, 2, 3]\n",
    "print(\"Slice sona:\", my_list[3:])       # [4, 5]\n",
    "print(\"Addımlı slice:\", my_list[::2])   # [1, 3, 5]\n"
   ]
  },
  {
   "cell_type": "code",
   "execution_count": null,
   "id": "d6ca20d6-9801-4776-bc3a-3d3cc8b8ae94",
   "metadata": {},
   "outputs": [],
   "source": [
    "meyvələr = [\"alma\", \"banan\",]"
   ]
  },
  {
   "cell_type": "markdown",
   "id": "9a00274b-b555-4e22-9e30-ab0ea633b1f3",
   "metadata": {},
   "source": [
    "- `append(\"nar\")` funksiyası \"nar\" sözünü siyahının **sonuna** əlavə edir.\n",
    "- `insert(1, \"armud\")` funksiyası \"armud\" sözünü **1-ci index**-ə (yəni **ikinci yerə**) yerləşdirir.\n",
    "- Nəticə olaraq, siyahı belə olur: `[\"alma\", \"armud\", \"banan\", \"nar\"]`\n"
   ]
  },
  {
   "cell_type": "code",
   "execution_count": 33,
   "id": "6149a008-b303-4dac-afb6-9839cb43863c",
   "metadata": {},
   "outputs": [
    {
     "name": "stdout",
     "output_type": "stream",
     "text": [
      "Əlavədən sonra: ['alma', 'armud', 'banan', 'nar']\n"
     ]
    }
   ],
   "source": [
    "meyvələr.append(\"nar\")         # Sonuna əlavə\n",
    "meyvələr.insert(1, \"armud\")    # Müəyyən yerə\n",
    "print(\"Əlavədən sonra:\", meyvələr)"
   ]
  },
  {
   "cell_type": "markdown",
   "id": "43265e11-6f5b-437b-83d6-48c38120111a",
   "metadata": {},
   "source": [
    "- `pop(1)` funksiyası siyahıdan 1-ci indeksdəki elementi silir və həmin elementi geri qaytarır.  \n",
    "- Bu nümunədə `meyvələr.pop(1)` 1-ci indeksdəki elementi (məsələn, \"armud\") siyahıdan çıxarır.  \n",
    "- `remove(\"banan\")` funksiyası isə siyahıdan ilk qarşılaşılan \"banan\" elementini silir.  \n",
    "- `pop` metodu silinən elementi dəyişkənə qaytarır, `remove` isə sadəcə elementi siyahıdan silir.  \n",
    "- Çap olunan nəticələr silinmiş elementləri və qalan siyahını göstərir.\n"
   ]
  },
  {
   "cell_type": "code",
   "execution_count": 34,
   "id": "c000c726-ce1c-4418-a543-4a314d9a1772",
   "metadata": {},
   "outputs": [
    {
     "name": "stdout",
     "output_type": "stream",
     "text": [
      "Çıxarılan: armud, Qalan: ['alma', 'banan', 'nar']\n",
      "Silmədən sonra: ['alma', 'nar']\n"
     ]
    }
   ],
   "source": [
    "# Silmə\n",
    "çıxarılan = meyvələr.pop(1)    # İndekslə sil\n",
    "print(f\"Çıxarılan: {çıxarılan}, Qalan: {meyvələr}\")\n",
    "meyvələr.remove(\"banan\")       # Dəyərlə sil\n",
    "print(\"Silmədən sonra:\", meyvələr)\n"
   ]
  },
  {
   "cell_type": "markdown",
   "id": "5c0b5201-92a6-47a4-af7a-4db67c949fb1",
   "metadata": {},
   "source": [
    "- `sort()` funksiyası siyahını **artma sırasına** görə nizamlayır.  \n",
    "- Bu nümunədə `rəqəmlər.sort()` siyahını `[1, 2, 3, 4]` halına gətirir.  \n",
    "- `reverse()` funksiyası siyahını **əksinə çevirir**, yəni elementlərin sırasını tərsinə dəyişir.  \n",
    "- `rəqəmlər.reverse()` tətbiqindən sonra siyahı `[4, 3, 2, 1]` olur.  \n",
    "- Hər iki əməliyyat siyahını yerində dəyişdirir və yeni siyahı qaytarmır.\n"
   ]
  },
  {
   "cell_type": "code",
   "execution_count": 35,
   "id": "313b3cbc-6877-457a-9451-0a50b45fe122",
   "metadata": {},
   "outputs": [
    {
     "name": "stdout",
     "output_type": "stream",
     "text": [
      "Çeşidlənmiş: [1, 2, 3, 4]\n",
      "Tərs: [4, 3, 2, 1]\n"
     ]
    }
   ],
   "source": [
    "# Digər əməliyyatlar\n",
    "rəqəmlər = [3, 1, 4, 2]\n",
    "rəqəmlər.sort()                # Çeşidləmə\n",
    "print(\"Çeşidlənmiş:\", rəqəmlər)\n",
    "rəqəmlər.reverse()             # Tərsinə çevirmə\n",
    "print(\"Tərs:\", rəqəmlər)"
   ]
  },
  {
   "cell_type": "markdown",
   "id": "5be96c66",
   "metadata": {},
   "source": [
    "## Listlərin birləşdirilmə üsulları"
   ]
  },
  {
   "cell_type": "markdown",
   "id": "f9b2f1b3",
   "metadata": {},
   "source": [
    "İki siyahını birləşdirmək üçün müxtəlif üsullar mövcuddur.  \n",
    "`+` operatoru yeni bir siyahı yaradır, əsas siyahılar dəyişmir.  \n",
    "`.extend()` metodu ikinci siyahını birincinin sonuna əlavə edir və birbaşa onu dəyişir.  \n",
    "`for` dövrü ilə elementlər tək-tək `append()` ilə əlavə olunur.  \n",
    "`*` operatoru ilə hər iki siyahı açılaraq yeni bir siyahı yaradılır.  \n",
    "Hər üsul fərqli məqsədlər üçün istifadə olunur və nəticə eyni ola bilər.  "
   ]
  },
  {
   "cell_type": "code",
   "execution_count": null,
   "id": "15542164",
   "metadata": {},
   "outputs": [],
   "source": [
    "siyahi1 = [1, 2, 3]\n",
    "siyahi2 = [4, 5, 6]\n",
    "birlesmis_siyahi = siyahi1 + siyahi2\n",
    "print(birlesmis_siyahi)  # Nəticə: [1, 2, 3, 4, 5, 6]\n",
    "siyahi1.extend(siyahi2)\n",
    "print(siyahi1)  # Nəticə: [1, 2, 3, 4, 5, 6]\n",
    "for element in siyahi2:\n",
    "    siyahi1.append(element)\n",
    "print(siyahi1)  # Nəticə: [1, 2, 3, 4, 5, 6]\n",
    "birlesmis_siyahi = [*siyahi1, *siyahi2]\n",
    "print(birlesmis_siyahi)  # Nəticə: [1, 2, 3, 4, 5, 6]"
   ]
  },
  {
   "cell_type": "markdown",
   "id": "f923621d-0500-49b8-a94d-493ae43eb9d3",
   "metadata": {},
   "source": [
    "## List Comprehensions"
   ]
  },
  {
   "cell_type": "markdown",
   "id": "3f818171-ce03-4fdc-b6d2-2b92cdd0d70e",
   "metadata": {},
   "source": [
    " Python-da List Comprehensions — siyahılar üçün qısa və səmərəli yazılış üsuludur."
   ]
  },
  {
   "cell_type": "markdown",
   "id": "2c344f35-a252-4c75-82be-47346d8893a0",
   "metadata": {},
   "source": [
    "- Bu kod 0-dan 9-a qədər ədədlərin kvadratlarını `kvadratlar` siyahısına əlavə edir.  \n",
    "- `for` dövrü hər `x` üçün `x**2` (x-in kvadratı) hesablayır və siyahıya əlavə edir.  \n",
    "- Nəticədə `kvadratlar` siyahısı `[0, 1, 4, 9, ..., 81]` kimi kvadrat ədədlərdən ibarət olur.  \n",
    "- Bu üsul siyahı yaratmaq üçün ənənəvi dövr metodudur.  \n",
    "- Daha qısa yazmaq üçün list anlayışlarından istifadə edə bilərik.\n",
    "\n"
   ]
  },
  {
   "cell_type": "code",
   "execution_count": 38,
   "id": "17014d0c-b1dc-4cc2-804d-bf83e8399c22",
   "metadata": {},
   "outputs": [
    {
     "name": "stdout",
     "output_type": "stream",
     "text": [
      "[0, 1, 4, 9, 16, 25, 36, 49, 64, 81]\n"
     ]
    }
   ],
   "source": [
    "kvadratlar = []\n",
    "for x in range(10):\n",
    "    kvadratlar.append(x**2)\n",
    "print(kvadratlar)"
   ]
  },
  {
   "cell_type": "markdown",
   "id": "a4852240-774d-4c7a-b699-88f76b520ee3",
   "metadata": {},
   "source": [
    "- Bu kod list anlayışından istifadə edərək 0-dan 9-a qədər ədədlərin kvadratlarını yaradır.  \n",
    "- Hər `x` üçün `x**2` hesablanır və yeni siyahıya əlavə olunur.  \n",
    "- Nəticədə `kvadratlar` siyahısı `[0, 1, 4, 9, ..., 81]` şəklində olur.  \n",
    "- List anlayışları kodu daha qısa və oxunaqlı edir.  \n",
    "- Eyni işi ənənəvi `for` dövrü ilə daha uzun yazmaq olar.\n"
   ]
  },
  {
   "cell_type": "code",
   "execution_count": 37,
   "id": "387867eb-15b1-4fc8-bb17-9a479ccc8c87",
   "metadata": {},
   "outputs": [
    {
     "name": "stdout",
     "output_type": "stream",
     "text": [
      "Kvadratlar: [0, 1, 4, 9, 16, 25, 36, 49, 64, 81]\n"
     ]
    }
   ],
   "source": [
    "kvadratlar = [x**2 for x in range(10)]\n",
    "print(\"Kvadratlar:\", kvadratlar)"
   ]
  },
  {
   "cell_type": "code",
   "execution_count": 39,
   "id": "614f62c0-c28e-4f1b-a81a-8985787dc165",
   "metadata": {},
   "outputs": [
    {
     "name": "stdout",
     "output_type": "stream",
     "text": [
      "Cüt ədədlər: [0, 2, 4, 6, 8, 10, 12, 14, 16, 18]\n"
     ]
    }
   ],
   "source": [
    "cüt_ədədlər = [x for x in range(20) if x % 2 == 0]\n",
    "print(\"Cüt ədədlər:\", cüt_ədədlər)"
   ]
  },
  {
   "cell_type": "code",
   "execution_count": 40,
   "id": "e414dd9d-ee59-4b1b-9c77-5d0d6d9c6ba1",
   "metadata": {},
   "outputs": [
    {
     "name": "stdout",
     "output_type": "stream",
     "text": [
      "Nəticələr: ['çox yaxşı', 'yaxşı', 'kafi']\n"
     ]
    }
   ],
   "source": [
    "nəticələr = [\"çox yaxşı\" if x > 85 else \"yaxşı\" if x > 70 else \"kafi\" for x in [90, 75, 60]]\n",
    "print(\"Nəticələr:\", nəticələr)\n"
   ]
  },
  {
   "cell_type": "markdown",
   "id": "71e1d9e6-bb3d-4e4e-b4b9-4261962a6a0b",
   "metadata": {},
   "source": [
    "## 2.2 Dictionary"
   ]
  },
  {
   "cell_type": "markdown",
   "id": "72e1e6bd-d682-4884-8618-b4a09d46368f",
   "metadata": {},
   "source": [
    "Dictionary — məlumatları “açar: dəyər” (key: value) cütləri şəklində saxlayan verilənlər tipidir. Hər bir açar (key) özünə aid bir dəyəri (value) göstərir."
   ]
  },
  {
   "cell_type": "markdown",
   "id": "2310aafe-0a92-4c0c-879e-9df0470e0a9e",
   "metadata": {},
   "source": [
    "- `range(10)` funksiyası 0-dan 9-a qədər ədədləri yaradır.  \n",
    "- `x**2` ifadəsi hər ədədin kvadratını hesablayır.  \n",
    "- `for x in range(10)` dövrü bu ədədləri bir-bir götürür.  \n",
    "- `[]` içində dövr yazaraq **list comprehension** istifadə edilir.  \n",
    "- Nəticə `kvadratlar` adlı siyahıya yazılır və çap edilir.\n"
   ]
  },
  {
   "cell_type": "code",
   "execution_count": 41,
   "id": "ec4c56ee-5771-42d6-a475-bc96af83bbf0",
   "metadata": {},
   "outputs": [
    {
     "name": "stdout",
     "output_type": "stream",
     "text": [
      "Tam lüğət: {'ad': 'Əli', 'yaş': 20, 'ixtisas': 'İnformatika', 'fənnlər': ['Proqramlaşdırma', 'Verilənlər Bazası']}\n",
      "Ad: Əli\n",
      "İlk fənn: Proqramlaşdırma\n"
     ]
    }
   ],
   "source": [
    "boş_lüğət = {}\n",
    "şagird = {\n",
    "    \"ad\": \"Əli\",\n",
    "    \"yaş\": 20,\n",
    "    \"ixtisas\": \"İnformatika\",\n",
    "    \"fənnlər\": [\"Proqramlaşdırma\", \"Verilənlər Bazası\"]\n",
    "}\n",
    "\n",
    "print(\"Tam lüğət:\", şagird)\n",
    "print(\"Ad:\", şagird[\"ad\"])\n",
    "print(\"İlk fənn:\", şagird[\"fənnlər\"][0])"
   ]
  },
  {
   "cell_type": "markdown",
   "id": "9f080184-3a41-4406-b48d-ebb53a22c7da",
   "metadata": {},
   "source": [
    "- `şagird.keys()` lüğətin bütün **açarlarını** qaytarır.  \n",
    "- `şagird.values()` lüğətin bütün **dəyərlərini** verir.  \n",
    "- `şagird.items()` isə həm **açar**, həm də **dəyər cütlərini** qaytarır.  \n",
    "- `print(...)` funksiyası bu nəticələri ekrana çıxarır.  \n",
    "- Bu metodlar lüğətin strukturunu analiz etmək üçün faydalıdır.\n"
   ]
  },
  {
   "cell_type": "code",
   "execution_count": 42,
   "id": "0c76b9b9-46ba-4e9e-bfef-47d3e2b1b752",
   "metadata": {},
   "outputs": [
    {
     "name": "stdout",
     "output_type": "stream",
     "text": [
      "Açarlar: dict_keys(['ad', 'yaş', 'ixtisas', 'fənnlər'])\n",
      "Dəyərlər: dict_values(['Əli', 20, 'İnformatika', ['Proqramlaşdırma', 'Verilənlər Bazası']])\n",
      "Cütlər: dict_items([('ad', 'Əli'), ('yaş', 20), ('ixtisas', 'İnformatika'), ('fənnlər', ['Proqramlaşdırma', 'Verilənlər Bazası'])])\n"
     ]
    }
   ],
   "source": [
    "print(\"Açarlar:\", şagird.keys())\n",
    "print(\"Dəyərlər:\", şagird.values())\n",
    "print(\"Cütlər:\", şagird.items())"
   ]
  },
  {
   "cell_type": "markdown",
   "id": "ee141a06-bd20-426f-b970-9c214163da82",
   "metadata": {},
   "source": [
    "- `şagird[\"universitet\"] = \"BDU\"` ilə lüğətə yeni **açar-dəyər cütü** əlavə edilir.  \n",
    "- Burada `universitet` açarı, `\"BDU\"` isə ona uyğun dəyərdir.  \n",
    "- Bu əməliyyat mövcud lüğətə yeni məlumat əlavə etmək üçündür.  \n",
    "- `print()` funksiyası dəyişdirilmiş lüğəti ekrana çıxarır.  \n",
    "- Nəticədə lüğət əvvəlkindən daha çox məlumat ehtiva edir.\n"
   ]
  },
  {
   "cell_type": "code",
   "execution_count": 43,
   "id": "994ad1a7-f08e-4908-990c-1402e25e270f",
   "metadata": {},
   "outputs": [
    {
     "name": "stdout",
     "output_type": "stream",
     "text": [
      "\n",
      "Əlavədən sonra: {'ad': 'Əli', 'yaş': 20, 'ixtisas': 'İnformatika', 'fənnlər': ['Proqramlaşdırma', 'Verilənlər Bazası'], 'universitet': 'BDU'}\n"
     ]
    }
   ],
   "source": [
    "şagird[\"universitet\"] = \"BDU\"\n",
    "print(\"\\nƏlavədən sonra:\", şagird)"
   ]
  },
  {
   "cell_type": "markdown",
   "id": "5bef7b37-a07e-468b-8629-70905a52a5b7",
   "metadata": {},
   "source": [
    "- `şagird.pop(\"yaş\")` ilə lüğətdən `\"yaş\"` açarı və onun dəyəri silinir.  \n",
    "- Silinən dəyər `silinən` dəyişənində saxlanılır və çap edilir.  \n",
    "- `print()` funksiyası həm silinmiş dəyəri, həm də qalan lüğəti göstərir.  \n",
    "- Bu üsul açar və dəyəri eyni anda lüğətdən çıxarmağa imkan verir.  \n"
   ]
  },
  {
   "cell_type": "code",
   "execution_count": 44,
   "id": "d2fc557d-8dfe-4c02-ac0c-ce62fd072680",
   "metadata": {},
   "outputs": [
    {
     "name": "stdout",
     "output_type": "stream",
     "text": [
      "Silinən: 20, Qalan: {'ad': 'Əli', 'ixtisas': 'İnformatika', 'fənnlər': ['Proqramlaşdırma', 'Verilənlər Bazası'], 'universitet': 'BDU'}\n"
     ]
    }
   ],
   "source": [
    "silinən = şagird.pop(\"yaş\")\n",
    "print(f\"Silinən: {silinən}, Qalan: {şagird}\")"
   ]
  },
  {
   "cell_type": "markdown",
   "id": "4e5b70ea-32cd-40dd-bbf5-9aa2355b4e31",
   "metadata": {},
   "source": [
    "- `ədədlər` siyahısı 1-dən 5-ə qədər ədədləri ehtiva edir.  \n",
    "- `{x: x**2 for x in ədədlər}` ifadəsi hər ədəd üçün onun kvadratını açar-dəyər cütü şəklində yaradır.  \n",
    "- Bu, **dictionary comprehension** adlanır və lüğət yaratmaq üçün qısa yazılışdır.  \n",
    "- Nəticədə `kvadrat_lüğəti` adlı lüğətdə hər ədədin kvadratı saxlanır.  \n",
    "- `print()` funksiyası bu lüğəti ekrana çıxarır.\n"
   ]
  },
  {
   "cell_type": "code",
   "execution_count": 45,
   "id": "56711191-d6c6-4906-bf64-8ce83cf90d1f",
   "metadata": {},
   "outputs": [
    {
     "name": "stdout",
     "output_type": "stream",
     "text": [
      "Kvadrat lüğəti: {1: 1, 2: 4, 3: 9, 4: 16, 5: 25}\n"
     ]
    }
   ],
   "source": [
    "# Ədədlər siyahısı yaradır\n",
    "ədədlər = [1, 2, 3, 4, 5]\n",
    "\n",
    "# Siyahıdakı hər ədədin kvadratını açar-dəyər cütlüyü kimi saxlayan lüğət (dictionary) yaradır\n",
    "kvadrat_lüğəti = {x: x**2 for x in ədədlər}\n",
    "\n",
    "# Nəticədə yaranan kvadrat lüğətini çap edir\n",
    "print(\"Kvadrat lüğəti:\", kvadrat_lüğəti)"
   ]
  },
  {
   "cell_type": "markdown",
   "id": "4463f95b-b09d-466b-bdc3-dfda4f7a04ad",
   "metadata": {},
   "source": [
    "- `kvadrat_lüğəti.items()` ilə lüğətdəki bütün açar-dəyər cütləri götürülür.  \n",
    "- `if v % 2 == 0` şərti ilə yalnız **cüt kvadrat dəyərləri** seçilir.  \n",
    "- Yeni lüğət yalnız cüt kvadratlardan ibarət olur.  \n",
    "- Bu, filtr tətbiq etmək üçün dictionary comprehension nümunəsidir.  \n",
    "- `print()` funksiyası nəticəni ekrana verir."
   ]
  },
  {
   "cell_type": "code",
   "execution_count": 46,
   "id": "af5bd957-d118-472d-b972-9c62ca027bcb",
   "metadata": {},
   "outputs": [
    {
     "name": "stdout",
     "output_type": "stream",
     "text": [
      "Cüt kvadratlar: {2: 4, 4: 16}\n"
     ]
    }
   ],
   "source": [
    "# kvadrat_lüğəti lüğətində olan cüt kvadrat dəyərləri seçib yeni lüğət yaradır\n",
    "# yəni, kvadratın 2-yə bölünəndən 0 qalığı varsa, onu saxlayır\n",
    "cüt_lüğət = {k: v for k, v in kvadrat_lüğəti.items() if v % 2 == 0}\n",
    "\n",
    "# Nəticədə yaranan cüt kvadratlar lüğətini çap edir\n",
    "print(\"Cüt kvadratlar:\", cüt_lüğət)"
   ]
  },
  {
   "cell_type": "markdown",
   "id": "759a5107",
   "metadata": {},
   "source": [
    "Python-da iki `dict` (sözlük) müxtəlif yollarla birləşdirilə bilər.  \n",
    "`update()` metodu ilə bir sözlük digərinə əlavə olunur və orijinal dəyişə bilər.  \n",
    "`**` operatoru ilə iki `dict` yeni bir sözlük kimi birləşdirilir.  \n",
    "Python 3.9 və sonrası üçün `|` operatoru da istifadə oluna bilər.  \n",
    "Klassik üsul olaraq `items()` və `dict()` ilə də birləşdirmək mümkündür.  \n",
    "Əgər eyni açar varsa, sonuncu sözlükdəki dəyər üstün tutulur.\n"
   ]
  },
  {
   "cell_type": "code",
   "execution_count": null,
   "id": "a6b6bdd6",
   "metadata": {},
   "outputs": [],
   "source": [
    "# İki dict (sözlük) nümunəsi\n",
    "dict1 = {\"ad\": \"Kənan\", \"yas\": 21}\n",
    "dict2 = {\"ölkə\": \"Azərbaycan\", \"yas\": 22}\n",
    "\n",
    "# 1. update() metodu ilə (birbaşa dict1 dəyişir)\n",
    "dict_a = dict1.copy()\n",
    "dict_a.update(dict2)\n",
    "print(\"1. update() metodu ilə:\", dict_a)\n",
    "# Nəticə: {'ad': 'Kənan', 'yas': 22, 'ölkə': 'Azərbaycan'}\n",
    "\n",
    "# 2. ** operatoru ilə birləşdirmə (yeni dict yaradılır)\n",
    "birlesmis1 = {**dict1, **dict2}\n",
    "print(\"2. ** operatoru ilə:\", birlesmis1)\n",
    "# Nəticə: {'ad': 'Kənan', 'yas': 22, 'ölkə': 'Azərbaycan'}\n",
    "\n",
    "# 3. | operatoru ilə birləşdirmə (yalnız Python 3.9 və sonrası)\n",
    "birlesmis2 = dict1 | dict2\n",
    "print(\"3. | operatoru ilə:\", birlesmis2)\n",
    "# Nəticə: {'ad': 'Kənan', 'yas': 22, 'ölkə': 'Azərbaycan'}\n",
    "\n",
    "# 4. items() və dict() ilə (klassik metod)\n",
    "birlesmis3 = dict(list(dict1.items()) + list(dict2.items()))\n",
    "print(\"4. items() + dict() ilə:\", birlesmis3)\n",
    "# Nəticə: {'ad': 'Kənan', 'yas': 22, 'ölkə': 'Azərbaycan'}\n"
   ]
  },
  {
   "cell_type": "markdown",
   "id": "8df86e61-1270-4cfc-b909-1edc0aab78fa",
   "metadata": {},
   "source": [
    "## 2.3 Setler(Çoxluqlar)"
   ]
  },
  {
   "cell_type": "markdown",
   "id": "d5b74be5-26eb-49f1-8683-920221abb07b",
   "metadata": {},
   "source": [
    "Set — unikal, yəni təkrarlanmayan elementlərdən ibarət, sırasız verilənlər toplusudur. Listlərdən fərqli olaraq indexlərə malik deyil və içərisində eyni elementlər olmamalıdır!!!"
   ]
  },
  {
   "cell_type": "markdown",
   "id": "63fac3bd-8d54-440c-adb2-4f511d8cc786",
   "metadata": {},
   "source": [
    "- `çoxluq` dəyişəni **set** (çoxluq) tipində yaradılır.  \n",
    "- Set-də təkrarlanan elementlər yalnız bir dəfə saxlanılır.  \n",
    "- Bu nümunədə `3` və `4` iki dəfə yazılsa da, nəticədə yalnız bir dəfə görünür.  \n",
    "- Set-lər unikal elementləri saxlamaq üçün istifadə olunur.  \n",
    "- `print()` funksiyası çoxluğu ekrana çıxarır.\n"
   ]
  },
  {
   "cell_type": "code",
   "execution_count": 47,
   "id": "8f9a07e1-4479-40da-a999-5f5f27700793",
   "metadata": {},
   "outputs": [
    {
     "name": "stdout",
     "output_type": "stream",
     "text": [
      "Çoxluq: {1, 2, 3, 4}\n"
     ]
    }
   ],
   "source": [
    "çoxluq = {1, 2, 3, 3, 4, 4}\n",
    "print(\"Çoxluq:\", çoxluq)  # {1, 2, 3, 4}\n"
   ]
  },
  {
   "cell_type": "markdown",
   "id": "7bee3ed2-e1f5-4373-b2e0-a822f08525dc",
   "metadata": {},
   "source": [
    "- `A` və `B` çoxluqları yaradılır, hər biri unikal elementlərdən ibarətdir.  \n",
    "- `A.union(B)` hər iki çoxluğun elementlərini birləşdirir və təkrarlananları silir.  \n",
    "- `A.intersection(B)` hər iki çoxluqda olan ortaq elementləri göstərir.  \n",
    "- `A.difference(B)` yalnız `A`-da olub `B`-də olmayan elementləri tapır.  \n",
    "- `A.symmetric_difference(B)` isə hər iki çoxluqda olan, amma ortaq olmayan elementləri qaytarır."
   ]
  },
  {
   "cell_type": "code",
   "execution_count": 48,
   "id": "e397398e-e08d-4957-aa9c-b554585d2930",
   "metadata": {},
   "outputs": [
    {
     "name": "stdout",
     "output_type": "stream",
     "text": [
      "Birləşmə: {1, 2, 3, 4, 5, 6}\n",
      "Kəsişmə: {3, 4}\n",
      "Fərq (A-B): {1, 2}\n",
      "Simmetrik fərq: {1, 2, 5, 6}\n"
     ]
    }
   ],
   "source": [
    "A = {1, 2, 3, 4}\n",
    "B = {3, 4, 5, 6}\n",
    "\n",
    "print(\"Birləşmə:\", A.union(B))            # {1, 2, 3, 4, 5, 6}\n",
    "print(\"Kəsişmə:\", A.intersection(B))      # {3, 4}\n",
    "print(\"Fərq (A-B):\", A.difference(B))     # {1, 2}\n",
    "print(\"Simmetrik fərq:\", A.symmetric_difference(B))  # {1, 2, 5, 6}\n"
   ]
  },
  {
   "cell_type": "markdown",
   "id": "f6ff3897-b040-440c-8acd-fd898bcd1b11",
   "metadata": {},
   "source": [
    "## 2.4 Tuple"
   ]
  },
  {
   "cell_type": "markdown",
   "id": "f57e87a6-d93b-433e-9ab5-4818e17e2a58",
   "metadata": {},
   "source": [
    "Tuple — sıralı, amma dəyişdirilməyən (immutable) verilənlər toplusudur. Yəni, yaradıldıqdan sonra içindəki elementləri dəyişmək olmaz."
   ]
  },
  {
   "cell_type": "markdown",
   "id": "117c6f8f-b164-4a83-9d5d-db3b3b1391c7",
   "metadata": {},
   "source": [
    "- `koordinat` dəyişəni **tuple** olaraq yaradılır, yəni dəyişdirilməz verilənlər cütü.  \n",
    "- Tuple içində Bakı şəhərinin enlik və uzunluq koordinatları saxlanılır.  \n",
    "- `print()` ilə tuple və onun elementləri göstərilir.  \n",
    "- `koordinat[0]` enlik, `koordinat[1]` isə uzunluq dəyəridir.  \n",
    "- Tuple-lar dəyişdirilə bilmədiyi üçün koordinat kimi sabit məlumatlar üçün uyğundur.\n"
   ]
  },
  {
   "cell_type": "code",
   "execution_count": 2,
   "id": "498cc1af-7972-42d6-9f41-6948cbddd20b",
   "metadata": {},
   "outputs": [
    {
     "name": "stdout",
     "output_type": "stream",
     "text": [
      "Tuple: (40.4093, 49.8671)\n",
      "Enlik: 40.4093\n",
      "Uzunluq: 49.8671\n"
     ]
    }
   ],
   "source": [
    "koordinat = (40.4093, 49.8671)  # Bakı koordinatları\n",
    "print(\"Tuple:\", koordinat)\n",
    "print(\"Enlik:\", koordinat[0])\n",
    "print(\"Uzunluq:\", koordinat[1])"
   ]
  },
  {
   "cell_type": "code",
   "execution_count": 3,
   "id": "cec81ca0",
   "metadata": {},
   "outputs": [
    {
     "ename": "TypeError",
     "evalue": "'tuple' object does not support item assignment",
     "output_type": "error",
     "traceback": [
      "\u001b[31m---------------------------------------------------------------------------\u001b[39m",
      "\u001b[31mTypeError\u001b[39m                                 Traceback (most recent call last)",
      "\u001b[36mCell\u001b[39m\u001b[36m \u001b[39m\u001b[32mIn[3]\u001b[39m\u001b[32m, line 1\u001b[39m\n\u001b[32m----> \u001b[39m\u001b[32m1\u001b[39m \u001b[43mkoordinat\u001b[49m\u001b[43m[\u001b[49m\u001b[32;43m0\u001b[39;49m\u001b[43m]\u001b[49m = \u001b[33m\"\u001b[39m\u001b[33myoxlama\u001b[39m\u001b[33m\"\u001b[39m\n",
      "\u001b[31mTypeError\u001b[39m: 'tuple' object does not support item assignment"
     ]
    }
   ],
   "source": [
    "koordinat[0] = \"yoxlama\""
   ]
  },
  {
   "cell_type": "markdown",
   "id": "252688ae-cc97-4ee9-82de-7ecef58fe0fb",
   "metadata": {},
   "source": [
    "- `koordinat` tuple-dakı elementlər `enlik` və `uzunluq` adlı dəyişənlərə ayrılır (unpacking edilir).  \n",
    "- Bu yolla tuple-dakı məlumatlara asanlıqla fərdi dəyişənlər kimi daxil olmaq mümkündür.  \n",
    "- `print()` funksiyası ilə enlik və uzunluq formatlanmış şəkildə ekrana çıxarılır.  \n",
    "- `f-string` formatı dəyişənləri mətn içində göstərməyə imkan verir.  \n",
    "- Bu üsul tuple və digər kolleksiyalar üçün rahat verilən ayırma (unpacking) üsuludur.\n"
   ]
  },
  {
   "cell_type": "code",
   "execution_count": 50,
   "id": "32cab5db-cf9e-4ed5-9a95-b0ac5dcb27c1",
   "metadata": {},
   "outputs": [
    {
     "name": "stdout",
     "output_type": "stream",
     "text": [
      "Enlik: 40.4093, Uzunluq: 49.8671\n"
     ]
    }
   ],
   "source": [
    "enlik, uzunluq = koordinat\n",
    "print(f\"Enlik: {enlik}, Uzunluq: {uzunluq}\")"
   ]
  },
  {
   "cell_type": "markdown",
   "id": "a0bc7919-c166-45fd-8a6a-75fd6e7b1cd3",
   "metadata": {},
   "source": [
    "## Funksiyalar"
   ]
  },
  {
   "cell_type": "markdown",
   "id": "9d11eb04-73d2-4fc2-8f73-d14f2b0eaf83",
   "metadata": {},
   "source": [
    "Funksiya — müəyyən bir işi yerinə yetirən, təkrar istifadə edilə bilən kod blokudur. Funksiyalar proqramı daha səliqəli, oxunaqlı və idarəolunan edir."
   ]
  },
  {
   "cell_type": "markdown",
   "id": "fd93001e-73ae-4d0f-9003-c44a8c17ba77",
   "metadata": {},
   "source": [
    "- `kvadrat` adlı funksiya bir ədəd `x` qəbul edir və onun kvadratını hesablayır.  \n",
    "- Funksiya daxilində `return` əmri ilə `x`-in özü ilə vurulması qaytarılır.  \n",
    "- Funksiya sənədləşdirilməsi üçün `\"\"\" \"\"\"` içində qısa şərh yazılıb.  \n",
    "- `print()` funksiyası ilə `kvadrat(5)` çağırılıb və 5-in kvadratı ekrana çıxarılır.  \n",
    "- Bu funksiya təkrar istifadə üçün yazılmış sadə riyazi əməliyyat nümunəsidir."
   ]
  },
  {
   "cell_type": "code",
   "execution_count": 5,
   "id": "627b337b-dab4-48d0-a8fa-2b34e6985938",
   "metadata": {},
   "outputs": [
    {
     "name": "stdout",
     "output_type": "stream",
     "text": [
      "5-in kvadratı: 25\n"
     ]
    }
   ],
   "source": [
    "def kvadrat(x):\n",
    "    \"\"\"Verilən ədədin kvadratını qaytarır\"\"\"\n",
    "    return x ** 2\n",
    "\n",
    "print(\"5-in kvadratı:\", kvadrat(5))"
   ]
  },
  {
   "cell_type": "markdown",
   "id": "33089ff1",
   "metadata": {},
   "source": [
    "Aşağıda funksiyanın qiymətinin dəyişkənə mənimsədilmə prinsipi açıqlanırş"
   ]
  },
  {
   "cell_type": "code",
   "execution_count": 7,
   "id": "aa49c3b0",
   "metadata": {},
   "outputs": [
    {
     "name": "stdout",
     "output_type": "stream",
     "text": [
      "16\n"
     ]
    }
   ],
   "source": [
    "deyer_saxlama = kvadrat(4)\n",
    "print(deyer_saxlama) # burada funksiyanın dəyərinin dəyişənlə saxlanılması göstərilir. "
   ]
  },
  {
   "cell_type": "markdown",
   "id": "61b7c7e4-2950-4743-82ce-83743b592dca",
   "metadata": {},
   "source": [
    "- `ünvan_yarat` funksiyası `ad`, `şəhər` və `ölkə` parametrlərini qəbul edir.  \n",
    "- `şəhər` və `ölkə` üçün standart dəyərlər verilib: `Bakı` və `Azərbaycan`.  \n",
    "- Funksiya daxilində verilən ad, şəhər və ölkə birləşdirilərək ünvan formatında qaytarılır.  \n",
    "- Əgər `şəhər` və ya `ölkə` verilməzsə, standart dəyərlər istifadə olunur.  \n",
    "- Bu funksiya ünvan yaratmaq üçün rahat və çevik vasitədir."
   ]
  },
  {
   "cell_type": "code",
   "execution_count": 9,
   "id": "e1403dfd-4c3f-4532-b42c-322ad3c8733f",
   "metadata": {},
   "outputs": [],
   "source": [
    "def ünvan_yarat(ad, şəhər=\"Bakı\", ölkə=\"Azərbaycan\"):\n",
    "    \"\"\"Ünvan yaradır\"\"\"\n",
    "    return f\"{ad}, {şəhər}, {ölkə}\""
   ]
  },
  {
   "cell_type": "code",
   "execution_count": null,
   "id": "474a4a17-1c4a-41da-8b74-ba1073125f65",
   "metadata": {},
   "outputs": [
    {
     "name": "stdout",
     "output_type": "stream",
     "text": [
      "Əli, Bakı, Azərbaycan\n",
      "Aygün, Gəncə, Azərbaycan\n",
      "John, London, İngiltərə\n"
     ]
    }
   ],
   "source": [
    "print(ünvan_yarat(\"Əli\"))\n",
    "print(ünvan_yarat(\"Aygün\", \"Gəncə\"))\n",
    "print(ünvan_yarat(\"John\", \"London\", \"İngiltərə\"))\n",
    "print(ünvan_yarat(\"John\", şəhər=\"London\", ölkə=\"İngiltərə\")) #Bilinməsi faydalıdır. Belə qiymət mənimsətmə vardır."
   ]
  },
  {
   "cell_type": "code",
   "execution_count": null,
   "id": "e5513dc2",
   "metadata": {},
   "outputs": [
    {
     "ename": "TypeError",
     "evalue": "ünvan_yarat() missing 1 required positional argument: 'ad'",
     "output_type": "error",
     "traceback": [
      "\u001b[31m---------------------------------------------------------------------------\u001b[39m",
      "\u001b[31mTypeError\u001b[39m                                 Traceback (most recent call last)",
      "\u001b[36mCell\u001b[39m\u001b[36m \u001b[39m\u001b[32mIn[10]\u001b[39m\u001b[32m, line 1\u001b[39m\n\u001b[32m----> \u001b[39m\u001b[32m1\u001b[39m \u001b[38;5;28mprint\u001b[39m(\u001b[43münvan_yarat\u001b[49m\u001b[43m(\u001b[49m\u001b[43m)\u001b[49m)\n",
      "\u001b[31mTypeError\u001b[39m: ünvan_yarat() missing 1 required positional argument: 'ad'"
     ]
    }
   ],
   "source": [
    "print(ünvan_yarat()) # Heç bir dəyər verilmədikdə belə problem yaranır."
   ]
  },
  {
   "cell_type": "markdown",
   "id": "164edb46-83da-4e33-8ba0-5cedd1743332",
   "metadata": {},
   "source": [
    "Burada * ve ** pointerlərdir(Pointer, kompüterdəki bir dəyərin saxlandığı ünvanı göstərən dəyişəndir. Sən pointer ilə dəyərin özünü deyil, onun yerini (ünvanını) yadda saxlayırsan. Bu, bir kitabın səhifə nömrəsini bilmək kimidir – kitabın içindəki məlumatı oxumaq üçün ora baxırsan. Pointerlər proqramın daha səmərəli işləməsinə və verilərin birbaşa üzərində işləməyə imkan verir. Onlarla səhv işləmək isə proqram səhvlərinə səbəb ola bilər, çünki birbaşa yaddaşa müdaxilə edilir.). Limitsiz number almaq olur. * , ** arasındaki fərq tək ulduzun yalnızca qiymətlər almasıdır. Siz funksiyada bunu istifadə edərək təkcə rəqəmlər listi ötürə bilərsiz amma iki ulduzca key value prinsipi, hansı ki, bir dictionary mövzusunda danışdıq artıq. İstəsəz yuxarıdan baxa bilərsiz."
   ]
  },
  {
   "cell_type": "code",
   "execution_count": 54,
   "id": "719d73a6-e5e7-42d7-a869-ce0fe57b4205",
   "metadata": {},
   "outputs": [],
   "source": [
    "def cəmi_hesabla(*rəqəmlər):\n",
    "    \"\"\"Verilən bütün rəqəmlərin cəmini hesablayır\"\"\"\n",
    "    return sum(rəqəmlər)"
   ]
  },
  {
   "cell_type": "code",
   "execution_count": 55,
   "id": "59bd7278-3ce7-4fbd-a9b8-d174ff2043d7",
   "metadata": {},
   "outputs": [
    {
     "name": "stdout",
     "output_type": "stream",
     "text": [
      "Cəmi (1,2,3): 6\n",
      "Cəmi (4,5,6,7): 22\n"
     ]
    }
   ],
   "source": [
    "print(\"Cəmi (1,2,3):\", cəmi_hesabla(1, 2, 3))\n",
    "print(\"Cəmi (4,5,6,7):\", cəmi_hesabla(4, 5, 6, 7))"
   ]
  },
  {
   "cell_type": "markdown",
   "id": "1997f44a-c97b-47a1-a2b6-f2b533b28c3a",
   "metadata": {},
   "source": [
    "- `şagird_məlumatı` funksiyası `**məlumat` ilə istənilən sayda açar-dəyər cütü qəbul edir.  \n",
    "- `**` operatoru, funksiyaya açar-dəyər şəklində verilən çoxsaylı arqumentləri lüğət (dictionary) kimi ötürür.  \n",
    "- Funksiya daxilində `məlumat.items()` ilə bütün açar və dəyərlər əldə edilir və `for` dövrü ilə hər biri çap olunur.  \n",
    "- Bu üsul funksiya çağırarkən dəyişkən sayda parametr verməyə imkan yaradır.  \n",
    "- Məsələn, `şagird_məlumatı(ad=\"Əli\", yaş=20, ixtisas=\"İnformatika\")` çağırışı həmin açar-dəyərləri ekrana yazdırır."
   ]
  },
  {
   "cell_type": "code",
   "execution_count": 56,
   "id": "aa2290a0-1150-4146-aa56-8ace03dea50e",
   "metadata": {},
   "outputs": [
    {
     "name": "stdout",
     "output_type": "stream",
     "text": [
      "ad: Əli\n",
      "yaş: 20\n",
      "ixtisas: İnformatika\n"
     ]
    }
   ],
   "source": [
    "def şagird_məlumatı(**məlumat):\n",
    "    \"\"\"Şagird haqqında məlumat çap edir\"\"\"\n",
    "    for açar, dəyər in məlumat.items():\n",
    "        print(f\"{açar}: {dəyər}\")\n",
    "\n",
    "şagird_məlumatı(ad=\"Əli\", yaş=20, ixtisas=\"İnformatika\")"
   ]
  },
  {
   "cell_type": "markdown",
   "id": "4322d88a-3f2f-47da-b78a-5fb15c4af1f4",
   "metadata": {},
   "source": [
    "- `lambda` ilə qısa, anonim (adlandırılmamış) funksiya yaradılır; burada `x`-in kvadratı hesablanır.  \n",
    "- `kvadrat(4)` çağırışı 4-ün kvadratını (16) qaytarır və çap edilir.  \n",
    "- `şagirdlər` siyahısı hər biri `ad` və `bal` açarlarına sahib lüğətlərdən ibarətdir.  \n",
    "- Bu siyahı şagirdlərin adlarını və ballarını saxlayır.  \n",
    "- Lambda funksiyası tez-tez `sorted()` və ya `map()` kimi funksiyalarla birlikdə istifadə olunur."
   ]
  },
  {
   "cell_type": "code",
   "execution_count": 57,
   "id": "b29b24f6-fc63-449b-a47b-6a34c99c5f74",
   "metadata": {},
   "outputs": [
    {
     "name": "stdout",
     "output_type": "stream",
     "text": [
      "Lambda kvadrat: 16\n"
     ]
    }
   ],
   "source": [
    "# Lambda funksiyası ilə verilən ədədin kvadratını hesablayan funksiya yaradır\n",
    "kvadrat = lambda x: x ** 2\n",
    "\n",
    "# Lambda funksiyasını çağırıb 4-ün kvadratını çap edir\n",
    "print(\"Lambda kvadrat:\", kvadrat(4))\n",
    "\n",
    "# Şagirdlərin ad və ballarını saxlayan siyahı (dictionary-lərdən ibarət)\n",
    "şagirdlər = [\n",
    "    {\"ad\": \"Əli\", \"bal\": 85},\n",
    "    {\"ad\": \"Aygün\", \"bal\": 92},\n",
    "    {\"ad\": \"Vaqif\", \"bal\": 78}\n",
    "]"
   ]
  },
  {
   "cell_type": "markdown",
   "id": "70a1c795-3f11-4d05-ae99-f8ebe8cfbf8f",
   "metadata": {},
   "source": [
    "- `sorted()` funksiyası `şagirdlər` siyahısını `bal` açarına görə azalan qaydada sıralayır.  \n",
    "- `key=lambda x: x[\"bal\"]` hər şagirdin balına əsaslanaraq sıralama aparır.  \n",
    "- `reverse=True` ilə sıralama tərs, yəni böyükdən kiçiyə doğru olur.  \n",
    "- Nəticədə `sıralanmış` siyahısı bal üzrə azalan qaydada olur.  \n",
    "- Sonra `for` dövrü ilə hər bir şagird çap edilir."
   ]
  },
  {
   "cell_type": "code",
   "execution_count": 58,
   "id": "68f0ba60-b7eb-468f-a72e-a98dd6534d68",
   "metadata": {},
   "outputs": [
    {
     "name": "stdout",
     "output_type": "stream",
     "text": [
      "Balına görə sıralanmış şagirdlər:\n",
      "{'ad': 'Aygün', 'bal': 92}\n",
      "{'ad': 'Əli', 'bal': 85}\n",
      "{'ad': 'Vaqif', 'bal': 78}\n"
     ]
    }
   ],
   "source": [
    "sıralanmış = sorted(şagirdlər, key=lambda x: x[\"bal\"], reverse=True)\n",
    "print(\"Balına görə sıralanmış şagirdlər:\")\n",
    "for şagird in sıralanmış:\n",
    "    print(şagird)\n"
   ]
  },
  {
   "cell_type": "markdown",
   "id": "3f273230-c232-43be-8642-56bd5e7a3d90",
   "metadata": {},
   "source": [
    "## Fayl I/O"
   ]
  },
  {
   "cell_type": "markdown",
   "id": "d289f854-b86a-4122-84ff-71e6e48b5baa",
   "metadata": {},
   "source": [
    "Fayl I/O — fayllarla oxuma və yazma əməliyyatlarını yerinə yetirməkdir. Bu, məlumatları kompüterdə saxlamaq və ya onlardan oxumaq üçün istifadə olunur."
   ]
  },
  {
   "cell_type": "markdown",
   "id": "0ffe6e28-2720-46b5-be1e-2e18be7c2b74",
   "metadata": {},
   "source": [
    "- `'nümunə.txt'` adlı fayl yazmaq üçün açılır, mövcud deyilsə yaradılır, UTF-8 kodlaşdırması istifadə olunur.  \n",
    "- `with open(..., 'w', encoding='utf-8') as f:` bloku fayl avtomatik bağlanana qədər işləyir.  \n",
    "- Fayla üç sətir yazılır, hər sətrin sonunda `\\n` ilə yeni sətir əlavə edilir.  \n",
    "- Daha sonra eyni fayl oxumaq üçün açılır və məzmunu `print(f.read())` ilə ekrana çıxarılır.  \n",
    "- Bu üsul fayl əməliyyatlarını sadə və təhlükəsiz idarə etməyə imkan verir.\n"
   ]
  },
  {
   "cell_type": "code",
   "execution_count": 59,
   "id": "0f8710da-498d-4579-9c1c-9c8eb555836c",
   "metadata": {},
   "outputs": [
    {
     "name": "stdout",
     "output_type": "stream",
     "text": [
      "\n",
      "Faylın tam məzmunu:\n",
      "Bu birinci sətirdir.\n",
      "Bu ikinci sətirdir.\n",
      "Bu üçüncü sətirdir.\n",
      "\n"
     ]
    }
   ],
   "source": [
    "# 'nümunə.txt' adlı faylı yazmaq üçün açır (mövcud deyilsə yaradılır), UTF-8 kodlaşdırması ilə\n",
    "with open('nümunə.txt', 'w', encoding='utf-8') as f:\n",
    "    # Fayla üç sətir yazır, hər sətrin sonunda yeni sətir simvolu (\\n) əlavə olunur\n",
    "    f.write(\"Bu birinci sətirdir.\\n\")\n",
    "    f.write(\"Bu ikinci sətirdir.\\n\")\n",
    "    f.write(\"Bu üçüncü sətirdir.\\n\")\n",
    "\n",
    "# Fayldan oxumaq üçün açır və məzmunu çap edir\n",
    "print(\"\\nFaylın tam məzmunu:\")\n",
    "with open('nümunə.txt', 'r', encoding='utf-8') as f:\n",
    "    print(f.read())"
   ]
  },
  {
   "cell_type": "markdown",
   "id": "b0e79a74-355a-4ff5-accc-b319eae3814d",
   "metadata": {},
   "source": [
    "- Faylın başlığı olaraq \"Fayl sətir-sətir:\" ekrana yazdırılır.  \n",
    "- `'nümunə.txt'` faylı oxumaq üçün UTF-8 kodlaşdırması ilə açılır.  \n",
    "- `for` dövrü ilə fayldakı hər sətrin üzərində tək-tək gəzilir.  \n",
    "- `sətir.strip()` ilə sətrin əvvəlində və sonundakı boşluqlar və yeni sətir simvolu (`\\n`) silinir.  \n",
    "- Hər təmizlənmiş sətir ayrıca ekrana çap olunur.\n"
   ]
  },
  {
   "cell_type": "code",
   "execution_count": 60,
   "id": "6adcb9a3-9e24-4be3-8ffc-bf7840343bad",
   "metadata": {},
   "outputs": [
    {
     "name": "stdout",
     "output_type": "stream",
     "text": [
      "\n",
      "Fayl sətir-sətir:\n",
      "Bu birinci sətirdir.\n",
      "Bu ikinci sətirdir.\n",
      "Bu üçüncü sətirdir.\n"
     ]
    }
   ],
   "source": [
    "# Ekrana \"Fayl sətir-sətir:\" başlığını yazdırır\n",
    "print(\"\\nFayl sətir-sətir:\")\n",
    "\n",
    "# 'nümunə.txt' faylını oxumaq üçün açır, UTF-8 kodlaşdırması ilə\n",
    "with open('nümunə.txt', 'r', encoding='utf-8') as f:\n",
    "    # Fayldakı hər sətri bir-bir oxuyur\n",
    "    for sətir in f:\n",
    "        # Hər sətrin əvvəlində və sonunda olan boşluqları və yeni sətir simvolunu silərək çap edir\n",
    "        print(sətir.strip())"
   ]
  },
  {
   "cell_type": "markdown",
   "id": "3c1260c2-1050-4fd0-a474-b9f0c2bb57fd",
   "metadata": {},
   "source": [
    "- `csv` modulu CSV faylları ilə işləmək üçün import edilir.  \n",
    "- `'şagirdlər.csv'` faylı yazmaq üçün açılır, `newline=''` əlavə boş sətirlərin qarşısını alır.  \n",
    "- `csv.writer` ilə yazıcı yaradılır və başlıq sətri daxil olmaqla məlumatlar yazılır.  \n",
    "- Fayl yazıldıqdan sonra oxumaq üçün açılır və `csv.reader` ilə oxuyucu yaradılır.  \n",
    "- `for` dövrü ilə hər sətrin məzmunu siyahı kimi ekrana çap olunur."
   ]
  },
  {
   "cell_type": "code",
   "execution_count": 61,
   "id": "7e96e589-26e2-4d4c-aee6-2c1025035a17",
   "metadata": {},
   "outputs": [
    {
     "name": "stdout",
     "output_type": "stream",
     "text": [
      "\n",
      "CSV fayl məzmunu:\n",
      "['Ad', 'Yaş', 'İxtisas']\n",
      "['Əli', '20', 'İnformatika']\n",
      "['Aygün', '21', 'Riyaziyyat']\n"
     ]
    }
   ],
   "source": [
    "# csv modulunu import edir (CSV faylları ilə işləmək üçün)\n",
    "import csv\n",
    "\n",
    "# 'şagirdlər.csv' faylını yazmaq üçün açır, newline='' - əlavə boş sətirlərin qarşısını almaq üçün\n",
    "with open('şagirdlər.csv', 'w', newline='', encoding='utf-8') as f:\n",
    "    writer = csv.writer(f)  # CSV yazıcısını yaradır\n",
    "    writer.writerow([\"Ad\", \"Yaş\", \"İxtisas\"])  # Başlıq sətrini yazır\n",
    "    writer.writerow([\"Əli\", 20, \"İnformatika\"])  # Birinci şagird məlumatları\n",
    "    writer.writerow([\"Aygün\", 21, \"Riyaziyyat\"])  # İkinci şagird məlumatları\n",
    "\n",
    "# CSV faylını oxumaq və məzmunu çap etmək\n",
    "print(\"\\nCSV fayl məzmunu:\")\n",
    "with open('şagirdlər.csv', 'r', encoding='utf-8') as f:\n",
    "    reader = csv.reader(f)  # CSV oxuyucusunu yaradır\n",
    "    for sətir in reader:\n",
    "        print(sətir)  # Hər sətri siyahı şəklində çap edir"
   ]
  },
  {
   "cell_type": "markdown",
   "id": "3dacb6b0-b6fa-462f-9dc0-7f2cef9e6950",
   "metadata": {},
   "source": [
    "## Error handling"
   ]
  },
  {
   "cell_type": "markdown",
   "id": "03ff0c1a-50e2-4744-95fc-5d665bf92476",
   "metadata": {},
   "source": [
    "Error Handling — proqramda yaranan xətaların idarə olunmasıdır ki, proqram qəfil dayanmadan, gözlənilməz hallarla mübarizə apararaq işləməyə davam etsin."
   ]
  },
  {
   "cell_type": "markdown",
   "id": "17e5d99b-aa3b-446d-961c-55847dbea6d7",
   "metadata": {},
   "source": [
    "- `try` bloku istifadəçinin daxil etdiyi yaşı tam ədədə çevirməyə çalışır.  \n",
    "- Əgər istifadəçi rəqəm daxil etməzsə, `ValueError` tutularaq uyğun xəta mesajı göstərilir.  \n",
    "- `except Exception` bloku digər gözlənilməz xətaları tutub ekrana çıxarır.  \n",
    "- `finally` bloku hər zaman işləyir və icranın tamamlandığını bildirir.  \n",
    "- Bu struktur proqramın xətalara qarşı dayanıqlı işləməsini təmin edir.\n"
   ]
  },
  {
   "cell_type": "code",
   "execution_count": 62,
   "id": "c98a3f00-4243-4bb1-8017-a1e5e8a698e0",
   "metadata": {},
   "outputs": [
    {
     "name": "stdout",
     "output_type": "stream",
     "text": [
      "Yaşınızı daxil edin:  \n"
     ]
    },
    {
     "name": "stdout",
     "output_type": "stream",
     "text": [
      "Xəta: Yaş rəqəm olmalıdır!\n",
      "İcra tamamlandı\n"
     ]
    }
   ],
   "source": [
    "try:\n",
    "    # İstifadəçidən yaşını rəqəm olaraq daxil etməsini istəyir\n",
    "    yaş = int(input(\"Yaşınızı daxil edin: \"))\n",
    "    # Daxil edilmiş yaşı çap edir\n",
    "    print(f\"Sizin yaşınız {yaş}-dir\")\n",
    "\n",
    "except ValueError:\n",
    "    # Əgər daxil edilən dəyər tam ədəd deyilirsə, bu blok işə düşür\n",
    "    print(\"Xəta: Yaş rəqəm olmalıdır!\")\n",
    "\n",
    "except Exception as e:\n",
    "    # Digər bütün gözlənilməz xətaları tutub mesaj çap edir\n",
    "    print(f\"Gözlənilməz xəta: {e}\")\n",
    "\n",
    "finally:\n",
    "    # Hər halda işləyəcək, icranın tamamlandığını bildirir\n",
    "    print(\"İcra tamamlandı\")"
   ]
  },
  {
   "cell_type": "markdown",
   "id": "ad9e014f-1e91-4dac-875e-427875012c0c",
   "metadata": {},
   "source": [
    "- `BalXətası` adlı xüsusi xəta sinfi yaradılır və `Exception` sinifindən törəyir.  \n",
    "- `bal_yoxla` funksiyası daxil edilən `bal` dəyərinin 0 ilə 100 arasında olub-olmadığını yoxlayır.  \n",
    "- Əgər bal bu aralıqda deyilsə, `BalXətası` xətası `raise` ilə atılır və mesaj verilir.  \n",
    "- Əks halda, bal dəyişəni funksiyadan geri qaytarılır.  \n",
    "- Bu, balın düzgün diapazonda olub-olmadığını yoxlamaq üçün istifadə olunur."
   ]
  },
  {
   "cell_type": "code",
   "execution_count": 63,
   "id": "b843e420-aed6-4cd3-8e41-b0bbece8ee63",
   "metadata": {},
   "outputs": [],
   "source": [
    "class BalXətası(Exception):\n",
    "    \"\"\"Bal üçün xüsusi xəta sinfi\"\"\"\n",
    "    pass\n",
    "\n",
    "def bal_yoxla(bal):\n",
    "    if bal < 0 or bal > 100:\n",
    "        raise BalXətası(\"Bal 0-100 aralığında olmalıdır\")\n",
    "    return bal"
   ]
  },
  {
   "cell_type": "markdown",
   "id": "6269e84e-95d2-4be6-b302-12888bde9294",
   "metadata": {},
   "source": [
    "- `try` blokunda əvvəlcə `bal_yoxla(85)` çağırılır və normal olaraq 85 çap olunur.  \n",
    "- Sonra `bal_yoxla(120)` çağırılır, bu isə 0-100 aralığında olmadığı üçün `BalXətası` xətası atır.  \n",
    "- `except BalXətası as e:` bloku bu xüsusi xətanı tutur və `e` vasitəsilə xəta mesajını çap edir.  \n",
    "- Beləliklə, xəta proqramın dayanmasına səbəb olmadan idarə olunur.  \n",
    "- Bu, öz xüsusi xətalarımızı yaratmaq və onları idarə etmək üçün istifadə olunan nümunədir.  "
   ]
  },
  {
   "cell_type": "code",
   "execution_count": 64,
   "id": "df6d17fc-0693-439b-8e02-01c7810993d1",
   "metadata": {},
   "outputs": [
    {
     "name": "stdout",
     "output_type": "stream",
     "text": [
      "85\n",
      "Xəta: Bal 0-100 aralığında olmalıdır\n"
     ]
    }
   ],
   "source": [
    "try:\n",
    "    print(bal_yoxla(85))  # Normal\n",
    "    print(bal_yoxla(120)) # Xəta\n",
    "except BalXətası as e:\n",
    "    print(f\"Xəta: {e}\")"
   ]
  },
  {
   "cell_type": "markdown",
   "id": "12e85336-7bbb-48af-82cf-31762d2cc290",
   "metadata": {},
   "source": [
    "## Generator-lar (Generators)"
   ]
  },
  {
   "cell_type": "markdown",
   "id": "ac3c9055-fad6-41a9-a864-b58d109a7546",
   "metadata": {},
   "source": [
    "Generator — böyük verilənlər üzərində tək-tək elementləri yaddaşda saxlamadan, lazım olduqca istehsal edən xüsusi funksiyalardır. Bu, yaddaşa qənaət və performans üçün çox faydalıdır."
   ]
  },
  {
   "cell_type": "markdown",
   "id": "04c6055b-e51d-42b9-89bc-415d8a7e9489",
   "metadata": {},
   "source": [
    "- `say_üstlü` funksiyası generator funksiyasıdır və `n`-ə qədər ədədlərin kvadratlarını istehsal edir.  \n",
    "- `for i in range(n):` dövrü `0`-dan `n-1`-ə qədər ədədləri götürür.  \n",
    "- `yield i ** 2` hər addımda `i`-nin kvadratını qaytarır, ancaq funksiyanı tamamilə dayandırmır.  \n",
    "- Generatorlar yaddaşdan qənaətlə istifadə edir və böyük məlumatlar üzərində işləmək üçün əlverişlidir.  \n",
    "- Bu funksiya çağırıldıqda generator obyekti qaytarır, onu dövr və ya `next()` ilə istifadə etmək olar.  "
   ]
  },
  {
   "cell_type": "code",
   "execution_count": 65,
   "id": "7a347ade-e3ad-4d88-bade-868a98e16749",
   "metadata": {},
   "outputs": [],
   "source": [
    "def say_üstlü(n):\n",
    "    \"\"\"Sayğac generatoru\"\"\"\n",
    "    for i in range(n):\n",
    "        yield i ** 2  # yield generator yaradır"
   ]
  },
  {
   "cell_type": "markdown",
   "id": "799926d3-34b3-4127-807f-42b6264c3db9",
   "metadata": {},
   "source": [
    "- `say_üstlü(5)` çağırışı generator obyekti yaradır və `generator` dəyişəninə təyin olunur.  \n",
    "- `type(generator)` funksiyası bu obyektin tipini göstərir, yəni `<class 'generator'>`.  \n",
    "- Generator obyektləri iterator kimi işləyir və lazım olduqda dəyər istehsal edir.  \n",
    "- Generatorlar yaddaşda böyük siyahılar yaratmadan təkrarlamağa imkan verir.  \n",
    "- Bu obyekt `for` dövründə və ya `next()` funksiyası ilə istifadə oluna bilər.  \n"
   ]
  },
  {
   "cell_type": "code",
   "execution_count": 66,
   "id": "3075f961-066b-452f-a4ba-b510a47d1dcd",
   "metadata": {},
   "outputs": [
    {
     "name": "stdout",
     "output_type": "stream",
     "text": [
      "Generator tipi: <class 'generator'>\n"
     ]
    }
   ],
   "source": [
    "generator = say_üstlü(5)\n",
    "print(\"Generator tipi:\", type(generator))"
   ]
  },
  {
   "cell_type": "markdown",
   "id": "fe6fba73-eaff-4cce-995f-e0fdd20f2ae4",
   "metadata": {},
   "source": [
    "- `for` dövrü ilə generator obyekti üzərində iterasiya edilir.  \n",
    "- Hər iterasiyada `say_üstlü` funksiyasındakı `yield` ifadəsi növbəti kvadrat dəyəri qaytarır.  \n",
    "- Generator yaddaşda tam siyahı saxlamır, hər dəfə tək-tək dəyərləri istehsal edir.  \n",
    "- Dövr nəticəsində 0, 1, 4, 9, 16 çap olunur.  \n",
    "- Generatorlar yaddaşa qənaət etməklə böyük verilənlər üzərində işləmək üçün faydalıdır.  "
   ]
  },
  {
   "cell_type": "code",
   "execution_count": 67,
   "id": "d2d088d6-3a39-4f08-8a84-d0419f710ceb",
   "metadata": {},
   "outputs": [
    {
     "name": "stdout",
     "output_type": "stream",
     "text": [
      "Generator dəyərləri:\n",
      "0\n",
      "1\n",
      "4\n",
      "9\n",
      "16\n"
     ]
    }
   ],
   "source": [
    "print(\"Generator dəyərləri:\")\n",
    "for dəyər in generator:\n",
    "    print(dəyər)"
   ]
  },
  {
   "cell_type": "code",
   "execution_count": 69,
   "id": "6470a930-321f-4827-9966-07e7ff40ca43",
   "metadata": {},
   "outputs": [],
   "source": [
    "import sys"
   ]
  },
  {
   "cell_type": "markdown",
   "id": "2f3a154d-8d89-46bf-bde4-7e3b1ddb6743",
   "metadata": {},
   "source": [
    "- `for` dövrü ilə generator obyekti üzərində iterasiya edilir.  \n",
    "- Hər iterasiyada `say_üstlü` funksiyasındakı `yield` ifadəsi növbəti kvadrat dəyəri qaytarır.  \n",
    "- Generator yaddaşda tam siyahı saxlamır, hər dəfə tək-tək dəyərləri istehsal edir.  \n",
    "- Dövr nəticəsində 0, 1, 4, 9, 16 çap olunur.  \n",
    "- Generatorlar yaddaşa qənaət etməklə böyük verilənlər üzərində işləmək üçün faydalıdır.\n"
   ]
  },
  {
   "cell_type": "code",
   "execution_count": 70,
   "id": "2b3f1003-9c33-4b45-9b41-7978fa3dfb98",
   "metadata": {},
   "outputs": [
    {
     "name": "stdout",
     "output_type": "stream",
     "text": [
      "List yaddaş ölçüsü: 800984 bayt\n",
      "Generator yaddaş ölçüsü: 192 bayt\n"
     ]
    }
   ],
   "source": [
    "list_rəqəmlər = [x for x in range(100000)]\n",
    "print(\"List yaddaş ölçüsü:\", sys.getsizeof(list_rəqəmlər), \"bayt\")\n",
    "\n",
    "# Generator yaratmaq\n",
    "generator_rəqəmlər = (x for x in range(100000))\n",
    "print(\"Generator yaddaş ölçüsü:\", sys.getsizeof(generator_rəqəmlər), \"bayt\")"
   ]
  },
  {
   "cell_type": "markdown",
   "id": "76b4dd62-3f93-4140-8b1c-e8d52d0693b5",
   "metadata": {},
   "source": [
    "Python-da yield açar sözü return kimi işləyir, amma tam fərqli davranır:\n",
    "\n",
    "return funksiyanı bitirir və bir dəyər qaytarır.\n",
    "\n",
    "yield isə dəyər qaytarır, amma funksiyanı dayandırmır — növbəti dəfə çağırıldıqda kaldığı yerdən davam edir."
   ]
  },
  {
   "cell_type": "code",
   "execution_count": 71,
   "id": "db28b950-b577-4237-85b4-dbea0c5d84e3",
   "metadata": {},
   "outputs": [],
   "source": [
    "def sayğac():\n",
    "    \"\"\"Dayandırıla bilən sayğac generatoru\"\"\"\n",
    "    say = 0\n",
    "    while True:\n",
    "        yield say\n",
    "        say += 1"
   ]
  },
  {
   "cell_type": "markdown",
   "id": "5bdb5fb2-6a1e-41f8-89ca-9e670930131c",
   "metadata": {},
   "source": [
    "iterator qurulur"
   ]
  },
  {
   "cell_type": "code",
   "execution_count": 72,
   "id": "e5ded6e2-9c51-4f62-80d0-5ee32a29d5b5",
   "metadata": {},
   "outputs": [
    {
     "name": "stdout",
     "output_type": "stream",
     "text": [
      "\n",
      "Sayğac dəyərləri:\n",
      "0\n",
      "1\n",
      "2\n"
     ]
    }
   ],
   "source": [
    "counter = sayğac()\n",
    "\n",
    "# Bir neçə dəyər almaq\n",
    "print(\"\\nSayğac dəyərləri:\")\n",
    "print(next(counter))  # 0\n",
    "print(next(counter))  # 1\n",
    "print(next(counter))  # 2\n"
   ]
  },
  {
   "cell_type": "markdown",
   "id": "8da68194-9835-495d-8537-e88794f3c6fe",
   "metadata": {},
   "source": [
    "- `orta_hesablayıcı()` funksiyası bir generator funksiyasıdır və `yield` ifadəsi ilə həm dəyər qəbul edir, həm də nəticə qaytarır.\n",
    "- `next(ortalama)` generatoru işə salır və `yield` sətrinə qədər icra olunur.\n",
    "- `send()` metodu ilə generatora dəyərlər göndərilir (10, 20, 30).\n",
    "- Dəyərlər daxil olduqca `cəm` və `say` dəyişənləri yenilənir.\n",
    "- `None` göndərildikdə dövr `break` ilə bitir və son `yield` ortalama dəyəri qaytarır.\n",
    "- `StopIteration` istisnasının `value` atributu vasitəsilə nəticə əldə olunur.\n",
    "- Nəticə olaraq 20.0 çap olunur.\n"
   ]
  },
  {
   "cell_type": "code",
   "execution_count": 74,
   "id": "950244c0-3041-4b39-904a-7e143d3277cd",
   "metadata": {},
   "outputs": [],
   "source": [
    "def orta_hesablayıcı():\n",
    "    \"\"\"Dəyər qəbul edən generator\"\"\"\n",
    "    cəm = 0\n",
    "    say = 0\n",
    "    while True:\n",
    "        dəyər = yield  # yield dəyər qəbul edir\n",
    "        if dəyər is None:\n",
    "            break\n",
    "        cəm += dəyər\n",
    "        say += 1\n",
    "    yield cəm / say if say > 0 else 0\n",
    "\n",
    "# İstifadə\n",
    "ortalama = orta_hesablayıcı()\n",
    "next(ortalama)  # Generatoru başlatmaq\n",
    "\n",
    "ortalama.send(10)  # Dəyər göndərmək\n",
    "ortalama.send(20)\n",
    "ortalama.send(30)\n",
    "\n",
    "try:\n",
    "    ortalama.send(None)  # Dayandırmaq üçün\n",
    "except StopIteration as e:\n",
    "    print(\"\\nOrta dəyər:\", e.value)  # 20.0"
   ]
  },
  {
   "cell_type": "markdown",
   "id": "bc6591c8-5a57-4400-ab75-0aeb4468bc8e",
   "metadata": {},
   "source": [
    "# NumPy və Pandas Kitabxanalarına Giriş"
   ]
  },
  {
   "cell_type": "code",
   "execution_count": 46,
   "id": "c6fb2e34-0679-4fae-bded-e7ed8223bff1",
   "metadata": {},
   "outputs": [
    {
     "name": "stdout",
     "output_type": "stream",
     "text": [
      "Requirement already satisfied: numpy in c:\\users\\goyle\\appdata\\local\\programs\\python\\python313\\lib\\site-packages (2.3.1)\n",
      "Note: you may need to restart the kernel to use updated packages.\n"
     ]
    }
   ],
   "source": [
    "%pip install numpy  # Numpy kitabxanasını quraşdırır (data analizi və riyazi əməliyyatlar üçün)"
   ]
  },
  {
   "cell_type": "markdown",
   "id": "dc61e3ba-0351-4016-9374-7922ccad010e",
   "metadata": {},
   "source": [
    "**NumPy** — riyazi və elmi hesablama üçün istifadə olunan məşhur bir Python kitabxanasıdır.  \n",
    "**`np.array()`** funksiyası ilə **1 ölçülü bir massiv** (array) yaradılır.  \n",
    "Bu massivdə **5 ədəd** var: `[1, 2, 3, 4, 5]`.  \n",
    "**`print()`** funksiyası ilə massiv və onun **ölçüsü** ekrana çıxarılır.  \n",
    "**`.shape`** — massivin neçə ölçülü və neçə elementli olduğunu göstərir.\n"
   ]
  },
  {
   "cell_type": "code",
   "execution_count": 5,
   "id": "30e6e6f4-89f0-4fac-829f-c24385115cc2",
   "metadata": {},
   "outputs": [
    {
     "name": "stdout",
     "output_type": "stream",
     "text": [
      "1D Array:\n",
      "[1 2 3 4 5]\n",
      "Ölçü: (5,)\n"
     ]
    }
   ],
   "source": [
    "import numpy as np\n",
    "\n",
    "# 1D array yaratmaq\n",
    "arr1d = np.array([1, 2, 3, 4, 5])\n",
    "print(\"1D Array:\")\n",
    "print(arr1d)\n",
    "print(\"Ölçü:\", arr1d.shape)"
   ]
  },
  {
   "cell_type": "code",
   "execution_count": 2,
   "id": "b113b021-bbaa-47d2-8333-71b3c0dfccfa",
   "metadata": {
    "scrolled": true
   },
   "outputs": [
    {
     "name": "stdout",
     "output_type": "stream",
     "text": [
      "\n",
      "2D Array:\n",
      "[[1 2 3]\n",
      " [4 5 6]]\n",
      "Ölçü: (2, 3)\n"
     ]
    }
   ],
   "source": [
    "arr2d = np.array([[1, 2, 3], [4, 5, 6]])\n",
    "print(\"\\n2D Array:\")\n",
    "print(arr2d)\n",
    "print(\"Ölçü:\", arr2d.shape)"
   ]
  },
  {
   "cell_type": "markdown",
   "id": "4d6d60c5-4755-4e68-9f16-d1b916074e40",
   "metadata": {},
   "source": [
    "**`np.zeros((3, 3))`** funksiyası ilə **3x3 ölçülü** və **bütün elementləri 0 olan** bir array yaradılır.  \n",
    "**`np.ones((2, 4))`** funksiyası **2x4 ölçülü** və **bütün elementləri 1 olan** bir array yaradır.  \n",
    "**`np.arange(0, 10, 2)`** funksiyası ilə **0-dan 10-a qədər 2 vahidlik artımla** ardıcıl ədədlər alınır: `[0 2 4 6 8]`.  \n",
    "**`np.random.rand(3, 3)`** funksiyası **3x3 ölçülü**, **0 ilə 1 arasında təsadüfi ədədlərdən ibarət** array yaradır.  \n",
    "**`print()`** funksiyası ilə bütün bu arraylər səliqəli şəkildə ekrana çıxarılır.\n"
   ]
  },
  {
   "cell_type": "code",
   "execution_count": 3,
   "id": "41fd3bbb-e3f5-4564-a5b9-669f75fed7d7",
   "metadata": {},
   "outputs": [
    {
     "name": "stdout",
     "output_type": "stream",
     "text": [
      "\n",
      "Xüsusi Arraylər:\n",
      "Zeros:\n",
      " [[0. 0. 0.]\n",
      " [0. 0. 0.]\n",
      " [0. 0. 0.]]\n",
      "Ones:\n",
      " [[1. 1. 1. 1.]\n",
      " [1. 1. 1. 1.]]\n",
      "Arange: [0 2 4 6 8]\n",
      "Random:\n",
      " [[0.39063779 0.36104106 0.1015619 ]\n",
      " [0.33025401 0.89911428 0.72084756]\n",
      " [0.91774524 0.29058706 0.59117338]]\n"
     ]
    }
   ],
   "source": [
    "# 3x3 ölçüdə bütün elementləri 0 olan array yaradır\n",
    "zeros_arr = np.zeros((3, 3))\n",
    "\n",
    "# 2x4 ölçüdə bütün elementləri 1 olan array yaradır\n",
    "ones_arr = np.ones((2, 4))\n",
    "\n",
    "# 0-dan 10-a qədər 2 addımla ardıcıl ədədlərdən ibarət array yaradır (0, 2, 4, 6, 8)\n",
    "range_arr = np.arange(0, 10, 2)  # 0-dan 10-a qədər 2 addımla\n",
    "\n",
    "# 3x3 ölçüdə 0 ilə 1 arasında təsadüfi ədədlərdən ibarət array yaradır\n",
    "random_arr = np.random.rand(3, 3)  # 0-1 arası random ədədlər\n",
    "\n",
    "# Nəticələrin çap olunması\n",
    "print(\"\\nXüsusi Arraylər:\")  # Başlıq çap edir\n",
    "print(\"Zeros:\\n\", zeros_arr)  # 0-lardan ibarət arrayi çap edir\n",
    "print(\"Ones:\\n\", ones_arr)    # 1-lərdən ibarət arrayi çap edir\n",
    "print(\"Arange:\", range_arr)   # Ardıcıllığı çap edir\n",
    "print(\"Random:\\n\", random_arr)  # Random ədədlərdən ibarət arrayi çap edir\n"
   ]
  },
  {
   "cell_type": "markdown",
   "id": "c83241dd-af05-49c0-a2ea-5bdd12f65998",
   "metadata": {},
   "source": [
    "**`a` və `b`** adlı iki 1 ölçülü array yaradılır.  \n",
    "**`a + b`** və **`a * b`** əməliyyatları ilə uyğun elementlər arasında toplama və vurma aparılır.  \n",
    "**`np.dot(a, b)`** funksiyası ilə **nöqtə hasil** (dot product) hesablanır.  \n",
    "**Universal funksiyalar** (ufuncs) — `np.sin()`, `np.exp()`, `np.sqrt()` — hər bir elementə ayrıca tətbiq olunur.  \n",
    "Bu funksiyalarla **sinus**, **eksponent** və **kvadrat kök** kimi riyazi əməliyyatlar aparılır.\n"
   ]
  },
  {
   "cell_type": "code",
   "execution_count": 4,
   "id": "4072d3f2-80de-4083-9492-9837ea98297c",
   "metadata": {},
   "outputs": [
    {
     "name": "stdout",
     "output_type": "stream",
     "text": [
      "Toplama: [5 7 9]\n",
      "Vurma: [ 4 10 18]\n",
      "Nöqtə hasil: 32\n",
      "Sinus: [0.84147098 0.90929743 0.14112001]\n",
      "Eksponent: [ 2.71828183  7.3890561  20.08553692]\n",
      "Kvadrat kök: [1.         1.41421356 1.73205081]\n"
     ]
    }
   ],
   "source": [
    "a = np.array([1, 2, 3])\n",
    "b = np.array([4, 5, 6])\n",
    "\n",
    "# Əsas riyazi əməliyyatlar\n",
    "print(\"Toplama:\", a + b)\n",
    "print(\"Vurma:\", a * b)  # Element-wise vurma\n",
    "print(\"Nöqtə hasil:\", np.dot(a, b))  # Dot product - bununla iki vektoru bir birine asanliqla vurmaq olar\n",
    "\n",
    "# Universal funksiyalar (ufuncs)\n",
    "print(\"Sinus:\", np.sin(a))\n",
    "print(\"Eksponent:\", np.exp(a))\n",
    "print(\"Kvadrat kök:\", np.sqrt(a))"
   ]
  },
  {
   "cell_type": "markdown",
   "id": "c42b1080-169a-4200-8b21-665efd7da8d3",
   "metadata": {},
   "source": [
    "**3x3 ölçülü `arr` arrayi** yaradılır və içində 1-dən 9-a qədər ədədlər yerləşir.  \n",
    "**`arr[0]`** ilə **ilk sətir**, **`arr[:, -1]`** ilə **son sütun** seçilir.  \n",
    "**`arr[1, 1]`** ilə **ortadakı element** (5) alınır.  \n",
    "**`arr[:2, 1:]`** ifadəsi ilə **ilk iki sətrin son iki sütunu** seçilərək **sub-array** yaradılır.  \n",
    "**Boolean indexing** ilə **5-dən böyük olan elementlər** ayrıca süzülüb göstərilir.\n",
    "\n",
    "\n"
   ]
  },
  {
   "cell_type": "code",
   "execution_count": 5,
   "id": "89d33000-337b-4039-9032-3d58a0c3ea45",
   "metadata": {},
   "outputs": [
    {
     "name": "stdout",
     "output_type": "stream",
     "text": [
      "Orijinal Array:\n",
      " [[1 2 3]\n",
      " [4 5 6]\n",
      " [7 8 9]]\n",
      "İlk sətir: [1 2 3]\n",
      "Son sütun: [3 6 9]\n",
      "Orta element: 5\n",
      "Sub-array:\n",
      " [[2 3]\n",
      " [5 6]]\n",
      "\n",
      "Boolean Indexing:\n",
      "[6 7 8 9]\n"
     ]
    }
   ],
   "source": [
    "arr = np.array([[1, 2, 3], [4, 5, 6], [7, 8, 9]])\n",
    "\n",
    "print(\"Orijinal Array:\\n\", arr)\n",
    "print(\"İlk sətir:\", arr[0])\n",
    "print(\"Son sütun:\", arr[:, -1])\n",
    "print(\"Orta element:\", arr[1, 1])\n",
    "print(\"Sub-array:\\n\", arr[:2, 1:])\n",
    "\n",
    "# Boolean indexing\n",
    "print(\"\\nBoolean Indexing:\")\n",
    "print(arr[arr > 5])"
   ]
  },
  {
   "cell_type": "markdown",
   "id": "1635d4f4-7618-42f3-8f7b-768cb2c02830",
   "metadata": {},
   "source": [
    "**`np.arange(1, 10)`** funksiyası ilə 1-dən 9-a qədər ədədlərdən ibarət array yaradılır.  \n",
    "**`reshape(3, 3)`** ilə bu array **3x3 ölçülü kvadrat formaya** salınır.  \n",
    "**`flatten()`** funksiyası ilə array **yenidən 1 ölçülü** formaya gətirilir.  \n",
    "**`T`** atributu ilə arrayin **transpozu** alınır, yəni sətir və sütunlar yer dəyişir.  \n",
    "Bu əməliyyatlar massivlərin formasını dəyişmək üçün istifadə olunur.\n"
   ]
  },
  {
   "cell_type": "code",
   "execution_count": 6,
   "id": "4ce41a08-d56f-45f0-92d0-96ff476187b4",
   "metadata": {},
   "outputs": [
    {
     "name": "stdout",
     "output_type": "stream",
     "text": [
      "Orijinal: [1 2 3 4 5 6 7 8 9]\n",
      "\n",
      "Yenidən şəkilləndirilmiş:\n",
      " [[1 2 3]\n",
      " [4 5 6]\n",
      " [7 8 9]]\n",
      "Düzəldilmiş: [1 2 3 4 5 6 7 8 9]\n",
      "Transpoz:\n",
      " [[1 4 7]\n",
      " [2 5 8]\n",
      " [3 6 9]]\n"
     ]
    }
   ],
   "source": [
    "arr = np.arange(1, 10)\n",
    "print(\"Orijinal:\", arr)\n",
    "\n",
    "# Yenidən şəkilləndirmə\n",
    "reshaped = arr.reshape(3, 3)\n",
    "print(\"\\nYenidən şəkilləndirilmiş:\\n\", reshaped)\n",
    "\n",
    "# Düzəltmə\n",
    "flattened = reshaped.flatten()\n",
    "print(\"Düzəldilmiş:\", flattened)\n",
    "\n",
    "# Transpoz\n",
    "transposed = reshaped.T\n",
    "print(\"Transpoz:\\n\", transposed)"
   ]
  },
  {
   "cell_type": "markdown",
   "id": "81eb3b6a-8c8c-4d6f-ade2-f9688d1beeef",
   "metadata": {},
   "source": [
    "**`np.random.randint(1, 100, size=(5, 5))`** ilə **5x5 ölçüdə**, 1-dən 100-ə qədər **təsadüfi tam ədədlərdən ibarət** massiv yaradılır.  \n",
    "**`np.mean()`, `np.median()`, `np.std()`** funksiyaları massiv üçün **orta**, **median** və **standart sapma** hesablayır.  \n",
    "**`np.min()` və `np.max()`** massivdəki **ən kiçik və ən böyük** ədədləri tapır.  \n",
    "**`np.sum(data, axis=0)`** sütunların cəmini,  \n",
    "**`np.mean(data, axis=1)`** isə sətirlərin ortalamasını hesablayır.  \n",
    "Bu funksiyalar verilənlər haqqında əsas statistik məlumat verir.\n"
   ]
  },
  {
   "cell_type": "code",
   "execution_count": 7,
   "id": "ea226433-77aa-440d-b8d5-f44798238f07",
   "metadata": {},
   "outputs": [
    {
     "name": "stdout",
     "output_type": "stream",
     "text": [
      "Data:\n",
      " [[15 68 67 39 39]\n",
      " [17 60 56 86 98]\n",
      " [68 82  7 94 48]\n",
      " [ 7 29 48 58 25]\n",
      " [42 45 97 95 21]]\n",
      "\n",
      "Statistikalar:\n",
      "Orta: 52.44\n",
      "Median: 48.0\n",
      "Standart sapma: 28.312654414589954\n",
      "Minimum: 7\n",
      "Maksimum: 98\n",
      "Sütun cəmi: [149 284 275 372 231]\n",
      "Sətir ortası: [45.6 63.4 59.8 33.4 60. ]\n"
     ]
    }
   ],
   "source": [
    "# 5x5 ölçüdə 1 ilə 100 arasında təsadüfi tam ədədlərdən ibarət array yaradır\n",
    "data = np.random.randint(1, 100, size=(5, 5))\n",
    "\n",
    "\n",
    "print(\"Data:\\n\", data)\n",
    "print(\"\\nStatistikalar:\")\n",
    "print(\"Orta:\", np.mean(data))\n",
    "print(\"Median:\", np.median(data))\n",
    "print(\"Standart sapma:\", np.std(data))\n",
    "print(\"Minimum:\", np.min(data))\n",
    "print(\"Maksimum:\", np.max(data))\n",
    "print(\"Sütun cəmi:\", np.sum(data, axis=0))\n",
    "print(\"Sətir ortası:\", np.mean(data, axis=1))"
   ]
  },
  {
   "cell_type": "code",
   "execution_count": 6,
   "id": "f23d935c-1633-4ba0-8fbc-ae0897b7175d",
   "metadata": {},
   "outputs": [
    {
     "name": "stdout",
     "output_type": "stream",
     "text": [
      "Broadcasting nəticəsi:\n",
      " [[11 22 33]\n",
      " [14 25 36]\n",
      " [17 28 39]]\n"
     ]
    }
   ],
   "source": [
    "# 3x3 array və 1D array (broadcast ediləcək)\n",
    "arr = np.array([[1, 2, 3], [4, 5, 6], [7, 8, 9]])\n",
    "vector = np.array([10, 20, 30])\n",
    "\n",
    "# 3x3 array-ə 1x3 vektoru əlavə etmək\n",
    "result = arr + vector\n",
    "print(\"Broadcasting nəticəsi:\\n\", result)"
   ]
  },
  {
   "cell_type": "code",
   "execution_count": 7,
   "id": "a5cf36a1-053e-44c8-9c29-3172ac2f3c39",
   "metadata": {},
   "outputs": [
    {
     "name": "stdout",
     "output_type": "stream",
     "text": [
      "Fancy Indexing nəticəsi: [10 30 50]\n"
     ]
    }
   ],
   "source": [
    "# Fancy indexing ilə müəyyən elementləri seçmək\n",
    "arr = np.array([10, 20, 30, 40, 50])\n",
    "indices = [0, 2, 4]  # 0, 2 və 4-cü elementləri seçirik\n",
    "\n",
    "selected = arr[indices]\n",
    "print(\"Fancy Indexing nəticəsi:\", selected)"
   ]
  },
  {
   "cell_type": "code",
   "execution_count": 8,
   "id": "c3a59c6e-583d-47d0-ac3e-48c97e6689a4",
   "metadata": {},
   "outputs": [
    {
     "name": "stdout",
     "output_type": "stream",
     "text": [
      "Masklama və dəyişdirmə: [ 0  0 35 50]\n"
     ]
    }
   ],
   "source": [
    "# Masklama: 30-dan kiçik olanları 0 ilə əvəz et\n",
    "arr = np.array([10, 25, 35, 50])\n",
    "arr[arr < 30] = 0\n",
    "print(\"Masklama və dəyişdirmə:\", arr)"
   ]
  },
  {
   "cell_type": "markdown",
   "id": "790cfcf0-5362-4fe9-bf34-186241cb015e",
   "metadata": {},
   "source": [
    "**`a` və `b` adlı 2x2 ölçülü iki array yaradılır.**  \n",
    "**`np.vstack()`** funksiyası ilə bu iki array **dikey (şaquli) şəkildə birləşdirilir.**  \n",
    "**`np.hstack()`** funksiyası ilə isə arraylər **üfüqi (horizontal) istiqamətdə birləşdirilir.**  \n",
    "**`np.split()`** funksiyası ilə **üfüqi birləşdirilmiş array iki hissəyə bölünür.**  \n",
    "Bu əməliyyatlar massivlərin birləşdirilməsi və bölünməsi üçün istifadə olunur.\n"
   ]
  },
  {
   "cell_type": "code",
   "execution_count": 9,
   "id": "1d16920d-b997-405e-a059-eef01c2693fe",
   "metadata": {},
   "outputs": [
    {
     "name": "stdout",
     "output_type": "stream",
     "text": [
      "Vertical Stack:\n",
      " [[1 2]\n",
      " [3 4]\n",
      " [5 6]\n",
      " [7 8]]\n",
      "Horizontal Stack:\n",
      " [[1 2 5 6]\n",
      " [3 4 7 8]]\n",
      "Split nəticəsi:\n",
      " [[1 2]\n",
      " [3 4]] \n",
      " [[5 6]\n",
      " [7 8]]\n"
     ]
    }
   ],
   "source": [
    "a = np.array([[1, 2], [3, 4]])\n",
    "b = np.array([[5, 6], [7, 8]])\n",
    "\n",
    "# Dikey (vertical) birləşdirmə\n",
    "vstacked = np.vstack((a, b))\n",
    "print(\"Vertical Stack:\\n\", vstacked)\n",
    "\n",
    "# Üfüqi (horizontal) birləşdirmə\n",
    "hstacked = np.hstack((a, b))\n",
    "print(\"Horizontal Stack:\\n\", hstacked)\n",
    "\n",
    "# Split (2 hissəyə bölmək)\n",
    "split_arr = np.split(hstacked, 2, axis=1)\n",
    "print(\"Split nəticəsi:\\n\", split_arr[0], \"\\n\", split_arr[1])"
   ]
  },
  {
   "cell_type": "markdown",
   "id": "3d729151-0095-4310-b0d7-d0462ff9f108",
   "metadata": {},
   "source": [
    "**`matrix` adlı 2x2 ölçülü matriks yaradılır.**  \n",
    "**`np.linalg.det()`** funksiyası ilə bu matriksin **determinantı** hesablanır.  \n",
    "Determinant, matriksin tərsinin olub-olmamasını göstərir.  \n",
    "**`np.linalg.inv()`** funksiyası matriksin **əksini (inversini)** tapır.  \n",
    "Əgər determinant sıfır deyilsə, matriksin tərsi mövcuddur.\n"
   ]
  },
  {
   "cell_type": "code",
   "execution_count": 10,
   "id": "a0319a08-ae0d-4a1c-a13b-109960f2304f",
   "metadata": {},
   "outputs": [
    {
     "name": "stdout",
     "output_type": "stream",
     "text": [
      "Determinant: 10.000000000000002\n",
      "Inverse:\n",
      " [[ 0.6 -0.7]\n",
      " [-0.2  0.4]]\n"
     ]
    }
   ],
   "source": [
    "matrix = np.array([[4, 7], [2, 6]])\n",
    "\n",
    "# Determinant\n",
    "det = np.linalg.det(matrix)\n",
    "print(\"Determinant:\", det)\n",
    "\n",
    "# İnvers (əks matriks)\n",
    "inverse = np.linalg.inv(matrix)\n",
    "print(\"Inverse:\\n\", inverse)"
   ]
  },
  {
   "cell_type": "markdown",
   "id": "18cb5611-48c5-4641-ba06-2a52fb0a2aab",
   "metadata": {},
   "source": [
    "**`arr` adlı 1 ölçülü array yaradılır.**  \n",
    "**`argmax()`** funksiyası arraydəki **ən böyük elementin indeksini** tapır.  \n",
    "**`argmin()`** funksiyası isə **ən kiçik elementin indeksini** tapır.  \n",
    "İndeks massivdə elementlərin sırasını göstərir, 0-dan başlayır.  \n",
    "Bu funksiyalar massivdə maksimum və minimum dəyərlərin yerini tapmaq üçün faydalıdır.\n",
    "\n"
   ]
  },
  {
   "cell_type": "code",
   "execution_count": 11,
   "id": "c290f832-0788-4135-8444-7447c7c06e6d",
   "metadata": {},
   "outputs": [
    {
     "name": "stdout",
     "output_type": "stream",
     "text": [
      "Ən böyük indeks (argmax): 3\n",
      "Ən kiçik indeks (argmin): 0\n"
     ]
    }
   ],
   "source": [
    "arr = np.array([10, 50, 30, 70, 20])\n",
    "\n",
    "# Ən böyük və ən kiçik elementlərin indeksləri\n",
    "print(\"Ən böyük indeks (argmax):\", arr.argmax())\n",
    "print(\"Ən kiçik indeks (argmin):\", arr.argmin())"
   ]
  },
  {
   "cell_type": "code",
   "execution_count": 12,
   "id": "3f543c26-c504-4e9c-ab2a-ae3cc9395e43",
   "metadata": {},
   "outputs": [
    {
     "name": "stdout",
     "output_type": "stream",
     "text": [
      "Unique: [1 2 3 4]\n",
      "Sort: [1 1 2 2 3 3 4]\n"
     ]
    }
   ],
   "source": [
    "arr = np.array([3, 1, 2, 3, 2, 1, 4])\n",
    "\n",
    "# Unikal elementlər və sıralama\n",
    "print(\"Unique:\", np.unique(arr))\n",
    "print(\"Sort:\", np.sort(arr))"
   ]
  },
  {
   "cell_type": "markdown",
   "id": "122b5147-f170-4fbf-9ca1-a4700bd16eef",
   "metadata": {},
   "source": [
    "**`arr` adlı 1 ölçülü array yaradılır.**  \n",
    "**`np.clip(arr, 10, 30)`** funksiyası ilə **10-dan kiçik dəyərlər 10-a, 30-dan böyük dəyərlər 30-a çevrilir.**  \n",
    "**`np.where(arr > 20, \"Böyük\", \"Kiçik və ya bərabər\")`** şərt əsasında **elementlərə uyğun sözlər təyin edir.**  \n",
    "Bu üsul **şərtə görə seçim** və **dəyərlərin sərhədlər daxilində məhdudlaşdırılması** üçün istifadə olunur.  \n",
    "Nəticələr yeni massiv şəklində göstərilir.\n"
   ]
  },
  {
   "cell_type": "code",
   "execution_count": 16,
   "id": "b49720d9-cfb4-4363-98de-10f718b0b10a",
   "metadata": {},
   "outputs": [
    {
     "name": "stdout",
     "output_type": "stream",
     "text": [
      "Clip nəticəsi: [10 15 25 30]\n",
      "Where nəticəsi: ['Kiçik və ya bərabər' 'Kiçik və ya bərabər' 'Böyük' 'Böyük']\n"
     ]
    }
   ],
   "source": [
    "arr = np.array([5, 15, 25, 35])\n",
    "\n",
    "# Clip: 10-dan kiçikləri 10, 30-dan böyük olanları 30 edir\n",
    "clipped = np.clip(arr, 10, 30)\n",
    "print(\"Clip nəticəsi:\", clipped)\n",
    "\n",
    "# Where: şərtə görə seçim\n",
    "result = np.where(arr > 20, \"Böyük\", \"Kiçik və ya bərabər\")\n",
    "print(\"Where nəticəsi:\", result)"
   ]
  },
  {
   "cell_type": "markdown",
   "id": "ec56063a-824b-41f7-8a53-b4f4d30dabbc",
   "metadata": {},
   "source": [
    "**`arr` adlı arraydə `np.nan` dəyərləri — yəni boş və ya naməlum ədədlər — yerləşdirilir.**  \n",
    "**`np.isnan(arr)`** funksiyası ilə arraydə **NaN (Not a Number)** dəyərlərin olub-olmadığı yoxlanılır.  \n",
    "**`np.nan_to_num(arr, nan=0)`** funksiyası ilə bütün **NaN-lar 0 ilə əvəz olunur.**  \n",
    "Bu üsul **verilənlərdə boşluqları təmizləmək və hesablamalara hazır hala gətirmək** üçün istifadə olunur.  \n",
    "Nəticədə təmizlənmiş array alınır.\n"
   ]
  },
  {
   "cell_type": "code",
   "execution_count": 17,
   "id": "b7a60ecf-d0b6-45b5-9a39-cfcf2fb7557a",
   "metadata": {},
   "outputs": [
    {
     "name": "stdout",
     "output_type": "stream",
     "text": [
      "Nan varmı?: [False  True False  True False]\n",
      "Nan əvəz edilmiş: [1. 0. 3. 0. 5.]\n"
     ]
    }
   ],
   "source": [
    "arr = np.array([1, np.nan, 3, np.nan, 5])\n",
    "\n",
    "# Nan-ların olub olmadığını yoxla\n",
    "print(\"Nan varmı?:\", np.isnan(arr))\n",
    "\n",
    "# Nan-ları 0 ilə əvəz et\n",
    "cleaned = np.nan_to_num(arr, nan=0)\n",
    "print(\"Nan əvəz edilmiş:\", cleaned)"
   ]
  },
  {
   "cell_type": "markdown",
   "id": "90aa150d-20c2-45ff-aaea-ea45123f0e4c",
   "metadata": {},
   "source": [
    "**`np.random.seed(42)`** funksiyası, **hər dəfə eyni təsadüfi nəticələrin alınması üçün** istifadə olunur.  \n",
    "Bu, **təkrar istehsal edilə bilən nəticələr** əldə etmək üçün vacibdir, xüsusilə test və analiz məqsədləri ilə.\n",
    "\n",
    "Daha sonra **`np.random.randint(1, 100, 5)`** ilə 1-dən 100-ə qədər (100 daxil deyil) **5 ədəd təsadüfi tam ədəd** yaradılır.  \n",
    "Seed təyin olunduğu üçün bu ədədlər **hər çalışmada eyni** olacaq.\n"
   ]
  },
  {
   "cell_type": "code",
   "execution_count": 18,
   "id": "ee7d10d2-9d9c-4770-acc9-d20ed23ad576",
   "metadata": {},
   "outputs": [
    {
     "name": "stdout",
     "output_type": "stream",
     "text": [
      "Random seed ilə: [52 93 15 72 61]\n"
     ]
    }
   ],
   "source": [
    "np.random.seed(42)  # Hər dəfə eyni random nəticələr üçün\n",
    "print(\"Random seed ilə:\", np.random.randint(1, 100, 5))"
   ]
  },
  {
   "cell_type": "markdown",
   "id": "e6dc8011-1187-41c4-b9da-d398edbbab20",
   "metadata": {},
   "source": [
    "## 2. Pandas Kitabxanası"
   ]
  },
  {
   "cell_type": "code",
   "execution_count": 13,
   "id": "12bd93e5-c5ab-4a8c-8f9e-ff8b18bcae5f",
   "metadata": {
    "scrolled": true
   },
   "outputs": [
    {
     "name": "stdout",
     "output_type": "stream",
     "text": [
      "Requirement already satisfied: pandas in c:\\users\\goyle\\appdata\\local\\programs\\python\\python313\\lib\\site-packages (2.3.0)\n",
      "Requirement already satisfied: numpy>=1.26.0 in c:\\users\\goyle\\appdata\\local\\programs\\python\\python313\\lib\\site-packages (from pandas) (2.3.1)\n",
      "Requirement already satisfied: python-dateutil>=2.8.2 in c:\\users\\goyle\\appdata\\local\\programs\\python\\python313\\lib\\site-packages (from pandas) (2.9.0.post0)\n",
      "Requirement already satisfied: pytz>=2020.1 in c:\\users\\goyle\\appdata\\local\\programs\\python\\python313\\lib\\site-packages (from pandas) (2025.2)\n",
      "Requirement already satisfied: tzdata>=2022.7 in c:\\users\\goyle\\appdata\\local\\programs\\python\\python313\\lib\\site-packages (from pandas) (2025.2)\n",
      "Requirement already satisfied: six>=1.5 in c:\\users\\goyle\\appdata\\local\\programs\\python\\python313\\lib\\site-packages (from python-dateutil>=2.8.2->pandas) (1.17.0)\n",
      "Note: you may need to restart the kernel to use updated packages.\n"
     ]
    }
   ],
   "source": [
    "%pip install pandas #pandas downloading"
   ]
  },
  {
   "cell_type": "markdown",
   "id": "c5661412-1881-409d-bc8e-06478741b148",
   "metadata": {},
   "source": [
    "- **pandas** kitabxanası `**pd**` qısaltması ilə import olunur.  \n",
    "- **`data` adlı sözlük** yaradılır və burada ad, yaş və şəhər məlumatları saxlanılır.  \n",
    "- Bu sözlük **`pd.DataFrame()`** funksiyası ilə **DataFrame**-ə çevrilir.  \n",
    "- Yaradılan DataFrame **`df` dəyişənində** saxlanılır.  \n",
    "- Sonda **`print(df)`** əmri ilə bu məlumatlar **ekrana çap olunur**.\n"
   ]
  },
  {
   "cell_type": "code",
   "execution_count": 20,
   "id": "8ca2a406-0886-4b5e-a62b-ac8e07567448",
   "metadata": {},
   "outputs": [
    {
     "name": "stdout",
     "output_type": "stream",
     "text": [
      "DataFrame:\n",
      "      Ad  Yaş     Şəhər\n",
      "0    Əli   25      Bakı\n",
      "1  Aygün   30     Gəncə\n",
      "2  Vaqif   35  Sumqayıt\n",
      "3  Günay   28      Bakı\n"
     ]
    }
   ],
   "source": [
    "# pandas kitabxanasını pd qısaltması ilə import edir\n",
    "import pandas as pd\n",
    "\n",
    "# Dictionary-dən DataFrame yaratmaq üçün nümunə məlumatlar\n",
    "data = {\n",
    "    'Ad': ['Əli', 'Aygün', 'Vaqif', 'Günay'],  # Adlar siyahısı\n",
    "    'Yaş': [25, 30, 35, 28],                   # Müvafiq yaşlar\n",
    "    'Şəhər': ['Bakı', 'Gəncə', 'Sumqayıt', 'Bakı']  # Müvafiq şəhərlər\n",
    "}\n",
    "\n",
    "# pandas DataFrame obyektinə çevirmək\n",
    "df = pd.DataFrame(data)\n",
    "\n",
    "# Yaradılmış DataFrame-i çap etmək\n",
    "print(\"DataFrame:\")\n",
    "print(df)\n"
   ]
  },
  {
   "cell_type": "markdown",
   "id": "a76b3899-f00e-4859-a3e6-42482161d323",
   "metadata": {},
   "source": [
    "**İlk 2 sətrin göstərilməsi** üçün `df.head(2)` funksiyası istifadə olunur.  \n",
    "**Təsviri statistika** üçün `df.describe()` funksiyası istifadə edilir və ədədi sütunların statistik göstəricilərini verir.  \n",
    "**Sütun adlarını** görmək üçün `df.columns` istifadə olunur.  \n",
    "`df['Yaş']` kodu ilə **yalnız \"Yaş\" sütunundakı məlumatlar** çıxarılır.  \n",
    "`df[df['Yaş'] > 26]` ilə **yaşı 26-dan böyük olan şəxslər** süzülür.\n"
   ]
  },
  {
   "cell_type": "code",
   "execution_count": 15,
   "id": "6146eeb1-eace-4449-8a4d-cedb5637eba9",
   "metadata": {},
   "outputs": [
    {
     "name": "stdout",
     "output_type": "stream",
     "text": [
      "\n",
      "Əsas Əməliyyatlar:\n",
      "İlk 2 sətir:\n",
      "       Ad  Yaş  Şəhər\n",
      "0    Əli   25   Bakı\n",
      "1  Aygün   30  Gəncə\n",
      "\n",
      "Təsviri statistika:\n",
      "              Yaş\n",
      "count   4.000000\n",
      "mean   29.500000\n",
      "std     4.203173\n",
      "min    25.000000\n",
      "25%    27.250000\n",
      "50%    29.000000\n",
      "75%    31.250000\n",
      "max    35.000000\n",
      "\n",
      "Sütunlar: Index(['Ad', 'Yaş', 'Şəhər'], dtype='object')\n",
      "\n",
      "Yaş sütunu:\n",
      " 0    25\n",
      "1    30\n",
      "2    35\n",
      "3    28\n",
      "Name: Yaş, dtype: int64\n",
      "\n",
      "Yaş > 26 olanlar:\n",
      "       Ad  Yaş     Şəhər\n",
      "1  Aygün   30     Gəncə\n",
      "2  Vaqif   35  Sumqayıt\n",
      "3  Günay   28      Bakı\n"
     ]
    }
   ],
   "source": [
    "print(\"\\nƏsas Əməliyyatlar:\")\n",
    "print(\"İlk 2 sətir:\\n\", df.head(2))\n",
    "print(\"\\nTəsviri statistika:\\n\", df.describe())\n",
    "print(\"\\nSütunlar:\", df.columns)\n",
    "print(\"\\nYaş sütunu:\\n\", df['Yaş'])\n",
    "print(\"\\nYaş > 26 olanlar:\\n\", df[df['Yaş'] > 26])"
   ]
  },
  {
   "cell_type": "markdown",
   "id": "186ebc27-e6cd-4a19-964d-0a7c5439cfae",
   "metadata": {},
   "source": [
    "**`df.groupby('Şəhər')['Yaş'].mean()`** ilə **şəhərə görə yaşların orta qiyməti** hesablanır.  \n",
    "Bu, məlumatları **qruplaşdırıb** hər qrup üçün statistik göstərici çıxarmağa imkan verir.  \n",
    "**`pd.pivot_table()`** funksiyası ilə **pivot cədvəl** yaradılır, burada şəhər üzrə yaşların orta qiyməti göstərilir.  \n",
    "Pivot cədvəl, məlumatları daha rahat və strukturlaşmış formada təqdim etmək üçün istifadə olunur.  \n",
    "Qeyd: `value_counts()` funksiyası ilə müəyyən sütundakı unikal dəyərlərin sayını hesablamaq olar (şərhə alınmışdır).\n"
   ]
  },
  {
   "cell_type": "code",
   "execution_count": 11,
   "id": "e4caf0ba-8d6a-4bb5-be09-7c4d2e865a78",
   "metadata": {
    "scrolled": true
   },
   "outputs": [
    {
     "name": "stdout",
     "output_type": "stream",
     "text": [
      "\n",
      "Qruplama Əməliyyatları:\n",
      "Şəhərə görə orta yaş:\n",
      " Şəhər\n",
      "Bakı        26.5\n",
      "Gəncə       30.0\n",
      "Sumqayıt    35.0\n",
      "Name: Yaş, dtype: float64\n",
      "\n",
      "Pivot Cədvəl:\n",
      "           Yaş\n",
      "Şəhər         \n",
      "Bakı      26.5\n",
      "Gəncə     30.0\n",
      "Sumqayıt  35.0\n"
     ]
    }
   ],
   "source": [
    "print(\"\\nQruplama Əməliyyatları:\")\n",
    "print(\"Şəhərə görə orta yaş:\\n\", df.groupby('Şəhər')['Yaş'].mean())\n",
    "# print(\"\\nTəhsilə görə say:\\n\", df['Təhsil'].value_counts())\n",
    "\n",
    "# Pivot cədvəl\n",
    "print(\"\\nPivot Cədvəl:\")\n",
    "print(pd.pivot_table(df, values='Yaş', index='Şəhər', aggfunc='mean'))"
   ]
  },
  {
   "cell_type": "markdown",
   "id": "e58e0057-f13a-4196-bf85-62d2e614f79f",
   "metadata": {},
   "source": [
    "**`df.loc[1, 'Yaş'] = None`** ilə 1-ci sətrin **\"Yaş\" sütunundakı dəyər boş (None)** olaraq dəyişdirilir.  \n",
    "**`df.loc[3, 'Şəhər'] = None`** ilə 3-cü sətrin **\"Şəhər\" sütunundakı dəyər boş (None)** olur.  \n",
    "Bu əməliyyatlar DataFrame-də **məlumatların itirilməsi və ya boş qalması** vəziyyətini yaradır.  \n",
    "**`print(df)`** ilə boşluqlar daxil olmaqla DataFrame ekrana çıxarılır.  \n",
    "Boş dəyərlər analiz və məlumat təmizləmə mərhələsində vacib rol oynayır.\n"
   ]
  },
  {
   "cell_type": "code",
   "execution_count": 59,
   "id": "47abd30b-5c10-4417-9400-a5ed5e8a4a63",
   "metadata": {},
   "outputs": [
    {
     "name": "stdout",
     "output_type": "stream",
     "text": [
      "\n",
      "Çatışmayan məlumatlarla DataFrame:\n",
      "      Ad   Yaş     Şəhər\n",
      "0    Əli  25.0      Bakı\n",
      "1  Aygün   NaN     Gəncə\n",
      "2  Vaqif  35.0  Sumqayıt\n",
      "3  Günay  28.0      None\n"
     ]
    }
   ],
   "source": [
    "# 1-ci sətrin 'Yaş' sütunundakı dəyəri None (boş) olaraq dəyişdirir\n",
    "df.loc[1, 'Yaş'] = None\n",
    "\n",
    "# 3-cü sətrin 'Şəhər' sütunundakı dəyəri None (boş) olaraq dəyişdirir\n",
    "df.loc[3, 'Şəhər'] = None\n",
    "\n",
    "# Çatışmayan (boş) məlumatlar olan DataFrame-i çap edir\n",
    "print(\"\\nÇatışmayan məlumatlarla DataFrame:\")\n",
    "print(df)\n"
   ]
  },
  {
   "cell_type": "markdown",
   "id": "e50f495e-ac76-4eea-b68f-ac9bab1df55b",
   "metadata": {},
   "source": [
    "**`df.isnull()`** funksiyası DataFrame-də **boş (NaN) olan yerləri** `True`, olmayanları isə `False` kimi göstərir.  \n",
    "**`.sum()`** metodu isə hər sütundakı **boş dəyərlərin sayını** toplayır.  \n"
   ]
  },
  {
   "cell_type": "code",
   "execution_count": 60,
   "id": "510226af-06ff-4b07-9070-1f001fe4f98b",
   "metadata": {},
   "outputs": [
    {
     "name": "stdout",
     "output_type": "stream",
     "text": [
      "\n",
      "Çatışmayan məlumatların sayı:\n",
      "Ad       0\n",
      "Yaş      1\n",
      "Şəhər    1\n",
      "dtype: int64\n"
     ]
    }
   ],
   "source": [
    "print(\"\\nÇatışmayan məlumatların sayı:\")\n",
    "print(df.isnull().sum()) #null olan setirleri 1 digerlerini 0"
   ]
  },
  {
   "cell_type": "markdown",
   "id": "f1bc1c7b-2e34-468b-b496-885c377a2220",
   "metadata": {},
   "source": [
    "**`df.fillna()`** funksiyası DataFrame-dəki **boş (None/NaN) dəyərləri doldurmaq üçün istifadə olunur.**  \n",
    "**`'Yaş'` sütunundakı boşluqlar həmin sütunun orta dəyəri ilə əvəz edilir.**  \n",
    "**`'Şəhər'` sütunundakı boşluqlar isə \"Naməlum\" sözü ilə doldurulur.**  \n",
    "Nəticədə, boşluqları aradan qaldıran **`filled_df` adlı yeni DataFrame** yaranır.  \n",
    "**`print()`** funksiyası ilə doldurulmuş DataFrame ekrana çap olunur.\n"
   ]
  },
  {
   "cell_type": "code",
   "execution_count": 61,
   "id": "6cbd68b9-e005-4db1-8fc0-fb9c7bff1256",
   "metadata": {},
   "outputs": [
    {
     "name": "stdout",
     "output_type": "stream",
     "text": [
      "\n",
      "Doldurulmuş DataFrame:\n",
      "      Ad        Yaş     Şəhər\n",
      "0    Əli  25.000000      Bakı\n",
      "1  Aygün  29.333333     Gəncə\n",
      "2  Vaqif  35.000000  Sumqayıt\n",
      "3  Günay  28.000000   Naməlum\n"
     ]
    }
   ],
   "source": [
    "# Boş (None) olan dəyərləri doldurur:\n",
    "# 'Yaş' sütunundakı boş dəyərləri həmin sütunun orta dəyəri ilə əvəz edir\n",
    "# 'Şəhər' sütunundakı boş dəyərləri isə \"Naməlum\" sözü ilə əvəz edir\n",
    "filled_df = df.fillna({'Yaş': df['Yaş'].mean(), 'Şəhər': 'Naməlum'})\n",
    "\n",
    "# Doldurulmuş DataFrame-i çap edir\n",
    "print(\"\\nDoldurulmuş DataFrame:\")\n",
    "print(filled_df)\n"
   ]
  },
  {
   "cell_type": "code",
   "execution_count": 62,
   "id": "ba40907a-9a11-43b8-b699-1640136d8585",
   "metadata": {},
   "outputs": [],
   "source": [
    "df1 = pd.DataFrame({'A': ['A0', 'A1'], 'B': ['B0', 'B1']})\n",
    "df2 = pd.DataFrame({'A': ['A2', 'A3'], 'B': ['B2', 'B3']})\n"
   ]
  },
  {
   "cell_type": "markdown",
   "id": "1c2f4173-93a4-4c0e-8c8b-be271d3c582d",
   "metadata": {},
   "source": [
    "**`pd.concat()` funksiyası ilə `df1` və `df2` DataFrame-ləri birləşdirilir.**  \n",
    "**`ignore_index=True`** parametri ilə yeni yaranan DataFrame-in indeksləri sıfırdan başlayaraq yenidən qurulur.  \n",
    "Bu, DataFrame-ləri ardıcıl şəkildə birləşdirmək üçün istifadə olunur.  \n",
    "Nəticədə yaranan birləşdirilmiş DataFrame **`concat_df`** dəyişənində saxlanılır.  \n",
    "**`print()`** ilə bu birləşmiş DataFrame ekranda göstərilir.\n"
   ]
  },
  {
   "cell_type": "code",
   "execution_count": 63,
   "id": "22d6c545-8398-4ee3-8fa1-86fa7dc14c5f",
   "metadata": {},
   "outputs": [
    {
     "name": "stdout",
     "output_type": "stream",
     "text": [
      "\n",
      "Birləşdirilmiş DataFrame:\n",
      "    A   B\n",
      "0  A0  B0\n",
      "1  A1  B1\n",
      "2  A2  B2\n",
      "3  A3  B3\n"
     ]
    }
   ],
   "source": [
    "# df1 və df2 DataFrame-lərini birləşdirir və indeksləri sıfırdan yenidən düzür\n",
    "concat_df = pd.concat([df1, df2], ignore_index=True)\n",
    "\n",
    "# Birləşdirilmiş DataFrame-i çap edir\n",
    "print(\"\\nBirləşdirilmiş DataFrame:\")\n",
    "print(concat_df)\n"
   ]
  },
  {
   "cell_type": "markdown",
   "id": "5c86e88a-4cb8-4387-b496-5f8b1384cc56",
   "metadata": {},
   "source": [
    "**`left` adlı DataFrame `key` və `A` sütunlarından ibarətdir.**  \n",
    "**`right` adlı DataFrame `key` və `B` sütunlarından ibarətdir.**  \n",
    "**`pd.merge()` funksiyası ilə iki DataFrame `key` sütunu əsasında birləşdirilir (merge edilir).**  \n",
    "Nəticədə hər iki DataFrame-dəki uyğun `key` dəyərləri birləşdirilərək yeni DataFrame yaranır.  \n",
    "**`print()` funksiyası ilə bu birləşdirilmiş DataFrame ekrana çıxarılır.**\n"
   ]
  },
  {
   "cell_type": "code",
   "execution_count": 64,
   "id": "317bd57c-4ab5-4f06-be7c-f784c1edb546",
   "metadata": {},
   "outputs": [
    {
     "name": "stdout",
     "output_type": "stream",
     "text": [
      "\n",
      "Merge edilmiş DataFrame:\n",
      "  key   A   B\n",
      "0  K0  A0  B0\n",
      "1  K1  A1  B1\n"
     ]
    }
   ],
   "source": [
    "# Sol (left) DataFrame yaradır: 'key' və 'A' sütunları ilə\n",
    "left = pd.DataFrame({'key': ['K0', 'K1'], 'A': ['A0', 'A1']})\n",
    "\n",
    "# Sağ (right) DataFrame yaradır: 'key' və 'B' sütunları ilə\n",
    "right = pd.DataFrame({'key': ['K0', 'K1'], 'B': ['B0', 'B1']})\n",
    "\n",
    "# İki DataFrame-i 'key' sütunu üzrə birləşdirir (merge edir)\n",
    "merged_df = pd.merge(left, right, on='key')\n",
    "\n",
    "# Merge edilmiş (birləşdirilmiş) DataFrame-i çap edir\n",
    "print(\"\\nMerge edilmiş DataFrame:\")\n",
    "print(merged_df)"
   ]
  },
  {
   "cell_type": "code",
   "execution_count": 22,
   "id": "473dfbbc-5c89-488f-b278-15ba9f1c5f09",
   "metadata": {},
   "outputs": [
    {
     "name": "stdout",
     "output_type": "stream",
     "text": [
      "\n",
      "Yeni sütun əlavə edilmiş DataFrame:\n",
      "      Ad  Yaş     Şəhər  Bal\n",
      "0    Əli   25      Bakı   85\n",
      "1  Aygün   30     Gəncə   90\n",
      "2  Vaqif   35  Sumqayıt   78\n",
      "3  Günay   28      Şəki   92\n",
      "\n",
      "Yeni sətir əlavə edilmiş DataFrame:\n",
      "      Ad  Yaş     Şəhər  Bal\n",
      "0    Əli   25      Bakı   85\n",
      "1  Aygün   30     Gəncə   90\n",
      "2  Vaqif   35  Sumqayıt   78\n",
      "3  Günay   28      Şəki   92\n",
      "4  Murad   27  Lənkəran   88\n"
     ]
    }
   ],
   "source": [
    "import pandas as pd\n",
    "\n",
    "# Mövcud DataFrame\n",
    "df = pd.DataFrame({\n",
    "    'Ad': ['Əli', 'Aygün', 'Vaqif', 'Günay'],\n",
    "    'Yaş': [25, 30, 35, 28],\n",
    "    'Şəhər': ['Bakı', 'Gəncə', 'Sumqayıt', 'Şəki']\n",
    "})\n",
    "\n",
    "# Yeni sütun əlavə edir\n",
    "df['Bal'] = [85, 90, 78, 92]\n",
    "print(\"\\nYeni sütun əlavə edilmiş DataFrame:\")\n",
    "print(df)\n",
    "\n",
    "# Yeni sətir əlavə edir (pd.concat ilə)\n",
    "new_row = pd.DataFrame([{'Ad': 'Murad', 'Yaş': 27, 'Şəhər': 'Lənkəran', 'Bal': 88}])\n",
    "df = pd.concat([df, new_row], ignore_index=True)\n",
    "\n",
    "print(\"\\nYeni sətir əlavə edilmiş DataFrame:\")\n",
    "print(df)"
   ]
  },
  {
   "cell_type": "markdown",
   "id": "ac4df030-7465-464c-93d3-e6697d9c5833",
   "metadata": {},
   "source": [
    "**`df.drop('Bal', axis=1)`** əmri ilə **`Bal` adlı sütun DataFrame-dən silinir.**  \n",
    "`axis=1` parametri sütun əməliyyatı olduğunu göstərir.  \n",
    "**`df.drop(2, axis=0)`** əmri ilə **2-ci indeksli sətir DataFrame-dən çıxarılır.**  \n",
    "`axis=0` parametri sətir əməliyyatı olduğunu bildirir.  \n",
    "Hər iki əməliyyatdan sonra dəyişmiş DataFrame `df` dəyişənində saxlanılır və çap olunur.\n"
   ]
  },
  {
   "cell_type": "code",
   "execution_count": 23,
   "id": "fee3dfdb-68bb-46b1-84b3-22c7a950dc8a",
   "metadata": {},
   "outputs": [
    {
     "name": "stdout",
     "output_type": "stream",
     "text": [
      "\n",
      "'Bal' sütunu silinmiş DataFrame:\n",
      "      Ad  Yaş     Şəhər\n",
      "0    Əli   25      Bakı\n",
      "1  Aygün   30     Gəncə\n",
      "2  Vaqif   35  Sumqayıt\n",
      "3  Günay   28      Şəki\n",
      "4  Murad   27  Lənkəran\n",
      "\n",
      "2-ci sətri silinmiş DataFrame:\n",
      "      Ad  Yaş     Şəhər\n",
      "0    Əli   25      Bakı\n",
      "1  Aygün   30     Gəncə\n",
      "3  Günay   28      Şəki\n",
      "4  Murad   27  Lənkəran\n"
     ]
    }
   ],
   "source": [
    "# 'Bal' sütununu silir\n",
    "df = df.drop('Bal', axis=1)\n",
    "print(\"\\n'Bal' sütunu silinmiş DataFrame:\")\n",
    "print(df)\n",
    "\n",
    "# 2-ci sətri silir\n",
    "df = df.drop(2, axis=0)\n",
    "print(\"\\n2-ci sətri silinmiş DataFrame:\")\n",
    "print(df)"
   ]
  },
  {
   "cell_type": "markdown",
   "id": "1a38f240-3198-4fd0-8319-ede1b38c3c3b",
   "metadata": {},
   "source": [
    "**`df.sort_values(by='Yaş')`** ilə DataFrame **\"Yaş\" sütununa görə artan sırada** düzülür.  \n",
    "Nəticədə, yaşa görə sıralanmış yeni DataFrame `sorted_df` dəyişənində saxlanılır.  \n",
    "**`df.sort_index(ascending=False)`** ilə DataFrame **indeksə görə azalan sırada** düzülür.  \n",
    "Bu, sətirlərin orijinal indekslərinə əsaslanaraq sıralama aparır.  \n",
    "Hər iki nəticə `print()` funksiyası ilə ekrana çıxarılır.\n",
    "\n"
   ]
  },
  {
   "cell_type": "code",
   "execution_count": 24,
   "id": "046f961a-81cf-4b1f-bdb8-6d5398daad7c",
   "metadata": {},
   "outputs": [
    {
     "name": "stdout",
     "output_type": "stream",
     "text": [
      "\n",
      "Yaşa görə sıralanmış DataFrame:\n",
      "      Ad  Yaş     Şəhər\n",
      "0    Əli   25      Bakı\n",
      "4  Murad   27  Lənkəran\n",
      "3  Günay   28      Şəki\n",
      "1  Aygün   30     Gəncə\n",
      "\n",
      "İndeksə görə azalan sıralama:\n",
      "      Ad  Yaş     Şəhər\n",
      "4  Murad   27  Lənkəran\n",
      "3  Günay   28      Şəki\n",
      "1  Aygün   30     Gəncə\n",
      "0    Əli   25      Bakı\n"
     ]
    }
   ],
   "source": [
    "# Yaşa görə artan sıralama\n",
    "sorted_df = df.sort_values(by='Yaş')\n",
    "print(\"\\nYaşa görə sıralanmış DataFrame:\")\n",
    "print(sorted_df)\n",
    "\n",
    "# İndekslərə görə azalan sıralama\n",
    "sorted_index = df.sort_index(ascending=False)\n",
    "print(\"\\nİndeksə görə azalan sıralama:\")\n",
    "print(sorted_index)"
   ]
  },
  {
   "cell_type": "markdown",
   "id": "f211f3f5-5a78-4ec2-8c58-738f45570385",
   "metadata": {},
   "source": [
    "`df['Şəhər']` sütunundakı \"Bakı\" dəyəri **replace** funksiyası ilə \"Baku\" ilə dəyişdirilir.  \n",
    "Dəyişdirilmiş DataFrame `print()` ilə ekrana çıxarılır.  \n",
    "`df.rename()` funksiyası ilə \"Yaş\" sütununun adı **\"Age\"** olaraq dəyişdirilir.  \n",
    "Yeni sütun adı ilə DataFrame `df` dəyişənində saxlanılır.  \n",
    "Son olaraq dəyişikliklər ekrana çap olunur.\n"
   ]
  },
  {
   "cell_type": "code",
   "execution_count": 25,
   "id": "f7ac7ca5-cc31-481e-8559-e545bba53af0",
   "metadata": {},
   "outputs": [
    {
     "name": "stdout",
     "output_type": "stream",
     "text": [
      "\n",
      "Dəyişdirilmiş Şəhər adları:\n",
      "      Ad  Yaş     Şəhər\n",
      "0    Əli   25      Baku\n",
      "1  Aygün   30     Gəncə\n",
      "3  Günay   28      Şəki\n",
      "4  Murad   27  Lənkəran\n",
      "\n",
      "Sütun adı dəyişdirilmiş DataFrame:\n",
      "      Ad  Age     Şəhər\n",
      "0    Əli   25      Baku\n",
      "1  Aygün   30     Gəncə\n",
      "3  Günay   28      Şəki\n",
      "4  Murad   27  Lənkəran\n"
     ]
    }
   ],
   "source": [
    "# Şəhər adlarını dəyişmək\n",
    "df['Şəhər'] = df['Şəhər'].replace({'Bakı': 'Baku'})\n",
    "print(\"\\nDəyişdirilmiş Şəhər adları:\")\n",
    "print(df)\n",
    "\n",
    "# Sütun adını dəyişmək\n",
    "df = df.rename(columns={'Yaş': 'Age'})\n",
    "print(\"\\nSütun adı dəyişdirilmiş DataFrame:\")\n",
    "print(df)"
   ]
  },
  {
   "cell_type": "markdown",
   "id": "9329ca5d-2ce0-472c-8971-964e68445999",
   "metadata": {},
   "source": [
    "`df.set_index('Ad')` ilə **'Ad' sütunu indeks kimi təyin olunur.**  \n",
    "Beləliklə, DataFrame-in sətrləri **adlarla identifikasiya edilir.**  \n",
    "`print()` funksiyası ilə indeks təyin edilmiş DataFrame çap olunur.  \n",
    "`df.reset_index()` ilə isə **indeks sıfırlanır** və əvvəlki sütunlar bərpa edilir.  \n",
    "Nəticədə indeks yenidən sıradan başlayır və DataFrame çap olunur.\n"
   ]
  },
  {
   "cell_type": "code",
   "execution_count": 26,
   "id": "65379f66-18c8-475c-b6e5-8aad92cfa474",
   "metadata": {},
   "outputs": [
    {
     "name": "stdout",
     "output_type": "stream",
     "text": [
      "\n",
      "'Ad' indeks olaraq təyin edilmiş DataFrame:\n",
      "       Age     Şəhər\n",
      "Ad                  \n",
      "Əli     25      Baku\n",
      "Aygün   30     Gəncə\n",
      "Günay   28      Şəki\n",
      "Murad   27  Lənkəran\n",
      "\n",
      "İndeks sıfırlanmış DataFrame:\n",
      "      Ad  Age     Şəhər\n",
      "0    Əli   25      Baku\n",
      "1  Aygün   30     Gəncə\n",
      "2  Günay   28      Şəki\n",
      "3  Murad   27  Lənkəran\n"
     ]
    }
   ],
   "source": [
    "# 'Ad' sütununu indeks kimi təyin edir\n",
    "df = df.set_index('Ad')\n",
    "print(\"\\n'Ad' indeks olaraq təyin edilmiş DataFrame:\")\n",
    "print(df)\n",
    "\n",
    "# İndeksi sıfırlamaq\n",
    "df = df.reset_index()\n",
    "print(\"\\nİndeks sıfırlanmış DataFrame:\")\n",
    "print(df)"
   ]
  },
  {
   "cell_type": "code",
   "execution_count": 29,
   "id": "e26c0980-23df-46f2-bb0c-5cd18b234640",
   "metadata": {},
   "outputs": [
    {
     "name": "stdout",
     "output_type": "stream",
     "text": [
      "\n",
      "Dublikat əlavə edilmiş DataFrame:\n",
      "      Ad  Yaş     Şəhər\n",
      "0    Əli   25      Bakı\n",
      "1  Aygün   30     Gəncə\n",
      "2  Vaqif   35  Sumqayıt\n",
      "3  Günay   28      Şəki\n",
      "4    Əli   25      Bakı\n",
      "\n",
      "Dublikatlar:\n",
      "0    False\n",
      "1    False\n",
      "2    False\n",
      "3    False\n",
      "4     True\n",
      "dtype: bool\n",
      "\n",
      "Dublikatları silmiş DataFrame:\n",
      "      Ad  Yaş     Şəhər\n",
      "0    Əli   25      Bakı\n",
      "1  Aygün   30     Gəncə\n",
      "2  Vaqif   35  Sumqayıt\n",
      "3  Günay   28      Şəki\n"
     ]
    }
   ],
   "source": [
    "import pandas as pd\n",
    "\n",
    "# Nümunə DataFrame\n",
    "df = pd.DataFrame({\n",
    "    'Ad': ['Əli', 'Aygün', 'Vaqif', 'Günay'],\n",
    "    'Yaş': [25, 30, 35, 28],\n",
    "    'Şəhər': ['Bakı', 'Gəncə', 'Sumqayıt', 'Şəki']\n",
    "})\n",
    "\n",
    "# Dublikat sətir əlavə edir (pd.concat ilə)\n",
    "df = pd.concat([df, df.iloc[[0]]], ignore_index=True)\n",
    "print(\"\\nDublikat əlavə edilmiş DataFrame:\")\n",
    "print(df)\n",
    "\n",
    "# Dublikatları tapmaq\n",
    "print(\"\\nDublikatlar:\")\n",
    "print(df.duplicated())\n",
    "\n",
    "# Dublikatları silmək\n",
    "df = df.drop_duplicates()\n",
    "print(\"\\nDublikatları silmiş DataFrame:\")\n",
    "print(df)\n"
   ]
  },
  {
   "cell_type": "markdown",
   "id": "473d39d2-4ec8-45d1-96d4-827f071d83cc",
   "metadata": {},
   "source": [
    "`df['Şəhər'].str.upper()` ilə bütün şəhər adları **böyük hərflərə çevrilir.**  \n",
    "Dəyişdirilmiş DataFrame `print()` ilə ekrana çıxarılır.  \n",
    "`df['Şəhər'].str.contains('BAKU')` ilə **şəhər adı \"BAKU\" olan sətirlər seçilir.**  \n",
    "Seçilmiş sətirlər ayrıca `print()` ilə göstərilir.  \n",
    "Bu üsul mətn sütunlarında axtarış və filter tətbiq etmək üçün faydalıdır.\n"
   ]
  },
  {
   "cell_type": "code",
   "execution_count": 30,
   "id": "c7815ff1-2dd2-4e01-919e-ccce921ccdc1",
   "metadata": {},
   "outputs": [
    {
     "name": "stdout",
     "output_type": "stream",
     "text": [
      "\n",
      "Böyük hərflərlə şəhər adları:\n",
      "      Ad  Yaş     Şəhər\n",
      "0    Əli   25      BAKI\n",
      "1  Aygün   30     GƏNCƏ\n",
      "2  Vaqif   35  SUMQAYIT\n",
      "3  Günay   28      ŞƏKI\n",
      "\n",
      "'BAKU' olan sətirlər:\n",
      "Empty DataFrame\n",
      "Columns: [Ad, Yaş, Şəhər]\n",
      "Index: []\n"
     ]
    }
   ],
   "source": [
    "# Bütün şəhər adlarını böyük hərflərə çevirir\n",
    "df['Şəhər'] = df['Şəhər'].str.upper()\n",
    "print(\"\\nBöyük hərflərlə şəhər adları:\")\n",
    "print(df)\n",
    "\n",
    "# Şəhər adında 'BAKU' olanları seçmək\n",
    "print(\"\\n'BAKU' olan sətirlər:\")\n",
    "print(df[df['Şəhər'].str.contains('BAKU')])"
   ]
  },
  {
   "cell_type": "markdown",
   "id": "f8c29ba3-9e03-4c84-bbeb-e704fea9bd25",
   "metadata": {},
   "source": [
    "`kateqoriya` adlı funksiya yaşa görə **\"Gənc\" və ya \"Yetkin\"** kateqoriyasını təyin edir.  \n",
    "`df['Yaş'].apply(kateqoriya)` ilə funksiyanı hər yaş dəyərinə tətbiq edirik.  \n",
    "Nəticə yeni **\"Kateqoriya\"** sütununa əlavə olunur.  \n",
    "Dəyişdirilmiş DataFrame `print()` ilə ekrana çıxarılır.  \n",
    "Bu üsul sütunlara xüsusi funksiyalar tətbiq etmək üçün geniş istifadə olunur.  \n"
   ]
  },
  {
   "cell_type": "code",
   "execution_count": 32,
   "id": "a592a89d-4a17-425f-9315-5359d5af909d",
   "metadata": {},
   "outputs": [
    {
     "name": "stdout",
     "output_type": "stream",
     "text": [
      "\n",
      "apply ilə kateqoriya əlavə edilmiş DataFrame:\n",
      "      Ad  Yaş     Şəhər Kateqoriya\n",
      "0    Əli   25      BAKI       Gənc\n",
      "1  Aygün   30     GƏNCƏ     Yetkin\n",
      "2  Vaqif   35  SUMQAYIT     Yetkin\n",
      "3  Günay   28      ŞƏKI       Gənc\n"
     ]
    }
   ],
   "source": [
    "# Yaşa görə kateqoriya yaratmaq\n",
    "def kateqoriya(yas):\n",
    "    if yas < 30:\n",
    "        return \"Gənc\"\n",
    "    else:\n",
    "        return \"Yetkin\"\n",
    "\n",
    "df['Kateqoriya'] = df['Yaş'].apply(kateqoriya)\n",
    "print(\"\\napply ilə kateqoriya əlavə edilmiş DataFrame:\")\n",
    "print(df)\n"
   ]
  },
  {
   "cell_type": "markdown",
   "id": "f6778fef-a6b3-4f25-b89e-e6c344b2fead",
   "metadata": {},
   "source": [
    "`df.to_csv('output.csv', index=False)` ilə DataFrame **'output.csv'** adlı CSV faylına yazılır.  \n",
    "`index=False` indeksi fayla daxil etməmək üçündür.  \n",
    "`pd.read_csv('output.csv')` funksiyası ilə həmin CSV faylı **yenidən oxunur** və DataFrame-ə çevrilir.  \n",
    "Oxunan DataFrame `new_df` dəyişənində saxlanılır.  \n",
    "`print()` ilə oxunan DataFrame ekrana çıxarılır.  \n"
   ]
  },
  {
   "cell_type": "code",
   "execution_count": 33,
   "id": "27404b55-edec-4487-a1ec-40a9d15807b3",
   "metadata": {},
   "outputs": [
    {
     "name": "stdout",
     "output_type": "stream",
     "text": [
      "\n",
      "DataFrame 'output.csv' faylına yazıldı\n",
      "\n",
      "CSV-dən oxunan DataFrame:\n",
      "      Ad  Yaş     Şəhər Kateqoriya\n",
      "0    Əli   25      BAKI       Gənc\n",
      "1  Aygün   30     GƏNCƏ     Yetkin\n",
      "2  Vaqif   35  SUMQAYIT     Yetkin\n",
      "3  Günay   28      ŞƏKI       Gənc\n"
     ]
    }
   ],
   "source": [
    "# DataFrame-i CSV faylına yazır\n",
    "df.to_csv('output.csv', index=False)\n",
    "print(\"\\nDataFrame 'output.csv' faylına yazıldı\")\n",
    "\n",
    "# CSV faylını oxuyur\n",
    "new_df = pd.read_csv('output.csv')\n",
    "print(\"\\nCSV-dən oxunan DataFrame:\")\n",
    "print(new_df)"
   ]
  },
  {
   "cell_type": "markdown",
   "id": "ef1750f6-2460-49b7-9866-ed94755e92c6",
   "metadata": {},
   "source": [
    "`df.copy()` ilə DataFrame-nin surəti yaradılır.  \n",
    "`df_with_nan.loc[1, 'Age'] = None` ilə 1-ci sətrin \"Age\" sütununa boş dəyər əlavə olunur.  \n",
    "`print()` ilə boş dəyər əlavə edilmiş DataFrame göstərilir.  \n",
    "`df_with_nan.dropna()` funksiyası ilə **boş dəyərlər olan sətrlər silinir.**  \n",
    "Təmizlənmiş DataFrame `cleaned_df` dəyişənində saxlanılır və ekrana çıxarılır.  \n"
   ]
  },
  {
   "cell_type": "code",
   "execution_count": 34,
   "id": "630f629e-ebae-4186-8a59-807b85dfb3ad",
   "metadata": {
    "scrolled": true
   },
   "outputs": [
    {
     "name": "stdout",
     "output_type": "stream",
     "text": [
      "\n",
      "Boş dəyər əlavə edilmiş DataFrame:\n",
      "      Ad  Yaş     Şəhər Kateqoriya   Age\n",
      "0    Əli   25      BAKI       Gənc   NaN\n",
      "1  Aygün   30     GƏNCƏ     Yetkin  None\n",
      "2  Vaqif   35  SUMQAYIT     Yetkin   NaN\n",
      "3  Günay   28      ŞƏKI       Gənc   NaN\n",
      "\n",
      "Boş dəyərlər silinmiş DataFrame:\n",
      "Empty DataFrame\n",
      "Columns: [Ad, Yaş, Şəhər, Kateqoriya, Age]\n",
      "Index: []\n"
     ]
    }
   ],
   "source": [
    "# Boş dəyərləri silir\n",
    "df_with_nan = df.copy()\n",
    "df_with_nan.loc[1, 'Age'] = None  # Boş dəyər əlavə edək\n",
    "print(\"\\nBoş dəyər əlavə edilmiş DataFrame:\")\n",
    "print(df_with_nan)\n",
    "\n",
    "cleaned_df = df_with_nan.dropna()\n",
    "print(\"\\nBoş dəyərlər silinmiş DataFrame:\")\n",
    "print(cleaned_df)"
   ]
  }
 ],
 "metadata": {
  "kernelspec": {
   "display_name": "Python 3",
   "language": "python",
   "name": "python3"
  },
  "language_info": {
   "codemirror_mode": {
    "name": "ipython",
    "version": 3
   },
   "file_extension": ".py",
   "mimetype": "text/x-python",
   "name": "python",
   "nbconvert_exporter": "python",
   "pygments_lexer": "ipython3",
   "version": "3.13.5"
  }
 },
 "nbformat": 4,
 "nbformat_minor": 5
}
