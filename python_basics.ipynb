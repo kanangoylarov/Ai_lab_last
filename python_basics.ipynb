{
 "cells": [
  {
   "cell_type": "markdown",
   "id": "93cffda0-13d7-436b-8b0e-8e987e515cc5",
   "metadata": {},
   "source": [
    "# NumPy və Pandas Kitabxanalarına Giriş"
   ]
  },
  {
   "cell_type": "code",
   "execution_count": 46,
   "id": "c6fb2e34-0679-4fae-bded-e7ed8223bff1",
   "metadata": {},
   "outputs": [
    {
     "name": "stdout",
     "output_type": "stream",
     "text": [
      "Requirement already satisfied: numpy in c:\\users\\goyle\\appdata\\local\\programs\\python\\python313\\lib\\site-packages (2.3.1)\n",
      "Note: you may need to restart the kernel to use updated packages.\n"
     ]
    }
   ],
   "source": [
    "%pip install numpy  # Numpy kitabxanasını quraşdırır (data analizi və riyazi əməliyyatlar üçün)"
   ]
  },
  {
   "cell_type": "code",
   "execution_count": 5,
   "id": "30e6e6f4-89f0-4fac-829f-c24385115cc2",
   "metadata": {},
   "outputs": [
    {
     "name": "stdout",
     "output_type": "stream",
     "text": [
      "1D Array:\n",
      "[1 2 3 4 5]\n",
      "Ölçü: (5,)\n"
     ]
    }
   ],
   "source": [
    "import numpy as np\n",
    "\n",
    "# 1D array yaratmaq\n",
    "arr1d = np.array([1, 2, 3, 4, 5])\n",
    "print(\"1D Array:\")\n",
    "print(arr1d)\n",
    "print(\"Ölçü:\", arr1d.shape)"
   ]
  },
  {
   "cell_type": "code",
   "execution_count": 2,
   "id": "b113b021-bbaa-47d2-8333-71b3c0dfccfa",
   "metadata": {},
   "outputs": [
    {
     "name": "stdout",
     "output_type": "stream",
     "text": [
      "\n",
      "2D Array:\n",
      "[[1 2 3]\n",
      " [4 5 6]]\n",
      "Ölçü: (2, 3)\n"
     ]
    }
   ],
   "source": [
    "arr2d = np.array([[1, 2, 3], [4, 5, 6]])\n",
    "print(\"\\n2D Array:\")\n",
    "print(arr2d)\n",
    "print(\"Ölçü:\", arr2d.shape)"
   ]
  },
  {
   "cell_type": "code",
   "execution_count": 3,
   "id": "41fd3bbb-e3f5-4564-a5b9-669f75fed7d7",
   "metadata": {},
   "outputs": [
    {
     "name": "stdout",
     "output_type": "stream",
     "text": [
      "\n",
      "Xüsusi Arraylər:\n",
      "Zeros:\n",
      " [[0. 0. 0.]\n",
      " [0. 0. 0.]\n",
      " [0. 0. 0.]]\n",
      "Ones:\n",
      " [[1. 1. 1. 1.]\n",
      " [1. 1. 1. 1.]]\n",
      "Arange: [0 2 4 6 8]\n",
      "Random:\n",
      " [[0.39063779 0.36104106 0.1015619 ]\n",
      " [0.33025401 0.89911428 0.72084756]\n",
      " [0.91774524 0.29058706 0.59117338]]\n"
     ]
    }
   ],
   "source": [
    "# 3x3 ölçüdə bütün elementləri 0 olan array yaradır\n",
    "zeros_arr = np.zeros((3, 3))\n",
    "\n",
    "# 2x4 ölçüdə bütün elementləri 1 olan array yaradır\n",
    "ones_arr = np.ones((2, 4))\n",
    "\n",
    "# 0-dan 10-a qədər 2 addımla ardıcıl ədədlərdən ibarət array yaradır (0, 2, 4, 6, 8)\n",
    "range_arr = np.arange(0, 10, 2)  # 0-dan 10-a qədər 2 addımla\n",
    "\n",
    "# 3x3 ölçüdə 0 ilə 1 arasında təsadüfi ədədlərdən ibarət array yaradır\n",
    "random_arr = np.random.rand(3, 3)  # 0-1 arası random ədədlər\n",
    "\n",
    "# Nəticələrin çap olunması\n",
    "print(\"\\nXüsusi Arraylər:\")  # Başlıq çap edir\n",
    "print(\"Zeros:\\n\", zeros_arr)  # 0-lardan ibarət arrayi çap edir\n",
    "print(\"Ones:\\n\", ones_arr)    # 1-lərdən ibarət arrayi çap edir\n",
    "print(\"Arange:\", range_arr)   # Ardıcıllığı çap edir\n",
    "print(\"Random:\\n\", random_arr)  # Random ədədlərdən ibarət arrayi çap edir\n"
   ]
  },
  {
   "cell_type": "code",
   "execution_count": 4,
   "id": "4072d3f2-80de-4083-9492-9837ea98297c",
   "metadata": {},
   "outputs": [
    {
     "name": "stdout",
     "output_type": "stream",
     "text": [
      "Toplama: [5 7 9]\n",
      "Vurma: [ 4 10 18]\n",
      "Nöqtə hasil: 32\n",
      "Sinus: [0.84147098 0.90929743 0.14112001]\n",
      "Eksponent: [ 2.71828183  7.3890561  20.08553692]\n",
      "Kvadrat kök: [1.         1.41421356 1.73205081]\n"
     ]
    }
   ],
   "source": [
    "a = np.array([1, 2, 3])\n",
    "b = np.array([4, 5, 6])\n",
    "\n",
    "# Əsas riyazi əməliyyatlar\n",
    "print(\"Toplama:\", a + b)\n",
    "print(\"Vurma:\", a * b)  # Element-wise vurma\n",
    "print(\"Nöqtə hasil:\", np.dot(a, b))  # Dot product - bununla iki vektoru bir birine asanliqla vurmaq olar\n",
    "\n",
    "# Universal funksiyalar (ufuncs)\n",
    "print(\"Sinus:\", np.sin(a))\n",
    "print(\"Eksponent:\", np.exp(a))\n",
    "print(\"Kvadrat kök:\", np.sqrt(a))"
   ]
  },
  {
   "cell_type": "code",
   "execution_count": 5,
   "id": "89d33000-337b-4039-9032-3d58a0c3ea45",
   "metadata": {},
   "outputs": [
    {
     "name": "stdout",
     "output_type": "stream",
     "text": [
      "Orijinal Array:\n",
      " [[1 2 3]\n",
      " [4 5 6]\n",
      " [7 8 9]]\n",
      "İlk sətir: [1 2 3]\n",
      "Son sütun: [3 6 9]\n",
      "Orta element: 5\n",
      "Sub-array:\n",
      " [[2 3]\n",
      " [5 6]]\n",
      "\n",
      "Boolean Indexing:\n",
      "[6 7 8 9]\n"
     ]
    }
   ],
   "source": [
    "arr = np.array([[1, 2, 3], [4, 5, 6], [7, 8, 9]])\n",
    "\n",
    "print(\"Orijinal Array:\\n\", arr)\n",
    "print(\"İlk sətir:\", arr[0])\n",
    "print(\"Son sütun:\", arr[:, -1])\n",
    "print(\"Orta element:\", arr[1, 1])\n",
    "print(\"Sub-array:\\n\", arr[:2, 1:])\n",
    "\n",
    "# Boolean indexing\n",
    "print(\"\\nBoolean Indexing:\")\n",
    "print(arr[arr > 5])"
   ]
  },
  {
   "cell_type": "code",
   "execution_count": 6,
   "id": "4ce41a08-d56f-45f0-92d0-96ff476187b4",
   "metadata": {},
   "outputs": [
    {
     "name": "stdout",
     "output_type": "stream",
     "text": [
      "Orijinal: [1 2 3 4 5 6 7 8 9]\n",
      "\n",
      "Yenidən şəkilləndirilmiş:\n",
      " [[1 2 3]\n",
      " [4 5 6]\n",
      " [7 8 9]]\n",
      "Düzəldilmiş: [1 2 3 4 5 6 7 8 9]\n",
      "Transpoz:\n",
      " [[1 4 7]\n",
      " [2 5 8]\n",
      " [3 6 9]]\n"
     ]
    }
   ],
   "source": [
    "arr = np.arange(1, 10)\n",
    "print(\"Orijinal:\", arr)\n",
    "\n",
    "# Yenidən şəkilləndirmə\n",
    "reshaped = arr.reshape(3, 3)\n",
    "print(\"\\nYenidən şəkilləndirilmiş:\\n\", reshaped)\n",
    "\n",
    "# Düzəltmə\n",
    "flattened = reshaped.flatten()\n",
    "print(\"Düzəldilmiş:\", flattened)\n",
    "\n",
    "# Transpoz\n",
    "transposed = reshaped.T\n",
    "print(\"Transpoz:\\n\", transposed)"
   ]
  },
  {
   "cell_type": "code",
   "execution_count": 7,
   "id": "ea226433-77aa-440d-b8d5-f44798238f07",
   "metadata": {},
   "outputs": [
    {
     "name": "stdout",
     "output_type": "stream",
     "text": [
      "Data:\n",
      " [[15 68 67 39 39]\n",
      " [17 60 56 86 98]\n",
      " [68 82  7 94 48]\n",
      " [ 7 29 48 58 25]\n",
      " [42 45 97 95 21]]\n",
      "\n",
      "Statistikalar:\n",
      "Orta: 52.44\n",
      "Median: 48.0\n",
      "Standart sapma: 28.312654414589954\n",
      "Minimum: 7\n",
      "Maksimum: 98\n",
      "Sütun cəmi: [149 284 275 372 231]\n",
      "Sətir ortası: [45.6 63.4 59.8 33.4 60. ]\n"
     ]
    }
   ],
   "source": [
    "# 5x5 ölçüdə 1 ilə 100 arasında təsadüfi tam ədədlərdən ibarət array yaradır\n",
    "data = np.random.randint(1, 100, size=(5, 5))\n",
    "\n",
    "\n",
    "print(\"Data:\\n\", data)b\n",
    "print(\"\\nStatistikalar:\")\n",
    "print(\"Orta:\", np.mean(data))\n",
    "print(\"Median:\", np.median(data))\n",
    "print(\"Standart sapma:\", np.std(data))\n",
    "print(\"Minimum:\", np.min(data))\n",
    "print(\"Maksimum:\", np.max(data))\n",
    "print(\"Sütun cəmi:\", np.sum(data, axis=0))\n",
    "print(\"Sətir ortası:\", np.mean(data, axis=1))"
   ]
  },
  {
   "cell_type": "code",
   "execution_count": 6,
   "id": "f23d935c-1633-4ba0-8fbc-ae0897b7175d",
   "metadata": {},
   "outputs": [
    {
     "name": "stdout",
     "output_type": "stream",
     "text": [
      "Broadcasting nəticəsi:\n",
      " [[11 22 33]\n",
      " [14 25 36]\n",
      " [17 28 39]]\n"
     ]
    }
   ],
   "source": [
    "# 3x3 array və 1D array (broadcast ediləcək)\n",
    "arr = np.array([[1, 2, 3], [4, 5, 6], [7, 8, 9]])\n",
    "vector = np.array([10, 20, 30])\n",
    "\n",
    "# 3x3 array-ə 1x3 vektoru əlavə etmək\n",
    "result = arr + vector\n",
    "print(\"Broadcasting nəticəsi:\\n\", result)"
   ]
  },
  {
   "cell_type": "code",
   "execution_count": 7,
   "id": "a5cf36a1-053e-44c8-9c29-3172ac2f3c39",
   "metadata": {},
   "outputs": [
    {
     "name": "stdout",
     "output_type": "stream",
     "text": [
      "Fancy Indexing nəticəsi: [10 30 50]\n"
     ]
    }
   ],
   "source": [
    "# Fancy indexing ilə müəyyən elementləri seçmək\n",
    "arr = np.array([10, 20, 30, 40, 50])\n",
    "indices = [0, 2, 4]  # 0, 2 və 4-cü elementləri seçirik\n",
    "\n",
    "selected = arr[indices]\n",
    "print(\"Fancy Indexing nəticəsi:\", selected)"
   ]
  },
  {
   "cell_type": "code",
   "execution_count": 8,
   "id": "c3a59c6e-583d-47d0-ac3e-48c97e6689a4",
   "metadata": {},
   "outputs": [
    {
     "name": "stdout",
     "output_type": "stream",
     "text": [
      "Masklama və dəyişdirmə: [ 0  0 35 50]\n"
     ]
    }
   ],
   "source": [
    "# Masklama: 30-dan kiçik olanları 0 ilə əvəz et\n",
    "arr = np.array([10, 25, 35, 50])\n",
    "arr[arr < 30] = 0\n",
    "print(\"Masklama və dəyişdirmə:\", arr)"
   ]
  },
  {
   "cell_type": "code",
   "execution_count": 9,
   "id": "1d16920d-b997-405e-a059-eef01c2693fe",
   "metadata": {},
   "outputs": [
    {
     "name": "stdout",
     "output_type": "stream",
     "text": [
      "Vertical Stack:\n",
      " [[1 2]\n",
      " [3 4]\n",
      " [5 6]\n",
      " [7 8]]\n",
      "Horizontal Stack:\n",
      " [[1 2 5 6]\n",
      " [3 4 7 8]]\n",
      "Split nəticəsi:\n",
      " [[1 2]\n",
      " [3 4]] \n",
      " [[5 6]\n",
      " [7 8]]\n"
     ]
    }
   ],
   "source": [
    "a = np.array([[1, 2], [3, 4]])\n",
    "b = np.array([[5, 6], [7, 8]])\n",
    "\n",
    "# Dikey (vertical) birləşdirmə\n",
    "vstacked = np.vstack((a, b))\n",
    "print(\"Vertical Stack:\\n\", vstacked)\n",
    "\n",
    "# Üfüqi (horizontal) birləşdirmə\n",
    "hstacked = np.hstack((a, b))\n",
    "print(\"Horizontal Stack:\\n\", hstacked)\n",
    "\n",
    "# Split (2 hissəyə bölmək)\n",
    "split_arr = np.split(hstacked, 2, axis=1)\n",
    "print(\"Split nəticəsi:\\n\", split_arr[0], \"\\n\", split_arr[1])"
   ]
  },
  {
   "cell_type": "code",
   "execution_count": 10,
   "id": "a0319a08-ae0d-4a1c-a13b-109960f2304f",
   "metadata": {},
   "outputs": [
    {
     "name": "stdout",
     "output_type": "stream",
     "text": [
      "Determinant: 10.000000000000002\n",
      "Inverse:\n",
      " [[ 0.6 -0.7]\n",
      " [-0.2  0.4]]\n"
     ]
    }
   ],
   "source": [
    "matrix = np.array([[4, 7], [2, 6]])\n",
    "\n",
    "# Determinant\n",
    "det = np.linalg.det(matrix)\n",
    "print(\"Determinant:\", det)\n",
    "\n",
    "# İnvers (əks matriks)\n",
    "inverse = np.linalg.inv(matrix)\n",
    "print(\"Inverse:\\n\", inverse)"
   ]
  },
  {
   "cell_type": "code",
   "execution_count": 11,
   "id": "c290f832-0788-4135-8444-7447c7c06e6d",
   "metadata": {},
   "outputs": [
    {
     "name": "stdout",
     "output_type": "stream",
     "text": [
      "Ən böyük indeks (argmax): 3\n",
      "Ən kiçik indeks (argmin): 0\n"
     ]
    }
   ],
   "source": [
    "arr = np.array([10, 50, 30, 70, 20])\n",
    "\n",
    "# Ən böyük və ən kiçik elementlərin indeksləri\n",
    "print(\"Ən böyük indeks (argmax):\", arr.argmax())\n",
    "print(\"Ən kiçik indeks (argmin):\", arr.argmin())"
   ]
  },
  {
   "cell_type": "code",
   "execution_count": 12,
   "id": "3f543c26-c504-4e9c-ab2a-ae3cc9395e43",
   "metadata": {},
   "outputs": [
    {
     "name": "stdout",
     "output_type": "stream",
     "text": [
      "Unique: [1 2 3 4]\n",
      "Sort: [1 1 2 2 3 3 4]\n"
     ]
    }
   ],
   "source": [
    "arr = np.array([3, 1, 2, 3, 2, 1, 4])\n",
    "\n",
    "# Unikal elementlər və sıralama\n",
    "print(\"Unique:\", np.unique(arr))\n",
    "print(\"Sort:\", np.sort(arr))"
   ]
  },
  {
   "cell_type": "code",
   "execution_count": 16,
   "id": "b49720d9-cfb4-4363-98de-10f718b0b10a",
   "metadata": {},
   "outputs": [
    {
     "name": "stdout",
     "output_type": "stream",
     "text": [
      "Clip nəticəsi: [10 15 25 30]\n",
      "Where nəticəsi: ['Kiçik və ya bərabər' 'Kiçik və ya bərabər' 'Böyük' 'Böyük']\n"
     ]
    }
   ],
   "source": [
    "arr = np.array([5, 15, 25, 35])\n",
    "\n",
    "# Clip: 10-dan kiçikləri 10, 30-dan böyük olanları 30 edir\n",
    "clipped = np.clip(arr, 10, 30)\n",
    "print(\"Clip nəticəsi:\", clipped)\n",
    "\n",
    "# Where: şərtə görə seçim\n",
    "result = np.where(arr > 20, \"Böyük\", \"Kiçik və ya bərabər\")\n",
    "print(\"Where nəticəsi:\", result)"
   ]
  },
  {
   "cell_type": "code",
   "execution_count": 17,
   "id": "b7a60ecf-d0b6-45b5-9a39-cfcf2fb7557a",
   "metadata": {},
   "outputs": [
    {
     "name": "stdout",
     "output_type": "stream",
     "text": [
      "Nan varmı?: [False  True False  True False]\n",
      "Nan əvəz edilmiş: [1. 0. 3. 0. 5.]\n"
     ]
    }
   ],
   "source": [
    "arr = np.array([1, np.nan, 3, np.nan, 5])\n",
    "\n",
    "# Nan-ların olub olmadığını yoxla\n",
    "print(\"Nan varmı?:\", np.isnan(arr))\n",
    "\n",
    "# Nan-ları 0 ilə əvəz et\n",
    "cleaned = np.nan_to_num(arr, nan=0)\n",
    "print(\"Nan əvəz edilmiş:\", cleaned)"
   ]
  },
  {
   "cell_type": "code",
   "execution_count": 18,
   "id": "ee7d10d2-9d9c-4770-acc9-d20ed23ad576",
   "metadata": {},
   "outputs": [
    {
     "name": "stdout",
     "output_type": "stream",
     "text": [
      "Random seed ilə: [52 93 15 72 61]\n"
     ]
    }
   ],
   "source": [
    "np.random.seed(42)  # Hər dəfə eyni random nəticələr üçün\n",
    "print(\"Random seed ilə:\", np.random.randint(1, 100, 5))"
   ]
  },
  {
   "cell_type": "markdown",
   "id": "39e92c2d-e47f-48e6-9d72-75134149d30f",
   "metadata": {},
   "source": [
    "## 2. Pandas Kitabxanası"
   ]
  },
  {
   "cell_type": "code",
   "execution_count": 13,
   "id": "12bd93e5-c5ab-4a8c-8f9e-ff8b18bcae5f",
   "metadata": {},
   "outputs": [
    {
     "name": "stdout",
     "output_type": "stream",
     "text": [
      "Requirement already satisfied: pandas in c:\\users\\goyle\\appdata\\local\\programs\\python\\python313\\lib\\site-packages (2.3.0)\n",
      "Requirement already satisfied: numpy>=1.26.0 in c:\\users\\goyle\\appdata\\local\\programs\\python\\python313\\lib\\site-packages (from pandas) (2.3.1)\n",
      "Requirement already satisfied: python-dateutil>=2.8.2 in c:\\users\\goyle\\appdata\\local\\programs\\python\\python313\\lib\\site-packages (from pandas) (2.9.0.post0)\n",
      "Requirement already satisfied: pytz>=2020.1 in c:\\users\\goyle\\appdata\\local\\programs\\python\\python313\\lib\\site-packages (from pandas) (2025.2)\n",
      "Requirement already satisfied: tzdata>=2022.7 in c:\\users\\goyle\\appdata\\local\\programs\\python\\python313\\lib\\site-packages (from pandas) (2025.2)\n",
      "Requirement already satisfied: six>=1.5 in c:\\users\\goyle\\appdata\\local\\programs\\python\\python313\\lib\\site-packages (from python-dateutil>=2.8.2->pandas) (1.17.0)\n",
      "Note: you may need to restart the kernel to use updated packages.\n"
     ]
    }
   ],
   "source": [
    "%pip install pandas"
   ]
  },
  {
   "cell_type": "code",
   "execution_count": 20,
   "id": "8ca2a406-0886-4b5e-a62b-ac8e07567448",
   "metadata": {},
   "outputs": [
    {
     "name": "stdout",
     "output_type": "stream",
     "text": [
      "DataFrame:\n",
      "      Ad  Yaş     Şəhər\n",
      "0    Əli   25      Bakı\n",
      "1  Aygün   30     Gəncə\n",
      "2  Vaqif   35  Sumqayıt\n",
      "3  Günay   28      Bakı\n"
     ]
    }
   ],
   "source": [
    "# pandas kitabxanasını pd qısaltması ilə import edir\n",
    "import pandas as pd\n",
    "\n",
    "# Dictionary-dən DataFrame yaratmaq üçün nümunə məlumatlar\n",
    "data = {\n",
    "    'Ad': ['Əli', 'Aygün', 'Vaqif', 'Günay'],  # Adlar siyahısı\n",
    "    'Yaş': [25, 30, 35, 28],                   # Müvafiq yaşlar\n",
    "    'Şəhər': ['Bakı', 'Gəncə', 'Sumqayıt', 'Bakı']  # Müvafiq şəhərlər\n",
    "}\n",
    "\n",
    "# pandas DataFrame obyektinə çevirmək\n",
    "df = pd.DataFrame(data)\n",
    "\n",
    "# Yaradılmış DataFrame-i çap etmək\n",
    "print(\"DataFrame:\")\n",
    "print(df)\n"
   ]
  },
  {
   "cell_type": "code",
   "execution_count": 15,
   "id": "6146eeb1-eace-4449-8a4d-cedb5637eba9",
   "metadata": {},
   "outputs": [
    {
     "name": "stdout",
     "output_type": "stream",
     "text": [
      "\n",
      "Əsas Əməliyyatlar:\n",
      "İlk 2 sətir:\n",
      "       Ad  Yaş  Şəhər\n",
      "0    Əli   25   Bakı\n",
      "1  Aygün   30  Gəncə\n",
      "\n",
      "Təsviri statistika:\n",
      "              Yaş\n",
      "count   4.000000\n",
      "mean   29.500000\n",
      "std     4.203173\n",
      "min    25.000000\n",
      "25%    27.250000\n",
      "50%    29.000000\n",
      "75%    31.250000\n",
      "max    35.000000\n",
      "\n",
      "Sütunlar: Index(['Ad', 'Yaş', 'Şəhər'], dtype='object')\n",
      "\n",
      "Yaş sütunu:\n",
      " 0    25\n",
      "1    30\n",
      "2    35\n",
      "3    28\n",
      "Name: Yaş, dtype: int64\n",
      "\n",
      "Yaş > 26 olanlar:\n",
      "       Ad  Yaş     Şəhər\n",
      "1  Aygün   30     Gəncə\n",
      "2  Vaqif   35  Sumqayıt\n",
      "3  Günay   28      Bakı\n"
     ]
    }
   ],
   "source": [
    "print(\"\\nƏsas Əməliyyatlar:\")\n",
    "print(\"İlk 2 sətir:\\n\", df.head(2))\n",
    "print(\"\\nTəsviri statistika:\\n\", df.describe())\n",
    "print(\"\\nSütunlar:\", df.columns)\n",
    "print(\"\\nYaş sütunu:\\n\", df['Yaş'])\n",
    "print(\"\\nYaş > 26 olanlar:\\n\", df[df['Yaş'] > 26])"
   ]
  },
  {
   "cell_type": "code",
   "execution_count": 11,
   "id": "e4caf0ba-8d6a-4bb5-be09-7c4d2e865a78",
   "metadata": {
    "scrolled": true
   },
   "outputs": [
    {
     "name": "stdout",
     "output_type": "stream",
     "text": [
      "\n",
      "Qruplama Əməliyyatları:\n",
      "Şəhərə görə orta yaş:\n",
      " Şəhər\n",
      "Bakı        26.5\n",
      "Gəncə       30.0\n",
      "Sumqayıt    35.0\n",
      "Name: Yaş, dtype: float64\n",
      "\n",
      "Pivot Cədvəl:\n",
      "           Yaş\n",
      "Şəhər         \n",
      "Bakı      26.5\n",
      "Gəncə     30.0\n",
      "Sumqayıt  35.0\n"
     ]
    }
   ],
   "source": [
    "print(\"\\nQruplama Əməliyyatları:\")\n",
    "print(\"Şəhərə görə orta yaş:\\n\", df.groupby('Şəhər')['Yaş'].mean())\n",
    "# print(\"\\nTəhsilə görə say:\\n\", df['Təhsil'].value_counts())\n",
    "\n",
    "# Pivot cədvəl\n",
    "print(\"\\nPivot Cədvəl:\")\n",
    "print(pd.pivot_table(df, values='Yaş', index='Şəhər', aggfunc='mean'))"
   ]
  },
  {
   "cell_type": "code",
   "execution_count": 59,
   "id": "47abd30b-5c10-4417-9400-a5ed5e8a4a63",
   "metadata": {},
   "outputs": [
    {
     "name": "stdout",
     "output_type": "stream",
     "text": [
      "\n",
      "Çatışmayan məlumatlarla DataFrame:\n",
      "      Ad   Yaş     Şəhər\n",
      "0    Əli  25.0      Bakı\n",
      "1  Aygün   NaN     Gəncə\n",
      "2  Vaqif  35.0  Sumqayıt\n",
      "3  Günay  28.0      None\n"
     ]
    }
   ],
   "source": [
    "# 1-ci sətrin 'Yaş' sütunundakı dəyəri None (boş) olaraq dəyişdirir\n",
    "df.loc[1, 'Yaş'] = None\n",
    "\n",
    "# 3-cü sətrin 'Şəhər' sütunundakı dəyəri None (boş) olaraq dəyişdirir\n",
    "df.loc[3, 'Şəhər'] = None\n",
    "\n",
    "# Çatışmayan (boş) məlumatlar olan DataFrame-i çap edir\n",
    "print(\"\\nÇatışmayan məlumatlarla DataFrame:\")\n",
    "print(df)\n"
   ]
  },
  {
   "cell_type": "code",
   "execution_count": 60,
   "id": "510226af-06ff-4b07-9070-1f001fe4f98b",
   "metadata": {},
   "outputs": [
    {
     "name": "stdout",
     "output_type": "stream",
     "text": [
      "\n",
      "Çatışmayan məlumatların sayı:\n",
      "Ad       0\n",
      "Yaş      1\n",
      "Şəhər    1\n",
      "dtype: int64\n"
     ]
    }
   ],
   "source": [
    "print(\"\\nÇatışmayan məlumatların sayı:\")\n",
    "print(df.isnull().sum()) #null olan setirleri 1 digerlerini 0"
   ]
  },
  {
   "cell_type": "code",
   "execution_count": 61,
   "id": "6cbd68b9-e005-4db1-8fc0-fb9c7bff1256",
   "metadata": {},
   "outputs": [
    {
     "name": "stdout",
     "output_type": "stream",
     "text": [
      "\n",
      "Doldurulmuş DataFrame:\n",
      "      Ad        Yaş     Şəhər\n",
      "0    Əli  25.000000      Bakı\n",
      "1  Aygün  29.333333     Gəncə\n",
      "2  Vaqif  35.000000  Sumqayıt\n",
      "3  Günay  28.000000   Naməlum\n"
     ]
    }
   ],
   "source": [
    "# Boş (None) olan dəyərləri doldurur:\n",
    "# 'Yaş' sütunundakı boş dəyərləri həmin sütunun orta dəyəri ilə əvəz edir\n",
    "# 'Şəhər' sütunundakı boş dəyərləri isə \"Naməlum\" sözü ilə əvəz edir\n",
    "filled_df = df.fillna({'Yaş': df['Yaş'].mean(), 'Şəhər': 'Naməlum'})\n",
    "\n",
    "# Doldurulmuş DataFrame-i çap edir\n",
    "print(\"\\nDoldurulmuş DataFrame:\")\n",
    "print(filled_df)\n"
   ]
  },
  {
   "cell_type": "code",
   "execution_count": 62,
   "id": "ba40907a-9a11-43b8-b699-1640136d8585",
   "metadata": {},
   "outputs": [],
   "source": [
    "df1 = pd.DataFrame({'A': ['A0', 'A1'], 'B': ['B0', 'B1']})\n",
    "df2 = pd.DataFrame({'A': ['A2', 'A3'], 'B': ['B2', 'B3']})\n"
   ]
  },
  {
   "cell_type": "code",
   "execution_count": 63,
   "id": "22d6c545-8398-4ee3-8fa1-86fa7dc14c5f",
   "metadata": {},
   "outputs": [
    {
     "name": "stdout",
     "output_type": "stream",
     "text": [
      "\n",
      "Birləşdirilmiş DataFrame:\n",
      "    A   B\n",
      "0  A0  B0\n",
      "1  A1  B1\n",
      "2  A2  B2\n",
      "3  A3  B3\n"
     ]
    }
   ],
   "source": [
    "# df1 və df2 DataFrame-lərini birləşdirir və indeksləri sıfırdan yenidən düzür\n",
    "concat_df = pd.concat([df1, df2], ignore_index=True)\n",
    "\n",
    "# Birləşdirilmiş DataFrame-i çap edir\n",
    "print(\"\\nBirləşdirilmiş DataFrame:\")\n",
    "print(concat_df)\n"
   ]
  },
  {
   "cell_type": "code",
   "execution_count": 64,
   "id": "317bd57c-4ab5-4f06-be7c-f784c1edb546",
   "metadata": {},
   "outputs": [
    {
     "name": "stdout",
     "output_type": "stream",
     "text": [
      "\n",
      "Merge edilmiş DataFrame:\n",
      "  key   A   B\n",
      "0  K0  A0  B0\n",
      "1  K1  A1  B1\n"
     ]
    }
   ],
   "source": [
    "# Sol (left) DataFrame yaradır: 'key' və 'A' sütunları ilə\n",
    "left = pd.DataFrame({'key': ['K0', 'K1'], 'A': ['A0', 'A1']})\n",
    "\n",
    "# Sağ (right) DataFrame yaradır: 'key' və 'B' sütunları ilə\n",
    "right = pd.DataFrame({'key': ['K0', 'K1'], 'B': ['B0', 'B1']})\n",
    "\n",
    "# İki DataFrame-i 'key' sütunu üzrə birləşdirir (merge edir)\n",
    "merged_df = pd.merge(left, right, on='key')\n",
    "\n",
    "# Merge edilmiş (birləşdirilmiş) DataFrame-i çap edir\n",
    "print(\"\\nMerge edilmiş DataFrame:\")\n",
    "print(merged_df)\n"
   ]
  },
  {
   "cell_type": "code",
   "execution_count": 22,
   "id": "473dfbbc-5c89-488f-b278-15ba9f1c5f09",
   "metadata": {},
   "outputs": [
    {
     "name": "stdout",
     "output_type": "stream",
     "text": [
      "\n",
      "Yeni sütun əlavə edilmiş DataFrame:\n",
      "      Ad  Yaş     Şəhər  Bal\n",
      "0    Əli   25      Bakı   85\n",
      "1  Aygün   30     Gəncə   90\n",
      "2  Vaqif   35  Sumqayıt   78\n",
      "3  Günay   28      Şəki   92\n",
      "\n",
      "Yeni sətir əlavə edilmiş DataFrame:\n",
      "      Ad  Yaş     Şəhər  Bal\n",
      "0    Əli   25      Bakı   85\n",
      "1  Aygün   30     Gəncə   90\n",
      "2  Vaqif   35  Sumqayıt   78\n",
      "3  Günay   28      Şəki   92\n",
      "4  Murad   27  Lənkəran   88\n"
     ]
    }
   ],
   "source": [
    "import pandas as pd\n",
    "\n",
    "# Mövcud DataFrame\n",
    "df = pd.DataFrame({\n",
    "    'Ad': ['Əli', 'Aygün', 'Vaqif', 'Günay'],\n",
    "    'Yaş': [25, 30, 35, 28],\n",
    "    'Şəhər': ['Bakı', 'Gəncə', 'Sumqayıt', 'Şəki']\n",
    "})\n",
    "\n",
    "# Yeni sütun əlavə edir\n",
    "df['Bal'] = [85, 90, 78, 92]\n",
    "print(\"\\nYeni sütun əlavə edilmiş DataFrame:\")\n",
    "print(df)\n",
    "\n",
    "# Yeni sətir əlavə edir (pd.concat ilə)\n",
    "new_row = pd.DataFrame([{'Ad': 'Murad', 'Yaş': 27, 'Şəhər': 'Lənkəran', 'Bal': 88}])\n",
    "df = pd.concat([df, new_row], ignore_index=True)\n",
    "\n",
    "print(\"\\nYeni sətir əlavə edilmiş DataFrame:\")\n",
    "print(df)"
   ]
  },
  {
   "cell_type": "code",
   "execution_count": 23,
   "id": "fee3dfdb-68bb-46b1-84b3-22c7a950dc8a",
   "metadata": {},
   "outputs": [
    {
     "name": "stdout",
     "output_type": "stream",
     "text": [
      "\n",
      "'Bal' sütunu silinmiş DataFrame:\n",
      "      Ad  Yaş     Şəhər\n",
      "0    Əli   25      Bakı\n",
      "1  Aygün   30     Gəncə\n",
      "2  Vaqif   35  Sumqayıt\n",
      "3  Günay   28      Şəki\n",
      "4  Murad   27  Lənkəran\n",
      "\n",
      "2-ci sətri silinmiş DataFrame:\n",
      "      Ad  Yaş     Şəhər\n",
      "0    Əli   25      Bakı\n",
      "1  Aygün   30     Gəncə\n",
      "3  Günay   28      Şəki\n",
      "4  Murad   27  Lənkəran\n"
     ]
    }
   ],
   "source": [
    "# 'Bal' sütununu silir\n",
    "df = df.drop('Bal', axis=1)\n",
    "print(\"\\n'Bal' sütunu silinmiş DataFrame:\")\n",
    "print(df)\n",
    "\n",
    "# 2-ci sətri silir\n",
    "df = df.drop(2, axis=0)\n",
    "print(\"\\n2-ci sətri silinmiş DataFrame:\")\n",
    "print(df)"
   ]
  },
  {
   "cell_type": "code",
   "execution_count": 24,
   "id": "046f961a-81cf-4b1f-bdb8-6d5398daad7c",
   "metadata": {},
   "outputs": [
    {
     "name": "stdout",
     "output_type": "stream",
     "text": [
      "\n",
      "Yaşa görə sıralanmış DataFrame:\n",
      "      Ad  Yaş     Şəhər\n",
      "0    Əli   25      Bakı\n",
      "4  Murad   27  Lənkəran\n",
      "3  Günay   28      Şəki\n",
      "1  Aygün   30     Gəncə\n",
      "\n",
      "İndeksə görə azalan sıralama:\n",
      "      Ad  Yaş     Şəhər\n",
      "4  Murad   27  Lənkəran\n",
      "3  Günay   28      Şəki\n",
      "1  Aygün   30     Gəncə\n",
      "0    Əli   25      Bakı\n"
     ]
    }
   ],
   "source": [
    "# Yaşa görə artan sıralama\n",
    "sorted_df = df.sort_values(by='Yaş')\n",
    "print(\"\\nYaşa görə sıralanmış DataFrame:\")\n",
    "print(sorted_df)\n",
    "\n",
    "# İndekslərə görə azalan sıralama\n",
    "sorted_index = df.sort_index(ascending=False)\n",
    "print(\"\\nİndeksə görə azalan sıralama:\")\n",
    "print(sorted_index)"
   ]
  },
  {
   "cell_type": "code",
   "execution_count": 25,
   "id": "f7ac7ca5-cc31-481e-8559-e545bba53af0",
   "metadata": {},
   "outputs": [
    {
     "name": "stdout",
     "output_type": "stream",
     "text": [
      "\n",
      "Dəyişdirilmiş Şəhər adları:\n",
      "      Ad  Yaş     Şəhər\n",
      "0    Əli   25      Baku\n",
      "1  Aygün   30     Gəncə\n",
      "3  Günay   28      Şəki\n",
      "4  Murad   27  Lənkəran\n",
      "\n",
      "Sütun adı dəyişdirilmiş DataFrame:\n",
      "      Ad  Age     Şəhər\n",
      "0    Əli   25      Baku\n",
      "1  Aygün   30     Gəncə\n",
      "3  Günay   28      Şəki\n",
      "4  Murad   27  Lənkəran\n"
     ]
    }
   ],
   "source": [
    "# Şəhər adlarını dəyişmək\n",
    "df['Şəhər'] = df['Şəhər'].replace({'Bakı': 'Baku'})\n",
    "print(\"\\nDəyişdirilmiş Şəhər adları:\")\n",
    "print(df)\n",
    "\n",
    "# Sütun adını dəyişmək\n",
    "df = df.rename(columns={'Yaş': 'Age'})\n",
    "print(\"\\nSütun adı dəyişdirilmiş DataFrame:\")\n",
    "print(df)"
   ]
  },
  {
   "cell_type": "code",
   "execution_count": 26,
   "id": "65379f66-18c8-475c-b6e5-8aad92cfa474",
   "metadata": {},
   "outputs": [
    {
     "name": "stdout",
     "output_type": "stream",
     "text": [
      "\n",
      "'Ad' indeks olaraq təyin edilmiş DataFrame:\n",
      "       Age     Şəhər\n",
      "Ad                  \n",
      "Əli     25      Baku\n",
      "Aygün   30     Gəncə\n",
      "Günay   28      Şəki\n",
      "Murad   27  Lənkəran\n",
      "\n",
      "İndeks sıfırlanmış DataFrame:\n",
      "      Ad  Age     Şəhər\n",
      "0    Əli   25      Baku\n",
      "1  Aygün   30     Gəncə\n",
      "2  Günay   28      Şəki\n",
      "3  Murad   27  Lənkəran\n"
     ]
    }
   ],
   "source": [
    "# 'Ad' sütununu indeks kimi təyin edir\n",
    "df = df.set_index('Ad')\n",
    "print(\"\\n'Ad' indeks olaraq təyin edilmiş DataFrame:\")\n",
    "print(df)\n",
    "\n",
    "# İndeksi sıfırlamaq\n",
    "df = df.reset_index()\n",
    "print(\"\\nİndeks sıfırlanmış DataFrame:\")\n",
    "print(df)"
   ]
  },
  {
   "cell_type": "code",
   "execution_count": 29,
   "id": "e26c0980-23df-46f2-bb0c-5cd18b234640",
   "metadata": {},
   "outputs": [
    {
     "name": "stdout",
     "output_type": "stream",
     "text": [
      "\n",
      "Dublikat əlavə edilmiş DataFrame:\n",
      "      Ad  Yaş     Şəhər\n",
      "0    Əli   25      Bakı\n",
      "1  Aygün   30     Gəncə\n",
      "2  Vaqif   35  Sumqayıt\n",
      "3  Günay   28      Şəki\n",
      "4    Əli   25      Bakı\n",
      "\n",
      "Dublikatlar:\n",
      "0    False\n",
      "1    False\n",
      "2    False\n",
      "3    False\n",
      "4     True\n",
      "dtype: bool\n",
      "\n",
      "Dublikatları silmiş DataFrame:\n",
      "      Ad  Yaş     Şəhər\n",
      "0    Əli   25      Bakı\n",
      "1  Aygün   30     Gəncə\n",
      "2  Vaqif   35  Sumqayıt\n",
      "3  Günay   28      Şəki\n"
     ]
    }
   ],
   "source": [
    "import pandas as pd\n",
    "\n",
    "# Nümunə DataFrame\n",
    "df = pd.DataFrame({\n",
    "    'Ad': ['Əli', 'Aygün', 'Vaqif', 'Günay'],\n",
    "    'Yaş': [25, 30, 35, 28],\n",
    "    'Şəhər': ['Bakı', 'Gəncə', 'Sumqayıt', 'Şəki']\n",
    "})\n",
    "\n",
    "# Dublikat sətir əlavə edir (pd.concat ilə)\n",
    "df = pd.concat([df, df.iloc[[0]]], ignore_index=True)\n",
    "print(\"\\nDublikat əlavə edilmiş DataFrame:\")\n",
    "print(df)\n",
    "\n",
    "# Dublikatları tapmaq\n",
    "print(\"\\nDublikatlar:\")\n",
    "print(df.duplicated())\n",
    "\n",
    "# Dublikatları silmək\n",
    "df = df.drop_duplicates()\n",
    "print(\"\\nDublikatları silmiş DataFrame:\")\n",
    "print(df)\n"
   ]
  },
  {
   "cell_type": "code",
   "execution_count": 30,
   "id": "c7815ff1-2dd2-4e01-919e-ccce921ccdc1",
   "metadata": {},
   "outputs": [
    {
     "name": "stdout",
     "output_type": "stream",
     "text": [
      "\n",
      "Böyük hərflərlə şəhər adları:\n",
      "      Ad  Yaş     Şəhər\n",
      "0    Əli   25      BAKI\n",
      "1  Aygün   30     GƏNCƏ\n",
      "2  Vaqif   35  SUMQAYIT\n",
      "3  Günay   28      ŞƏKI\n",
      "\n",
      "'BAKU' olan sətirlər:\n",
      "Empty DataFrame\n",
      "Columns: [Ad, Yaş, Şəhər]\n",
      "Index: []\n"
     ]
    }
   ],
   "source": [
    "# Bütün şəhər adlarını böyük hərflərə çevirir\n",
    "df['Şəhər'] = df['Şəhər'].str.upper()\n",
    "print(\"\\nBöyük hərflərlə şəhər adları:\")\n",
    "print(df)\n",
    "\n",
    "# Şəhər adında 'BAKU' olanları seçmək\n",
    "print(\"\\n'BAKU' olan sətirlər:\")\n",
    "print(df[df['Şəhər'].str.contains('BAKU')])"
   ]
  },
  {
   "cell_type": "code",
   "execution_count": 32,
   "id": "a592a89d-4a17-425f-9315-5359d5af909d",
   "metadata": {},
   "outputs": [
    {
     "name": "stdout",
     "output_type": "stream",
     "text": [
      "\n",
      "apply ilə kateqoriya əlavə edilmiş DataFrame:\n",
      "      Ad  Yaş     Şəhər Kateqoriya\n",
      "0    Əli   25      BAKI       Gənc\n",
      "1  Aygün   30     GƏNCƏ     Yetkin\n",
      "2  Vaqif   35  SUMQAYIT     Yetkin\n",
      "3  Günay   28      ŞƏKI       Gənc\n"
     ]
    }
   ],
   "source": [
    "# Yaşa görə kateqoriya yaratmaq\n",
    "def kateqoriya(yas):\n",
    "    if yas < 30:\n",
    "        return \"Gənc\"\n",
    "    else:\n",
    "        return \"Yetkin\"\n",
    "\n",
    "df['Kateqoriya'] = df['Yaş'].apply(kateqoriya)\n",
    "print(\"\\napply ilə kateqoriya əlavə edilmiş DataFrame:\")\n",
    "print(df)\n"
   ]
  },
  {
   "cell_type": "code",
   "execution_count": 33,
   "id": "27404b55-edec-4487-a1ec-40a9d15807b3",
   "metadata": {
    "scrolled": true
   },
   "outputs": [
    {
     "name": "stdout",
     "output_type": "stream",
     "text": [
      "\n",
      "DataFrame 'output.csv' faylına yazıldı\n",
      "\n",
      "CSV-dən oxunan DataFrame:\n",
      "      Ad  Yaş     Şəhər Kateqoriya\n",
      "0    Əli   25      BAKI       Gənc\n",
      "1  Aygün   30     GƏNCƏ     Yetkin\n",
      "2  Vaqif   35  SUMQAYIT     Yetkin\n",
      "3  Günay   28      ŞƏKI       Gənc\n"
     ]
    }
   ],
   "source": [
    "# DataFrame-i CSV faylına yazır\n",
    "df.to_csv('output.csv', index=False)\n",
    "print(\"\\nDataFrame 'output.csv' faylına yazıldı\")\n",
    "\n",
    "# CSV faylını oxuyur\n",
    "new_df = pd.read_csv('output.csv')\n",
    "print(\"\\nCSV-dən oxunan DataFrame:\")\n",
    "print(new_df)\n"
   ]
  },
  {
   "cell_type": "code",
   "execution_count": 34,
   "id": "630f629e-ebae-4186-8a59-807b85dfb3ad",
   "metadata": {},
   "outputs": [
    {
     "name": "stdout",
     "output_type": "stream",
     "text": [
      "\n",
      "Boş dəyər əlavə edilmiş DataFrame:\n",
      "      Ad  Yaş     Şəhər Kateqoriya   Age\n",
      "0    Əli   25      BAKI       Gənc   NaN\n",
      "1  Aygün   30     GƏNCƏ     Yetkin  None\n",
      "2  Vaqif   35  SUMQAYIT     Yetkin   NaN\n",
      "3  Günay   28      ŞƏKI       Gənc   NaN\n",
      "\n",
      "Boş dəyərlər silinmiş DataFrame:\n",
      "Empty DataFrame\n",
      "Columns: [Ad, Yaş, Şəhər, Kateqoriya, Age]\n",
      "Index: []\n"
     ]
    }
   ],
   "source": [
    "# Boş dəyərləri silir\n",
    "df_with_nan = df.copy()\n",
    "df_with_nan.loc[1, 'Age'] = None  # Boş dəyər əlavə edək\n",
    "print(\"\\nBoş dəyər əlavə edilmiş DataFrame:\")\n",
    "print(df_with_nan)\n",
    "\n",
    "cleaned_df = df_with_nan.dropna()\n",
    "print(\"\\nBoş dəyərlər silinmiş DataFrame:\")\n",
    "print(cleaned_df)"
   ]
  },
  {
   "cell_type": "markdown",
   "id": "c197dece-b3e5-4e91-b9ed-415d9826187a",
   "metadata": {},
   "source": [
    "# Python Basics\n"
   ]
  },
  {
   "cell_type": "markdown",
   "id": "4269e894-8c55-4a5e-bac3-b6d45bc362cf",
   "metadata": {},
   "source": [
    "### 1.1 Dəyişənlər və Operatorlar"
   ]
  },
  {
   "cell_type": "markdown",
   "id": "9730e764-045c-46fc-ac45-2d011b919c4b",
   "metadata": {},
   "source": [
    "## Əsas dəyişən tipləri"
   ]
  },
  {
   "cell_type": "code",
   "execution_count": 4,
   "id": "d1dfc29d-8275-43fb-96f9-d0f4f04f3def",
   "metadata": {},
   "outputs": [],
   "source": [
    "tam_ədəd = 42                  # int\n",
    "kəsr_ədəd = 3.14               # float\n",
    "mətn = \"Salam, Dünya!\"         # str\n",
    "məntiqi = True                 # bool\n",
    "heç_nə = None                  # NoneType"
   ]
  },
  {
   "cell_type": "markdown",
   "id": "0fd549d5-b6c8-4c7f-965c-2c3c620a4297",
   "metadata": {},
   "source": [
    "### Çoxsətirli mətn"
   ]
  },
  {
   "cell_type": "code",
   "execution_count": 5,
   "id": "d9baf78d-3cff-4edb-97fa-8222d2b85fb1",
   "metadata": {},
   "outputs": [],
   "source": [
    "çoxsətirli = \"\"\"\n",
    "Bu çoxsətirli\n",
    "mətn nümunəsidir.\n",
    "\"\"\""
   ]
  },
  {
   "cell_type": "code",
   "execution_count": 7,
   "id": "b02a8058-f83e-4aef-b27f-c89a3788db6d",
   "metadata": {},
   "outputs": [
    {
     "name": "stdout",
     "output_type": "stream",
     "text": [
      "\n",
      "Bu çoxsətirli\n",
      "mətn nümunəsidir.\n",
      "\n"
     ]
    }
   ],
   "source": [
    "print(çoxsətirli)"
   ]
  },
  {
   "cell_type": "code",
   "execution_count": 8,
   "id": "d0eeb960-34e3-404c-a5d9-cfe8ff021468",
   "metadata": {},
   "outputs": [
    {
     "data": {
      "text/plain": [
       "'\\nBu çoxsətirli\\nmətn nümunəsidir.\\n'"
      ]
     },
     "execution_count": 8,
     "metadata": {},
     "output_type": "execute_result"
    }
   ],
   "source": [
    "çoxsətirli"
   ]
  },
  {
   "cell_type": "markdown",
   "id": "1e5b7008-1802-4f0e-9539-7ff57983c690",
   "metadata": {},
   "source": [
    "## Dinamik tip dəyişmə"
   ]
  },
  {
   "cell_type": "code",
   "execution_count": 10,
   "id": "7abb23c3-4f96-4882-a6c6-0be21b008929",
   "metadata": {},
   "outputs": [
    {
     "name": "stdout",
     "output_type": "stream",
     "text": [
      "<class 'int'>\n",
      "<class 'str'>\n"
     ]
    }
   ],
   "source": [
    "dəyişən = 10\n",
    "print(type(dəyişən))  # <class 'int'>\n",
    "dəyişən = \"on\"\n",
    "print(type(dəyişən))  # <class 'str'>\n"
   ]
  },
  {
   "cell_type": "markdown",
   "id": "dd279e52-0f3d-4083-b333-7cb745070304",
   "metadata": {},
   "source": [
    "## Operatorlar nümunələri"
   ]
  },
  {
   "cell_type": "code",
   "execution_count": 11,
   "id": "130ce578-1f1e-4c1a-b99a-1599b18c4638",
   "metadata": {},
   "outputs": [
    {
     "name": "stdout",
     "output_type": "stream",
     "text": [
      "Toplama: 13\n",
      "Çıxma: 7\n",
      "Vurma: 30\n",
      "Bölmə: 3.3333333333333335\n",
      "Tam bölmə: 3\n",
      "Qalıq: 1\n",
      "Üst: 1000\n"
     ]
    }
   ],
   "source": [
    "a, b = 10, 3\n",
    "\n",
    "print(\"Toplama:\", a + b)       # 13\n",
    "print(\"Çıxma:\", a - b)         # 7\n",
    "print(\"Vurma:\", a * b)         # 30\n",
    "print(\"Bölmə:\", a / b)         # 3.333...\n",
    "print(\"Tam bölmə:\", a // b)    # 3\n",
    "print(\"Qalıq:\", a % b)         # 1\n",
    "print(\"Üst:\", a ** b)          # 1000\n"
   ]
  },
  {
   "cell_type": "markdown",
   "id": "ce16e70a-27fb-427a-94c1-d5d84ccc932a",
   "metadata": {},
   "source": [
    "## Müqayisə operatorları"
   ]
  },
  {
   "cell_type": "code",
   "execution_count": 12,
   "id": "08d84c3a-5365-4b50-a819-7e4485ce0edd",
   "metadata": {},
   "outputs": [
    {
     "name": "stdout",
     "output_type": "stream",
     "text": [
      "a > b: True\n",
      "a == b: False\n",
      "a != b: True\n"
     ]
    }
   ],
   "source": [
    "print(\"a > b:\", a > b)         # True\n",
    "print(\"a == b:\", a == b)       # False\n",
    "print(\"a != b:\", a != b)       # True"
   ]
  },
  {
   "cell_type": "markdown",
   "id": "455de733-d5ec-427e-96eb-37e5fb0cd2ff",
   "metadata": {},
   "source": [
    "## Məntiqi operatorlar"
   ]
  },
  {
   "cell_type": "code",
   "execution_count": 13,
   "id": "d0b87126-6799-40bc-871f-dbbaddcb877b",
   "metadata": {},
   "outputs": [
    {
     "name": "stdout",
     "output_type": "stream",
     "text": [
      "AND: False\n",
      "OR: True\n",
      "NOT: False\n"
     ]
    }
   ],
   "source": [
    "print(\"AND:\", True and False)  # False\n",
    "print(\"OR:\", True or False)    # True\n",
    "print(\"NOT:\", not True)        # False\n"
   ]
  },
  {
   "cell_type": "markdown",
   "id": "923910ac-c097-4663-b4c5-bc9dde9d1e26",
   "metadata": {},
   "source": [
    "# 1.2 Şərt İfadələri"
   ]
  },
  {
   "cell_type": "code",
   "execution_count": 15,
   "id": "ec3f1aa3-1ad0-43dc-b766-059c9dd2226e",
   "metadata": {},
   "outputs": [
    {
     "name": "stdout",
     "output_type": "stream",
     "text": [
      "Yaxşı!\n"
     ]
    }
   ],
   "source": [
    "bal = 85\n",
    "#burda her zaman indentention gozlenmelidir yeni : den sonra asagi setirde bir tab ve ya 4 bosluq\n",
    "if bal >= 90:\n",
    "    print(\"Əla!\")\n",
    "elif bal >= 70:\n",
    "    print(\"Yaxşı!\")\n",
    "elif bal >= 50:\n",
    "    print(\"Qənaətbəxş\")\n",
    "else:\n",
    "    print(\"Kəsildiniz\")"
   ]
  },
  {
   "cell_type": "markdown",
   "id": "25f4fdfa-dcc3-4428-9cf9-ef427e272abf",
   "metadata": {},
   "source": [
    "### İç-içə şərtlər"
   ]
  },
  {
   "cell_type": "code",
   "execution_count": 3,
   "id": "47c245f6-498e-4328-9cb7-845f784d3eae",
   "metadata": {},
   "outputs": [
    {
     "name": "stdout",
     "output_type": "stream",
     "text": [
      "İş üçün uyğunsunuz\n"
     ]
    }
   ],
   "source": [
    "yaş = 20\n",
    "təhsil = \"ali\"\n",
    "\n",
    "if yaş >= 18:\n",
    "    if təhsil == \"ali\":\n",
    "        print(\"İş üçün uyğunsunuz\")\n",
    "    else:\n",
    "        print(\"Təhsil şərtinə uyğun deyilsiniz\")\n",
    "else:\n",
    "    print(\"Yaş şərtinə uyğun deyilsiniz\")"
   ]
  },
  {
   "cell_type": "code",
   "execution_count": 18,
   "id": "86a45b77-9097-4a16-9107-cd96d8348eef",
   "metadata": {},
   "outputs": [
    {
     "name": "stdout",
     "output_type": "stream",
     "text": [
      "Kiçik olan: 10\n"
     ]
    }
   ],
   "source": [
    "# İki ədəd təyin edir\n",
    "x = 10\n",
    "y = 20\n",
    "\n",
    "# x və y arasından kiçik olanı seçir\n",
    "# Əgər x < y-dirsə, kiçik = x olacaq, əks halda kiçik = y olacaq\n",
    "kiçik = x if x < y else y\n",
    "\n",
    "# Nəticəni çap edir\n",
    "print(\"Kiçik olan:\", kiçik)"
   ]
  },
  {
   "cell_type": "markdown",
   "id": "96e5c1a6-8bdd-4950-bdbc-3a587af8649b",
   "metadata": {},
   "source": [
    "# 1.3 Dövrlər"
   ]
  },
  {
   "cell_type": "code",
   "execution_count": 20,
   "id": "8901681e-1f18-4bb4-a9a8-eeffbd363bc7",
   "metadata": {},
   "outputs": [
    {
     "name": "stdout",
     "output_type": "stream",
     "text": [
      "0-dan 4-ə qədər:\n",
      "0 1 2 3 4 "
     ]
    }
   ],
   "source": [
    "# Ekrana \"0-dan 4-ə qədər:\" yazdırır\n",
    "print(\"0-dan 4-ə qədər:\")\n",
    "\n",
    "# 0-dan başlayaraq 4-ə qədər (5 daxil deyil) ədədləri çap edir\n",
    "for i in range(5):\n",
    "    # i dəyərini boşluqla ayıraraq çap edir (new line olmadan)\n",
    "    print(i, end=' ')\n"
   ]
  },
  {
   "cell_type": "code",
   "execution_count": 21,
   "id": "e68baa59-0860-4b73-b680-1100b04d38ea",
   "metadata": {},
   "outputs": [
    {
     "name": "stdout",
     "output_type": "stream",
     "text": [
      "\n",
      "\n",
      "5-dən 9-a qədər:\n",
      "5 6 7 8 9 "
     ]
    }
   ],
   "source": [
    "print(\"\\n\\n5-dən 9-a qədər:\")\n",
    "for i in range(5, 10):\n",
    "    print(i, end=' ')\n"
   ]
  },
  {
   "cell_type": "code",
   "execution_count": 22,
   "id": "8141e087-df95-4a93-b9b6-185d73c52c9b",
   "metadata": {},
   "outputs": [
    {
     "name": "stdout",
     "output_type": "stream",
     "text": [
      "\n",
      "\n",
      "0-dan 10-a qədər 2 addım:\n",
      "0 2 4 6 8 10 "
     ]
    }
   ],
   "source": [
    "print(\"\\n\\n0-dan 10-a qədər 2 addım:\")\n",
    "for i in range(0, 11, 2):\n",
    "    print(i, end=' ')"
   ]
  },
  {
   "cell_type": "code",
   "execution_count": 23,
   "id": "2f64ed9c-6a66-4ae0-b706-33fd18210596",
   "metadata": {},
   "outputs": [
    {
     "name": "stdout",
     "output_type": "stream",
     "text": [
      "\n",
      "\n",
      "Meyvələr siyahısı:\n",
      "Alma\n",
      "Armud\n",
      "Banan\n",
      "Nar\n"
     ]
    }
   ],
   "source": [
    "meyvələr = [\"alma\", \"armud\", \"banan\", \"nar\"]\n",
    "print(\"\\n\\nMeyvələr siyahısı:\")\n",
    "for meyvə in meyvələr:\n",
    "    print(meyvə.title())"
   ]
  },
  {
   "cell_type": "code",
   "execution_count": 24,
   "id": "18f13909-8cbd-4963-95f1-50dc1fde34b9",
   "metadata": {},
   "outputs": [
    {
     "name": "stdout",
     "output_type": "stream",
     "text": [
      "\n",
      "Meyvələr və indekslər:\n",
      "0: alma\n",
      "1: armud\n",
      "2: banan\n",
      "3: nar\n"
     ]
    }
   ],
   "source": [
    "# İndeks və dəyərlə birlikdə\n",
    "print(\"\\nMeyvələr və indekslər:\")\n",
    "for indeks, meyvə in enumerate(meyvələr):\n",
    "    print(f\"{indeks}: {meyvə}\")"
   ]
  },
  {
   "cell_type": "markdown",
   "id": "beaf4d57-c902-4006-a6e6-5b483519128b",
   "metadata": {},
   "source": [
    "## While dövrü nümunələri"
   ]
  },
  {
   "cell_type": "code",
   "execution_count": 25,
   "id": "7e99c923-42bf-4dc6-acfb-ecdf8f54a5b2",
   "metadata": {},
   "outputs": [
    {
     "name": "stdout",
     "output_type": "stream",
     "text": [
      "\n",
      "While dövrü:\n",
      "0 1 2 3 4 "
     ]
    }
   ],
   "source": [
    "# say dəyişənini 0 olaraq təyin edir\n",
    "say = 0\n",
    "\n",
    "# Başlıq olaraq \"While dövrü:\" yazdırır\n",
    "print(\"\\nWhile dövrü:\")\n",
    "\n",
    "# say 5-dən kiçik olduğu müddətcə dövrü işləyir\n",
    "while say < 5:\n",
    "    # say dəyişəninin cari dəyərini boşluqla ayrılmış şəkildə çap edir\n",
    "    print(say, end=' ')\n",
    "    # say dəyişəninin dəyərini 1 artırır\n",
    "    say += 1"
   ]
  },
  {
   "cell_type": "code",
   "execution_count": 26,
   "id": "ff06de93-8227-4d70-aff1-d3fb118b76dc",
   "metadata": {},
   "outputs": [
    {
     "name": "stdout",
     "output_type": "stream",
     "text": [
      "\n",
      "\n",
      "Break nümunəsi:\n",
      "0 1 2 3 4 "
     ]
    }
   ],
   "source": [
    "# break və continue\n",
    "print(\"\\n\\nBreak nümunəsi:\")\n",
    "say = 0\n",
    "while True:\n",
    "    print(say, end=' ')\n",
    "    say += 1\n",
    "    if say >= 5:\n",
    "        break\n"
   ]
  },
  {
   "cell_type": "code",
   "execution_count": 27,
   "id": "b7567dda-87b3-4a26-a3df-996ff852cf1c",
   "metadata": {},
   "outputs": [
    {
     "name": "stdout",
     "output_type": "stream",
     "text": [
      "\n",
      "\n",
      "Continue nümunəsi:\n",
      "1 3 5 7 9 "
     ]
    }
   ],
   "source": [
    "#continue amriyle biz bir nov bundan kec ve davam et deyirik\n",
    "print(\"\\n\\nContinue nümunəsi:\")\n",
    "say = 0\n",
    "while say < 10:\n",
    "    say += 1\n",
    "    if say % 2 == 0:\n",
    "        continue\n",
    "    print(say, end=' ')"
   ]
  },
  {
   "cell_type": "markdown",
   "id": "3d5b610d-b92c-48b4-9954-59dc0b7df1d2",
   "metadata": {},
   "source": [
    "## 2.1 Listlər"
   ]
  },
  {
   "cell_type": "code",
   "execution_count": 29,
   "id": "bffba610-e076-4c48-a031-771c6f4321d0",
   "metadata": {},
   "outputs": [
    {
     "name": "stdout",
     "output_type": "stream",
     "text": [
      "Rəqəmlər: [1, 2, 3, 4, 5]\n",
      "Qarışıq list: [1, 'iki', 3.0, True]\n",
      "Range-dən list: [0, 1, 2, 3, 4, 5, 6, 7, 8, 9]\n",
      "String-dən list: ['P', 'y', 't', 'h', 'o', 'n']\n"
     ]
    }
   ],
   "source": [
    "boş_list = []\n",
    "rəqəmlər = [1, 2, 3, 4, 5]\n",
    "qarışıq = [1, \"iki\", 3.0, True]\n",
    "list_from_range = list(range(10))\n",
    "list_from_string = list(\"Python\")\n",
    "\n",
    "print(\"Rəqəmlər:\", rəqəmlər)\n",
    "print(\"Qarışıq list:\", qarışıq)\n",
    "print(\"Range-dən list:\", list_from_range)\n",
    "print(\"String-dən list:\", list_from_string)"
   ]
  },
  {
   "cell_type": "code",
   "execution_count": 30,
   "id": "1faf9000-c38e-4a84-8bd5-3a0a792fcbcf",
   "metadata": {},
   "outputs": [],
   "source": [
    "my_list = [1, 2, 3, 4, 5]"
   ]
  },
  {
   "cell_type": "code",
   "execution_count": 31,
   "id": "31d6ab2d-880d-4682-81eb-78df8bed8426",
   "metadata": {},
   "outputs": [
    {
     "name": "stdout",
     "output_type": "stream",
     "text": [
      "İlk element: 1\n",
      "Son element: 5\n",
      "Slice 1-3: [2, 3]\n",
      "Slice başdan: [1, 2, 3]\n",
      "Slice sona: [4, 5]\n",
      "Addımlı slice: [1, 3, 5]\n"
     ]
    }
   ],
   "source": [
    "print(\"İlk element:\", my_list[0])       # 1\n",
    "print(\"Son element:\", my_list[-1])      # 5\n",
    "print(\"Slice 1-3:\", my_list[1:3])      # [2, 3]\n",
    "print(\"Slice başdan:\", my_list[:3])     # [1, 2, 3]\n",
    "print(\"Slice sona:\", my_list[3:])       # [4, 5]\n",
    "print(\"Addımlı slice:\", my_list[::2])   # [1, 3, 5]\n"
   ]
  },
  {
   "cell_type": "code",
   "execution_count": 32,
   "id": "d6ca20d6-9801-4776-bc3a-3d3cc8b8ae94",
   "metadata": {},
   "outputs": [],
   "source": [
    "meyvələr = [\"alma\", \"banan\"]\n"
   ]
  },
  {
   "cell_type": "code",
   "execution_count": 33,
   "id": "6149a008-b303-4dac-afb6-9839cb43863c",
   "metadata": {},
   "outputs": [
    {
     "name": "stdout",
     "output_type": "stream",
     "text": [
      "Əlavədən sonra: ['alma', 'armud', 'banan', 'nar']\n"
     ]
    }
   ],
   "source": [
    "meyvələr.append(\"nar\")         # Sonuna əlavə\n",
    "meyvələr.insert(1, \"armud\")    # Müəyyən yerə\n",
    "print(\"Əlavədən sonra:\", meyvələr)\n"
   ]
  },
  {
   "cell_type": "code",
   "execution_count": 34,
   "id": "c000c726-ce1c-4418-a543-4a314d9a1772",
   "metadata": {},
   "outputs": [
    {
     "name": "stdout",
     "output_type": "stream",
     "text": [
      "Çıxarılan: armud, Qalan: ['alma', 'banan', 'nar']\n",
      "Silmədən sonra: ['alma', 'nar']\n"
     ]
    }
   ],
   "source": [
    "# Silmə\n",
    "çıxarılan = meyvələr.pop(1)    # İndekslə sil\n",
    "print(f\"Çıxarılan: {çıxarılan}, Qalan: {meyvələr}\")\n",
    "meyvələr.remove(\"banan\")       # Dəyərlə sil\n",
    "print(\"Silmədən sonra:\", meyvələr)\n"
   ]
  },
  {
   "cell_type": "code",
   "execution_count": 35,
   "id": "313b3cbc-6877-457a-9451-0a50b45fe122",
   "metadata": {},
   "outputs": [
    {
     "name": "stdout",
     "output_type": "stream",
     "text": [
      "Çeşidlənmiş: [1, 2, 3, 4]\n",
      "Tərs: [4, 3, 2, 1]\n"
     ]
    }
   ],
   "source": [
    "# Digər əməliyyatlar\n",
    "rəqəmlər = [3, 1, 4, 2]\n",
    "rəqəmlər.sort()                # Çeşidləmə\n",
    "print(\"Çeşidlənmiş:\", rəqəmlər)\n",
    "rəqəmlər.reverse()             # Tərsinə çevirmə\n",
    "print(\"Tərs:\", rəqəmlər)\n"
   ]
  },
  {
   "cell_type": "markdown",
   "id": "f923621d-0500-49b8-a94d-493ae43eb9d3",
   "metadata": {},
   "source": [
    "## List anlayışları (List Comprehensions)"
   ]
  },
  {
   "cell_type": "code",
   "execution_count": 38,
   "id": "17014d0c-b1dc-4cc2-804d-bf83e8399c22",
   "metadata": {},
   "outputs": [
    {
     "name": "stdout",
     "output_type": "stream",
     "text": [
      "[0, 1, 4, 9, 16, 25, 36, 49, 64, 81]\n"
     ]
    }
   ],
   "source": [
    "kvadratlar = []\n",
    "for x in range(10):\n",
    "    kvadratlar.append(x**2)\n",
    "print(kvadratlar)"
   ]
  },
  {
   "cell_type": "code",
   "execution_count": 37,
   "id": "387867eb-15b1-4fc8-bb17-9a479ccc8c87",
   "metadata": {},
   "outputs": [
    {
     "name": "stdout",
     "output_type": "stream",
     "text": [
      "Kvadratlar: [0, 1, 4, 9, 16, 25, 36, 49, 64, 81]\n"
     ]
    }
   ],
   "source": [
    "kvadratlar = [x**2 for x in range(10)]\n",
    "print(\"Kvadratlar:\", kvadratlar)"
   ]
  },
  {
   "cell_type": "code",
   "execution_count": 39,
   "id": "614f62c0-c28e-4f1b-a81a-8985787dc165",
   "metadata": {},
   "outputs": [
    {
     "name": "stdout",
     "output_type": "stream",
     "text": [
      "Cüt ədədlər: [0, 2, 4, 6, 8, 10, 12, 14, 16, 18]\n"
     ]
    }
   ],
   "source": [
    "cüt_ədədlər = [x for x in range(20) if x % 2 == 0]\n",
    "print(\"Cüt ədədlər:\", cüt_ədədlər)\n"
   ]
  },
  {
   "cell_type": "code",
   "execution_count": 40,
   "id": "e414dd9d-ee59-4b1b-9c77-5d0d6d9c6ba1",
   "metadata": {},
   "outputs": [
    {
     "name": "stdout",
     "output_type": "stream",
     "text": [
      "Nəticələr: ['çox yaxşı', 'yaxşı', 'kafi']\n"
     ]
    }
   ],
   "source": [
    "nəticələr = [\"çox yaxşı\" if x > 85 else \"yaxşı\" if x > 70 else \"kafi\" for x in [90, 75, 60]]\n",
    "print(\"Nəticələr:\", nəticələr)\n"
   ]
  },
  {
   "cell_type": "code",
   "execution_count": 41,
   "id": "ec4c56ee-5771-42d6-a475-bc96af83bbf0",
   "metadata": {},
   "outputs": [
    {
     "name": "stdout",
     "output_type": "stream",
     "text": [
      "Tam lüğət: {'ad': 'Əli', 'yaş': 20, 'ixtisas': 'İnformatika', 'fənnlər': ['Proqramlaşdırma', 'Verilənlər Bazası']}\n",
      "Ad: Əli\n",
      "İlk fənn: Proqramlaşdırma\n"
     ]
    }
   ],
   "source": [
    "boş_lüğət = {}\n",
    "şagird = {\n",
    "    \"ad\": \"Əli\",\n",
    "    \"yaş\": 20,\n",
    "    \"ixtisas\": \"İnformatika\",\n",
    "    \"fənnlər\": [\"Proqramlaşdırma\", \"Verilənlər Bazası\"]\n",
    "}\n",
    "\n",
    "print(\"Tam lüğət:\", şagird)\n",
    "print(\"Ad:\", şagird[\"ad\"])\n",
    "print(\"İlk fənn:\", şagird[\"fənnlər\"][0])"
   ]
  },
  {
   "cell_type": "code",
   "execution_count": 42,
   "id": "0c76b9b9-46ba-4e9e-bfef-47d3e2b1b752",
   "metadata": {},
   "outputs": [
    {
     "name": "stdout",
     "output_type": "stream",
     "text": [
      "Açarlar: dict_keys(['ad', 'yaş', 'ixtisas', 'fənnlər'])\n",
      "Dəyərlər: dict_values(['Əli', 20, 'İnformatika', ['Proqramlaşdırma', 'Verilənlər Bazası']])\n",
      "Cütlər: dict_items([('ad', 'Əli'), ('yaş', 20), ('ixtisas', 'İnformatika'), ('fənnlər', ['Proqramlaşdırma', 'Verilənlər Bazası'])])\n"
     ]
    }
   ],
   "source": [
    "print(\"Açarlar:\", şagird.keys())\n",
    "print(\"Dəyərlər:\", şagird.values())\n",
    "print(\"Cütlər:\", şagird.items())\n"
   ]
  },
  {
   "cell_type": "code",
   "execution_count": 43,
   "id": "994ad1a7-f08e-4908-990c-1402e25e270f",
   "metadata": {},
   "outputs": [
    {
     "name": "stdout",
     "output_type": "stream",
     "text": [
      "\n",
      "Əlavədən sonra: {'ad': 'Əli', 'yaş': 20, 'ixtisas': 'İnformatika', 'fənnlər': ['Proqramlaşdırma', 'Verilənlər Bazası'], 'universitet': 'BDU'}\n"
     ]
    }
   ],
   "source": [
    "şagird[\"universitet\"] = \"BDU\"\n",
    "print(\"\\nƏlavədən sonra:\", şagird)"
   ]
  },
  {
   "cell_type": "code",
   "execution_count": 44,
   "id": "d2fc557d-8dfe-4c02-ac0c-ce62fd072680",
   "metadata": {},
   "outputs": [
    {
     "name": "stdout",
     "output_type": "stream",
     "text": [
      "Silinən: 20, Qalan: {'ad': 'Əli', 'ixtisas': 'İnformatika', 'fənnlər': ['Proqramlaşdırma', 'Verilənlər Bazası'], 'universitet': 'BDU'}\n"
     ]
    }
   ],
   "source": [
    "silinən = şagird.pop(\"yaş\")\n",
    "print(f\"Silinən: {silinən}, Qalan: {şagird}\")"
   ]
  },
  {
   "cell_type": "code",
   "execution_count": 45,
   "id": "56711191-d6c6-4906-bf64-8ce83cf90d1f",
   "metadata": {},
   "outputs": [
    {
     "name": "stdout",
     "output_type": "stream",
     "text": [
      "Kvadrat lüğəti: {1: 1, 2: 4, 3: 9, 4: 16, 5: 25}\n"
     ]
    }
   ],
   "source": [
    "# Ədədlər siyahısı yaradır\n",
    "ədədlər = [1, 2, 3, 4, 5]\n",
    "\n",
    "# Siyahıdakı hər ədədin kvadratını açar-dəyər cütlüyü kimi saxlayan lüğət (dictionary) yaradır\n",
    "kvadrat_lüğəti = {x: x**2 for x in ədədlər}\n",
    "\n",
    "# Nəticədə yaranan kvadrat lüğətini çap edir\n",
    "print(\"Kvadrat lüğəti:\", kvadrat_lüğəti)"
   ]
  },
  {
   "cell_type": "code",
   "execution_count": 46,
   "id": "af5bd957-d118-472d-b972-9c62ca027bcb",
   "metadata": {},
   "outputs": [
    {
     "name": "stdout",
     "output_type": "stream",
     "text": [
      "Cüt kvadratlar: {2: 4, 4: 16}\n"
     ]
    }
   ],
   "source": [
    "# kvadrat_lüğəti lüğətində olan cüt kvadrat dəyərləri seçib yeni lüğət yaradır\n",
    "# yəni, kvadratın 2-yə bölünəndən 0 qalığı varsa, onu saxlayır\n",
    "cüt_lüğət = {k: v for k, v in kvadrat_lüğəti.items() if v % 2 == 0}\n",
    "\n",
    "# Nəticədə yaranan cüt kvadratlar lüğətini çap edir\n",
    "print(\"Cüt kvadratlar:\", cüt_lüğət)\n"
   ]
  },
  {
   "cell_type": "code",
   "execution_count": 47,
   "id": "8f9a07e1-4479-40da-a999-5f5f27700793",
   "metadata": {},
   "outputs": [
    {
     "name": "stdout",
     "output_type": "stream",
     "text": [
      "Çoxluq: {1, 2, 3, 4}\n"
     ]
    }
   ],
   "source": [
    "çoxluq = {1, 2, 3, 3, 4, 4}\n",
    "print(\"Çoxluq:\", çoxluq)  # {1, 2, 3, 4}\n"
   ]
  },
  {
   "cell_type": "code",
   "execution_count": 48,
   "id": "e397398e-e08d-4957-aa9c-b554585d2930",
   "metadata": {},
   "outputs": [
    {
     "name": "stdout",
     "output_type": "stream",
     "text": [
      "Birləşmə: {1, 2, 3, 4, 5, 6}\n",
      "Kəsişmə: {3, 4}\n",
      "Fərq (A-B): {1, 2}\n",
      "Simmetrik fərq: {1, 2, 5, 6}\n"
     ]
    }
   ],
   "source": [
    "A = {1, 2, 3, 4}\n",
    "B = {3, 4, 5, 6}\n",
    "\n",
    "print(\"Birləşmə:\", A.union(B))            # {1, 2, 3, 4, 5, 6}\n",
    "print(\"Kəsişmə:\", A.intersection(B))      # {3, 4}\n",
    "print(\"Fərq (A-B):\", A.difference(B))     # {1, 2}\n",
    "print(\"Simmetrik fərq:\", A.symmetric_difference(B))  # {1, 2, 5, 6}\n"
   ]
  },
  {
   "cell_type": "code",
   "execution_count": 49,
   "id": "498cc1af-7972-42d6-9f41-6948cbddd20b",
   "metadata": {},
   "outputs": [
    {
     "name": "stdout",
     "output_type": "stream",
     "text": [
      "Tuple: (40.4093, 49.8671)\n",
      "Enlik: 40.4093\n",
      "Uzunluq: 49.8671\n"
     ]
    }
   ],
   "source": [
    "koordinat = (40.4093, 49.8671)  # Bakı koordinatları\n",
    "print(\"Tuple:\", koordinat)\n",
    "print(\"Enlik:\", koordinat[0])\n",
    "print(\"Uzunluq:\", koordinat[1])"
   ]
  },
  {
   "cell_type": "code",
   "execution_count": 50,
   "id": "32cab5db-cf9e-4ed5-9a95-b0ac5dcb27c1",
   "metadata": {},
   "outputs": [
    {
     "name": "stdout",
     "output_type": "stream",
     "text": [
      "Enlik: 40.4093, Uzunluq: 49.8671\n"
     ]
    }
   ],
   "source": [
    "enlik, uzunluq = koordinat\n",
    "print(f\"Enlik: {enlik}, Uzunluq: {uzunluq}\")\n"
   ]
  },
  {
   "cell_type": "code",
   "execution_count": 51,
   "id": "627b337b-dab4-48d0-a8fa-2b34e6985938",
   "metadata": {},
   "outputs": [
    {
     "name": "stdout",
     "output_type": "stream",
     "text": [
      "5-in kvadratı: 25\n"
     ]
    }
   ],
   "source": [
    "def kvadrat(x):\n",
    "    \"\"\"Verilən ədədin kvadratını qaytarır\"\"\"\n",
    "    return x ** 2\n",
    "\n",
    "print(\"5-in kvadratı:\", kvadrat(5))"
   ]
  },
  {
   "cell_type": "code",
   "execution_count": 52,
   "id": "e1403dfd-4c3f-4532-b42c-322ad3c8733f",
   "metadata": {},
   "outputs": [],
   "source": [
    "def ünvan_yarat(ad, şəhər=\"Bakı\", ölkə=\"Azərbaycan\"):\n",
    "    \"\"\"Ünvan yaradır\"\"\"\n",
    "    return f\"{ad}, {şəhər}, {ölkə}\"\n"
   ]
  },
  {
   "cell_type": "code",
   "execution_count": 53,
   "id": "474a4a17-1c4a-41da-8b74-ba1073125f65",
   "metadata": {},
   "outputs": [
    {
     "name": "stdout",
     "output_type": "stream",
     "text": [
      "Əli, Bakı, Azərbaycan\n",
      "Aygün, Gəncə, Azərbaycan\n",
      "John, London, İngiltərə\n"
     ]
    }
   ],
   "source": [
    "print(ünvan_yarat(\"Əli\"))\n",
    "print(ünvan_yarat(\"Aygün\", \"Gəncə\"))\n",
    "print(ünvan_yarat(\"John\", \"London\", \"İngiltərə\"))\n"
   ]
  },
  {
   "cell_type": "code",
   "execution_count": 54,
   "id": "719d73a6-e5e7-42d7-a869-ce0fe57b4205",
   "metadata": {},
   "outputs": [],
   "source": [
    "def cəmi_hesabla(*rəqəmlər):\n",
    "    \"\"\"Verilən bütün rəqəmlərin cəmini hesablayır\"\"\"\n",
    "    return sum(rəqəmlər)"
   ]
  },
  {
   "cell_type": "code",
   "execution_count": 55,
   "id": "59bd7278-3ce7-4fbd-a9b8-d174ff2043d7",
   "metadata": {},
   "outputs": [
    {
     "name": "stdout",
     "output_type": "stream",
     "text": [
      "Cəmi (1,2,3): 6\n",
      "Cəmi (4,5,6,7): 22\n"
     ]
    }
   ],
   "source": [
    "print(\"Cəmi (1,2,3):\", cəmi_hesabla(1, 2, 3))\n",
    "print(\"Cəmi (4,5,6,7):\", cəmi_hesabla(4, 5, 6, 7))"
   ]
  },
  {
   "cell_type": "code",
   "execution_count": 56,
   "id": "aa2290a0-1150-4146-aa56-8ace03dea50e",
   "metadata": {},
   "outputs": [
    {
     "name": "stdout",
     "output_type": "stream",
     "text": [
      "ad: Əli\n",
      "yaş: 20\n",
      "ixtisas: İnformatika\n"
     ]
    }
   ],
   "source": [
    "def şagird_məlumatı(**məlumat):\n",
    "    \"\"\"Şagird haqqında məlumat çap edir\"\"\"\n",
    "    for açar, dəyər in məlumat.items():\n",
    "        print(f\"{açar}: {dəyər}\")\n",
    "\n",
    "şagird_məlumatı(ad=\"Əli\", yaş=20, ixtisas=\"İnformatika\")"
   ]
  },
  {
   "cell_type": "code",
   "execution_count": 57,
   "id": "b29b24f6-fc63-449b-a47b-6a34c99c5f74",
   "metadata": {},
   "outputs": [
    {
     "name": "stdout",
     "output_type": "stream",
     "text": [
      "Lambda kvadrat: 16\n"
     ]
    }
   ],
   "source": [
    "# Lambda funksiyası ilə verilən ədədin kvadratını hesablayan funksiya yaradır\n",
    "kvadrat = lambda x: x ** 2\n",
    "\n",
    "# Lambda funksiyasını çağırıb 4-ün kvadratını çap edir\n",
    "print(\"Lambda kvadrat:\", kvadrat(4))\n",
    "\n",
    "# Şagirdlərin ad və ballarını saxlayan siyahı (dictionary-lərdən ibarət)\n",
    "şagirdlər = [\n",
    "    {\"ad\": \"Əli\", \"bal\": 85},\n",
    "    {\"ad\": \"Aygün\", \"bal\": 92},\n",
    "    {\"ad\": \"Vaqif\", \"bal\": 78}\n",
    "]"
   ]
  },
  {
   "cell_type": "code",
   "execution_count": 58,
   "id": "68f0ba60-b7eb-468f-a72e-a98dd6534d68",
   "metadata": {},
   "outputs": [
    {
     "name": "stdout",
     "output_type": "stream",
     "text": [
      "Balına görə sıralanmış şagirdlər:\n",
      "{'ad': 'Aygün', 'bal': 92}\n",
      "{'ad': 'Əli', 'bal': 85}\n",
      "{'ad': 'Vaqif', 'bal': 78}\n"
     ]
    }
   ],
   "source": [
    "sıralanmış = sorted(şagirdlər, key=lambda x: x[\"bal\"], reverse=True)\n",
    "print(\"Balına görə sıralanmış şagirdlər:\")\n",
    "for şagird in sıralanmış:\n",
    "    print(şagird)\n"
   ]
  },
  {
   "cell_type": "code",
   "execution_count": 59,
   "id": "0f8710da-498d-4579-9c1c-9c8eb555836c",
   "metadata": {},
   "outputs": [
    {
     "name": "stdout",
     "output_type": "stream",
     "text": [
      "\n",
      "Faylın tam məzmunu:\n",
      "Bu birinci sətirdir.\n",
      "Bu ikinci sətirdir.\n",
      "Bu üçüncü sətirdir.\n",
      "\n"
     ]
    }
   ],
   "source": [
    "# 'nümunə.txt' adlı faylı yazmaq üçün açır (mövcud deyilsə yaradılır), UTF-8 kodlaşdırması ilə\n",
    "with open('nümunə.txt', 'w', encoding='utf-8') as f:\n",
    "    # Fayla üç sətir yazır, hər sətrin sonunda yeni sətir simvolu (\\n) əlavə olunur\n",
    "    f.write(\"Bu birinci sətirdir.\\n\")\n",
    "    f.write(\"Bu ikinci sətirdir.\\n\")\n",
    "    f.write(\"Bu üçüncü sətirdir.\\n\")\n",
    "\n",
    "# Fayldan oxumaq üçün açır və məzmunu çap edir\n",
    "print(\"\\nFaylın tam məzmunu:\")\n",
    "with open('nümunə.txt', 'r', encoding='utf-8') as f:\n",
    "    print(f.read())"
   ]
  },
  {
   "cell_type": "code",
   "execution_count": 60,
   "id": "6adcb9a3-9e24-4be3-8ffc-bf7840343bad",
   "metadata": {},
   "outputs": [
    {
     "name": "stdout",
     "output_type": "stream",
     "text": [
      "\n",
      "Fayl sətir-sətir:\n",
      "Bu birinci sətirdir.\n",
      "Bu ikinci sətirdir.\n",
      "Bu üçüncü sətirdir.\n"
     ]
    }
   ],
   "source": [
    "# Ekrana \"Fayl sətir-sətir:\" başlığını yazdırır\n",
    "print(\"\\nFayl sətir-sətir:\")\n",
    "\n",
    "# 'nümunə.txt' faylını oxumaq üçün açır, UTF-8 kodlaşdırması ilə\n",
    "with open('nümunə.txt', 'r', encoding='utf-8') as f:\n",
    "    # Fayldakı hər sətri bir-bir oxuyur\n",
    "    for sətir in f:\n",
    "        # Hər sətrin əvvəlində və sonunda olan boşluqları və yeni sətir simvolunu silərək çap edir\n",
    "        print(sətir.strip())"
   ]
  },
  {
   "cell_type": "code",
   "execution_count": 61,
   "id": "7e96e589-26e2-4d4c-aee6-2c1025035a17",
   "metadata": {},
   "outputs": [
    {
     "name": "stdout",
     "output_type": "stream",
     "text": [
      "\n",
      "CSV fayl məzmunu:\n",
      "['Ad', 'Yaş', 'İxtisas']\n",
      "['Əli', '20', 'İnformatika']\n",
      "['Aygün', '21', 'Riyaziyyat']\n"
     ]
    }
   ],
   "source": [
    "# csv modulunu import edir (CSV faylları ilə işləmək üçün)\n",
    "import csv\n",
    "\n",
    "# 'şagirdlər.csv' faylını yazmaq üçün açır, newline='' - əlavə boş sətirlərin qarşısını almaq üçün\n",
    "with open('şagirdlər.csv', 'w', newline='', encoding='utf-8') as f:\n",
    "    writer = csv.writer(f)  # CSV yazıcısını yaradır\n",
    "    writer.writerow([\"Ad\", \"Yaş\", \"İxtisas\"])  # Başlıq sətrini yazır\n",
    "    writer.writerow([\"Əli\", 20, \"İnformatika\"])  # Birinci şagird məlumatları\n",
    "    writer.writerow([\"Aygün\", 21, \"Riyaziyyat\"])  # İkinci şagird məlumatları\n",
    "\n",
    "# CSV faylını oxumaq və məzmunu çap etmək\n",
    "print(\"\\nCSV fayl məzmunu:\")\n",
    "with open('şagirdlər.csv', 'r', encoding='utf-8') as f:\n",
    "    reader = csv.reader(f)  # CSV oxuyucusunu yaradır\n",
    "    for sətir in reader:\n",
    "        print(sətir)  # Hər sətri siyahı şəklində çap edir"
   ]
  },
  {
   "cell_type": "code",
   "execution_count": 62,
   "id": "c98a3f00-4243-4bb1-8017-a1e5e8a698e0",
   "metadata": {},
   "outputs": [
    {
     "name": "stdin",
     "output_type": "stream",
     "text": [
      "Yaşınızı daxil edin:  \n"
     ]
    },
    {
     "name": "stdout",
     "output_type": "stream",
     "text": [
      "Xəta: Yaş rəqəm olmalıdır!\n",
      "İcra tamamlandı\n"
     ]
    }
   ],
   "source": [
    "try:\n",
    "    # İstifadəçidən yaşını rəqəm olaraq daxil etməsini istəyir\n",
    "    yaş = int(input(\"Yaşınızı daxil edin: \"))\n",
    "    # Daxil edilmiş yaşı çap edir\n",
    "    print(f\"Sizin yaşınız {yaş}-dir\")\n",
    "\n",
    "except ValueError:\n",
    "    # Əgər daxil edilən dəyər tam ədəd deyilirsə, bu blok işə düşür\n",
    "    print(\"Xəta: Yaş rəqəm olmalıdır!\")\n",
    "\n",
    "except Exception as e:\n",
    "    # Digər bütün gözlənilməz xətaları tutub mesaj çap edir\n",
    "    print(f\"Gözlənilməz xəta: {e}\")\n",
    "\n",
    "finally:\n",
    "    # Hər halda işləyəcək, icranın tamamlandığını bildirir\n",
    "    print(\"İcra tamamlandı\")"
   ]
  },
  {
   "cell_type": "code",
   "execution_count": 63,
   "id": "b843e420-aed6-4cd3-8e41-b0bbece8ee63",
   "metadata": {},
   "outputs": [],
   "source": [
    "class BalXətası(Exception):\n",
    "    \"\"\"Bal üçün xüsusi xəta sinfi\"\"\"\n",
    "    pass\n",
    "\n",
    "def bal_yoxla(bal):\n",
    "    if bal < 0 or bal > 100:\n",
    "        raise BalXətası(\"Bal 0-100 aralığında olmalıdır\")\n",
    "    return bal"
   ]
  },
  {
   "cell_type": "code",
   "execution_count": 64,
   "id": "df6d17fc-0693-439b-8e02-01c7810993d1",
   "metadata": {},
   "outputs": [
    {
     "name": "stdout",
     "output_type": "stream",
     "text": [
      "85\n",
      "Xəta: Bal 0-100 aralığında olmalıdır\n"
     ]
    }
   ],
   "source": [
    "try:\n",
    "    print(bal_yoxla(85))  # Normal\n",
    "    print(bal_yoxla(120)) # Xəta\n",
    "except BalXətası as e:\n",
    "    print(f\"Xəta: {e}\")"
   ]
  },
  {
   "cell_type": "markdown",
   "id": "12e85336-7bbb-48af-82cf-31762d2cc290",
   "metadata": {},
   "source": [
    "## Generator-lar (Generators)"
   ]
  },
  {
   "cell_type": "code",
   "execution_count": 65,
   "id": "7a347ade-e3ad-4d88-bade-868a98e16749",
   "metadata": {},
   "outputs": [],
   "source": [
    "def say_üstlü(n):\n",
    "    \"\"\"Sayğac generatoru\"\"\"\n",
    "    for i in range(n):\n",
    "        yield i ** 2  # yield generator yaradır"
   ]
  },
  {
   "cell_type": "code",
   "execution_count": 66,
   "id": "3075f961-066b-452f-a4ba-b510a47d1dcd",
   "metadata": {},
   "outputs": [
    {
     "name": "stdout",
     "output_type": "stream",
     "text": [
      "Generator tipi: <class 'generator'>\n"
     ]
    }
   ],
   "source": [
    "generator = say_üstlü(5)\n",
    "print(\"Generator tipi:\", type(generator))"
   ]
  },
  {
   "cell_type": "code",
   "execution_count": 67,
   "id": "d2d088d6-3a39-4f08-8a84-d0419f710ceb",
   "metadata": {},
   "outputs": [
    {
     "name": "stdout",
     "output_type": "stream",
     "text": [
      "Generator dəyərləri:\n",
      "0\n",
      "1\n",
      "4\n",
      "9\n",
      "16\n"
     ]
    }
   ],
   "source": [
    "print(\"Generator dəyərləri:\")\n",
    "for dəyər in generator:\n",
    "    print(dəyər)"
   ]
  },
  {
   "cell_type": "code",
   "execution_count": 69,
   "id": "6470a930-321f-4827-9966-07e7ff40ca43",
   "metadata": {},
   "outputs": [],
   "source": [
    "import sys"
   ]
  },
  {
   "cell_type": "code",
   "execution_count": 70,
   "id": "2b3f1003-9c33-4b45-9b41-7978fa3dfb98",
   "metadata": {},
   "outputs": [
    {
     "name": "stdout",
     "output_type": "stream",
     "text": [
      "List yaddaş ölçüsü: 800984 bayt\n",
      "Generator yaddaş ölçüsü: 192 bayt\n"
     ]
    }
   ],
   "source": [
    "list_rəqəmlər = [x for x in range(100000)]\n",
    "print(\"List yaddaş ölçüsü:\", sys.getsizeof(list_rəqəmlər), \"bayt\")\n",
    "\n",
    "# Generator yaratmaq\n",
    "generator_rəqəmlər = (x for x in range(100000))\n",
    "print(\"Generator yaddaş ölçüsü:\", sys.getsizeof(generator_rəqəmlər), \"bayt\")"
   ]
  },
  {
   "cell_type": "code",
   "execution_count": 71,
   "id": "db28b950-b577-4237-85b4-dbea0c5d84e3",
   "metadata": {},
   "outputs": [],
   "source": [
    "def sayğac():\n",
    "    \"\"\"Dayandırıla bilən sayğac generatoru\"\"\"\n",
    "    say = 0\n",
    "    while True:\n",
    "        yield say\n",
    "        say += 1"
   ]
  },
  {
   "cell_type": "code",
   "execution_count": 72,
   "id": "e5ded6e2-9c51-4f62-80d0-5ee32a29d5b5",
   "metadata": {},
   "outputs": [
    {
     "name": "stdout",
     "output_type": "stream",
     "text": [
      "\n",
      "Sayğac dəyərləri:\n",
      "0\n",
      "1\n",
      "2\n"
     ]
    }
   ],
   "source": [
    "counter = sayğac()\n",
    "\n",
    "# Bir neçə dəyər almaq\n",
    "print(\"\\nSayğac dəyərləri:\")\n",
    "print(next(counter))  # 0\n",
    "print(next(counter))  # 1\n",
    "print(next(counter))  # 2\n"
   ]
  },
  {
   "cell_type": "code",
   "execution_count": 74,
   "id": "950244c0-3041-4b39-904a-7e143d3277cd",
   "metadata": {},
   "outputs": [],
   "source": [
    "def orta_hesablayıcı():\n",
    "    \"\"\"Dəyər qəbul edən generator\"\"\"\n",
    "    cəm = 0\n",
    "    say = 0\n",
    "    while True:\n",
    "        dəyər = yield  # yield dəyər qəbul edir\n",
    "        if dəyər is None:\n",
    "            break\n",
    "        cəm += dəyər\n",
    "        say += 1\n",
    "    yield cəm / say if say > 0 else 0\n",
    "\n",
    "# İstifadə\n",
    "ortalama = orta_hesablayıcı()\n",
    "next(ortalama)  # Generatoru başlatmaq\n",
    "\n",
    "ortalama.send(10)  # Dəyər göndərmək\n",
    "ortalama.send(20)\n",
    "ortalama.send(30)\n",
    "\n",
    "try:\n",
    "    ortalama.send(None)  # Dayandırmaq üçün\n",
    "except StopIteration as e:\n",
    "    print(\"\\nOrta dəyər:\", e.value)  # 20.0"
   ]
  },
  {
   "cell_type": "markdown",
   "id": "82f964cb-95dc-4fba-8310-b8d8b38dbb5f",
   "metadata": {},
   "source": [
    "## Decorator-lar"
   ]
  },
  {
   "cell_type": "code",
   "execution_count": 75,
   "id": "b4202352-c5b0-415b-8b9a-df2f2258c7a0",
   "metadata": {},
   "outputs": [],
   "source": [
    "# Funksiyanın icra vaxtını ölçən decorator funksiyası\n",
    "def vaxt_ölçən(func):\n",
    "    \"\"\"Funksiyanın icra vaxtını ölçən decorator\"\"\"\n",
    "\n",
    "    # Əhatə edən (wrapper) funksiya, orijinal funksiyanın arqumentlərini qəbul edir\n",
    "    def əhatə_edici(*args, **kwargs):\n",
    "        import time  # vaxt ölçmək üçün time modulunu import edir\n",
    "        başlama = time.time()  # İcra başlamazdan əvvəl vaxtı götürür\n",
    "        nəticə = func(*args, **kwargs)  # Orijinal funksiyanı çağırır və nəticəsini alır\n",
    "        bitmə = time.time()  # İcra bitdikdən sonra vaxtı götürür\n",
    "        # Funksiyanın adı və icra müddətini saniyə ilə çap edir\n",
    "        print(f\"{func.__name__} funksiyası {bitmə - başlama:.4f} saniyə çəkdi\")\n",
    "        return nəticə  # Orijinal funksiyanın nəticəsini qaytarır\n",
    "\n",
    "    return əhatə_edici  # Decorator əhatə edən funksiyanı qaytarır\n"
   ]
  },
  {
   "cell_type": "code",
   "execution_count": 76,
   "id": "48e100c8-75d4-4300-bbfb-e51f1c2e0ea6",
   "metadata": {},
   "outputs": [
    {
     "name": "stdout",
     "output_type": "stream",
     "text": [
      "uzun_hesablama funksiyası 0.1506 saniyə çəkdi\n",
      "\n",
      "Uzun hesablama nəticəsi: 499999500000\n"
     ]
    }
   ],
   "source": [
    "# vaxt_ölçən decorator-u ilə işarələnmiş funksiya\n",
    "@vaxt_ölçən\n",
    "def uzun_hesablama(n):\n",
    "    \"\"\"Uzun hesablama simulyasiyası\"\"\"\n",
    "    toplam = 0\n",
    "    # 0-dan n-1-ə qədər olan ədədləri toplamaq üçün dövr\n",
    "    for i in range(n):\n",
    "        toplam += i\n",
    "    # Toplamı qaytarır\n",
    "    return toplam\n",
    "\n",
    "# Uzun hesablama funksiyasını çağırır və nəticəsini çap edir\n",
    "print(\"\\nUzun hesablama nəticəsi:\", uzun_hesablama(1000000))\n"
   ]
  },
  {
   "cell_type": "markdown",
   "id": "7a56d3c9-e164-42af-abe4-7186f0aa5fd7",
   "metadata": {},
   "source": [
    "### 2.2 Parametrli decoratorlar"
   ]
  },
  {
   "cell_type": "code",
   "execution_count": 77,
   "id": "0abecc96-f753-4e5c-9cd3-3e3d7f12f267",
   "metadata": {},
   "outputs": [],
   "source": [
    "# Funksiyanı müəyyən sayda təkrar edən decorator yaradır\n",
    "def təkrar_et(sayı):\n",
    "    \"\"\"Funksiyanı müəyyən sayda təkrar edən decorator\"\"\"\n",
    "\n",
    "    # Əsl decorator funksiyası, orijinal funksiyanı qəbul edir\n",
    "    def real_decorator(func):\n",
    "\n",
    "        # Əhatə edən funksiya, orijinal funksiyanın arqumentlərini qəbul edir\n",
    "        def əhatə_edici(*args, **kwargs):\n",
    "            for _ in range(sayı):\n",
    "                # Funksiyanı təkrar-təkrar çağırır\n",
    "                nəticə = func(*args, **kwargs)\n",
    "            # Sonuncu çağırışın nəticəsini qaytarır\n",
    "            return nəticə\n",
    "\n",
    "        return əhatə_edici\n",
    "\n",
    "    return real_decorator\n"
   ]
  },
  {
   "cell_type": "code",
   "execution_count": 78,
   "id": "10b74fe7-ef92-4a8d-aac4-8bb5b87ec707",
   "metadata": {},
   "outputs": [
    {
     "name": "stdout",
     "output_type": "stream",
     "text": [
      "\n",
      "Təkrar decorator nümunəsi:\n",
      "Salam, Əli!\n",
      "Salam, Əli!\n",
      "Salam, Əli!\n"
     ]
    }
   ],
   "source": [
    "# 'təkrar_et' decorator-u 3 dəfə işləyəcək şəkildə tətbiq edilir\n",
    "@təkrar_et(sayı=3)\n",
    "def salam_ver(ad):\n",
    "    \"\"\"Salam verən funksiya\"\"\"\n",
    "    # Verilən ada salam verir\n",
    "    print(f\"Salam, {ad}!\")\n",
    "\n",
    "print(\"\\nTəkrar decorator nümunəsi:\")\n",
    "\n",
    "# salam_ver funksiyasını çağırır, nəticədə 3 dəfə \"Salam, Əli!\" çap olunur\n",
    "salam_ver(\"Əli\")"
   ]
  },
  {
   "cell_type": "code",
   "execution_count": 2,
   "id": "6f6d1831-cbcb-4c12-ab73-71c146f77ea0",
   "metadata": {},
   "outputs": [
    {
     "name": "stdout",
     "output_type": "stream",
     "text": [
      "Cəmi: 15\n",
      "Orta: 3.0\n",
      "PI dəyəri: 3.14159\n"
     ]
    }
   ],
   "source": [
    "from hesablamalar import cemi, orta, PI\n",
    "\n",
    "reqemler = [1, 2, 3, 4, 5]\n",
    "print(\"Cəmi:\", cemi(reqemler))\n",
    "print(\"Orta:\", orta(reqemler))\n",
    "print(\"PI dəyəri:\", PI)"
   ]
  },
  {
   "cell_type": "code",
   "execution_count": 3,
   "id": "57db2004-b533-437a-a431-7d2ef656083c",
   "metadata": {},
   "outputs": [
    {
     "name": "stdout",
     "output_type": "stream",
     "text": [
      "\n",
      "Modul axtarış yolları:\n",
      "C:\\Users\\goyle\\AppData\\Local\\Programs\\Python\\Python313\\python313.zip\n",
      "C:\\Users\\goyle\\AppData\\Local\\Programs\\Python\\Python313\\DLLs\n",
      "C:\\Users\\goyle\\AppData\\Local\\Programs\\Python\\Python313\\Lib\n",
      "C:\\Users\\goyle\\AppData\\Local\\Programs\\Python\\Python313\n",
      "\n",
      "C:\\Users\\goyle\\AppData\\Local\\Programs\\Python\\Python313\\Lib\\site-packages\n",
      "C:\\Users\\goyle\\AppData\\Local\\Programs\\Python\\Python313\\Lib\\site-packages\\win32\n",
      "C:\\Users\\goyle\\AppData\\Local\\Programs\\Python\\Python313\\Lib\\site-packages\\win32\\lib\n",
      "C:\\Users\\goyle\\AppData\\Local\\Programs\\Python\\Python313\\Lib\\site-packages\\Pythonwin\n"
     ]
    }
   ],
   "source": [
    "import sys\n",
    "print(\"\\nModul axtarış yolları:\")\n",
    "for yol in sys.path:\n",
    "    print(yol)"
   ]
  },
  {
   "cell_type": "code",
   "execution_count": 4,
   "id": "9d369649-ce08-461a-9adb-22b0e2dcba11",
   "metadata": {},
   "outputs": [
    {
     "name": "stdout",
     "output_type": "stream",
     "text": [
      "\n",
      "Bu modul birbaşa işə salınıb\n"
     ]
    }
   ],
   "source": [
    "if __name__ == \"__main__\":\n",
    "    print(\"\\nBu modul birbaşa işə salınıb\")\n",
    "else:\n",
    "    print(\"\\nBu modul import edilib\")"
   ]
  },
  {
   "cell_type": "code",
   "execution_count": 5,
   "id": "3213eb3d-c5d6-462a-a07e-354923ba88cd",
   "metadata": {},
   "outputs": [
    {
     "name": "stdout",
     "output_type": "stream",
     "text": [
      "Cari qovluq: C:\\Users\\goyle\\OneDrive\\Desktop\\AIlab_python\n"
     ]
    }
   ],
   "source": [
    "import os\n",
    "print(\"Cari qovluq:\", os.getcwd())"
   ]
  },
  {
   "cell_type": "code",
   "execution_count": 6,
   "id": "f5e41893-bb7b-4ee2-98bc-f6e43955dbb0",
   "metadata": {},
   "outputs": [
    {
     "name": "stdout",
     "output_type": "stream",
     "text": [
      "\n",
      "Qovluq məzmunu:\n",
      ".ipynb_checkpoints\n",
      "hesablamalar.py\n",
      "nümunə.txt\n",
      "python.ipynb\n",
      "__pycache__\n",
      "şagirdlər.csv\n"
     ]
    }
   ],
   "source": [
    "print(\"\\nQovluq məzmunu:\")\n",
    "for element in os.listdir():\n",
    "    print(element)"
   ]
  },
  {
   "cell_type": "code",
   "execution_count": 7,
   "id": "78a5472c-03ed-4177-80ac-c6dfabc20957",
   "metadata": {},
   "outputs": [
    {
     "name": "stdout",
     "output_type": "stream",
     "text": [
      "\n",
      "Fayl məlumatı:\n",
      "Ölçü: 128 bayt\n",
      "Son dəyişmə: 1751302382.6738274\n"
     ]
    }
   ],
   "source": [
    "if os.path.exists(\"hesablamalar.py\"):\n",
    "    print(\"\\nFayl məlumatı:\")\n",
    "    print(\"Ölçü:\", os.path.getsize(\"hesablamalar.py\"), \"bayt\")\n",
    "    print(\"Son dəyişmə:\", os.path.getmtime(\"hesablamalar.py\"))\n"
   ]
  },
  {
   "cell_type": "code",
   "execution_count": 1,
   "id": "286e6457-8239-41fc-8e5f-b3e88ad02822",
   "metadata": {},
   "outputs": [
    {
     "name": "stdout",
     "output_type": "stream",
     "text": [
      "\n",
      "Riyazi funksiyalar:\n",
      "Kvadrat kök: 4.0\n",
      "Sinus: 1.0\n",
      "e üstü: 2.718281828459045\n",
      "Faktorial: 120\n",
      "GCD (ƏBOB): 6\n"
     ]
    }
   ],
   "source": [
    "import math\n",
    "\n",
    "print(\"\\nRiyazi funksiyalar:\")\n",
    "print(\"Kvadrat kök:\", math.sqrt(16))\n",
    "print(\"Sinus:\", math.sin(math.pi/2))\n",
    "print(\"e üstü:\", math.exp(1))\n",
    "print(\"Faktorial:\", math.factorial(5))\n",
    "print(\"GCD (ƏBOB):\", math.gcd(48, 18))\n"
   ]
  },
  {
   "cell_type": "code",
   "execution_count": 2,
   "id": "838c630f-1392-437d-af7c-b9bf6733a8ca",
   "metadata": {},
   "outputs": [
    {
     "name": "stdout",
     "output_type": "stream",
     "text": [
      "\n",
      "Hazırkı vaxt: 2025-07-01 12:09:28.272560\n",
      "Formatlanmış: 01.07.2025 12:09\n",
      "Bir həftə sonra: 2025-07-08 12:09:28.272560\n"
     ]
    }
   ],
   "source": [
    "from datetime import datetime, timedelta\n",
    "\n",
    "# Hazırkı tarix və vaxt\n",
    "indiki = datetime.now()\n",
    "print(\"\\nHazırkı vaxt:\", indiki)\n",
    "\n",
    "# Formatlama\n",
    "print(\"Formatlanmış:\", indiki.strftime(\"%d.%m.%Y %H:%M\"))\n",
    "\n",
    "# Tarix əməliyyatları\n",
    "bir_həftə_sonra = indiki + timedelta(days=7)\n",
    "print(\"Bir həftə sonra:\", bir_həftə_sonra)"
   ]
  },
  {
   "cell_type": "code",
   "execution_count": 3,
   "id": "c2c6eaab-1f24-443d-bdaa-442a0a542c92",
   "metadata": {},
   "outputs": [
    {
     "name": "stdout",
     "output_type": "stream",
     "text": [
      "\n",
      "Təsadüfi ədədlər:\n",
      "0-1 arası: 0.9060982721086299\n",
      "1-10 arası tam: 8\n",
      "Təsadüfi seçim: banan\n",
      "Qarışdırılmış list: [5, 3, 2, 1, 4]\n"
     ]
    }
   ],
   "source": [
    "import random\n",
    "\n",
    "print(\"\\nTəsadüfi ədədlər:\")\n",
    "print(\"0-1 arası:\", random.random())\n",
    "print(\"1-10 arası tam:\", random.randint(1, 10))\n",
    "print(\"Təsadüfi seçim:\", random.choice([\"alma\", \"armud\", \"banan\"]))\n",
    "\n",
    "# Listi qarışdırmaq\n",
    "list = [1, 2, 3, 4, 5]\n",
    "random.shuffle(list)\n",
    "print(\"Qarışdırılmış list:\", list)"
   ]
  },
  {
   "cell_type": "code",
   "execution_count": 4,
   "id": "ea77a2bd-1163-45bb-8bde-2ef30e415612",
   "metadata": {},
   "outputs": [
    {
     "name": "stdout",
     "output_type": "stream",
     "text": [
      "\n",
      "Mətndəki rəqəmlər: ['123', '456']\n"
     ]
    }
   ],
   "source": [
    "import re\n",
    "mətndəki_rəqəmlər = re.findall(r'\\d+', 'Salam 123, Nə var 456?')\n",
    "print(\"\\nMətndəki rəqəmlər:\", mətndəki_rəqəmlər)\n",
    "\n"
   ]
  },
  {
   "cell_type": "code",
   "execution_count": null,
   "id": "7088d9ac-84ae-4988-a045-e0f6073be5f4",
   "metadata": {},
   "outputs": [],
   "source": []
  },
  {
   "cell_type": "code",
   "execution_count": null,
   "id": "12d7ba85-cb0a-4076-8a73-8720845425f1",
   "metadata": {},
   "outputs": [],
   "source": []
  },
  {
   "cell_type": "code",
   "execution_count": null,
   "id": "47e6b02f-8b61-4f2d-96c2-fbe147e0c2bf",
   "metadata": {},
   "outputs": [],
   "source": []
  },
  {
   "cell_type": "code",
   "execution_count": null,
   "id": "de83a3ca-23ad-4e5d-9d4a-ef6d68a62153",
   "metadata": {},
   "outputs": [],
   "source": []
  },
  {
   "cell_type": "code",
   "execution_count": null,
   "id": "e8a38f04-f0ad-4614-bc42-29706fc4ee38",
   "metadata": {},
   "outputs": [],
   "source": []
  },
  {
   "cell_type": "code",
   "execution_count": null,
   "id": "243814d6-b12a-459b-834a-a1aa96febd6a",
   "metadata": {},
   "outputs": [],
   "source": []
  },
  {
   "cell_type": "code",
   "execution_count": null,
   "id": "90e4593a-df7a-4cbe-8e1d-aafc20b9ac03",
   "metadata": {},
   "outputs": [],
   "source": []
  },
  {
   "cell_type": "code",
   "execution_count": null,
   "id": "1e4be1ac-304b-431d-961a-8ba989d7c735",
   "metadata": {},
   "outputs": [],
   "source": []
  },
  {
   "cell_type": "code",
   "execution_count": null,
   "id": "f53aed98-b769-4044-bbda-ab3feb032a07",
   "metadata": {},
   "outputs": [],
   "source": []
  }
 ],
 "metadata": {
  "kernelspec": {
   "display_name": "Python 3 (ipykernel)",
   "language": "python",
   "name": "python3"
  },
  "language_info": {
   "codemirror_mode": {
    "name": "ipython",
    "version": 3
   },
   "file_extension": ".py",
   "mimetype": "text/x-python",
   "name": "python",
   "nbconvert_exporter": "python",
   "pygments_lexer": "ipython3",
   "version": "3.13.5"
  }
 },
 "nbformat": 4,
 "nbformat_minor": 5
}
