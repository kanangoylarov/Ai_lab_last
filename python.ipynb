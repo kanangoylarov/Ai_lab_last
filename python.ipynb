{
 "cells": [
  {
   "cell_type": "markdown",
   "id": "93cffda0-13d7-436b-8b0e-8e987e515cc5",
   "metadata": {},
   "source": [
    "# NumPy və Pandas Kitabxanalarına Giriş"
   ]
  },
  {
   "cell_type": "code",
   "execution_count": 46,
   "id": "c6fb2e34-0679-4fae-bded-e7ed8223bff1",
   "metadata": {},
   "outputs": [
    {
     "name": "stdout",
     "output_type": "stream",
     "text": [
      "Requirement already satisfied: numpy in c:\\users\\goyle\\appdata\\local\\programs\\python\\python313\\lib\\site-packages (2.3.1)\n",
      "Note: you may need to restart the kernel to use updated packages.\n"
     ]
    }
   ],
   "source": [
    "%pip install numpy"
   ]
  },
  {
   "cell_type": "code",
   "execution_count": 1,
   "id": "30e6e6f4-89f0-4fac-829f-c24385115cc2",
   "metadata": {},
   "outputs": [
    {
     "name": "stdout",
     "output_type": "stream",
     "text": [
      "1D Array:\n",
      "[1 2 3 4 5]\n",
      "Ölçü: (5,)\n"
     ]
    }
   ],
   "source": [
    "import numpy as np\n",
    "\n",
    "# 1D array yaratmaq\n",
    "arr1d = np.array([1, 2, 3, 4, 5])\n",
    "print(\"1D Array:\")\n",
    "print(arr1d)\n",
    "print(\"Ölçü:\", arr1d.shape)"
   ]
  },
  {
   "cell_type": "code",
   "execution_count": 2,
   "id": "b113b021-bbaa-47d2-8333-71b3c0dfccfa",
   "metadata": {},
   "outputs": [
    {
     "name": "stdout",
     "output_type": "stream",
     "text": [
      "\n",
      "2D Array:\n",
      "[[1 2 3]\n",
      " [4 5 6]]\n",
      "Ölçü: (2, 3)\n"
     ]
    }
   ],
   "source": [
    "arr2d = np.array([[1, 2, 3], [4, 5, 6]])\n",
    "print(\"\\n2D Array:\")\n",
    "print(arr2d)\n",
    "print(\"Ölçü:\", arr2d.shape)"
   ]
  },
  {
   "cell_type": "code",
   "execution_count": 3,
   "id": "41fd3bbb-e3f5-4564-a5b9-669f75fed7d7",
   "metadata": {},
   "outputs": [
    {
     "name": "stdout",
     "output_type": "stream",
     "text": [
      "\n",
      "Xüsusi Arraylər:\n",
      "Zeros:\n",
      " [[0. 0. 0.]\n",
      " [0. 0. 0.]\n",
      " [0. 0. 0.]]\n",
      "Ones:\n",
      " [[1. 1. 1. 1.]\n",
      " [1. 1. 1. 1.]]\n",
      "Arange: [0 2 4 6 8]\n",
      "Random:\n",
      " [[0.39063779 0.36104106 0.1015619 ]\n",
      " [0.33025401 0.89911428 0.72084756]\n",
      " [0.91774524 0.29058706 0.59117338]]\n"
     ]
    }
   ],
   "source": [
    "zeros_arr = np.zeros((3, 3))\n",
    "ones_arr = np.ones((2, 4))\n",
    "range_arr = np.arange(0, 10, 2)  # 0-dan 10-a qədər 2 addımla\n",
    "random_arr = np.random.rand(3, 3)  # 0-1 arası random ədədlər\n",
    "\n",
    "print(\"\\nXüsusi Arraylər:\")\n",
    "print(\"Zeros:\\n\", zeros_arr)\n",
    "print(\"Ones:\\n\", ones_arr)\n",
    "print(\"Arange:\", range_arr)\n",
    "print(\"Random:\\n\", random_arr)"
   ]
  },
  {
   "cell_type": "code",
   "execution_count": 4,
   "id": "4072d3f2-80de-4083-9492-9837ea98297c",
   "metadata": {},
   "outputs": [
    {
     "name": "stdout",
     "output_type": "stream",
     "text": [
      "Toplama: [5 7 9]\n",
      "Vurma: [ 4 10 18]\n",
      "Nöqtə hasil: 32\n",
      "Sinus: [0.84147098 0.90929743 0.14112001]\n",
      "Eksponent: [ 2.71828183  7.3890561  20.08553692]\n",
      "Kvadrat kök: [1.         1.41421356 1.73205081]\n"
     ]
    }
   ],
   "source": [
    "a = np.array([1, 2, 3])\n",
    "b = np.array([4, 5, 6])\n",
    "\n",
    "# Əsas riyazi əməliyyatlar\n",
    "print(\"Toplama:\", a + b)\n",
    "print(\"Vurma:\", a * b)  # Element-wise vurma\n",
    "print(\"Nöqtə hasil:\", np.dot(a, b))  # Dot product\n",
    "\n",
    "# Universal funksiyalar (ufuncs)\n",
    "print(\"Sinus:\", np.sin(a))\n",
    "print(\"Eksponent:\", np.exp(a))\n",
    "print(\"Kvadrat kök:\", np.sqrt(a))"
   ]
  },
  {
   "cell_type": "code",
   "execution_count": 5,
   "id": "89d33000-337b-4039-9032-3d58a0c3ea45",
   "metadata": {},
   "outputs": [
    {
     "name": "stdout",
     "output_type": "stream",
     "text": [
      "Orijinal Array:\n",
      " [[1 2 3]\n",
      " [4 5 6]\n",
      " [7 8 9]]\n",
      "İlk sətir: [1 2 3]\n",
      "Son sütun: [3 6 9]\n",
      "Orta element: 5\n",
      "Sub-array:\n",
      " [[2 3]\n",
      " [5 6]]\n",
      "\n",
      "Boolean Indexing:\n",
      "[6 7 8 9]\n"
     ]
    }
   ],
   "source": [
    "arr = np.array([[1, 2, 3], [4, 5, 6], [7, 8, 9]])\n",
    "\n",
    "print(\"Orijinal Array:\\n\", arr)\n",
    "print(\"İlk sətir:\", arr[0])\n",
    "print(\"Son sütun:\", arr[:, -1])\n",
    "print(\"Orta element:\", arr[1, 1])\n",
    "print(\"Sub-array:\\n\", arr[:2, 1:])\n",
    "\n",
    "# Boolean indexing\n",
    "print(\"\\nBoolean Indexing:\")\n",
    "print(arr[arr > 5])"
   ]
  },
  {
   "cell_type": "code",
   "execution_count": 6,
   "id": "4ce41a08-d56f-45f0-92d0-96ff476187b4",
   "metadata": {},
   "outputs": [
    {
     "name": "stdout",
     "output_type": "stream",
     "text": [
      "Orijinal: [1 2 3 4 5 6 7 8 9]\n",
      "\n",
      "Yenidən şəkilləndirilmiş:\n",
      " [[1 2 3]\n",
      " [4 5 6]\n",
      " [7 8 9]]\n",
      "Düzəldilmiş: [1 2 3 4 5 6 7 8 9]\n",
      "Transpoz:\n",
      " [[1 4 7]\n",
      " [2 5 8]\n",
      " [3 6 9]]\n"
     ]
    }
   ],
   "source": [
    "arr = np.arange(1, 10)\n",
    "print(\"Orijinal:\", arr)\n",
    "\n",
    "# Yenidən şəkilləndirmə\n",
    "reshaped = arr.reshape(3, 3)\n",
    "print(\"\\nYenidən şəkilləndirilmiş:\\n\", reshaped)\n",
    "\n",
    "# Düzəltmə\n",
    "flattened = reshaped.flatten()\n",
    "print(\"Düzəldilmiş:\", flattened)\n",
    "\n",
    "# Transpoz\n",
    "transposed = reshaped.T\n",
    "print(\"Transpoz:\\n\", transposed)"
   ]
  },
  {
   "cell_type": "code",
   "execution_count": 7,
   "id": "ea226433-77aa-440d-b8d5-f44798238f07",
   "metadata": {},
   "outputs": [
    {
     "name": "stdout",
     "output_type": "stream",
     "text": [
      "Data:\n",
      " [[15 68 67 39 39]\n",
      " [17 60 56 86 98]\n",
      " [68 82  7 94 48]\n",
      " [ 7 29 48 58 25]\n",
      " [42 45 97 95 21]]\n",
      "\n",
      "Statistikalar:\n",
      "Orta: 52.44\n",
      "Median: 48.0\n",
      "Standart sapma: 28.312654414589954\n",
      "Minimum: 7\n",
      "Maksimum: 98\n",
      "Sütun cəmi: [149 284 275 372 231]\n",
      "Sətir ortası: [45.6 63.4 59.8 33.4 60. ]\n"
     ]
    }
   ],
   "source": [
    "data = np.random.randint(1, 100, size=(5, 5))\n",
    "\n",
    "print(\"Data:\\n\", data)\n",
    "print(\"\\nStatistikalar:\")\n",
    "print(\"Orta:\", np.mean(data))\n",
    "print(\"Median:\", np.median(data))\n",
    "print(\"Standart sapma:\", np.std(data))\n",
    "print(\"Minimum:\", np.min(data))\n",
    "print(\"Maksimum:\", np.max(data))\n",
    "print(\"Sütun cəmi:\", np.sum(data, axis=0))\n",
    "print(\"Sətir ortası:\", np.mean(data, axis=1))"
   ]
  },
  {
   "cell_type": "markdown",
   "id": "39e92c2d-e47f-48e6-9d72-75134149d30f",
   "metadata": {},
   "source": [
    "## 2. Pandas Kitabxanası"
   ]
  },
  {
   "cell_type": "code",
   "execution_count": 8,
   "id": "12bd93e5-c5ab-4a8c-8f9e-ff8b18bcae5f",
   "metadata": {},
   "outputs": [
    {
     "name": "stdout",
     "output_type": "stream",
     "text": [
      "Requirement already satisfied: pandas in c:\\users\\goyle\\appdata\\local\\programs\\python\\python313\\lib\\site-packages (2.3.0)\n",
      "Requirement already satisfied: numpy>=1.26.0 in c:\\users\\goyle\\appdata\\local\\programs\\python\\python313\\lib\\site-packages (from pandas) (2.3.1)\n",
      "Requirement already satisfied: python-dateutil>=2.8.2 in c:\\users\\goyle\\appdata\\local\\programs\\python\\python313\\lib\\site-packages (from pandas) (2.9.0.post0)\n",
      "Requirement already satisfied: pytz>=2020.1 in c:\\users\\goyle\\appdata\\local\\programs\\python\\python313\\lib\\site-packages (from pandas) (2025.2)\n",
      "Requirement already satisfied: tzdata>=2022.7 in c:\\users\\goyle\\appdata\\local\\programs\\python\\python313\\lib\\site-packages (from pandas) (2025.2)\n",
      "Requirement already satisfied: six>=1.5 in c:\\users\\goyle\\appdata\\local\\programs\\python\\python313\\lib\\site-packages (from python-dateutil>=2.8.2->pandas) (1.17.0)\n",
      "Note: you may need to restart the kernel to use updated packages.\n"
     ]
    }
   ],
   "source": [
    "%pip install pandas"
   ]
  },
  {
   "cell_type": "code",
   "execution_count": 9,
   "id": "8ca2a406-0886-4b5e-a62b-ac8e07567448",
   "metadata": {},
   "outputs": [
    {
     "name": "stdout",
     "output_type": "stream",
     "text": [
      "DataFrame:\n",
      "      Ad  Yaş     Şəhər\n",
      "0    Əli   25      Bakı\n",
      "1  Aygün   30     Gəncə\n",
      "2  Vaqif   35  Sumqayıt\n",
      "3  Günay   28      Bakı\n"
     ]
    }
   ],
   "source": [
    "import pandas as pd\n",
    "\n",
    "# Dictionary-dən DataFrame yaratmaq\n",
    "data = {\n",
    "    'Ad': ['Əli', 'Aygün', 'Vaqif', 'Günay'],\n",
    "    'Yaş': [25, 30, 35, 28],\n",
    "    'Şəhər': ['Bakı', 'Gəncə', 'Sumqayıt', 'Bakı']\n",
    "}\n",
    "\n",
    "df = pd.DataFrame(data)\n",
    "print(\"DataFrame:\")\n",
    "print(df)"
   ]
  },
  {
   "cell_type": "code",
   "execution_count": 10,
   "id": "6146eeb1-eace-4449-8a4d-cedb5637eba9",
   "metadata": {},
   "outputs": [
    {
     "name": "stdout",
     "output_type": "stream",
     "text": [
      "\n",
      "Əsas Əməliyyatlar:\n",
      "İlk 2 sətir:\n",
      "       Ad  Yaş  Şəhər\n",
      "0    Əli   25   Bakı\n",
      "1  Aygün   30  Gəncə\n",
      "\n",
      "Təsviri statistika:\n",
      "              Yaş\n",
      "count   4.000000\n",
      "mean   29.500000\n",
      "std     4.203173\n",
      "min    25.000000\n",
      "25%    27.250000\n",
      "50%    29.000000\n",
      "75%    31.250000\n",
      "max    35.000000\n",
      "\n",
      "Sütunlar: Index(['Ad', 'Yaş', 'Şəhər'], dtype='object')\n",
      "\n",
      "Yaş sütunu:\n",
      " 0    25\n",
      "1    30\n",
      "2    35\n",
      "3    28\n",
      "Name: Yaş, dtype: int64\n",
      "\n",
      "Yaş > 26 olanlar:\n",
      "       Ad  Yaş     Şəhər\n",
      "1  Aygün   30     Gəncə\n",
      "2  Vaqif   35  Sumqayıt\n",
      "3  Günay   28      Bakı\n"
     ]
    }
   ],
   "source": [
    "print(\"\\nƏsas Əməliyyatlar:\")\n",
    "print(\"İlk 2 sətir:\\n\", df.head(2))\n",
    "print(\"\\nTəsviri statistika:\\n\", df.describe())\n",
    "print(\"\\nSütunlar:\", df.columns)\n",
    "print(\"\\nYaş sütunu:\\n\", df['Yaş'])\n",
    "print(\"\\nYaş > 26 olanlar:\\n\", df[df['Yaş'] > 26])"
   ]
  },
  {
   "cell_type": "code",
   "execution_count": 11,
   "id": "e4caf0ba-8d6a-4bb5-be09-7c4d2e865a78",
   "metadata": {
    "scrolled": true
   },
   "outputs": [
    {
     "name": "stdout",
     "output_type": "stream",
     "text": [
      "\n",
      "Qruplama Əməliyyatları:\n",
      "Şəhərə görə orta yaş:\n",
      " Şəhər\n",
      "Bakı        26.5\n",
      "Gəncə       30.0\n",
      "Sumqayıt    35.0\n",
      "Name: Yaş, dtype: float64\n",
      "\n",
      "Pivot Cədvəl:\n",
      "           Yaş\n",
      "Şəhər         \n",
      "Bakı      26.5\n",
      "Gəncə     30.0\n",
      "Sumqayıt  35.0\n"
     ]
    }
   ],
   "source": [
    "print(\"\\nQruplama Əməliyyatları:\")\n",
    "print(\"Şəhərə görə orta yaş:\\n\", df.groupby('Şəhər')['Yaş'].mean())\n",
    "# print(\"\\nTəhsilə görə say:\\n\", df['Təhsil'].value_counts())\n",
    "\n",
    "# Pivot cədvəl\n",
    "print(\"\\nPivot Cədvəl:\")\n",
    "print(pd.pivot_table(df, values='Yaş', index='Şəhər', aggfunc='mean'))"
   ]
  },
  {
   "cell_type": "code",
   "execution_count": 59,
   "id": "47abd30b-5c10-4417-9400-a5ed5e8a4a63",
   "metadata": {},
   "outputs": [
    {
     "name": "stdout",
     "output_type": "stream",
     "text": [
      "\n",
      "Çatışmayan məlumatlarla DataFrame:\n",
      "      Ad   Yaş     Şəhər\n",
      "0    Əli  25.0      Bakı\n",
      "1  Aygün   NaN     Gəncə\n",
      "2  Vaqif  35.0  Sumqayıt\n",
      "3  Günay  28.0      None\n"
     ]
    }
   ],
   "source": [
    "df.loc[1, 'Yaş'] = None\n",
    "df.loc[3, 'Şəhər'] = None\n",
    "\n",
    "print(\"\\nÇatışmayan məlumatlarla DataFrame:\")\n",
    "print(df)"
   ]
  },
  {
   "cell_type": "code",
   "execution_count": 60,
   "id": "510226af-06ff-4b07-9070-1f001fe4f98b",
   "metadata": {},
   "outputs": [
    {
     "name": "stdout",
     "output_type": "stream",
     "text": [
      "\n",
      "Çatışmayan məlumatların sayı:\n",
      "Ad       0\n",
      "Yaş      1\n",
      "Şəhər    1\n",
      "dtype: int64\n"
     ]
    }
   ],
   "source": [
    "print(\"\\nÇatışmayan məlumatların sayı:\")\n",
    "print(df.isnull().sum())"
   ]
  },
  {
   "cell_type": "code",
   "execution_count": 61,
   "id": "6cbd68b9-e005-4db1-8fc0-fb9c7bff1256",
   "metadata": {},
   "outputs": [
    {
     "name": "stdout",
     "output_type": "stream",
     "text": [
      "\n",
      "Doldurulmuş DataFrame:\n",
      "      Ad        Yaş     Şəhər\n",
      "0    Əli  25.000000      Bakı\n",
      "1  Aygün  29.333333     Gəncə\n",
      "2  Vaqif  35.000000  Sumqayıt\n",
      "3  Günay  28.000000   Naməlum\n"
     ]
    }
   ],
   "source": [
    "filled_df = df.fillna({'Yaş': df['Yaş'].mean(), 'Şəhər': 'Naməlum'})\n",
    "print(\"\\nDoldurulmuş DataFrame:\")\n",
    "print(filled_df)"
   ]
  },
  {
   "cell_type": "code",
   "execution_count": 62,
   "id": "ba40907a-9a11-43b8-b699-1640136d8585",
   "metadata": {},
   "outputs": [],
   "source": [
    "df1 = pd.DataFrame({'A': ['A0', 'A1'], 'B': ['B0', 'B1']})\n",
    "df2 = pd.DataFrame({'A': ['A2', 'A3'], 'B': ['B2', 'B3']})\n"
   ]
  },
  {
   "cell_type": "code",
   "execution_count": 63,
   "id": "22d6c545-8398-4ee3-8fa1-86fa7dc14c5f",
   "metadata": {},
   "outputs": [
    {
     "name": "stdout",
     "output_type": "stream",
     "text": [
      "\n",
      "Birləşdirilmiş DataFrame:\n",
      "    A   B\n",
      "0  A0  B0\n",
      "1  A1  B1\n",
      "2  A2  B2\n",
      "3  A3  B3\n"
     ]
    }
   ],
   "source": [
    "concat_df = pd.concat([df1, df2], ignore_index=True)\n",
    "print(\"\\nBirləşdirilmiş DataFrame:\")\n",
    "print(concat_df)"
   ]
  },
  {
   "cell_type": "code",
   "execution_count": 64,
   "id": "317bd57c-4ab5-4f06-be7c-f784c1edb546",
   "metadata": {},
   "outputs": [
    {
     "name": "stdout",
     "output_type": "stream",
     "text": [
      "\n",
      "Merge edilmiş DataFrame:\n",
      "  key   A   B\n",
      "0  K0  A0  B0\n",
      "1  K1  A1  B1\n"
     ]
    }
   ],
   "source": [
    "left = pd.DataFrame({'key': ['K0', 'K1'], 'A': ['A0', 'A1']})\n",
    "right = pd.DataFrame({'key': ['K0', 'K1'], 'B': ['B0', 'B1']})\n",
    "\n",
    "merged_df = pd.merge(left, right, on='key')\n",
    "print(\"\\nMerge edilmiş DataFrame:\")\n",
    "print(merged_df)"
   ]
  },
  {
   "cell_type": "markdown",
   "id": "c197dece-b3e5-4e91-b9ed-415d9826187a",
   "metadata": {},
   "source": [
    "# Python Basics\n"
   ]
  },
  {
   "cell_type": "markdown",
   "id": "4269e894-8c55-4a5e-bac3-b6d45bc362cf",
   "metadata": {},
   "source": [
    "### 1.1 Dəyişənlər və Operatorlar"
   ]
  },
  {
   "cell_type": "markdown",
   "id": "9730e764-045c-46fc-ac45-2d011b919c4b",
   "metadata": {},
   "source": [
    "## Əsas dəyişən tipləri"
   ]
  },
  {
   "cell_type": "code",
   "execution_count": 4,
   "id": "d1dfc29d-8275-43fb-96f9-d0f4f04f3def",
   "metadata": {},
   "outputs": [],
   "source": [
    "tam_ədəd = 42                  # int\n",
    "kəsr_ədəd = 3.14               # float\n",
    "mətn = \"Salam, Dünya!\"         # str\n",
    "məntiqi = True                 # bool\n",
    "heç_nə = None                  # NoneType"
   ]
  },
  {
   "cell_type": "markdown",
   "id": "0fd549d5-b6c8-4c7f-965c-2c3c620a4297",
   "metadata": {},
   "source": [
    "### Çoxsətirli mətn"
   ]
  },
  {
   "cell_type": "code",
   "execution_count": 5,
   "id": "d9baf78d-3cff-4edb-97fa-8222d2b85fb1",
   "metadata": {},
   "outputs": [],
   "source": [
    "çoxsətirli = \"\"\"\n",
    "Bu çoxsətirli\n",
    "mətn nümunəsidir.\n",
    "\"\"\""
   ]
  },
  {
   "cell_type": "code",
   "execution_count": 7,
   "id": "b02a8058-f83e-4aef-b27f-c89a3788db6d",
   "metadata": {},
   "outputs": [
    {
     "name": "stdout",
     "output_type": "stream",
     "text": [
      "\n",
      "Bu çoxsətirli\n",
      "mətn nümunəsidir.\n",
      "\n"
     ]
    }
   ],
   "source": [
    "print(çoxsətirli)"
   ]
  },
  {
   "cell_type": "code",
   "execution_count": 8,
   "id": "d0eeb960-34e3-404c-a5d9-cfe8ff021468",
   "metadata": {},
   "outputs": [
    {
     "data": {
      "text/plain": [
       "'\\nBu çoxsətirli\\nmətn nümunəsidir.\\n'"
      ]
     },
     "execution_count": 8,
     "metadata": {},
     "output_type": "execute_result"
    }
   ],
   "source": [
    "çoxsətirli"
   ]
  },
  {
   "cell_type": "markdown",
   "id": "1e5b7008-1802-4f0e-9539-7ff57983c690",
   "metadata": {},
   "source": [
    "## Dinamik tip dəyişmə"
   ]
  },
  {
   "cell_type": "code",
   "execution_count": 10,
   "id": "7abb23c3-4f96-4882-a6c6-0be21b008929",
   "metadata": {},
   "outputs": [
    {
     "name": "stdout",
     "output_type": "stream",
     "text": [
      "<class 'int'>\n",
      "<class 'str'>\n"
     ]
    }
   ],
   "source": [
    "dəyişən = 10\n",
    "print(type(dəyişən))  # <class 'int'>\n",
    "dəyişən = \"on\"\n",
    "print(type(dəyişən))  # <class 'str'>\n"
   ]
  },
  {
   "cell_type": "markdown",
   "id": "dd279e52-0f3d-4083-b333-7cb745070304",
   "metadata": {},
   "source": [
    "## Operatorlar nümunələri"
   ]
  },
  {
   "cell_type": "code",
   "execution_count": 11,
   "id": "130ce578-1f1e-4c1a-b99a-1599b18c4638",
   "metadata": {},
   "outputs": [
    {
     "name": "stdout",
     "output_type": "stream",
     "text": [
      "Toplama: 13\n",
      "Çıxma: 7\n",
      "Vurma: 30\n",
      "Bölmə: 3.3333333333333335\n",
      "Tam bölmə: 3\n",
      "Qalıq: 1\n",
      "Üst: 1000\n"
     ]
    }
   ],
   "source": [
    "a, b = 10, 3\n",
    "\n",
    "print(\"Toplama:\", a + b)       # 13\n",
    "print(\"Çıxma:\", a - b)         # 7\n",
    "print(\"Vurma:\", a * b)         # 30\n",
    "print(\"Bölmə:\", a / b)         # 3.333...\n",
    "print(\"Tam bölmə:\", a // b)    # 3\n",
    "print(\"Qalıq:\", a % b)         # 1\n",
    "print(\"Üst:\", a ** b)          # 1000\n"
   ]
  },
  {
   "cell_type": "markdown",
   "id": "ce16e70a-27fb-427a-94c1-d5d84ccc932a",
   "metadata": {},
   "source": [
    "## Müqayisə operatorları"
   ]
  },
  {
   "cell_type": "code",
   "execution_count": 12,
   "id": "08d84c3a-5365-4b50-a819-7e4485ce0edd",
   "metadata": {},
   "outputs": [
    {
     "name": "stdout",
     "output_type": "stream",
     "text": [
      "a > b: True\n",
      "a == b: False\n",
      "a != b: True\n"
     ]
    }
   ],
   "source": [
    "print(\"a > b:\", a > b)         # True\n",
    "print(\"a == b:\", a == b)       # False\n",
    "print(\"a != b:\", a != b)       # True"
   ]
  },
  {
   "cell_type": "markdown",
   "id": "455de733-d5ec-427e-96eb-37e5fb0cd2ff",
   "metadata": {},
   "source": [
    "## Məntiqi operatorlar"
   ]
  },
  {
   "cell_type": "code",
   "execution_count": 13,
   "id": "d0b87126-6799-40bc-871f-dbbaddcb877b",
   "metadata": {},
   "outputs": [
    {
     "name": "stdout",
     "output_type": "stream",
     "text": [
      "AND: False\n",
      "OR: True\n",
      "NOT: False\n"
     ]
    }
   ],
   "source": [
    "print(\"AND:\", True and False)  # False\n",
    "print(\"OR:\", True or False)    # True\n",
    "print(\"NOT:\", not True)        # False\n"
   ]
  },
  {
   "cell_type": "markdown",
   "id": "923910ac-c097-4663-b4c5-bc9dde9d1e26",
   "metadata": {},
   "source": [
    "# 1.2 Şərt İfadələri"
   ]
  },
  {
   "cell_type": "code",
   "execution_count": 15,
   "id": "ec3f1aa3-1ad0-43dc-b766-059c9dd2226e",
   "metadata": {},
   "outputs": [
    {
     "name": "stdout",
     "output_type": "stream",
     "text": [
      "Yaxşı!\n"
     ]
    }
   ],
   "source": [
    "bal = 85\n",
    "\n",
    "if bal >= 90:\n",
    "    print(\"Əla!\")\n",
    "elif bal >= 70:\n",
    "    print(\"Yaxşı!\")\n",
    "elif bal >= 50:\n",
    "    print(\"Qənaətbəxş\")\n",
    "else:\n",
    "    print(\"Kəsildiniz\")"
   ]
  },
  {
   "cell_type": "markdown",
   "id": "25f4fdfa-dcc3-4428-9cf9-ef427e272abf",
   "metadata": {},
   "source": [
    "### İç-içə şərtlər"
   ]
  },
  {
   "cell_type": "code",
   "execution_count": 17,
   "id": "47c245f6-498e-4328-9cb7-845f784d3eae",
   "metadata": {},
   "outputs": [
    {
     "name": "stdout",
     "output_type": "stream",
     "text": [
      "İş üçün uyğunsunuz\n"
     ]
    }
   ],
   "source": [
    "yaş = 20\n",
    "təhsil = \"ali\"\n",
    "\n",
    "if yaş >= 18:\n",
    "    if təhsil == \"ali\":\n",
    "        print(\"İş üçün uyğunsunuz\")\n",
    "    else:\n",
    "        print(\"Təhsil şərtinə uyğun deyilsiniz\")\n",
    "else:\n",
    "    print(\"Yaş şərtinə uyğun deyilsiniz\")"
   ]
  },
  {
   "cell_type": "code",
   "execution_count": 18,
   "id": "86a45b77-9097-4a16-9107-cd96d8348eef",
   "metadata": {},
   "outputs": [
    {
     "name": "stdout",
     "output_type": "stream",
     "text": [
      "Kiçik olan: 10\n"
     ]
    }
   ],
   "source": [
    "x = 10\n",
    "y = 20\n",
    "kiçik = x if x < y else y\n",
    "print(\"Kiçik olan:\", kiçik)"
   ]
  },
  {
   "cell_type": "markdown",
   "id": "96e5c1a6-8bdd-4950-bdbc-3a587af8649b",
   "metadata": {},
   "source": [
    "# 1.3 Dövrlər"
   ]
  },
  {
   "cell_type": "code",
   "execution_count": 20,
   "id": "8901681e-1f18-4bb4-a9a8-eeffbd363bc7",
   "metadata": {},
   "outputs": [
    {
     "name": "stdout",
     "output_type": "stream",
     "text": [
      "0-dan 4-ə qədər:\n",
      "0 1 2 3 4 "
     ]
    }
   ],
   "source": [
    "print(\"0-dan 4-ə qədər:\")\n",
    "for i in range(5):\n",
    "    print(i, end=' ')"
   ]
  },
  {
   "cell_type": "code",
   "execution_count": 21,
   "id": "e68baa59-0860-4b73-b680-1100b04d38ea",
   "metadata": {},
   "outputs": [
    {
     "name": "stdout",
     "output_type": "stream",
     "text": [
      "\n",
      "\n",
      "5-dən 9-a qədər:\n",
      "5 6 7 8 9 "
     ]
    }
   ],
   "source": [
    "print(\"\\n\\n5-dən 9-a qədər:\")\n",
    "for i in range(5, 10):\n",
    "    print(i, end=' ')\n"
   ]
  },
  {
   "cell_type": "code",
   "execution_count": 22,
   "id": "8141e087-df95-4a93-b9b6-185d73c52c9b",
   "metadata": {},
   "outputs": [
    {
     "name": "stdout",
     "output_type": "stream",
     "text": [
      "\n",
      "\n",
      "0-dan 10-a qədər 2 addım:\n",
      "0 2 4 6 8 10 "
     ]
    }
   ],
   "source": [
    "print(\"\\n\\n0-dan 10-a qədər 2 addım:\")\n",
    "for i in range(0, 11, 2):\n",
    "    print(i, end=' ')"
   ]
  },
  {
   "cell_type": "code",
   "execution_count": 23,
   "id": "2f64ed9c-6a66-4ae0-b706-33fd18210596",
   "metadata": {},
   "outputs": [
    {
     "name": "stdout",
     "output_type": "stream",
     "text": [
      "\n",
      "\n",
      "Meyvələr siyahısı:\n",
      "Alma\n",
      "Armud\n",
      "Banan\n",
      "Nar\n"
     ]
    }
   ],
   "source": [
    "meyvələr = [\"alma\", \"armud\", \"banan\", \"nar\"]\n",
    "print(\"\\n\\nMeyvələr siyahısı:\")\n",
    "for meyvə in meyvələr:\n",
    "    print(meyvə.title())"
   ]
  },
  {
   "cell_type": "code",
   "execution_count": 24,
   "id": "18f13909-8cbd-4963-95f1-50dc1fde34b9",
   "metadata": {},
   "outputs": [
    {
     "name": "stdout",
     "output_type": "stream",
     "text": [
      "\n",
      "Meyvələr və indekslər:\n",
      "0: alma\n",
      "1: armud\n",
      "2: banan\n",
      "3: nar\n"
     ]
    }
   ],
   "source": [
    "# İndeks və dəyərlə birlikdə\n",
    "print(\"\\nMeyvələr və indekslər:\")\n",
    "for indeks, meyvə in enumerate(meyvələr):\n",
    "    print(f\"{indeks}: {meyvə}\")"
   ]
  },
  {
   "cell_type": "markdown",
   "id": "beaf4d57-c902-4006-a6e6-5b483519128b",
   "metadata": {},
   "source": [
    "## While dövrü nümunələri"
   ]
  },
  {
   "cell_type": "code",
   "execution_count": 25,
   "id": "7e99c923-42bf-4dc6-acfb-ecdf8f54a5b2",
   "metadata": {},
   "outputs": [
    {
     "name": "stdout",
     "output_type": "stream",
     "text": [
      "\n",
      "While dövrü:\n",
      "0 1 2 3 4 "
     ]
    }
   ],
   "source": [
    "say = 0\n",
    "print(\"\\nWhile dövrü:\")\n",
    "while say < 5:\n",
    "    print(say, end=' ')\n",
    "    say += 1"
   ]
  },
  {
   "cell_type": "code",
   "execution_count": 26,
   "id": "ff06de93-8227-4d70-aff1-d3fb118b76dc",
   "metadata": {},
   "outputs": [
    {
     "name": "stdout",
     "output_type": "stream",
     "text": [
      "\n",
      "\n",
      "Break nümunəsi:\n",
      "0 1 2 3 4 "
     ]
    }
   ],
   "source": [
    "# break və continue\n",
    "print(\"\\n\\nBreak nümunəsi:\")\n",
    "say = 0\n",
    "while True:\n",
    "    print(say, end=' ')\n",
    "    say += 1\n",
    "    if say >= 5:\n",
    "        break\n"
   ]
  },
  {
   "cell_type": "code",
   "execution_count": 27,
   "id": "b7567dda-87b3-4a26-a3df-996ff852cf1c",
   "metadata": {},
   "outputs": [
    {
     "name": "stdout",
     "output_type": "stream",
     "text": [
      "\n",
      "\n",
      "Continue nümunəsi:\n",
      "1 3 5 7 9 "
     ]
    }
   ],
   "source": [
    "print(\"\\n\\nContinue nümunəsi:\")\n",
    "say = 0\n",
    "while say < 10:\n",
    "    say += 1\n",
    "    if say % 2 == 0:\n",
    "        continue\n",
    "    print(say, end=' ')"
   ]
  },
  {
   "cell_type": "markdown",
   "id": "3d5b610d-b92c-48b4-9954-59dc0b7df1d2",
   "metadata": {},
   "source": [
    "## 2.1 Listlər"
   ]
  },
  {
   "cell_type": "code",
   "execution_count": 29,
   "id": "bffba610-e076-4c48-a031-771c6f4321d0",
   "metadata": {},
   "outputs": [
    {
     "name": "stdout",
     "output_type": "stream",
     "text": [
      "Rəqəmlər: [1, 2, 3, 4, 5]\n",
      "Qarışıq list: [1, 'iki', 3.0, True]\n",
      "Range-dən list: [0, 1, 2, 3, 4, 5, 6, 7, 8, 9]\n",
      "String-dən list: ['P', 'y', 't', 'h', 'o', 'n']\n"
     ]
    }
   ],
   "source": [
    "boş_list = []\n",
    "rəqəmlər = [1, 2, 3, 4, 5]\n",
    "qarışıq = [1, \"iki\", 3.0, True]\n",
    "list_from_range = list(range(10))\n",
    "list_from_string = list(\"Python\")\n",
    "\n",
    "print(\"Rəqəmlər:\", rəqəmlər)\n",
    "print(\"Qarışıq list:\", qarışıq)\n",
    "print(\"Range-dən list:\", list_from_range)\n",
    "print(\"String-dən list:\", list_from_string)"
   ]
  },
  {
   "cell_type": "code",
   "execution_count": 30,
   "id": "1faf9000-c38e-4a84-8bd5-3a0a792fcbcf",
   "metadata": {},
   "outputs": [],
   "source": [
    "my_list = [1, 2, 3, 4, 5]"
   ]
  },
  {
   "cell_type": "code",
   "execution_count": 31,
   "id": "31d6ab2d-880d-4682-81eb-78df8bed8426",
   "metadata": {},
   "outputs": [
    {
     "name": "stdout",
     "output_type": "stream",
     "text": [
      "İlk element: 1\n",
      "Son element: 5\n",
      "Slice 1-3: [2, 3]\n",
      "Slice başdan: [1, 2, 3]\n",
      "Slice sona: [4, 5]\n",
      "Addımlı slice: [1, 3, 5]\n"
     ]
    }
   ],
   "source": [
    "print(\"İlk element:\", my_list[0])       # 1\n",
    "print(\"Son element:\", my_list[-1])      # 5\n",
    "print(\"Slice 1-3:\", my_list[1:3])      # [2, 3]\n",
    "print(\"Slice başdan:\", my_list[:3])     # [1, 2, 3]\n",
    "print(\"Slice sona:\", my_list[3:])       # [4, 5]\n",
    "print(\"Addımlı slice:\", my_list[::2])   # [1, 3, 5]\n"
   ]
  },
  {
   "cell_type": "code",
   "execution_count": 32,
   "id": "d6ca20d6-9801-4776-bc3a-3d3cc8b8ae94",
   "metadata": {},
   "outputs": [],
   "source": [
    "meyvələr = [\"alma\", \"banan\"]\n"
   ]
  },
  {
   "cell_type": "code",
   "execution_count": 33,
   "id": "6149a008-b303-4dac-afb6-9839cb43863c",
   "metadata": {},
   "outputs": [
    {
     "name": "stdout",
     "output_type": "stream",
     "text": [
      "Əlavədən sonra: ['alma', 'armud', 'banan', 'nar']\n"
     ]
    }
   ],
   "source": [
    "meyvələr.append(\"nar\")         # Sonuna əlavə\n",
    "meyvələr.insert(1, \"armud\")    # Müəyyən yerə\n",
    "print(\"Əlavədən sonra:\", meyvələr)\n"
   ]
  },
  {
   "cell_type": "code",
   "execution_count": 34,
   "id": "c000c726-ce1c-4418-a543-4a314d9a1772",
   "metadata": {},
   "outputs": [
    {
     "name": "stdout",
     "output_type": "stream",
     "text": [
      "Çıxarılan: armud, Qalan: ['alma', 'banan', 'nar']\n",
      "Silmədən sonra: ['alma', 'nar']\n"
     ]
    }
   ],
   "source": [
    "# Silmə\n",
    "çıxarılan = meyvələr.pop(1)    # İndekslə sil\n",
    "print(f\"Çıxarılan: {çıxarılan}, Qalan: {meyvələr}\")\n",
    "meyvələr.remove(\"banan\")       # Dəyərlə sil\n",
    "print(\"Silmədən sonra:\", meyvələr)\n"
   ]
  },
  {
   "cell_type": "code",
   "execution_count": 35,
   "id": "313b3cbc-6877-457a-9451-0a50b45fe122",
   "metadata": {},
   "outputs": [
    {
     "name": "stdout",
     "output_type": "stream",
     "text": [
      "Çeşidlənmiş: [1, 2, 3, 4]\n",
      "Tərs: [4, 3, 2, 1]\n"
     ]
    }
   ],
   "source": [
    "# Digər əməliyyatlar\n",
    "rəqəmlər = [3, 1, 4, 2]\n",
    "rəqəmlər.sort()                # Çeşidləmə\n",
    "print(\"Çeşidlənmiş:\", rəqəmlər)\n",
    "rəqəmlər.reverse()             # Tərsinə çevirmə\n",
    "print(\"Tərs:\", rəqəmlər)\n"
   ]
  },
  {
   "cell_type": "markdown",
   "id": "f923621d-0500-49b8-a94d-493ae43eb9d3",
   "metadata": {},
   "source": [
    "## List anlayışları (List Comprehensions)"
   ]
  },
  {
   "cell_type": "code",
   "execution_count": 38,
   "id": "17014d0c-b1dc-4cc2-804d-bf83e8399c22",
   "metadata": {},
   "outputs": [
    {
     "name": "stdout",
     "output_type": "stream",
     "text": [
      "[0, 1, 4, 9, 16, 25, 36, 49, 64, 81]\n"
     ]
    }
   ],
   "source": [
    "kvadratlar = []\n",
    "for x in range(10):\n",
    "    kvadratlar.append(x**2)\n",
    "print(kvadratlar)"
   ]
  },
  {
   "cell_type": "code",
   "execution_count": 37,
   "id": "387867eb-15b1-4fc8-bb17-9a479ccc8c87",
   "metadata": {},
   "outputs": [
    {
     "name": "stdout",
     "output_type": "stream",
     "text": [
      "Kvadratlar: [0, 1, 4, 9, 16, 25, 36, 49, 64, 81]\n"
     ]
    }
   ],
   "source": [
    "kvadratlar = [x**2 for x in range(10)]\n",
    "print(\"Kvadratlar:\", kvadratlar)"
   ]
  },
  {
   "cell_type": "code",
   "execution_count": 39,
   "id": "614f62c0-c28e-4f1b-a81a-8985787dc165",
   "metadata": {},
   "outputs": [
    {
     "name": "stdout",
     "output_type": "stream",
     "text": [
      "Cüt ədədlər: [0, 2, 4, 6, 8, 10, 12, 14, 16, 18]\n"
     ]
    }
   ],
   "source": [
    "cüt_ədədlər = [x for x in range(20) if x % 2 == 0]\n",
    "print(\"Cüt ədədlər:\", cüt_ədədlər)\n"
   ]
  },
  {
   "cell_type": "code",
   "execution_count": 40,
   "id": "e414dd9d-ee59-4b1b-9c77-5d0d6d9c6ba1",
   "metadata": {},
   "outputs": [
    {
     "name": "stdout",
     "output_type": "stream",
     "text": [
      "Nəticələr: ['çox yaxşı', 'yaxşı', 'kafi']\n"
     ]
    }
   ],
   "source": [
    "nəticələr = [\"çox yaxşı\" if x > 85 else \"yaxşı\" if x > 70 else \"kafi\" for x in [90, 75, 60]]\n",
    "print(\"Nəticələr:\", nəticələr)\n"
   ]
  },
  {
   "cell_type": "code",
   "execution_count": 41,
   "id": "ec4c56ee-5771-42d6-a475-bc96af83bbf0",
   "metadata": {},
   "outputs": [
    {
     "name": "stdout",
     "output_type": "stream",
     "text": [
      "Tam lüğət: {'ad': 'Əli', 'yaş': 20, 'ixtisas': 'İnformatika', 'fənnlər': ['Proqramlaşdırma', 'Verilənlər Bazası']}\n",
      "Ad: Əli\n",
      "İlk fənn: Proqramlaşdırma\n"
     ]
    }
   ],
   "source": [
    "boş_lüğət = {}\n",
    "şagird = {\n",
    "    \"ad\": \"Əli\",\n",
    "    \"yaş\": 20,\n",
    "    \"ixtisas\": \"İnformatika\",\n",
    "    \"fənnlər\": [\"Proqramlaşdırma\", \"Verilənlər Bazası\"]\n",
    "}\n",
    "\n",
    "print(\"Tam lüğət:\", şagird)\n",
    "print(\"Ad:\", şagird[\"ad\"])\n",
    "print(\"İlk fənn:\", şagird[\"fənnlər\"][0])"
   ]
  },
  {
   "cell_type": "code",
   "execution_count": 42,
   "id": "0c76b9b9-46ba-4e9e-bfef-47d3e2b1b752",
   "metadata": {},
   "outputs": [
    {
     "name": "stdout",
     "output_type": "stream",
     "text": [
      "Açarlar: dict_keys(['ad', 'yaş', 'ixtisas', 'fənnlər'])\n",
      "Dəyərlər: dict_values(['Əli', 20, 'İnformatika', ['Proqramlaşdırma', 'Verilənlər Bazası']])\n",
      "Cütlər: dict_items([('ad', 'Əli'), ('yaş', 20), ('ixtisas', 'İnformatika'), ('fənnlər', ['Proqramlaşdırma', 'Verilənlər Bazası'])])\n"
     ]
    }
   ],
   "source": [
    "print(\"Açarlar:\", şagird.keys())\n",
    "print(\"Dəyərlər:\", şagird.values())\n",
    "print(\"Cütlər:\", şagird.items())\n"
   ]
  },
  {
   "cell_type": "code",
   "execution_count": 43,
   "id": "994ad1a7-f08e-4908-990c-1402e25e270f",
   "metadata": {},
   "outputs": [
    {
     "name": "stdout",
     "output_type": "stream",
     "text": [
      "\n",
      "Əlavədən sonra: {'ad': 'Əli', 'yaş': 20, 'ixtisas': 'İnformatika', 'fənnlər': ['Proqramlaşdırma', 'Verilənlər Bazası'], 'universitet': 'BDU'}\n"
     ]
    }
   ],
   "source": [
    "şagird[\"universitet\"] = \"BDU\"\n",
    "print(\"\\nƏlavədən sonra:\", şagird)"
   ]
  },
  {
   "cell_type": "code",
   "execution_count": 44,
   "id": "d2fc557d-8dfe-4c02-ac0c-ce62fd072680",
   "metadata": {},
   "outputs": [
    {
     "name": "stdout",
     "output_type": "stream",
     "text": [
      "Silinən: 20, Qalan: {'ad': 'Əli', 'ixtisas': 'İnformatika', 'fənnlər': ['Proqramlaşdırma', 'Verilənlər Bazası'], 'universitet': 'BDU'}\n"
     ]
    }
   ],
   "source": [
    "silinən = şagird.pop(\"yaş\")\n",
    "print(f\"Silinən: {silinən}, Qalan: {şagird}\")"
   ]
  },
  {
   "cell_type": "code",
   "execution_count": 45,
   "id": "56711191-d6c6-4906-bf64-8ce83cf90d1f",
   "metadata": {},
   "outputs": [
    {
     "name": "stdout",
     "output_type": "stream",
     "text": [
      "Kvadrat lüğəti: {1: 1, 2: 4, 3: 9, 4: 16, 5: 25}\n"
     ]
    }
   ],
   "source": [
    "ədədlər = [1, 2, 3, 4, 5]\n",
    "kvadrat_lüğəti = {x: x**2 for x in ədədlər}\n",
    "print(\"Kvadrat lüğəti:\", kvadrat_lüğəti)"
   ]
  },
  {
   "cell_type": "code",
   "execution_count": 46,
   "id": "af5bd957-d118-472d-b972-9c62ca027bcb",
   "metadata": {},
   "outputs": [
    {
     "name": "stdout",
     "output_type": "stream",
     "text": [
      "Cüt kvadratlar: {2: 4, 4: 16}\n"
     ]
    }
   ],
   "source": [
    "cüt_lüğət = {k: v for k, v in kvadrat_lüğəti.items() if v % 2 == 0}\n",
    "print(\"Cüt kvadratlar:\", cüt_lüğət)"
   ]
  },
  {
   "cell_type": "code",
   "execution_count": 47,
   "id": "8f9a07e1-4479-40da-a999-5f5f27700793",
   "metadata": {},
   "outputs": [
    {
     "name": "stdout",
     "output_type": "stream",
     "text": [
      "Çoxluq: {1, 2, 3, 4}\n"
     ]
    }
   ],
   "source": [
    "çoxluq = {1, 2, 3, 3, 4, 4}\n",
    "print(\"Çoxluq:\", çoxluq)  # {1, 2, 3, 4}\n"
   ]
  },
  {
   "cell_type": "code",
   "execution_count": 48,
   "id": "e397398e-e08d-4957-aa9c-b554585d2930",
   "metadata": {},
   "outputs": [
    {
     "name": "stdout",
     "output_type": "stream",
     "text": [
      "Birləşmə: {1, 2, 3, 4, 5, 6}\n",
      "Kəsişmə: {3, 4}\n",
      "Fərq (A-B): {1, 2}\n",
      "Simmetrik fərq: {1, 2, 5, 6}\n"
     ]
    }
   ],
   "source": [
    "A = {1, 2, 3, 4}\n",
    "B = {3, 4, 5, 6}\n",
    "\n",
    "print(\"Birləşmə:\", A.union(B))            # {1, 2, 3, 4, 5, 6}\n",
    "print(\"Kəsişmə:\", A.intersection(B))      # {3, 4}\n",
    "print(\"Fərq (A-B):\", A.difference(B))     # {1, 2}\n",
    "print(\"Simmetrik fərq:\", A.symmetric_difference(B))  # {1, 2, 5, 6}\n"
   ]
  },
  {
   "cell_type": "code",
   "execution_count": 49,
   "id": "498cc1af-7972-42d6-9f41-6948cbddd20b",
   "metadata": {},
   "outputs": [
    {
     "name": "stdout",
     "output_type": "stream",
     "text": [
      "Tuple: (40.4093, 49.8671)\n",
      "Enlik: 40.4093\n",
      "Uzunluq: 49.8671\n"
     ]
    }
   ],
   "source": [
    "koordinat = (40.4093, 49.8671)  # Bakı koordinatları\n",
    "print(\"Tuple:\", koordinat)\n",
    "print(\"Enlik:\", koordinat[0])\n",
    "print(\"Uzunluq:\", koordinat[1])"
   ]
  },
  {
   "cell_type": "code",
   "execution_count": 50,
   "id": "32cab5db-cf9e-4ed5-9a95-b0ac5dcb27c1",
   "metadata": {},
   "outputs": [
    {
     "name": "stdout",
     "output_type": "stream",
     "text": [
      "Enlik: 40.4093, Uzunluq: 49.8671\n"
     ]
    }
   ],
   "source": [
    "enlik, uzunluq = koordinat\n",
    "print(f\"Enlik: {enlik}, Uzunluq: {uzunluq}\")\n"
   ]
  },
  {
   "cell_type": "code",
   "execution_count": 51,
   "id": "627b337b-dab4-48d0-a8fa-2b34e6985938",
   "metadata": {},
   "outputs": [
    {
     "name": "stdout",
     "output_type": "stream",
     "text": [
      "5-in kvadratı: 25\n"
     ]
    }
   ],
   "source": [
    "def kvadrat(x):\n",
    "    \"\"\"Verilən ədədin kvadratını qaytarır\"\"\"\n",
    "    return x ** 2\n",
    "\n",
    "print(\"5-in kvadratı:\", kvadrat(5))"
   ]
  },
  {
   "cell_type": "code",
   "execution_count": 52,
   "id": "e1403dfd-4c3f-4532-b42c-322ad3c8733f",
   "metadata": {},
   "outputs": [],
   "source": [
    "def ünvan_yarat(ad, şəhər=\"Bakı\", ölkə=\"Azərbaycan\"):\n",
    "    \"\"\"Ünvan yaradır\"\"\"\n",
    "    return f\"{ad}, {şəhər}, {ölkə}\"\n"
   ]
  },
  {
   "cell_type": "code",
   "execution_count": 53,
   "id": "474a4a17-1c4a-41da-8b74-ba1073125f65",
   "metadata": {},
   "outputs": [
    {
     "name": "stdout",
     "output_type": "stream",
     "text": [
      "Əli, Bakı, Azərbaycan\n",
      "Aygün, Gəncə, Azərbaycan\n",
      "John, London, İngiltərə\n"
     ]
    }
   ],
   "source": [
    "print(ünvan_yarat(\"Əli\"))\n",
    "print(ünvan_yarat(\"Aygün\", \"Gəncə\"))\n",
    "print(ünvan_yarat(\"John\", \"London\", \"İngiltərə\"))\n"
   ]
  },
  {
   "cell_type": "code",
   "execution_count": 54,
   "id": "719d73a6-e5e7-42d7-a869-ce0fe57b4205",
   "metadata": {},
   "outputs": [],
   "source": [
    "def cəmi_hesabla(*rəqəmlər):\n",
    "    \"\"\"Verilən bütün rəqəmlərin cəmini hesablayır\"\"\"\n",
    "    return sum(rəqəmlər)"
   ]
  },
  {
   "cell_type": "code",
   "execution_count": 55,
   "id": "59bd7278-3ce7-4fbd-a9b8-d174ff2043d7",
   "metadata": {},
   "outputs": [
    {
     "name": "stdout",
     "output_type": "stream",
     "text": [
      "Cəmi (1,2,3): 6\n",
      "Cəmi (4,5,6,7): 22\n"
     ]
    }
   ],
   "source": [
    "print(\"Cəmi (1,2,3):\", cəmi_hesabla(1, 2, 3))\n",
    "print(\"Cəmi (4,5,6,7):\", cəmi_hesabla(4, 5, 6, 7))"
   ]
  },
  {
   "cell_type": "code",
   "execution_count": 56,
   "id": "aa2290a0-1150-4146-aa56-8ace03dea50e",
   "metadata": {},
   "outputs": [
    {
     "name": "stdout",
     "output_type": "stream",
     "text": [
      "ad: Əli\n",
      "yaş: 20\n",
      "ixtisas: İnformatika\n"
     ]
    }
   ],
   "source": [
    "def şagird_məlumatı(**məlumat):\n",
    "    \"\"\"Şagird haqqında məlumat çap edir\"\"\"\n",
    "    for açar, dəyər in məlumat.items():\n",
    "        print(f\"{açar}: {dəyər}\")\n",
    "\n",
    "şagird_məlumatı(ad=\"Əli\", yaş=20, ixtisas=\"İnformatika\")"
   ]
  },
  {
   "cell_type": "code",
   "execution_count": 57,
   "id": "b29b24f6-fc63-449b-a47b-6a34c99c5f74",
   "metadata": {},
   "outputs": [
    {
     "name": "stdout",
     "output_type": "stream",
     "text": [
      "Lambda kvadrat: 16\n"
     ]
    }
   ],
   "source": [
    "kvadrat = lambda x: x ** 2\n",
    "print(\"Lambda kvadrat:\", kvadrat(4))\n",
    "\n",
    "# Sıralama üçün lambda\n",
    "şagirdlər = [\n",
    "    {\"ad\": \"Əli\", \"bal\": 85},\n",
    "    {\"ad\": \"Aygün\", \"bal\": 92},\n",
    "    {\"ad\": \"Vaqif\", \"bal\": 78}\n",
    "]"
   ]
  },
  {
   "cell_type": "code",
   "execution_count": 58,
   "id": "68f0ba60-b7eb-468f-a72e-a98dd6534d68",
   "metadata": {},
   "outputs": [
    {
     "name": "stdout",
     "output_type": "stream",
     "text": [
      "Balına görə sıralanmış şagirdlər:\n",
      "{'ad': 'Aygün', 'bal': 92}\n",
      "{'ad': 'Əli', 'bal': 85}\n",
      "{'ad': 'Vaqif', 'bal': 78}\n"
     ]
    }
   ],
   "source": [
    "sıralanmış = sorted(şagirdlər, key=lambda x: x[\"bal\"], reverse=True)\n",
    "print(\"Balına görə sıralanmış şagirdlər:\")\n",
    "for şagird in sıralanmış:\n",
    "    print(şagird)\n"
   ]
  },
  {
   "cell_type": "code",
   "execution_count": 59,
   "id": "0f8710da-498d-4579-9c1c-9c8eb555836c",
   "metadata": {},
   "outputs": [
    {
     "name": "stdout",
     "output_type": "stream",
     "text": [
      "\n",
      "Faylın tam məzmunu:\n",
      "Bu birinci sətirdir.\n",
      "Bu ikinci sətirdir.\n",
      "Bu üçüncü sətirdir.\n",
      "\n"
     ]
    }
   ],
   "source": [
    "with open('nümunə.txt', 'w', encoding='utf-8') as f:\n",
    "    f.write(\"Bu birinci sətirdir.\\n\")\n",
    "    f.write(\"Bu ikinci sətirdir.\\n\")\n",
    "    f.write(\"Bu üçüncü sətirdir.\\n\")\n",
    "\n",
    "# Fayldan oxumaq\n",
    "print(\"\\nFaylın tam məzmunu:\")\n",
    "with open('nümunə.txt', 'r', encoding='utf-8') as f:\n",
    "    print(f.read())\n"
   ]
  },
  {
   "cell_type": "code",
   "execution_count": 60,
   "id": "6adcb9a3-9e24-4be3-8ffc-bf7840343bad",
   "metadata": {},
   "outputs": [
    {
     "name": "stdout",
     "output_type": "stream",
     "text": [
      "\n",
      "Fayl sətir-sətir:\n",
      "Bu birinci sətirdir.\n",
      "Bu ikinci sətirdir.\n",
      "Bu üçüncü sətirdir.\n"
     ]
    }
   ],
   "source": [
    "print(\"\\nFayl sətir-sətir:\")\n",
    "with open('nümunə.txt', 'r', encoding='utf-8') as f:\n",
    "    for sətir in f:\n",
    "        print(sətir.strip())\n"
   ]
  },
  {
   "cell_type": "code",
   "execution_count": 61,
   "id": "7e96e589-26e2-4d4c-aee6-2c1025035a17",
   "metadata": {},
   "outputs": [
    {
     "name": "stdout",
     "output_type": "stream",
     "text": [
      "\n",
      "CSV fayl məzmunu:\n",
      "['Ad', 'Yaş', 'İxtisas']\n",
      "['Əli', '20', 'İnformatika']\n",
      "['Aygün', '21', 'Riyaziyyat']\n"
     ]
    }
   ],
   "source": [
    "import csv\n",
    "\n",
    "\n",
    "with open('şagirdlər.csv', 'w', newline='', encoding='utf-8') as f:\n",
    "    writer = csv.writer(f)\n",
    "    writer.writerow([\"Ad\", \"Yaş\", \"İxtisas\"])\n",
    "    writer.writerow([\"Əli\", 20, \"İnformatika\"])\n",
    "    writer.writerow([\"Aygün\", 21, \"Riyaziyyat\"])\n",
    "\n",
    "# CSV oxumaq\n",
    "print(\"\\nCSV fayl məzmunu:\")\n",
    "with open('şagirdlər.csv', 'r', encoding='utf-8') as f:\n",
    "    reader = csv.reader(f)\n",
    "    for sətir in reader:\n",
    "        print(sətir)"
   ]
  },
  {
   "cell_type": "code",
   "execution_count": 62,
   "id": "c98a3f00-4243-4bb1-8017-a1e5e8a698e0",
   "metadata": {},
   "outputs": [
    {
     "name": "stdin",
     "output_type": "stream",
     "text": [
      "Yaşınızı daxil edin:  \n"
     ]
    },
    {
     "name": "stdout",
     "output_type": "stream",
     "text": [
      "Xəta: Yaş rəqəm olmalıdır!\n",
      "İcra tamamlandı\n"
     ]
    }
   ],
   "source": [
    "try:\n",
    "    yaş = int(input(\"Yaşınızı daxil edin: \"))\n",
    "    print(f\"Sizin yaşınız {yaş}-dir\")\n",
    "except ValueError:\n",
    "    print(\"Xəta: Yaş rəqəm olmalıdır!\")\n",
    "except Exception as e:\n",
    "    print(f\"Gözlənilməz xəta: {e}\")\n",
    "finally:\n",
    "    print(\"İcra tamamlandı\")"
   ]
  },
  {
   "cell_type": "code",
   "execution_count": 63,
   "id": "b843e420-aed6-4cd3-8e41-b0bbece8ee63",
   "metadata": {},
   "outputs": [],
   "source": [
    "class BalXətası(Exception):\n",
    "    \"\"\"Bal üçün xüsusi xəta sinfi\"\"\"\n",
    "    pass\n",
    "\n",
    "def bal_yoxla(bal):\n",
    "    if bal < 0 or bal > 100:\n",
    "        raise BalXətası(\"Bal 0-100 aralığında olmalıdır\")\n",
    "    return bal"
   ]
  },
  {
   "cell_type": "code",
   "execution_count": 64,
   "id": "df6d17fc-0693-439b-8e02-01c7810993d1",
   "metadata": {},
   "outputs": [
    {
     "name": "stdout",
     "output_type": "stream",
     "text": [
      "85\n",
      "Xəta: Bal 0-100 aralığında olmalıdır\n"
     ]
    }
   ],
   "source": [
    "\n",
    "try:\n",
    "    print(bal_yoxla(85))  # Normal\n",
    "    print(bal_yoxla(120)) # Xəta\n",
    "except BalXətası as e:\n",
    "    print(f\"Xəta: {e}\")\n"
   ]
  },
  {
   "cell_type": "markdown",
   "id": "12e85336-7bbb-48af-82cf-31762d2cc290",
   "metadata": {},
   "source": [
    "## Generator-lar (Generators)"
   ]
  },
  {
   "cell_type": "code",
   "execution_count": 65,
   "id": "7a347ade-e3ad-4d88-bade-868a98e16749",
   "metadata": {},
   "outputs": [],
   "source": [
    "def say_üstlü(n):\n",
    "    \"\"\"Sayğac generatoru\"\"\"\n",
    "    for i in range(n):\n",
    "        yield i ** 2  # yield generator yaradır"
   ]
  },
  {
   "cell_type": "code",
   "execution_count": 66,
   "id": "3075f961-066b-452f-a4ba-b510a47d1dcd",
   "metadata": {},
   "outputs": [
    {
     "name": "stdout",
     "output_type": "stream",
     "text": [
      "Generator tipi: <class 'generator'>\n"
     ]
    }
   ],
   "source": [
    "generator = say_üstlü(5)\n",
    "print(\"Generator tipi:\", type(generator))"
   ]
  },
  {
   "cell_type": "code",
   "execution_count": 67,
   "id": "d2d088d6-3a39-4f08-8a84-d0419f710ceb",
   "metadata": {},
   "outputs": [
    {
     "name": "stdout",
     "output_type": "stream",
     "text": [
      "Generator dəyərləri:\n",
      "0\n",
      "1\n",
      "4\n",
      "9\n",
      "16\n"
     ]
    }
   ],
   "source": [
    "print(\"Generator dəyərləri:\")\n",
    "for dəyər in generator:\n",
    "    print(dəyər)\n",
    "    "
   ]
  },
  {
   "cell_type": "code",
   "execution_count": 69,
   "id": "6470a930-321f-4827-9966-07e7ff40ca43",
   "metadata": {},
   "outputs": [],
   "source": [
    "import sys"
   ]
  },
  {
   "cell_type": "code",
   "execution_count": 70,
   "id": "2b3f1003-9c33-4b45-9b41-7978fa3dfb98",
   "metadata": {},
   "outputs": [
    {
     "name": "stdout",
     "output_type": "stream",
     "text": [
      "List yaddaş ölçüsü: 800984 bayt\n",
      "Generator yaddaş ölçüsü: 192 bayt\n"
     ]
    }
   ],
   "source": [
    "list_rəqəmlər = [x for x in range(100000)]\n",
    "print(\"List yaddaş ölçüsü:\", sys.getsizeof(list_rəqəmlər), \"bayt\")\n",
    "\n",
    "# Generator yaratmaq\n",
    "generator_rəqəmlər = (x for x in range(100000))\n",
    "print(\"Generator yaddaş ölçüsü:\", sys.getsizeof(generator_rəqəmlər), \"bayt\")"
   ]
  },
  {
   "cell_type": "code",
   "execution_count": 71,
   "id": "db28b950-b577-4237-85b4-dbea0c5d84e3",
   "metadata": {},
   "outputs": [],
   "source": [
    "def sayğac():\n",
    "    \"\"\"Dayandırıla bilən sayğac generatoru\"\"\"\n",
    "    say = 0\n",
    "    while True:\n",
    "        yield say\n",
    "        say += 1"
   ]
  },
  {
   "cell_type": "code",
   "execution_count": 72,
   "id": "e5ded6e2-9c51-4f62-80d0-5ee32a29d5b5",
   "metadata": {},
   "outputs": [
    {
     "name": "stdout",
     "output_type": "stream",
     "text": [
      "\n",
      "Sayğac dəyərləri:\n",
      "0\n",
      "1\n",
      "2\n"
     ]
    }
   ],
   "source": [
    "counter = sayğac()\n",
    "\n",
    "# Bir neçə dəyər almaq\n",
    "print(\"\\nSayğac dəyərləri:\")\n",
    "print(next(counter))  # 0\n",
    "print(next(counter))  # 1\n",
    "print(next(counter))  # 2\n"
   ]
  },
  {
   "cell_type": "code",
   "execution_count": 74,
   "id": "950244c0-3041-4b39-904a-7e143d3277cd",
   "metadata": {},
   "outputs": [],
   "source": [
    "def orta_hesablayıcı():\n",
    "    \"\"\"Dəyər qəbul edən generator\"\"\"\n",
    "    cəm = 0\n",
    "    say = 0\n",
    "    while True:\n",
    "        dəyər = yield  # yield dəyər qəbul edir\n",
    "        if dəyər is None:\n",
    "            break\n",
    "        cəm += dəyər\n",
    "        say += 1\n",
    "    yield cəm / say if say > 0 else 0\n",
    "\n",
    "# İstifadə\n",
    "ortalama = orta_hesablayıcı()\n",
    "next(ortalama)  # Generatoru başlatmaq\n",
    "\n",
    "ortalama.send(10)  # Dəyər göndərmək\n",
    "ortalama.send(20)\n",
    "ortalama.send(30)\n",
    "\n",
    "try:\n",
    "    ortalama.send(None)  # Dayandırmaq üçün\n",
    "except StopIteration as e:\n",
    "    print(\"\\nOrta dəyər:\", e.value)  # 20.0"
   ]
  },
  {
   "cell_type": "markdown",
   "id": "82f964cb-95dc-4fba-8310-b8d8b38dbb5f",
   "metadata": {},
   "source": [
    "## Decorator-lar"
   ]
  },
  {
   "cell_type": "code",
   "execution_count": 75,
   "id": "b4202352-c5b0-415b-8b9a-df2f2258c7a0",
   "metadata": {},
   "outputs": [],
   "source": [
    "def vaxt_ölçən(func):\n",
    "    \"\"\"Funksiyanın icra vaxtını ölçən decorator\"\"\"\n",
    "    def əhatə_edici(*args, **kwargs):\n",
    "        import time\n",
    "        başlama = time.time()\n",
    "        nəticə = func(*args, **kwargs)\n",
    "        bitmə = time.time()\n",
    "        print(f\"{func.__name__} funksiyası {bitmə - başlama:.4f} saniyə çəkdi\")\n",
    "        return nəticə\n",
    "    return əhatə_edici"
   ]
  },
  {
   "cell_type": "code",
   "execution_count": 76,
   "id": "48e100c8-75d4-4300-bbfb-e51f1c2e0ea6",
   "metadata": {},
   "outputs": [
    {
     "name": "stdout",
     "output_type": "stream",
     "text": [
      "uzun_hesablama funksiyası 0.1506 saniyə çəkdi\n",
      "\n",
      "Uzun hesablama nəticəsi: 499999500000\n"
     ]
    }
   ],
   "source": [
    "@vaxt_ölçən\n",
    "def uzun_hesablama(n):\n",
    "    \"\"\"Uzun hesablama simulyasiyası\"\"\"\n",
    "    toplam = 0\n",
    "    for i in range(n):\n",
    "        toplam += i\n",
    "    return toplam\n",
    "\n",
    "print(\"\\nUzun hesablama nəticəsi:\", uzun_hesablama(1000000))"
   ]
  },
  {
   "cell_type": "markdown",
   "id": "7a56d3c9-e164-42af-abe4-7186f0aa5fd7",
   "metadata": {},
   "source": [
    "### 2.2 Parametrli decoratorlar"
   ]
  },
  {
   "cell_type": "code",
   "execution_count": 77,
   "id": "0abecc96-f753-4e5c-9cd3-3e3d7f12f267",
   "metadata": {},
   "outputs": [],
   "source": [
    "def təkrar_et(sayı):\n",
    "    \"\"\"Funksiyanı müəyyən sayda təkrar edən decorator\"\"\"\n",
    "    def real_decorator(func):\n",
    "        def əhatə_edici(*args, **kwargs):\n",
    "            for _ in range(sayı):\n",
    "                nəticə = func(*args, **kwargs)\n",
    "            return nəticə\n",
    "        return əhatə_edici\n",
    "    return real_decorator"
   ]
  },
  {
   "cell_type": "code",
   "execution_count": 78,
   "id": "10b74fe7-ef92-4a8d-aac4-8bb5b87ec707",
   "metadata": {},
   "outputs": [
    {
     "name": "stdout",
     "output_type": "stream",
     "text": [
      "\n",
      "Təkrar decorator nümunəsi:\n",
      "Salam, Əli!\n",
      "Salam, Əli!\n",
      "Salam, Əli!\n"
     ]
    }
   ],
   "source": [
    "@təkrar_et(sayı=3)\n",
    "def salam_ver(ad):\n",
    "    \"\"\"Salam verən funksiya\"\"\"\n",
    "    print(f\"Salam, {ad}!\")\n",
    "\n",
    "print(\"\\nTəkrar decorator nümunəsi:\")\n",
    "salam_ver(\"Əli\")"
   ]
  },
  {
   "cell_type": "code",
   "execution_count": 2,
   "id": "6f6d1831-cbcb-4c12-ab73-71c146f77ea0",
   "metadata": {},
   "outputs": [
    {
     "name": "stdout",
     "output_type": "stream",
     "text": [
      "Cəmi: 15\n",
      "Orta: 3.0\n",
      "PI dəyəri: 3.14159\n"
     ]
    }
   ],
   "source": [
    "from hesablamalar import cemi, orta, PI\n",
    "\n",
    "reqemler = [1, 2, 3, 4, 5]\n",
    "print(\"Cəmi:\", cemi(reqemler))\n",
    "print(\"Orta:\", orta(reqemler))\n",
    "print(\"PI dəyəri:\", PI)"
   ]
  },
  {
   "cell_type": "code",
   "execution_count": 3,
   "id": "57db2004-b533-437a-a431-7d2ef656083c",
   "metadata": {},
   "outputs": [
    {
     "name": "stdout",
     "output_type": "stream",
     "text": [
      "\n",
      "Modul axtarış yolları:\n",
      "C:\\Users\\goyle\\AppData\\Local\\Programs\\Python\\Python313\\python313.zip\n",
      "C:\\Users\\goyle\\AppData\\Local\\Programs\\Python\\Python313\\DLLs\n",
      "C:\\Users\\goyle\\AppData\\Local\\Programs\\Python\\Python313\\Lib\n",
      "C:\\Users\\goyle\\AppData\\Local\\Programs\\Python\\Python313\n",
      "\n",
      "C:\\Users\\goyle\\AppData\\Local\\Programs\\Python\\Python313\\Lib\\site-packages\n",
      "C:\\Users\\goyle\\AppData\\Local\\Programs\\Python\\Python313\\Lib\\site-packages\\win32\n",
      "C:\\Users\\goyle\\AppData\\Local\\Programs\\Python\\Python313\\Lib\\site-packages\\win32\\lib\n",
      "C:\\Users\\goyle\\AppData\\Local\\Programs\\Python\\Python313\\Lib\\site-packages\\Pythonwin\n"
     ]
    }
   ],
   "source": [
    "import sys\n",
    "print(\"\\nModul axtarış yolları:\")\n",
    "for yol in sys.path:\n",
    "    print(yol)"
   ]
  },
  {
   "cell_type": "code",
   "execution_count": 4,
   "id": "9d369649-ce08-461a-9adb-22b0e2dcba11",
   "metadata": {},
   "outputs": [
    {
     "name": "stdout",
     "output_type": "stream",
     "text": [
      "\n",
      "Bu modul birbaşa işə salınıb\n"
     ]
    }
   ],
   "source": [
    "if __name__ == \"__main__\":\n",
    "    print(\"\\nBu modul birbaşa işə salınıb\")\n",
    "else:\n",
    "    print(\"\\nBu modul import edilib\")"
   ]
  },
  {
   "cell_type": "code",
   "execution_count": 5,
   "id": "3213eb3d-c5d6-462a-a07e-354923ba88cd",
   "metadata": {},
   "outputs": [
    {
     "name": "stdout",
     "output_type": "stream",
     "text": [
      "Cari qovluq: C:\\Users\\goyle\\OneDrive\\Desktop\\AIlab_python\n"
     ]
    }
   ],
   "source": [
    "import os\n",
    "print(\"Cari qovluq:\", os.getcwd())"
   ]
  },
  {
   "cell_type": "code",
   "execution_count": 6,
   "id": "f5e41893-bb7b-4ee2-98bc-f6e43955dbb0",
   "metadata": {},
   "outputs": [
    {
     "name": "stdout",
     "output_type": "stream",
     "text": [
      "\n",
      "Qovluq məzmunu:\n",
      ".ipynb_checkpoints\n",
      "hesablamalar.py\n",
      "nümunə.txt\n",
      "python.ipynb\n",
      "__pycache__\n",
      "şagirdlər.csv\n"
     ]
    }
   ],
   "source": [
    "print(\"\\nQovluq məzmunu:\")\n",
    "for element in os.listdir():\n",
    "    print(element)"
   ]
  },
  {
   "cell_type": "code",
   "execution_count": 7,
   "id": "78a5472c-03ed-4177-80ac-c6dfabc20957",
   "metadata": {},
   "outputs": [
    {
     "name": "stdout",
     "output_type": "stream",
     "text": [
      "\n",
      "Fayl məlumatı:\n",
      "Ölçü: 128 bayt\n",
      "Son dəyişmə: 1751302382.6738274\n"
     ]
    }
   ],
   "source": [
    "if os.path.exists(\"hesablamalar.py\"):\n",
    "    print(\"\\nFayl məlumatı:\")\n",
    "    print(\"Ölçü:\", os.path.getsize(\"hesablamalar.py\"), \"bayt\")\n",
    "    print(\"Son dəyişmə:\", os.path.getmtime(\"hesablamalar.py\"))\n"
   ]
  },
  {
   "cell_type": "code",
   "execution_count": 1,
   "id": "286e6457-8239-41fc-8e5f-b3e88ad02822",
   "metadata": {},
   "outputs": [
    {
     "name": "stdout",
     "output_type": "stream",
     "text": [
      "\n",
      "Riyazi funksiyalar:\n",
      "Kvadrat kök: 4.0\n",
      "Sinus: 1.0\n",
      "e üstü: 2.718281828459045\n",
      "Faktorial: 120\n",
      "GCD (ƏBOB): 6\n"
     ]
    }
   ],
   "source": [
    "import math\n",
    "\n",
    "print(\"\\nRiyazi funksiyalar:\")\n",
    "print(\"Kvadrat kök:\", math.sqrt(16))\n",
    "print(\"Sinus:\", math.sin(math.pi/2))\n",
    "print(\"e üstü:\", math.exp(1))\n",
    "print(\"Faktorial:\", math.factorial(5))\n",
    "print(\"GCD (ƏBOB):\", math.gcd(48, 18))\n"
   ]
  },
  {
   "cell_type": "code",
   "execution_count": 2,
   "id": "838c630f-1392-437d-af7c-b9bf6733a8ca",
   "metadata": {},
   "outputs": [
    {
     "name": "stdout",
     "output_type": "stream",
     "text": [
      "\n",
      "Hazırkı vaxt: 2025-07-01 12:09:28.272560\n",
      "Formatlanmış: 01.07.2025 12:09\n",
      "Bir həftə sonra: 2025-07-08 12:09:28.272560\n"
     ]
    }
   ],
   "source": [
    "from datetime import datetime, timedelta\n",
    "\n",
    "# Hazırkı tarix və vaxt\n",
    "indiki = datetime.now()\n",
    "print(\"\\nHazırkı vaxt:\", indiki)\n",
    "\n",
    "# Formatlama\n",
    "print(\"Formatlanmış:\", indiki.strftime(\"%d.%m.%Y %H:%M\"))\n",
    "\n",
    "# Tarix əməliyyatları\n",
    "bir_həftə_sonra = indiki + timedelta(days=7)\n",
    "print(\"Bir həftə sonra:\", bir_həftə_sonra)"
   ]
  },
  {
   "cell_type": "code",
   "execution_count": 3,
   "id": "c2c6eaab-1f24-443d-bdaa-442a0a542c92",
   "metadata": {},
   "outputs": [
    {
     "name": "stdout",
     "output_type": "stream",
     "text": [
      "\n",
      "Təsadüfi ədədlər:\n",
      "0-1 arası: 0.9060982721086299\n",
      "1-10 arası tam: 8\n",
      "Təsadüfi seçim: banan\n",
      "Qarışdırılmış list: [5, 3, 2, 1, 4]\n"
     ]
    }
   ],
   "source": [
    "import random\n",
    "\n",
    "print(\"\\nTəsadüfi ədədlər:\")\n",
    "print(\"0-1 arası:\", random.random())\n",
    "print(\"1-10 arası tam:\", random.randint(1, 10))\n",
    "print(\"Təsadüfi seçim:\", random.choice([\"alma\", \"armud\", \"banan\"]))\n",
    "\n",
    "# Listi qarışdırmaq\n",
    "list = [1, 2, 3, 4, 5]\n",
    "random.shuffle(list)\n",
    "print(\"Qarışdırılmış list:\", list)"
   ]
  },
  {
   "cell_type": "code",
   "execution_count": 4,
   "id": "ea77a2bd-1163-45bb-8bde-2ef30e415612",
   "metadata": {},
   "outputs": [
    {
     "name": "stdout",
     "output_type": "stream",
     "text": [
      "\n",
      "Mətndəki rəqəmlər: ['123', '456']\n"
     ]
    }
   ],
   "source": [
    "import re\n",
    "mətndəki_rəqəmlər = re.findall(r'\\d+', 'Salam 123, Nə var 456?')\n",
    "print(\"\\nMətndəki rəqəmlər:\", mətndəki_rəqəmlər)\n",
    "\n"
   ]
  },
  {
   "cell_type": "markdown",
   "id": "0e70a4e9-c110-4bcd-9143-60880233ed9d",
   "metadata": {},
   "source": [
    "# API İstifadəsi və Web Scraping"
   ]
  },
  {
   "cell_type": "code",
   "execution_count": 5,
   "id": "182c8c22-8817-4107-b6d3-7f5b8e079d68",
   "metadata": {},
   "outputs": [
    {
     "name": "stdout",
     "output_type": "stream",
     "text": [
      "Status kod: 200\n",
      "Məzmun tipi: application/json; charset=utf-8\n",
      "JSON məzmunu: {'current_user_url': 'https://api.github.com/user', 'current_user_authorizations_html_url': 'https://github.com/settings/connections/applications{/client_id}', 'authorizations_url': 'https://api.github.com/authorizations', 'code_search_url': 'https://api.github.com/search/code?q={query}{&page,per_page,sort,order}', 'commit_search_url': 'https://api.github.com/search/commits?q={query}{&page,per_page,sort,order}', 'emails_url': 'https://api.github.com/user/emails', 'emojis_url': 'https://api.github.com/emojis', 'events_url': 'https://api.github.com/events', 'feeds_url': 'https://api.github.com/feeds', 'followers_url': 'https://api.github.com/user/followers', 'following_url': 'https://api.github.com/user/following{/target}', 'gists_url': 'https://api.github.com/gists{/gist_id}', 'hub_url': 'https://api.github.com/hub', 'issue_search_url': 'https://api.github.com/search/issues?q={query}{&page,per_page,sort,order}', 'issues_url': 'https://api.github.com/issues', 'keys_url': 'https://api.github.com/user/keys', 'label_search_url': 'https://api.github.com/search/labels?q={query}&repository_id={repository_id}{&page,per_page}', 'notifications_url': 'https://api.github.com/notifications', 'organization_url': 'https://api.github.com/orgs/{org}', 'organization_repositories_url': 'https://api.github.com/orgs/{org}/repos{?type,page,per_page,sort}', 'organization_teams_url': 'https://api.github.com/orgs/{org}/teams', 'public_gists_url': 'https://api.github.com/gists/public', 'rate_limit_url': 'https://api.github.com/rate_limit', 'repository_url': 'https://api.github.com/repos/{owner}/{repo}', 'repository_search_url': 'https://api.github.com/search/repositories?q={query}{&page,per_page,sort,order}', 'current_user_repositories_url': 'https://api.github.com/user/repos{?type,page,per_page,sort}', 'starred_url': 'https://api.github.com/user/starred{/owner}{/repo}', 'starred_gists_url': 'https://api.github.com/gists/starred', 'topic_search_url': 'https://api.github.com/search/topics?q={query}{&page,per_page}', 'user_url': 'https://api.github.com/users/{user}', 'user_organizations_url': 'https://api.github.com/user/orgs', 'user_repositories_url': 'https://api.github.com/users/{user}/repos{?type,page,per_page,sort}', 'user_search_url': 'https://api.github.com/search/users?q={query}{&page,per_page,sort,order}'}\n"
     ]
    }
   ],
   "source": [
    "import requests\n",
    "\n",
    "# GET sorğusu nümunəsi\n",
    "cavab = requests.get('https://api.github.com')\n",
    "print(\"Status kod:\", cavab.status_code)  # 200 uğurlu deməkdir\n",
    "print(\"Məzmun tipi:\", cavab.headers['content-type'])\n",
    "print(\"JSON məzmunu:\", cavab.json())\n"
   ]
  },
  {
   "cell_type": "code",
   "execution_count": 6,
   "id": "e7af9104-ec42-4993-828a-3f23f020e65a",
   "metadata": {},
   "outputs": [
    {
     "name": "stdout",
     "output_type": "stream",
     "text": [
      "\n",
      "Axtarış nəticələri:\n",
      "5069125 nəticə tapıldı\n"
     ]
    }
   ],
   "source": [
    "parametrlər = {'q': 'python', 'page': 1}\n",
    "github_cavab = requests.get('https://api.github.com/search/repositories', params=parametrlər)\n",
    "print(\"\\nAxtarış nəticələri:\")\n",
    "print(github_cavab.json()['total_count'], \"nəticə tapıldı\")"
   ]
  },
  {
   "cell_type": "code",
   "execution_count": 7,
   "id": "91c62fd2-ae4b-4390-8bc6-82b33113412c",
   "metadata": {},
   "outputs": [
    {
     "name": "stdout",
     "output_type": "stream",
     "text": [
      "\n",
      "POST cavabı:\n",
      "{'args': {}, 'data': '', 'files': {}, 'form': {'ad': 'Əli', 'ixtisas': 'İnformatika'}, 'headers': {'Accept': '*/*', 'Accept-Encoding': 'gzip, deflate', 'Content-Length': '36', 'Content-Type': 'application/x-www-form-urlencoded', 'Host': 'httpbin.org', 'User-Agent': 'python-requests/2.32.4', 'X-Amzn-Trace-Id': 'Root=1-6863b3ea-334dcd2014554b56225bbfb6'}, 'json': None, 'origin': '37.61.116.243', 'url': 'https://httpbin.org/post'}\n"
     ]
    }
   ],
   "source": [
    "url = 'https://httpbin.org/post'\n",
    "məlumat = {'ad': 'Əli', 'ixtisas': 'İnformatika'}\n",
    "cavab = requests.post(url, data=məlumat)\n",
    "\n",
    "print(\"\\nPOST cavabı:\")\n",
    "print(cavab.json())"
   ]
  },
  {
   "cell_type": "code",
   "execution_count": 8,
   "id": "14abbfb2-e916-4f01-9759-4c43d7e05843",
   "metadata": {},
   "outputs": [
    {
     "name": "stdout",
     "output_type": "stream",
     "text": [
      "\n",
      "İlk 3 repo:\n",
      "Python - https://github.com/TheAlgorithms/Python\n",
      "Python - https://github.com/geekcomputers/Python\n",
      "Python - https://github.com/walter201230/Python\n"
     ]
    }
   ],
   "source": [
    "if github_cavab.status_code == 200:\n",
    "    nəticələr = github_cavab.json()\n",
    "    print(\"\\nİlk 3 repo:\")\n",
    "    for repo in nəticələr['items'][:3]:\n",
    "        print(f\"{repo['name']} - {repo['html_url']}\")\n",
    "else:\n",
    "    print(f\"Xəta baş verdi: {github_cavab.status_code}\")\n"
   ]
  },
  {
   "cell_type": "code",
   "execution_count": 9,
   "id": "dabe3c4c-2312-4dbf-8ed1-44bd86e779ee",
   "metadata": {},
   "outputs": [
    {
     "name": "stdout",
     "output_type": "stream",
     "text": [
      "\n",
      "HTTP Xətası: 404 Client Error: Not Found for url: https://api.github.com/nonexistent\n"
     ]
    }
   ],
   "source": [
    "try:\n",
    "    cavab = requests.get('https://api.github.com/nonexistent', timeout=5)\n",
    "    cavab.raise_for_status()  # 4XX və 5XX xətaları üçün exception qaldırır\n",
    "except requests.exceptions.HTTPError as errh:\n",
    "    print(\"\\nHTTP Xətası:\", errh)\n",
    "except requests.exceptions.ConnectionError as errc:\n",
    "    print(\"Bağlantı Xətası:\", errc)\n",
    "except requests.exceptions.Timeout as errt:\n",
    "    print(\"Zaman Aşımı:\", errt)\n",
    "except requests.exceptions.RequestException as err:\n",
    "    print(\"Nə isə səhv getdi:\", err)"
   ]
  },
  {
   "cell_type": "markdown",
   "id": "77034d4b-cc6c-4a06-87b8-1d992f05374d",
   "metadata": {},
   "source": [
    "## 2. Web Scraping"
   ]
  },
  {
   "cell_type": "code",
   "execution_count": 15,
   "id": "f4f51cf6-d63d-478d-8c77-ffe4e24b3f35",
   "metadata": {},
   "outputs": [
    {
     "name": "stdout",
     "output_type": "stream",
     "text": [
      "Başlıq: Python (programming language)\n"
     ]
    }
   ],
   "source": [
    "from bs4 import BeautifulSoup\n",
    "import requests\n",
    "\n",
    "# Nümunə səhifəni yükləyək\n",
    "url = 'https://en.wikipedia.org/wiki/Python_(programming_language)'\n",
    "səhifə = requests.get(url)\n",
    "soup = BeautifulSoup(səhifə.content, 'html.parser')\n",
    "\n",
    "# Başlığı çıxaraq\n",
    "başlıq = soup.find(id='firstHeading')\n",
    "print(\"Başlıq:\", başlıq.text)"
   ]
  },
  {
   "cell_type": "code",
   "execution_count": 16,
   "id": "4c994a60-90b3-436f-b668-15b99dc94934",
   "metadata": {},
   "outputs": [
    {
     "name": "stdout",
     "output_type": "stream",
     "text": [
      "\n",
      "Məzmun başlıqları:\n"
     ]
    }
   ],
   "source": [
    "print(\"\\nMəzmun başlıqları:\")\n",
    "for başlıq in soup.find_all('span', class_='mw-headline'):\n",
    "    print(başlıq.text)\n"
   ]
  },
  {
   "cell_type": "code",
   "execution_count": 17,
   "id": "355e952d-45de-4567-a611-369d3a310c2c",
   "metadata": {},
   "outputs": [
    {
     "name": "stdout",
     "output_type": "stream",
     "text": [
      "\n",
      "Dil versiyaları cədvəli:\n",
      "bool: immutable\n",
      "bytearray: mutable\n",
      "bytes: immutable\n",
      "complex: immutable\n",
      "dict: mutable\n",
      "types.EllipsisType: immutable\n",
      "float: immutable\n",
      "frozenset: immutable\n",
      "int: immutable\n",
      "list: mutable\n",
      "types.NoneType: immutable\n",
      "types.NotImplementedType: immutable\n",
      "range: immutable\n",
      "set: mutable\n",
      "str: immutable\n",
      "tuple: immutable\n"
     ]
    }
   ],
   "source": [
    "print(\"\\nDil versiyaları cədvəli:\")\n",
    "cədvəl = soup.find('table', class_='wikitable')\n",
    "for sətir in cədvəl.find_all('tr')[1:]:  # İlk sətir başlıqlardır\n",
    "    sütunlar = sətir.find_all('td')\n",
    "    if len(sütunlar) >= 2:\n",
    "        versiya = sütunlar[0].text.strip()\n",
    "        tarix = sütunlar[1].text.strip()\n",
    "        print(f\"{versiya}: {tarix}\")"
   ]
  },
  {
   "cell_type": "code",
   "execution_count": 18,
   "id": "f791bf67-62c5-4d1c-bb5f-6495fcf78484",
   "metadata": {},
   "outputs": [
    {
     "name": "stdout",
     "output_type": "stream",
     "text": [
      "\n",
      "Xarici linklər:\n",
      "Edit links: https://www.wikidata.org/wiki/Special:EntityPage/Q28865#sitelinks-wikipedia\n",
      "Wikimedia Commons: https://commons.wikimedia.org/wiki/Python_(programming_language)\n",
      "MediaWiki: https://www.mediawiki.org/wiki/Python\n",
      "Wikibooks: https://en.wikibooks.org/wiki/Python_Programming\n",
      "Wikifunctions: https://www.wikifunctions.org/wiki/Z610\n",
      "Wikiquote: https://en.wikiquote.org/wiki/Python\n",
      "Wikiversity: https://en.wikiversity.org/wiki/Python\n",
      "Wikidata item: https://www.wikidata.org/wiki/Special:EntityPage/Q28865\n",
      "python.org: https://www.python.org/\n",
      "Python Programming: https://en.wikibooks.org/wiki/Python_Programming\n",
      "\"General Python FAQ – Python 3 documentation\": https://docs.python.org/3/faq/general.html#what-is-python\n",
      "\"Python 0.9.1 part 01/21\": https://www.tuhs.org/Usenet/alt.sources/1991-February/001749.html\n",
      "Archived: https://web.archive.org/web/20210811171015/https://www.tuhs.org/Usenet/alt.sources/1991-February/001749.html\n",
      "\"Why is Python a dynamic language and also a strongly typed language\": https://wiki.python.org/moin/Why%20is%20Python%20a%20dynamic%20language%20and%20also%20a%20strongly%20typed%20language\n",
      "Archived: https://web.archive.org/web/20210314173706/https://wiki.python.org/moin/Why%20is%20Python%20a%20dynamic%20language%20and%20also%20a%20strongly%20typed%20language\n",
      "\"PEP 483 – The Theory of Type Hints\": https://www.python.org/dev/peps/pep-0483/\n",
      "Archived: https://web.archive.org/web/20200614153558/https://www.python.org/dev/peps/pep-0483/\n",
      "\"PEP 11 – CPython platform support | peps.python.org\": https://peps.python.org/pep-0011/\n",
      "\"PEP 738 – Adding Android as a supported platform | peps.python.org\": https://peps.python.org/pep-0738/\n",
      "\"Download Python for Other Platforms\": https://www.python.org/download/other/\n",
      "Archived: https://web.archive.org/web/20201127015815/https://www.python.org/download/other/\n",
      "\"test – Regression tests package for Python – Python 3.7.13 documentation\": https://docs.python.org/3.7/library/test.html?highlight=android#test.support.is_android\n",
      "Archived: https://web.archive.org/web/20220517151240/https://docs.python.org/3.7/library/test.html?highlight=android#test.support.is_android\n",
      "\"platform – Access to underlying platform's identifying data – Python 3.10.4 documentation\": https://docs.python.org/3/library/platform.html?highlight=android\n",
      "Archived: https://web.archive.org/web/20220517150826/https://docs.python.org/3/library/platform.html?highlight=android\n",
      "\"PEP 0441 – Improving Python ZIP Application Support\": https://www.python.org/dev/peps/pep-0441/\n",
      "Archived: https://web.archive.org/web/20181226141117/https://www.python.org/dev/peps/pep-0441/%20\n",
      "\"Starlark Language\": https://docs.bazel.build/versions/master/skylark/language.html\n",
      "Archived: https://web.archive.org/web/20200615140534/https://docs.bazel.build/versions/master/skylark/language.html\n",
      "\"Why was Python created in the first place?\": https://docs.python.org/faq/general.html#why-was-python-created-in-the-first-place\n",
      "Archived: https://web.archive.org/web/20121024164224/http://docs.python.org/faq/general.html#why-was-python-created-in-the-first-place\n",
      "\"Ada 83 Reference Manual (raise statement)\": https://archive.adaic.com/standards/83lrm/html/lrm-11-03.html#11.3\n",
      "Archived: https://web.archive.org/web/20191022155758/http://archive.adaic.com/standards/83lrm/html/lrm-11-03.html#11.3\n",
      "\"Interview with Guido van Rossum (July 1998)\": https://web.archive.org/web/20070501105422/http://www.amk.ca/python/writing/gvr-interview\n",
      "the original: http://www.amk.ca/python/writing/gvr-interview\n",
      "\"itertools – Functions creating iterators for efficient looping – Python 3.7.1 documentation\": https://docs.python.org/3/library/itertools.html\n",
      "Archived: https://web.archive.org/web/20200614153629/https://docs.python.org/3/library/itertools.html\n",
      "10.1.1.38.2023: https://citeseerx.ist.psu.edu/viewdoc/summary?doi=10.1.1.38.2023\n",
      "\"Classes\": https://docs.python.org/tutorial/classes.html\n",
      "Archived: https://web.archive.org/web/20121023030209/http://docs.python.org/tutorial/classes.html\n",
      "\"Call By Object\": http://effbot.org/zone/call-by-object.htm\n",
      "Archived: https://web.archive.org/web/20191123043655/http://effbot.org/zone/call-by-object.htm\n",
      "\"The Python 2.3 Method Resolution Order\": https://www.python.org/download/releases/2.3/mro/\n",
      "Archived: https://web.archive.org/web/20200820231854/https://www.python.org/download/releases/2.3/mro/\n",
      "\"Functional Programming HOWTO\": https://docs.python.org/howto/functional.html\n",
      "Archived: https://web.archive.org/web/20121024163217/http://docs.python.org/howto/functional.html\n",
      "\"PEP 255 – Simple Generators\": https://www.python.org/dev/peps/pep-0255/\n",
      "Archived: https://web.archive.org/web/20200605012926/https://www.python.org/dev/peps/pep-0255/\n",
      "\"More Control Flow Tools\": https://docs.python.org/3.2/tutorial/controlflow.html\n",
      "Archived: https://web.archive.org/web/20160604080843/https://docs.python.org/3.2/tutorial/controlflow.html\n",
      "\"re – Regular expression operations – Python 3.10.6 documentation\": https://docs.python.org/3/library/re.html\n",
      "Archived: https://web.archive.org/web/20180718132241/https://docs.python.org/3/library/re.html\n",
      "\"CoffeeScript\": https://coffeescript.org/\n",
      "Archived: https://web.archive.org/web/20200612100004/http://coffeescript.org/\n",
      "\"Perl and Python influences in JavaScript\": https://www.2ality.com/2013/02/javascript-influences.html\n",
      "Archived: https://web.archive.org/web/20181226141121/http://2ality.com/2013/02/javascript-influences.html%0A\n",
      "\"Chapter 3: The Nature of JavaScript; Influences\": http://speakingjs.com/es5/ch03.html\n",
      "Archived: https://web.archive.org/web/20181226141123/http://speakingjs.com/es5/ch03.html%0A\n",
      "\"Why We Created Julia\": https://julialang.org/blog/2012/02/why-we-created-julia\n",
      "Archived: https://web.archive.org/web/20200502144010/https://julialang.org/blog/2012/02/why-we-created-julia/\n",
      "\"Mojo language marries Python and MLIR for AI development\": https://www.infoworld.com/article/3695588/mojo-language-marries-python-and-mlir-for-ai-development.html\n",
      "Archived: https://web.archive.org/web/20230505064554/https://www.infoworld.com/article/3695588/mojo-language-marries-python-and-mlir-for-ai-development.html\n",
      "\"Ring and other languages\": https://ring-lang.sourceforge.net/doc1.6/introduction.html#ring-and-other-languages\n",
      "Archived: https://web.archive.org/web/20181225175312/http://ring-lang.sourceforge.net/doc1.6/introduction.html#ring-and-other-languages\n",
      "Practical JRuby on Rails Web 2.0 Projects: bringing Ruby on Rails to the Java platform: https://archive.org/details/practicaljrubyon0000bini/page/3\n",
      "3: https://archive.org/details/practicaljrubyon0000bini/page/3\n",
      "\"Chris Lattner's Homepage\": http://nondot.org/sabre/\n",
      "Archived: https://web.archive.org/web/20181225175312/http://nondot.org/sabre/\n",
      "\"V documentation (Introduction)\": https://github.com/vlang/v/blob/master/doc/docs.md#introduction\n",
      "\"A Python Book: Beginning Python, Advanced Python, and Python Exercises\": https://web.archive.org/web/20120623165941/http://cutter.rexx.com/~dkuhlman/python_book_01.html\n",
      "the original: https://www.davekuhlman.org/python_book_01.pdf\n",
      "\"About Python\": https://www.python.org/about\n",
      "Archived: https://web.archive.org/web/20120420010049/http://www.python.org/about/\n",
      "\"PEP 206 – Python Advanced Library\": https://www.python.org/dev/peps/pep-0206/\n",
      "Archived: https://web.archive.org/web/20210505003659/https://www.python.org/dev/peps/pep-0206/\n",
      "\"The History of Python: A Brief Timeline of Python\": https://python-history.blogspot.com/2009/01/brief-timeline-of-python.html\n",
      "Archived: https://web.archive.org/web/20200605032200/https://python-history.blogspot.com/2009/01/brief-timeline-of-python.html\n",
      "\"Python 2.7.18, the last release of Python 2\": https://pythoninsider.blogspot.com/2020/04/python-2718-last-release-of-python-2.html\n",
      "Archived: https://web.archive.org/web/20200426204118/https://pythoninsider.blogspot.com/2020/04/python-2718-last-release-of-python-2.html\n",
      "\"Stack Overflow Developer Survey 2022\": https://survey.stackoverflow.co/2022/\n",
      "Archived: https://web.archive.org/web/20220627175307/https://survey.stackoverflow.co/2022/\n",
      "\"The State of Developer Ecosystem in 2020 Infographic\": https://www.jetbrains.com/lp/devecosystem-2020/\n",
      "Archived: https://web.archive.org/web/20210301062411/https://www.jetbrains.com/lp/devecosystem-2020/\n",
      "\"TIOBE Index\": https://www.tiobe.com/tiobe-index/\n",
      "Archived: https://web.archive.org/web/20180225101948/https://www.tiobe.com/tiobe-index/\n",
      "\"PYPL PopularitY of Programming Language index\": https://pypl.github.io/PYPL.html\n",
      "Archived: https://web.archive.org/web/20170314232030/https://pypl.github.io/PYPL.html\n",
      "\"The Making of Python\": http://www.artima.com/intv/pythonP.html\n",
      "Archived: https://web.archive.org/web/20160901183332/http://www.artima.com/intv/pythonP.html\n",
      "\"SETL (was: Lukewarm about range literals)\": https://mail.python.org/pipermail/python-dev/2000-August/008881.html\n",
      "Archived: https://web.archive.org/web/20180714064019/https://mail.python.org/pipermail/python-dev/2000-August/008881.html\n",
      "\"A Brief Timeline of Python\": https://python-history.blogspot.com/2009/01/brief-timeline-of-python.html\n",
      "Archived: https://web.archive.org/web/20200605032200/https://python-history.blogspot.com/2009/01/brief-timeline-of-python.html\n",
      "\"Guido van Rossum Stepping Down from Role as Python's Benevolent Dictator For Life\": https://www.linuxjournal.com/content/guido-van-rossum-stepping-down-role-pythons-benevolent-dictator-life\n",
      "Archived: https://web.archive.org/web/20180713192427/https://www.linuxjournal.com/content/guido-van-rossum-stepping-down-role-pythons-benevolent-dictator-life\n",
      "\"PEP 8100\": https://www.python.org/dev/peps/pep-8100/\n",
      "Archived: https://web.archive.org/web/20200604235027/https://www.python.org/dev/peps/pep-8100/\n",
      "\"PEP 13 – Python Language Governance\": https://www.python.org/dev/peps/pep-0013/\n",
      "Archived: https://web.archive.org/web/20210527000035/https://www.python.org/dev/peps/pep-0013/\n",
      "\"What's New in Python 2.0\": https://docs.python.org/whatsnew/2.0.html\n",
      "Archived: https://web.archive.org/web/20121023112045/http://docs.python.org/whatsnew/2.0.html\n",
      "\"PEP 373 – Python 2.7 Release Schedule\": https://legacy.python.org/dev/peps/pep-0373/\n",
      "Archived: https://web.archive.org/web/20200519075520/https://legacy.python.org/dev/peps/pep-0373/\n",
      "\"PEP 466 – Network Security Enhancements for Python 2.7.x\": https://www.python.org/dev/peps/pep-0466/\n",
      "Archived: https://web.archive.org/web/20200604232833/https://www.python.org/dev/peps/pep-0466/\n",
      "\"Sunsetting Python 2\": https://www.python.org/doc/sunset-python-2/\n",
      "Archived: https://web.archive.org/web/20200112080903/https://www.python.org/doc/sunset-python-2/\n",
      "\"PEP 373 – Python 2.7 Release Schedule\": https://www.python.org/dev/peps/pep-0373/\n",
      "Archived: https://web.archive.org/web/20200113033257/https://www.python.org/dev/peps/pep-0373/\n",
      "\"PyPy v7.3.14 release\": https://www.pypy.org/posts/2023/12/pypy-v7314-release.html\n",
      "Archived: https://web.archive.org/web/20240105132820/https://www.pypy.org/posts/2023/12/pypy-v7314-release.html\n",
      "\"Python 3.9.13 is now available\": https://pythoninsider.blogspot.com/2022/05/python-3913-is-now-available.html\n",
      "Archived: https://web.archive.org/web/20220517173546/https://pythoninsider.blogspot.com/2022/05/python-3913-is-now-available.html\n",
      "\"Status of Python versions\": https://devguide.python.org/versions/\n",
      "\"Python\": https://endoflife.date/python\n",
      "\"CVE-2021-3177\": https://access.redhat.com/security/cve/cve-2021-3177\n",
      "Archived: https://web.archive.org/web/20210306183700/https://access.redhat.com/security/cve/cve-2021-3177\n",
      "\"CVE-2021-3177\": https://cve.mitre.org/cgi-bin/cvename.cgi?name=CVE-2021-3177\n",
      "Archived: https://web.archive.org/web/20210227192918/https://cve.mitre.org/cgi-bin/cvename.cgi?name=CVE-2021-3177\n",
      "\"CVE-2021-23336\": https://cve.mitre.org/cgi-bin/cvename.cgi?name=CVE-2021-23336\n",
      "Archived: https://web.archive.org/web/20210224160700/https://cve.mitre.org/cgi-bin/cvename.cgi?name=CVE-2021-23336\n",
      "\"Built-in Types\": https://docs.python.org/3/library/stdtypes.html#types-union\n",
      "\"PEP 634 – Structural Pattern Matching: Specification\": https://www.python.org/dev/peps/pep-0634/\n",
      "Archived: https://web.archive.org/web/20210506005315/https://www.python.org/dev/peps/pep-0634/\n",
      "\"Python 3.11 released [LWN.net]\": https://lwn.net/Articles/912216/\n",
      "\"What's New In Python 3.13\": https://docs.python.org/3.13/whatsnew/3.13.html#experimental-jit-compiler\n",
      "\"PEP 711: PyBI: a standard format for distributing Python Binaries\": https://discuss.python.org/t/pep-711-pybi-a-standard-format-for-distributing-python-binaries/25547\n",
      "\"PEP 686 – Make UTF-8 mode default | peps.python.org\": https://peps.python.org/pep-0686/\n",
      "\"1. Extending Python with C or C++ – Python 3.9.1 documentation\": https://docs.python.org/3/extending/extending.html\n",
      "Archived: https://web.archive.org/web/20200623232830/https://docs.python.org/3/extending/extending.html\n",
      "\"PEP 623 – Remove wstr from Unicode\": https://www.python.org/dev/peps/pep-0623/\n",
      "Archived: https://web.archive.org/web/20210305153214/https://www.python.org/dev/peps/pep-0623/\n",
      "\"PEP 667 – Consistent views of namespaces | peps.python.org\": https://peps.python.org/pep-0667/\n",
      "\"PEP 703 – Making the GIL Optional in CPython\": https://peps.python.org/pep-0703/\n",
      "\"PEP 749 – Implementing PEP 649 | peps.python.org\": https://peps.python.org/pep-0749/\n",
      "\"PEP 761 – Deprecating PGP signatures for CPython artifacts | peps.python.org\": https://peps.python.org/pep-0761/\n",
      "\"Python Insider: Python 3.12.3 and 3.13.0a6 released\": https://pythoninsider.blogspot.com/2024/04/python-3123-and-3130a6-released.html\n",
      "\"PEP 594 – Removing dead batteries from the standard library\": https://peps.python.org/pep-0594/\n",
      "\"Python Metaclasses: Who? Why? When?\": https://web.archive.org/web/20090530030205/http://www.python.org/community/pycon/dc2004/papers/24/metaclasses-pycon.pdf\n",
      "the original: https://www.python.org/community/pycon/dc2004/papers/24/metaclasses-pycon.pdf\n",
      "\"3.3. Special method names\": https://docs.python.org/3.0/reference/datamodel.html#special-method-names\n",
      "Archived: https://web.archive.org/web/20181215123146/https://docs.python.org/3.0/reference/datamodel.html#special-method-names\n",
      "\"PyDBC: method preconditions, method postconditions and class invariants for Python\": http://www.nongnu.org/pydbc/\n",
      "Archived: https://web.archive.org/web/20191123231931/http://www.nongnu.org/pydbc/\n",
      "\"Contracts for Python\": http://www.wayforward.net/pycontract/\n",
      "Archived: https://web.archive.org/web/20200615173404/http://www.wayforward.net/pycontract/\n",
      "\"PyDatalog\": https://sites.google.com/site/pydatalog/\n",
      "Archived: https://web.archive.org/web/20200613160231/https://sites.google.com/site/pydatalog/\n",
      "\"Glue It All Together With Python\": https://www.python.org/doc/essays/omg-darpa-mcc-position/\n",
      "\"Extending and Embedding the Python Interpreter: Reference Counts\": https://docs.python.org/extending/extending.html#reference-counts\n",
      "Archived: https://web.archive.org/web/20121018063230/http://docs.python.org/extending/extending.html#reference-counts\n",
      "\"PEP 289 – Generator Expressions\": https://www.python.org/dev/peps/pep-0289/\n",
      "Archived: https://web.archive.org/web/20200614153717/https://www.python.org/dev/peps/pep-0289/\n",
      "\"6.5 itertools – Functions creating iterators for efficient looping\": https://docs.python.org/3/library/itertools.html\n",
      "Archived: https://web.archive.org/web/20200614153629/https://docs.python.org/3/library/itertools.html\n",
      "\"PEP 20 – The Zen of Python\": https://www.python.org/dev/peps/pep-0020/\n",
      "Archived: https://web.archive.org/web/20181226141127/https://www.python.org/dev/peps/pep-0020/\n",
      "\"Python Changes 2014+\": https://learning-python.com/python-changes-2014-plus.html\n",
      "Archived: https://web.archive.org/web/20240315075935/https://learning-python.com/python-changes-2014-plus.html\n",
      "\"Confusion regarding a rule in The Zen of Python\": https://discuss.python.org/t/confusion-regarding-a-rule-in-the-zen-of-python/15927\n",
      "Archived: https://web.archive.org/web/20240225221142/https://discuss.python.org/t/confusion-regarding-a-rule-in-the-zen-of-python/15927\n",
      "\"The Most Controversial Python Walrus Operator\": https://pythonsimplified.com/the-most-controversial-python-walrus-operator/\n",
      "Archived: https://web.archive.org/web/20230827154931/https://pythonsimplified.com/the-most-controversial-python-walrus-operator/\n",
      "\"The Controversy Behind The Walrus Operator in Python\": https://therenegadecoder.com/code/the-controversy-behind-the-walrus-operator-in-python/\n",
      "Archived: https://web.archive.org/web/20231228135749/https://therenegadecoder.com/code/the-controversy-behind-the-walrus-operator-in-python/\n",
      "\"Python String Formatting Best Practices\": https://realpython.com/python-string-formatting/\n",
      "Archived: https://web.archive.org/web/20240218083506/https://realpython.com/python-string-formatting/\n",
      "Python Cookbook, 2nd Edition: http://shop.oreilly.com/product/9780596007973.do\n",
      "Archived: https://web.archive.org/web/20200223171254/http://shop.oreilly.com/product/9780596007973.do\n",
      "\"Python Culture\": https://web.archive.org/web/20140130021902/http://ebeab.com/2014/01/21/python-culture/\n",
      "the original: http://ebeab.com/2014/01/21/python-culture/\n",
      "\"Transpiling Python to Julia using PyJL\": https://web.ist.utl.pt/antonio.menezes.leitao/ADA/documents/publications_docs/2022_TranspilingPythonToJuliaUsingPyJL.pdf\n",
      "Archived: https://web.archive.org/web/20231119071525/https://web.ist.utl.pt/antonio.menezes.leitao/ADA/documents/publications_docs/2022_TranspilingPythonToJuliaUsingPyJL.pdf\n",
      "\"Why is it called Python?\": https://docs.python.org/3/faq/general.html#why-is-it-called-python\n",
      "Archived: https://web.archive.org/web/20121024164224/http://docs.python.org/faq/general.html#why-is-it-called-python\n",
      "\"15 Ways Python Is a Powerful Force on the Web\": https://web.archive.org/web/20190511065650/http://insidetech.monster.com/training/articles/8114-15-ways-python-is-a-powerful-force-on-the-web\n",
      "the original: https://insidetech.monster.com/training/articles/8114-15-ways-python-is-a-powerful-force-on-the-web\n",
      "\"pprint – Data pretty printer – Python 3.11.0 documentation\": https://docs.python.org/3/library/pprint.html\n",
      "Archived: https://web.archive.org/web/20210122224848/https://docs.python.org/3/library/pprint.html\n",
      "\"Code Style – The Hitchhiker's Guide to Python\": https://docs.python-guide.org/writing/style\n",
      "Archived: https://web.archive.org/web/20210127154341/https://docs.python-guide.org/writing/style/\n",
      "\"Is Python a good language for beginning programmers?\": https://docs.python.org/faq/general.html#is-python-a-good-language-for-beginning-programmers\n",
      "Archived: https://web.archive.org/web/20121024164224/http://docs.python.org/faq/general.html#is-python-a-good-language-for-beginning-programmers\n",
      "\"Myths about indentation in Python\": https://web.archive.org/web/20180218162410/http://www.secnetix.de/~olli/Python/block_indentation.hawk\n",
      "the original: http://www.secnetix.de/~olli/Python/block_indentation.hawk\n",
      "\"PEP 8 – Style Guide for Python Code\": https://www.python.org/dev/peps/pep-0008/\n",
      "Archived: https://web.archive.org/web/20190417223549/https://www.python.org/dev/peps/pep-0008/\n",
      "\"8. Errors and Exceptions – Python 3.12.0a0 documentation\": https://docs.python.org/3.11/tutorial/errors.html\n",
      "Archived: https://web.archive.org/web/20220509145745/https://docs.python.org/3.11/tutorial/errors.html\n",
      "\"Highlights: Python 2.5\": https://www.python.org/download/releases/2.5/highlights/\n",
      "Archived: https://web.archive.org/web/20190804120408/https://www.python.org/download/releases/2.5/highlights/\n",
      "\"Tail Recursion Elimination\": http://neopythonic.blogspot.be/2009/04/tail-recursion-elimination.html\n",
      "Archived: https://web.archive.org/web/20180519225253/http://neopythonic.blogspot.be/2009/04/tail-recursion-elimination.html\n",
      "\"Language Design Is Not Just Solving Puzzles\": http://www.artima.com/weblogs/viewpost.jsp?thread=147358\n",
      "Archived: https://web.archive.org/web/20200117182525/https://www.artima.com/weblogs/viewpost.jsp?thread=147358\n",
      "\"PEP 342 – Coroutines via Enhanced Generators\": https://www.python.org/dev/peps/pep-0342/\n",
      "Archived: https://web.archive.org/web/20200529003739/https://www.python.org/dev/peps/pep-0342/\n",
      "\"PEP 380\": https://www.python.org/dev/peps/pep-0380/\n",
      "Archived: https://web.archive.org/web/20200604233821/https://www.python.org/dev/peps/pep-0380/\n",
      "\"division\": https://docs.python.org\n",
      "Archived: https://web.archive.org/web/20060720033244/http://docs.python.org/\n",
      "\"PEP 0465 – A dedicated infix operator for matrix multiplication\": https://www.python.org/dev/peps/pep-0465/\n",
      "Archived: https://web.archive.org/web/20200604224255/https://www.python.org/dev/peps/pep-0465/\n",
      "\"Python 3.5.1 Release and Changelog\": https://www.python.org/downloads/release/python-351/\n",
      "Archived: https://web.archive.org/web/20200514034938/https://www.python.org/downloads/release/python-351/\n",
      "\"What's New in Python 3.8\": https://docs.python.org/3.8/whatsnew/3.8.html\n",
      "Archived: https://web.archive.org/web/20200608124345/https://docs.python.org/3.8/whatsnew/3.8.html\n",
      "\"PEP 308 – Conditional Expressions\": https://www.python.org/dev/peps/pep-0308/\n",
      "Archived: https://web.archive.org/web/20160313113147/https://www.python.org/dev/peps/pep-0308/\n",
      "\"4. Built-in Types – Python 3.6.3rc1 documentation\": https://docs.python.org/3/library/stdtypes.html#tuple\n",
      "Archived: https://web.archive.org/web/20200614194325/https://docs.python.org/3/library/stdtypes.html#tuple\n",
      "\"5.3. Tuples and Sequences – Python 3.7.1rc2 documentation\": https://docs.python.org/3/tutorial/datastructures.html#tuples-and-sequences\n",
      "Archived: https://web.archive.org/web/20200610050047/https://docs.python.org/3/tutorial/datastructures.html#tuples-and-sequences\n",
      "\"PEP 498 – Literal String Interpolation\": https://www.python.org/dev/peps/pep-0498/\n",
      "Archived: https://web.archive.org/web/20200615184141/https://www.python.org/dev/peps/pep-0498/\n",
      "\"Why must 'self' be used explicitly in method definitions and calls?\": https://docs.python.org/faq/design.html#why-must-self-be-used-explicitly-in-method-definitions-and-calls\n",
      "Archived: https://web.archive.org/web/20121024164243/http://docs.python.org/faq/design.html#why-must-self-be-used-explicitly-in-method-definitions-and-calls\n",
      "Beyond the Basic Stuff with Python: Best Practices for Writing Clean Code: https://books.google.com/books?id=7GUKEAAAQBAJ&pg=PA322\n",
      "Archived: https://web.archive.org/web/20210813194312/https://books.google.com/books?id=7GUKEAAAQBAJ&pg=PA322\n",
      "\"The Python Language Reference, section 3.3. New-style and classic classes, for release 2.7.1\": https://web.archive.org/web/20121026063834/http://docs.python.org/reference/datamodel.html#new-style-and-classic-classes\n",
      "the original: https://docs.python.org/reference/datamodel.html#new-style-and-classic-classes\n",
      "\"PEP 484 – Type Hints | peps.python.org\": https://peps.python.org/pep-0484/\n",
      "Archived: https://web.archive.org/web/20231127205023/https://peps.python.org/pep-0484/\n",
      "\"typing — Support for type hints\": https://docs.python.org/3/library/typing.html\n",
      "Archived: https://web.archive.org/web/20200221184042/https://docs.python.org/3/library/typing.html\n",
      "\"mypy – Optional Static Typing for Python\": http://mypy-lang.org/\n",
      "Archived: https://web.archive.org/web/20200606192012/http://mypy-lang.org/\n",
      "\"Introduction\": https://mypyc.readthedocs.io/en/latest/introduction.html\n",
      "Archived: https://web.archive.org/web/20231222000457/https://mypyc.readthedocs.io/en/latest/introduction.html\n",
      "\"15. Floating Point Arithmetic: Issues and Limitations – Python 3.8.3 documentation\": https://docs.python.org/3.8/tutorial/floatingpoint.html#representation-error\n",
      "Archived: https://web.archive.org/web/20200606113842/https://docs.python.org/3.8/tutorial/floatingpoint.html#representation-error\n",
      "\"PEP 237 – Unifying Long Integers and Integers\": https://www.python.org/dev/peps/pep-0237/\n",
      "Archived: https://web.archive.org/web/20200528063237/https://www.python.org/dev/peps/pep-0237/\n",
      "\"Built-in Types\": https://docs.python.org/3/library/stdtypes.html#typesseq-range\n",
      "Archived: https://web.archive.org/web/20200614194325/https://docs.python.org/3/library/stdtypes.html#typesseq-range\n",
      "\"PEP 465 – A dedicated infix operator for matrix multiplication\": https://legacy.python.org/dev/peps/pep-0465/\n",
      "Archived: https://web.archive.org/web/20200529200310/https://legacy.python.org/dev/peps/pep-0465/\n",
      "\"PEP 238 – Changing the Division Operator\": https://www.python.org/dev/peps/pep-0238/\n",
      "Archived: https://web.archive.org/web/20200528115550/https://www.python.org/dev/peps/pep-0238/\n",
      "\"Why Python's Integer Division Floors\": https://python-history.blogspot.com/2010/08/why-pythons-integer-division-floors.html\n",
      "Archived: https://web.archive.org/web/20200605151500/https://python-history.blogspot.com/2010/08/why-pythons-integer-division-floors.html\n",
      "\"round\": https://docs.python.org/py3k/library/functions.html#round\n",
      "archived: https://web.archive.org/web/20121025141808/http://docs.python.org/py3k/library/functions.html#round\n",
      "\"round\": https://docs.python.org/library/functions.html#round\n",
      "archived: https://web.archive.org/web/20121027081602/http://docs.python.org/library/functions.html#round\n",
      "Python Essential Reference: https://archive.org/details/pythonessentialr00beaz_036\n",
      "66: https://archive.org/details/pythonessentialr00beaz_036/page/n90\n",
      "206: https://archive.org/details/cprogramminglang00bria/page/206\n",
      "\"PEP 327 – Decimal Data Type\": https://www.python.org/dev/peps/pep-0327/\n",
      "Archived: https://web.archive.org/web/20200604234830/https://www.python.org/dev/peps/pep-0327/\n",
      "\"What's New in Python 2.6\": https://docs.python.org/2.6/whatsnew/2.6.html\n",
      "Archived: https://web.archive.org/web/20191223213856/https://docs.python.org/2.6/whatsnew/2.6.html\n",
      "\"10 Reasons Python Rocks for Research (And a Few Reasons it Doesn't) – Hoyt Koepke\": https://web.archive.org/web/20200531211840/https://www.stat.washington.edu/~hoytak/blog/whypython.html\n",
      "the original: https://www.stat.washington.edu/~hoytak/blog/whypython.html\n",
      "\"An introduction to Python for scientific computing\": https://engineering.ucsb.edu/~shell/che210d/python.pdf\n",
      "Archived: https://web.archive.org/web/20190204014642/https://engineering.ucsb.edu/~shell/che210d/python.pdf\n",
      "\"Build a Rapid Web Development Environment for Python Server Pages and Oracle\": http://www.oracle.com/technetwork/articles/piotrowski-pythoncore-084049.html\n",
      "Archived: https://web.archive.org/web/20190402124435/https://www.oracle.com/technetwork/articles/piotrowski-pythoncore-084049.html\n",
      "\"PEP 333 – Python Web Server Gateway Interface v1.0\": https://www.python.org/dev/peps/pep-0333/\n",
      "Archived: https://web.archive.org/web/20200614170344/https://www.python.org/dev/peps/pep-0333/\n",
      "\"PyPI\": https://pypi.org/\n",
      "Archived: https://web.archive.org/web/20250222013445/https://pypi.org/\n",
      "\"Canopy\": https://web.archive.org/web/20170715151703/https://www.enthought.com/products/canopy/\n",
      "the original: https://www.enthought.com/products/canopy/\n",
      "\"Project Jupyter\": https://jupyter.org\n",
      "Archived: https://web.archive.org/web/20231012055917/https://jupyter.org/\n",
      "\"PEP 7 – Style Guide for C Code | peps.python.org\": https://peps.python.org/pep-0007/\n",
      "Archived: https://web.archive.org/web/20220424202827/https://peps.python.org/pep-0007/\n",
      "\"4. Building C and C++ Extensions – Python 3.9.2 documentation\": https://docs.python.org/3/extending/building.html\n",
      "Archived: https://web.archive.org/web/20210303002519/https://docs.python.org/3/extending/building.html\n",
      "\"PEP 7 – Style Guide for C Code\": https://www.python.org/dev/peps/pep-0007/\n",
      "Archived: https://web.archive.org/web/20200601203908/https://www.python.org/dev/peps/pep-0007/\n",
      "\"CPython byte code\": https://docs.python.org/3/library/dis.html#python-bytecode-instructions\n",
      "Archived: https://web.archive.org/web/20200605151542/https://docs.python.org/3/library/dis.html#python-bytecode-instructions\n",
      "\"Python 2.5 internals\": http://www.troeger.eu/teaching/pythonvm08.pdf\n",
      "Archived: https://web.archive.org/web/20120806094951/http://www.troeger.eu/teaching/pythonvm08.pdf\n",
      "\"Changelog – Python 3.9.0 documentation\": https://docs.python.org/release/3.9.0/whatsnew/changelog.html#changelog\n",
      "Archived: https://web.archive.org/web/20210207001142/https://docs.python.org/release/3.9.0/whatsnew/changelog.html#changelog\n",
      "\"Download Python\": https://www.python.org/downloads/release/python-391\n",
      "Archived: https://web.archive.org/web/20201208045225/https://www.python.org/downloads/release/python-391/\n",
      "\"history [vmspython]\": https://www.vmspython.org/doku.php?id=history\n",
      "Archived: https://web.archive.org/web/20201202194743/https://www.vmspython.org/doku.php?id=history\n",
      "\"An Interview with Guido van Rossum\": http://www.oreilly.com/pub/a/oreilly/frank/rossum_1099.html\n",
      "Archived: https://web.archive.org/web/20140716222652/http://oreilly.com/pub/a/oreilly/frank/rossum_1099.html\n",
      "\"Download Python for Other Platforms\": https://www.python.org/download/other/\n",
      "Archived: https://web.archive.org/web/20201127015815/https://www.python.org/download/other/\n",
      "\"PyPy compatibility\": https://pypy.org/compat.html\n",
      "Archived: https://web.archive.org/web/20200606041845/https://www.pypy.org/compat.html\n",
      "\"Download and Install\": https://www.pypy.org/download.html\n",
      "Archived: https://web.archive.org/web/20220108212951/https://www.pypy.org/download.html\n",
      "\"speed comparison between CPython and Pypy\": https://speed.pypy.org/\n",
      "Archived: https://web.archive.org/web/20210510014902/https://speed.pypy.org/\n",
      "\"Codon: Differences with Python\": https://docs.exaloop.io/codon/general/differences\n",
      "Archived: https://web.archive.org/web/20230525002540/https://docs.exaloop.io/codon/general/differences\n",
      "\"MIT-Created Compiler Speeds up Python Code\": https://thenewstack.io/mit-created-compiler-speeds-up-python-code/\n",
      "Archived: https://web.archive.org/web/20230406054200/https://thenewstack.io/mit-created-compiler-speeds-up-python-code/\n",
      "\"Python-for-EV3\": https://education.lego.com/en-us/support/mindstorms-ev3/python-for-ev3\n",
      "Archived: https://web.archive.org/web/20200607234814/https://education.lego.com/en-us/support/mindstorms-ev3/python-for-ev3\n",
      "\"Pyston returns from the dead to speed Python\": https://www.infoworld.com/article/3587591/pyston-returns-from-the-dead-to-speed-python.html\n",
      "Archived: https://web.archive.org/web/20210127113233/https://www.infoworld.com/article/3587591/pyston-returns-from-the-dead-to-speed-python.html\n",
      "\"cinder: Instagram's performance-oriented fork of CPython\": https://github.com/facebookincubator/cinder\n",
      "Archived: https://web.archive.org/web/20210504112500/https://github.com/facebookincubator/cinder\n",
      "\"Snek Lang: feels like Python on Arduinos\": https://rafaelaroca.wordpress.com/2021/08/07/snek-lang-feels-like-python-on-arduinos/\n",
      "Archived: https://web.archive.org/web/20240105001031/https://rafaelaroca.wordpress.com/2021/08/07/snek-lang-feels-like-python-on-arduinos/\n",
      "\"Snekboard Controls LEGO Power Functions with CircuitPython or Snek Programming Languages (Crowdfunding) – CNX Software\": https://www.cnx-software.com/2020/01/16/snekboard-controls-lego-power-functions-with-circuitpython-or-snek-programming-languages/\n",
      "Archived: https://web.archive.org/web/20240105001031/https://www.cnx-software.com/2020/01/16/snekboard-controls-lego-power-functions-with-circuitpython-or-snek-programming-languages/\n",
      "\"Ready to find out if you're git famous?\": https://pythonbytes.fm/episodes/show/187/ready-to-find-out-if-youre-git-famous\n",
      "Archived: https://web.archive.org/web/20240105001031/https://pythonbytes.fm/episodes/show/187/ready-to-find-out-if-youre-git-famous\n",
      "\"The Snek Programming Language: A Python-inspired Embedded Computing Language\": https://sneklang.org/doc/snek.pdf\n",
      "Archived: https://web.archive.org/web/20240104162458/https://sneklang.org/doc/snek.pdf\n",
      "\"Application-level Stackless features – PyPy 2.0.2 documentation\": http://doc.pypy.org/en/latest/stackless.html\n",
      "Archived: https://web.archive.org/web/20200604231513/https://doc.pypy.org/en/latest/stackless.html\n",
      "\"Plans for optimizing Python\": https://code.google.com/p/unladen-swallow/wiki/ProjectPlan\n",
      "Archived: https://web.archive.org/web/20160411181848/https://code.google.com/p/unladen-swallow/wiki/ProjectPlan\n",
      "\"Python on the Nokia N900\": http://www.stochasticgeometry.ie/2010/04/29/python-on-the-nokia-n900/\n",
      "Archived: https://web.archive.org/web/20190620000053/http://www.stochasticgeometry.ie/2010/04/29/python-on-the-nokia-n900/\n",
      "\"Brython\": https://brython.info/\n",
      "Archived: https://web.archive.org/web/20180803065954/http://brython.info/\n",
      "\"Transcrypt – Python in the browser\": https://www.transcrypt.org\n",
      "Archived: https://web.archive.org/web/20180819133303/http://www.transcrypt.org/\n",
      "\"Transcrypt: Anatomy of a Python to JavaScript Compiler\": https://www.infoq.com/articles/transcrypt-python-javascript-compiler/\n",
      "Archived: https://web.archive.org/web/20201205193339/https://www.infoq.com/articles/transcrypt-python-javascript-compiler/\n",
      "\"Nuitka Home | Nuitka Home\": http://nuitka.net/\n",
      "Archived: https://web.archive.org/web/20200530211233/https://nuitka.net/\n",
      "\"Pythran: enabling static optimization of scientific Python programs\": https://doi.org/10.1088%2F1749-4680%2F8%2F1%2F014001\n",
      "2015CS&D....8a4001G: https://ui.adsabs.harvard.edu/abs/2015CS&D....8a4001G\n",
      "10.1088/1749-4680/8/1/014001: https://doi.org/10.1088%2F1749-4680%2F8%2F1%2F014001\n",
      "1749-4699: https://search.worldcat.org/issn/1749-4699\n",
      "\"The Python → 11l → C++ transpiler\": https://11l-lang.org/transpiler\n",
      "Archived: https://web.archive.org/web/20220924233728/https://11l-lang.org/transpiler/\n",
      "\"google/grumpy\": https://github.com/google/grumpy\n",
      "Archived: https://web.archive.org/web/20200415054919/https://github.com/google/grumpy\n",
      "\"Projects\": https://opensource.google/projects/\n",
      "Archived: https://web.archive.org/web/20200424191248/https://opensource.google/projects/\n",
      "\"Google's Grumpy code makes Python Go\": https://www.theregister.com/2017/01/05/googles_grumpy_makes_python_go/\n",
      "Archived: https://web.archive.org/web/20210307165521/https://www.theregister.com/2017/01/05/googles_grumpy_makes_python_go/\n",
      "\"IronPython.net /\": https://ironpython.net/\n",
      "Archived: https://web.archive.org/web/20210417064418/https://ironpython.net/\n",
      "\"GitHub – IronLanguages/ironpython3: Implementation of Python 3.x for .NET Framework that is built on top of the Dynamic Language Runtime\": https://github.com/IronLanguages/ironpython3\n",
      "Archived: https://web.archive.org/web/20210928101250/https://github.com/IronLanguages/ironpython3\n",
      "\"Jython FAQ\": https://www.jython.org/jython-old-sites/archive/22/userfaq.html\n",
      "Archived: https://web.archive.org/web/20210422055726/https://www.jython.org/jython-old-sites/archive/22/userfaq.html\n",
      "1404.6388: https://arxiv.org/abs/1404.6388\n",
      "2014arXiv1404.6388M: https://ui.adsabs.harvard.edu/abs/2014arXiv1404.6388M\n",
      "\"The Computer Language Benchmarks Game\": https://benchmarksgame-team.pages.debian.net/benchmarksgame/fastest/python.html\n",
      "Archived: https://web.archive.org/web/20200614210246/https://benchmarksgame-team.pages.debian.net/benchmarksgame/fastest/python.html\n",
      "\"PEP 1 – PEP Purpose and Guidelines\": https://www.python.org/dev/peps/pep-0001/\n",
      "Archived: https://web.archive.org/web/20200606042011/https://www.python.org/dev/peps/pep-0001/\n",
      "\"PEP 8 – Style Guide for Python Code\": https://www.python.org/dev/peps/pep-0008/\n",
      "Archived: https://web.archive.org/web/20190417223549/https://www.python.org/dev/peps/pep-0008/\n",
      "\"Guido, Some Guys, and a Mailing List: How Python is Developed\": https://web.archive.org/web/20090601134342/http://www.python.org/dev/intro/\n",
      "the original: https://www.python.org/dev/intro/\n",
      "\"Moving Python's bugs to GitHub [LWN.net]\": https://lwn.net/Articles/885854/\n",
      "Archived: https://web.archive.org/web/20221002183818/https://lwn.net/Articles/885854/\n",
      "\"Python Developer's Guide – Python Developer's Guide\": https://devguide.python.org/\n",
      "Archived: https://web.archive.org/web/20201109032501/https://devguide.python.org/\n",
      "\"Programming languages: Why Python 4.0 might never arrive, according to its creator\": https://www.techrepublic.com/article/programming-languages-why-python-4-0-will-probably-never-arrive-according-to-its-creator/\n",
      "Archived: https://web.archive.org/web/20220714201302/https://www.techrepublic.com/article/programming-languages-why-python-4-0-will-probably-never-arrive-according-to-its-creator/\n",
      "\"PEP 602 – Annual Release Cycle for Python\": https://www.python.org/dev/peps/pep-0602/\n",
      "Archived: https://web.archive.org/web/20200614202755/https://www.python.org/dev/peps/pep-0602/\n",
      "\"Changing the Python release cadence [LWN.net]\": https://lwn.net/Articles/802777/\n",
      "Archived: https://web.archive.org/web/20191106170153/https://lwn.net/Articles/802777/\n",
      "\"[Python-Dev] Release Schedules (was Stability & change)\": https://mail.python.org/pipermail/python-dev/2002-April/022739.html\n",
      "Archived: https://web.archive.org/web/20181215122750/https://mail.python.org/pipermail/python-dev/2002-April/022739.html\n",
      "\"PEP 6 – Bug Fix Releases\": https://www.python.org/dev/peps/pep-0006/\n",
      "Archived: https://web.archive.org/web/20200605001318/https://www.python.org/dev/peps/pep-0006/\n",
      "\"Python Buildbot\": https://www.python.org/dev/buildbot/\n",
      "Archived: https://web.archive.org/web/20200605001322/https://www.python.org/dev/buildbot/\n",
      "\"Documentation Tools\": https://wiki.python.org/moin/DocumentationTools\n",
      "Archived: https://web.archive.org/web/20201111173635/https://wiki.python.org/moin/DocumentationTools\n",
      "\"Whetting Your Appetite\": https://docs.python.org/tutorial/appetite.html\n",
      "Archived: https://web.archive.org/web/20121026063559/http://docs.python.org/tutorial/appetite.html\n",
      "\"In Python, should I use else after a return in an if block?\": https://stackoverflow.com/questions/5033906/in-python-should-i-use-else-after-a-return-in-an-if-block\n",
      "Archived: https://web.archive.org/web/20190620000050/https://stackoverflow.com/questions/5033906/in-python-should-i-use-else-after-a-return-in-an-if-block\n",
      "Learning Python: Powerful Object-Oriented Programming: https://books.google.com/books?id=1HxWGezDZcgC&pg=PA17\n",
      "Archived: https://web.archive.org/web/20170717044012/https://books.google.com/books?id=1HxWGezDZcgC&pg=PA17\n",
      "Python: https://books.google.com/books?id=carqdIdfVlYC&pg=PR15\n",
      "Archived: https://web.archive.org/web/20170717044040/https://books.google.com/books?id=carqdIdfVlYC&pg=PR15\n",
      "Introducing Python: http://archive.org/details/introducingpytho0000luba\n",
      "\"TIOBE Index for January 2021\": https://seniordba.wordpress.com/2021/01/18/tiobe-index-for-january-2021/\n",
      "Archived: https://web.archive.org/web/20210321143253/https://seniordba.wordpress.com/2021/01/18/tiobe-index-for-january-2021/\n",
      "\"TIOBE Index\": https://www.tiobe.com/tiobe-index/\n",
      "\"Quotes about Python\": https://www.python.org/about/quotes/\n",
      "Archived: https://web.archive.org/web/20200603135201/https://www.python.org/about/quotes/\n",
      "\"Organizations Using Python\": https://wiki.python.org/moin/OrganizationsUsingPython\n",
      "Archived: https://web.archive.org/web/20180821075931/https://wiki.python.org/moin/OrganizationsUsingPython\n",
      "\"Python : the holy grail of programming\": http://cdsweb.cern.ch/journal/CERNBulletin/2006/31/News%20Articles/974627?ln=en\n",
      "Archived: https://archive.today/20130115191843/http://cdsweb.cern.ch/journal/CERNBulletin/2006/31/News%20Articles/974627?ln=en\n",
      "\"Python Streamlines Space Shuttle Mission Design\": https://www.python.org/about/success/usa/\n",
      "Archived: https://web.archive.org/web/20200605093424/https://www.python.org/about/success/usa/\n",
      "\"Tornado: Facebook's Real-Time Web Framework for Python – Facebook for Developers\": https://developers.facebook.com/blog/post/301\n",
      "Archived: https://web.archive.org/web/20190219031313/https://developers.facebook.com/blog/post/301\n",
      "\"What Powers Instagram: Hundreds of Instances, Dozens of Technologies\": https://instagram-engineering.com/what-powers-instagram-hundreds-of-instances-dozens-of-technologies-adf2e22da2ad\n",
      "Archived: https://web.archive.org/web/20200615183410/https://instagram-engineering.com/what-powers-instagram-hundreds-of-instances-dozens-of-technologies-adf2e22da2ad\n",
      "\"How we use Python at Spotify\": https://labs.spotify.com/2013/03/20/how-we-use-python-at-spotify/\n",
      "Archived: https://web.archive.org/web/20200610005143/https://labs.spotify.com/2013/03/20/how-we-use-python-at-spotify/\n",
      "\"Industrial Light & Magic Runs on Python\": https://www.python.org/about/success/ilm/\n",
      "Archived: https://web.archive.org/web/20200606042020/https://www.python.org/about/success/ilm/\n",
      "\"Python Slithers into Systems\": http://www.eweek.com/c/a/Application-Development/Python-Slithers-into-Systems/\n",
      "Archived: https://web.archive.org/web/20210813194304/https://www.eweek.com/development/python-slithers-into-systems/\n",
      "GitHub – reddit-archive/reddit: historical code from reddit.com.: https://github.com/reddit-archive/reddit\n",
      "archived: https://web.archive.org/web/20200601104939/https://github.com/reddit-archive/reddit\n",
      "\"Real time communication at scale with Elixir at Discord\": https://elixir-lang.org/blog/2020/10/08/real-time-communication-at-scale-with-elixir-at-discord/\n",
      "\"What Programming Language is Baidu Built In?\": https://www.freelancinggig.com/blog/2018/07/05/what-programming-language-is-baidu-built-in/#:~:text=Even%20though%20Baidu%20has%20used,part%20JavaScript%20has%20been%20applied\n",
      "\"Usage statistics and market share of Python for websites\": http://w3techs.com/technologies/details/pl-python/all/all\n",
      "Archived: https://web.archive.org/web/20210813194305/https://w3techs.com/technologies/details/pl-python\n",
      "\"Python for Scientific Computing\": https://www.h2desk.com/blog/python-scientific-computing/\n",
      "2007CSE.....9c..10O: https://ui.adsabs.harvard.edu/abs/2007CSE.....9c..10O\n",
      "10.1.1.474.6460: https://citeseerx.ist.psu.edu/viewdoc/summary?doi=10.1.1.474.6460\n",
      "10.1109/MCSE.2007.58: https://doi.org/10.1109%2FMCSE.2007.58\n",
      "1521-9615: https://search.worldcat.org/issn/1521-9615\n",
      "206457124: https://api.semanticscholar.org/CorpusID:206457124\n",
      "Archived: https://web.archive.org/web/20200615193226/https://www.h2desk.com/blog/python-scientific-computing/\n",
      "\"Python for Scientists and Engineers\": http://www.computer.org/csdl/mags/cs/2011/02/mcs2011020009.html\n",
      "2011CSE....13b...9M: https://ui.adsabs.harvard.edu/abs/2011CSE....13b...9M\n",
      "10.1109/MCSE.2011.36: https://doi.org/10.1109%2FMCSE.2011.36\n",
      "Archived: https://web.archive.org/web/20190219031439/https://www.computer.org/csdl/mags/cs/2011/02/mcs2011020009.html\n",
      "Science education with SageMath: https://web.archive.org/web/20200615180428/http://visual.icse.us.edu.pl/methodology/why_Sage.html\n",
      "the original: http://visual.icse.us.edu.pl/methodology/why_Sage.html\n",
      "\"OpenCV: OpenCV-Python Tutorials\": https://docs.opencv.org/3.4.9/d6/d00/tutorial_py_root.html\n",
      "Archived: https://web.archive.org/web/20200923063145/https://docs.opencv.org/3.4.9/d6/d00/tutorial_py_root.html\n",
      "\"TensorFlow: Large-scale machine learning on heterogeneous systems\": http://download.tensorflow.org/paper/whitepaper2015.pdf\n",
      "Archived: https://web.archive.org/web/20151120004649/http://download.tensorflow.org/paper/whitepaper2015.pdf\n",
      "\"Python eats away at R: Top Software for Analytics, Data Science, Machine Learning in 2018: Trends and Analysis\": https://www.kdnuggets.com/2018/05/poll-tools-analytics-data-science-machine-learning-results.html/2\n",
      "Archived: https://web.archive.org/web/20191115234216/https://www.kdnuggets.com/2018/05/poll-tools-analytics-data-science-machine-learning-results.html/2\n",
      "\"Who is using scikit-learn? – scikit-learn 0.20.1 documentation\": https://scikit-learn.org/stable/testimonials/testimonials.html\n",
      "Archived: https://web.archive.org/web/20200506210716/https://scikit-learn.org/stable/testimonials/testimonials.html\n",
      "\"Google supercharges machine learning tasks with TPU custom chip\": https://cloudplatform.googleblog.com/2016/05/Google-supercharges-machine-learning-tasks-with-custom-chip.html\n",
      "Archived: https://web.archive.org/web/20160518201516/https://cloudplatform.googleblog.com/2016/05/Google-supercharges-machine-learning-tasks-with-custom-chip.html\n",
      "\"Probabilistic (logic) programming concepts\": https://doi.org/10.1007%2Fs10994-015-5494-z\n",
      "10.1007/s10994-015-5494-z: https://doi.org/10.1007%2Fs10994-015-5494-z\n",
      "3166992: https://api.semanticscholar.org/CorpusID:3166992\n",
      "\"Natural Language Toolkit – NLTK 3.5b1 documentation\": http://www.nltk.org/\n",
      "Archived: https://web.archive.org/web/20200613003911/http://www.nltk.org/\n",
      "\"SWI-Prolog Python interface\": https://www.swi-prolog.org/pldoc/doc_for?object=section(%27packages/janus.html%27)\n",
      "Archived: https://web.archive.org/web/20240315162046/https://www.swi-prolog.org/pldoc/doc_for?object=section%28%27packages%2Fjanus.html%27%29\n",
      "\"Tkinter — Python interface to TCL/Tk\": https://docs.python.org/3/library/tkinter.html\n",
      "Archived: https://web.archive.org/web/20121018043136/http://docs.python.org/library/tkinter.html\n",
      "\"Python Tkinter Tutorial\": https://www.geeksforgeeks.org/python-tkinter-tutorial/\n",
      "Archived: https://web.archive.org/web/20230609031631/https://www.geeksforgeeks.org/python-tkinter-tutorial/\n",
      "\"Installers for GIMP for Windows – Frequently Asked Questions\": https://web.archive.org/web/20130717070814/http://gimp-win.sourceforge.net/faq.html\n",
      "the original: http://gimp-win.sourceforge.net/faq.html\n",
      "\"jasc psp9components\": https://web.archive.org/web/20080319061519/http://www.jasc.com/support/customercare/articles/psp9components.asp\n",
      "the original: http://www.jasc.com/support/customercare/articles/psp9components.asp\n",
      "\"About getting started with writing geoprocessing scripts\": http://webhelp.esri.com/arcgisdesktop/9.2/index.cfm?TopicName=About_getting_started_with_writing_geoprocessing_scripts\n",
      "Archived: https://web.archive.org/web/20200605144616/http://webhelp.esri.com/arcgisdesktop/9.2/index.cfm?TopicName=About_getting_started_with_writing_geoprocessing_scripts\n",
      "\"Stackless Python 2.7\": https://community.eveonline.com/news/dev-blogs/stackless-python-2.7/\n",
      "Archived: https://web.archive.org/web/20140111155537/http://community.eveonline.com/news/dev-blogs/stackless-python-2.7/\n",
      "\"Modding Sid Meier's Civilization IV\": https://web.archive.org/web/20101202164144/http://www.2kgames.com/civ4/blog_03.htm\n",
      "the original: http://www.2kgames.com/civ4/blog_03.htm\n",
      "\"Python Language Guide (v1.0)\": https://web.archive.org/web/20100715145616/http://code.google.com/apis/documents/docs/1.0/developers_guide_python.html\n",
      "the original: https://code.google.com/apis/documents/docs/1.0/developers_guide_python.html\n",
      "\"4.0 New Features and Fixes\": http://www.libreoffice.org/download/4-0-new-features-and-fixes/\n",
      "Archived: https://web.archive.org/web/20140209184807/http://www.libreoffice.org/download/4-0-new-features-and-fixes/\n",
      "\"Python Setup and Usage\": https://docs.python.org/3/using/unix.html\n",
      "Archived: https://web.archive.org/web/20200617143505/https://docs.python.org/3/using/unix.html\n",
      "\"What is Sugar?\": http://sugarlabs.org/go/Sugar\n",
      "Archived: https://web.archive.org/web/20090109025944/http://sugarlabs.org/go/Sugar\n",
      "\"Immunity: Knowing You're Secure\": https://web.archive.org/web/20090216134332/http://immunitysec.com/products-immdbg.shtml\n",
      "\"Core Security\": https://www.coresecurity.com/\n",
      "Archived: https://web.archive.org/web/20200609165041/http://www.coresecurity.com/\n",
      "\"Gotchas for Python Users\": https://web.archive.org/web/20081211062108/http://boo.codehaus.org/Gotchas+for+Python+Users\n",
      "the original: http://boo.codehaus.org/Gotchas+for+Python+Users\n",
      "\"Acknowledgements\": https://web.archive.org/web/20080208141002/http://cobra-language.com/docs/acknowledgements/\n",
      "the original: http://cobra-language.com/docs/acknowledgements/\n",
      "\"Proposals: iterators and generators [ES4 Wiki]\": https://web.archive.org/web/20071020082650/http://wiki.ecmascript.org/doku.php?id=proposals:iterators_and_generators\n",
      "the original: http://wiki.ecmascript.org/doku.php?id=proposals:iterators_and_generators\n",
      "\"Frequently asked questions\": https://docs.godotengine.org/en/stable/about/faq.html\n",
      "Archived: https://web.archive.org/web/20210428053339/https://docs.godotengine.org/en/stable/about/faq.html\n",
      "\"Google's Go: A New Programming Language That's Python Meets C++\": https://techcrunch.com/2009/11/10/google-go-language/\n",
      "Archived: https://web.archive.org/web/20100118014358/http://www.techcrunch.com/2009/11/10/google-go-language/\n",
      "\"Groovy – the birth of a new dynamic language for the Java platform\": https://web.archive.org/web/20070405085722/http://radio.weblogs.com/0112098/2003/08/29.html\n",
      "the original: http://radio.weblogs.com/0112098/2003/08/29.html\n",
      "\"Modular Docs – Why Mojo\": https://docs.modular.com/mojo/why-mojo.html\n",
      "Archived: https://web.archive.org/web/20230505083518/https://docs.modular.com/mojo/why-mojo.html\n",
      "\"What is Mojo Programming Language?\": https://datasciencelearningcenter.substack.com/p/what-is-mojo-programming-language\n",
      "Archived: https://web.archive.org/web/20230505090408/https://datasciencelearningcenter.substack.com/p/what-is-mojo-programming-language\n",
      "\"Nim language draws from best of Python, Rust, Go, and Lisp\": https://www.infoworld.com/article/3157745/application-development/nim-language-draws-from-best-of-python-rust-go-and-lisp.html\n",
      "Archived: https://web.archive.org/web/20181013211847/https://www.infoworld.com/article/3157745/application-development/nim-language-draws-from-best-of-python-rust-go-and-lisp.html\n",
      "\"An Interview with the Creator of Ruby\": http://www.linuxdevcenter.com/pub/a/linux/2001/11/29/ruby.html\n",
      "Archived: https://web.archive.org/web/20180428150410/http://www.linuxdevcenter.com/pub/a/linux/2001/11/29/ruby.html\n",
      "\"Chris Lattner's Homepage\": http://nondot.org/sabre\n",
      "Archived: https://web.archive.org/web/20151222150510/http://nondot.org/sabre/\n",
      "\"Programming in Kotlin\": https://medium.com/codex/programming-in-kotlin-934bdb3659cf\n",
      "\"TIP #3: TIP Format\": http://www.tcl.tk/cgi-bin/tct/tip/3.html\n",
      "Archived: https://web.archive.org/web/20170713233954/http://tcl.tk/cgi-bin/tct/tip/3.html\n",
      "\"EEP 1: EEP Purpose and Guidelines\": http://www.erlang.org/eeps/eep-0001.html\n",
      "Archived: https://web.archive.org/web/20200615153206/http://erlang.org/eeps/eep-0001.html\n",
      "\"Swift Evolution Process\": https://github.com/apple/swift-evolution/blob/master/process.md\n",
      "Archived: https://web.archive.org/web/20200427182556/https://github.com/apple/swift-evolution/blob/master/process.md\n",
      "\"Python for Artificial Intelligence\": https://web.archive.org/web/20121101045354/http://wiki.python.org/moin/PythonForArtificialIntelligence\n",
      "the original: https://wiki.python.org/moin/PythonForArtificialIntelligence\n",
      "\"AI in Python\": https://web.archive.org/web/20120326105810/http://www.ainewsletter.com/newsletters/aix_0508.htm#python_ai_ai\n",
      "the original: http://www.ainewsletter.com/newsletters/aix_0508.htm#python_ai_ai\n",
      "\"PyAIML 0.8.5 : Python Package Index\": https://pypi.python.org/pypi/PyAIML\n",
      "Think Python: How to Think Like a Computer Scientist: https://allendowney.github.io/ThinkPython/\n",
      "Fluent Python: https://www.thoughtworks.com/insights/books/fluent-python-2nd-edition\n",
      "Media: https://commons.wikimedia.org/wiki/Category:Python_(programming_language)\n",
      "Quotations: https://en.wikiquote.org/wiki/Python\n",
      "Textbooks: https://en.wikibooks.org/wiki/Python_Programming\n",
      "Resources: https://en.wikiversity.org/wiki/Python\n",
      "Data: https://www.wikidata.org/wiki/Q28865\n",
      "Official website: https://www.python.org/\n",
      ": https://www.wikidata.org/wiki/Q28865#P856\n",
      "The Python Tutorial: https://docs.python.org/3/tutorial/\n",
      ": https://www.wikidata.org/wiki/Q28865#identifiers\n",
      "FAST: https://id.worldcat.org/fast/1084736\n",
      "Germany: https://d-nb.info/gnd/4434275-5\n",
      "United States: https://id.loc.gov/authorities/sh96008834\n",
      "France: https://catalogue.bnf.fr/ark:/12148/cb13560465c\n",
      "BnF data: https://data.bnf.fr/ark:/12148/cb13560465c\n",
      "Czech Republic: https://aleph.nkp.cz/F/?func=find-c&local_base=aut&ccl_term=ica=ph170668&CON_LNG=ENG\n",
      "Israel: https://www.nli.org.il/en/authorities/987007563637105171\n",
      "IdRef: https://www.idref.fr/051626225\n",
      "Terms of Use: https://foundation.wikimedia.org/wiki/Special:MyLanguage/Policy:Terms_of_Use\n",
      "Privacy Policy: https://foundation.wikimedia.org/wiki/Special:MyLanguage/Policy:Privacy_policy\n",
      "Wikimedia Foundation, Inc.: https://wikimediafoundation.org/\n",
      "Privacy policy: https://foundation.wikimedia.org/wiki/Special:MyLanguage/Policy:Privacy_policy\n",
      "Code of Conduct: https://foundation.wikimedia.org/wiki/Special:MyLanguage/Policy:Universal_Code_of_Conduct\n",
      "Developers: https://developer.wikimedia.org\n",
      "Cookie statement: https://foundation.wikimedia.org/wiki/Special:MyLanguage/Policy:Cookie_statement\n",
      ": https://www.wikimedia.org/\n",
      ": https://www.mediawiki.org/\n"
     ]
    }
   ],
   "source": [
    "print(\"\\nXarici linklər:\")\n",
    "for link in soup.find_all('a', href=True):\n",
    "    url = link['href']\n",
    "    if url.startswith('http') and 'wikipedia.org' not in url:\n",
    "        print(f\"{link.text.strip()}: {url}\")\n"
   ]
  },
  {
   "cell_type": "code",
   "execution_count": 19,
   "id": "442e76d2-cd46-41d4-8bc8-363271b9052f",
   "metadata": {},
   "outputs": [
    {
     "name": "stdout",
     "output_type": "stream",
     "text": [
      "\n",
      "Axtarış nəticələri:\n"
     ]
    }
   ],
   "source": [
    "axtarış_url = 'https://en.wikipedia.org/w/index.php'\n",
    "parametrlər = {\n",
    "    'search': 'Python programming',\n",
    "    'title': 'Special:Search',\n",
    "    'go': 'Go'\n",
    "}\n",
    "\n",
    "cavab = requests.get(axtarış_url, params=parametrlər)\n",
    "soup = BeautifulSoup(cavab.content, 'html.parser')\n",
    "\n",
    "print(\"\\nAxtarış nəticələri:\")\n",
    "for nəticə in soup.select('.mw-search-result-heading'):\n",
    "    print(nəticə.get_text())"
   ]
  },
  {
   "cell_type": "code",
   "execution_count": 20,
   "id": "2924c1ba-9a11-45ad-ac9a-871581e1a266",
   "metadata": {},
   "outputs": [
    {
     "name": "stdout",
     "output_type": "stream",
     "text": [
      "\n",
      "Valyuta məzənnələri:\n",
      "1 AZN = 0.588 USD\n",
      "1 AZN = 0.502 EUR\n"
     ]
    }
   ],
   "source": [
    "import time\n",
    "time.sleep(2)  # 2 saniyə gözlə\n",
    "\n",
    "\n",
    "def valyuta_məzənnəsi(esas_valyuta='AZN', hədəf_valyuta='USD'):\n",
    "    try:\n",
    "        url = f'https://api.exchangerate-api.com/v4/latest/{esas_valyuta}'\n",
    "        cavab = requests.get(url)\n",
    "        cavab.raise_for_status()\n",
    "        məlumat = cavab.json()\n",
    "        məzənnə = məlumat['rates'][hədəf_valyuta]\n",
    "        print(f\"1 {esas_valyuta} = {məzənnə} {hədəf_valyuta}\")\n",
    "        return məzənnə\n",
    "    except Exception as e:\n",
    "        print(f\"Xəta baş verdi: {e}\")\n",
    "        return None\n",
    "\n",
    "print(\"\\nValyuta məzənnələri:\")\n",
    "azn_usd = valyuta_məzənnəsi('AZN', 'USD')\n",
    "azn_eur = valyuta_məzənnəsi('AZN', 'EUR')\n"
   ]
  },
  {
   "cell_type": "code",
   "execution_count": 24,
   "id": "29589d82-a5d7-435d-9a5b-d69d1d48b8ae",
   "metadata": {},
   "outputs": [
    {
     "name": "stdout",
     "output_type": "stream",
     "text": [
      "Requirement already satisfied: requests in c:\\users\\goyle\\appdata\\local\\programs\\python\\python313\\lib\\site-packages (2.32.4)\n",
      "Requirement already satisfied: beautifulsoup4 in c:\\users\\goyle\\appdata\\local\\programs\\python\\python313\\lib\\site-packages (4.13.4)\n",
      "Requirement already satisfied: charset_normalizer<4,>=2 in c:\\users\\goyle\\appdata\\local\\programs\\python\\python313\\lib\\site-packages (from requests) (3.4.2)\n",
      "Requirement already satisfied: idna<4,>=2.5 in c:\\users\\goyle\\appdata\\local\\programs\\python\\python313\\lib\\site-packages (from requests) (3.10)\n",
      "Requirement already satisfied: urllib3<3,>=1.21.1 in c:\\users\\goyle\\appdata\\local\\programs\\python\\python313\\lib\\site-packages (from requests) (2.5.0)\n",
      "Requirement already satisfied: certifi>=2017.4.17 in c:\\users\\goyle\\appdata\\local\\programs\\python\\python313\\lib\\site-packages (from requests) (2025.6.15)\n",
      "Requirement already satisfied: soupsieve>1.2 in c:\\users\\goyle\\appdata\\local\\programs\\python\\python313\\lib\\site-packages (from beautifulsoup4) (2.7)\n",
      "Requirement already satisfied: typing-extensions>=4.0.0 in c:\\users\\goyle\\appdata\\local\\programs\\python\\python313\\lib\\site-packages (from beautifulsoup4) (4.14.0)\n",
      "Note: you may need to restart the kernel to use updated packages.\n"
     ]
    }
   ],
   "source": [
    "%pip install requests beautifulsoup4\n"
   ]
  },
  {
   "cell_type": "markdown",
   "id": "b51d7d54-a9a3-4744-9934-b5283f88c81f",
   "metadata": {},
   "source": [
    "# OOP Əsasları: Siniflər və Obyektlər"
   ]
  },
  {
   "cell_type": "code",
   "execution_count": 32,
   "id": "93601b36-293a-4b75-b2c4-b1d8982b633f",
   "metadata": {},
   "outputs": [
    {
     "name": "stdout",
     "output_type": "stream",
     "text": [
      "Bakı şəhəri, Azərbaycan - Əhali: 2300000\n",
      "Gəncə şəhəri, Azərbaycan - Əhali: 350000\n"
     ]
    }
   ],
   "source": [
    "class Şəhər:\n",
    "    \"\"\"Şəhər haqqında məlumat saxlayan sinif\"\"\"\n",
    "    \n",
    "    # Sinif dəyişəni (Class Attribute)\n",
    "    ölkə = \"Azərbaycan\"\n",
    "    \n",
    "    def __init__(self, ad, əhali):\n",
    "        \"\"\"Konstruktor metodu - obyekt yaradılanda çağırılır\"\"\"\n",
    "        # İnstans dəyişənləri (Instance Attributes)\n",
    "        self.ad = ad\n",
    "        self.əhali = əhali\n",
    "    \n",
    "    def təsvir(self):\n",
    "        \"\"\"İnstans metodu - obyekt haqqında məlumat qaytarır\"\"\"\n",
    "        return f\"{self.ad} şəhəri, {self.ölkə} - Əhali: {self.əhali}\"\n",
    "\n",
    "# Obyekt yaratmaq (instantiation)\n",
    "bakı = Şəhər(\"Bakı\", 2300000)\n",
    "gəncə = Şəhər(\"Gəncə\", 350000)\n",
    "\n",
    "# Obyekt metodlarını çağırmaq\n",
    "print(bakı.təsvir())\n",
    "print(gəncə.təsvir())"
   ]
  },
  {
   "cell_type": "code",
   "execution_count": 33,
   "id": "bb5a5bf4-fad6-41b1-acc7-68f03e1c4c6e",
   "metadata": {},
   "outputs": [
    {
     "name": "stdout",
     "output_type": "stream",
     "text": [
      "\n",
      "Atributlara çatma:\n",
      "Bakı şəhərinin əhalisi: 2300000\n",
      "Bütün şəhərlər Azərbaycan ölkəsindədir\n"
     ]
    }
   ],
   "source": [
    "print(\"\\nAtributlara çatma:\")\n",
    "print(f\"{bakı.ad} şəhərinin əhalisi: {bakı.əhali}\")\n",
    "print(f\"Bütün şəhərlər {Şəhər.ölkə} ölkəsindədir\")"
   ]
  },
  {
   "cell_type": "code",
   "execution_count": 34,
   "id": "6226a3f9-abbd-4aa5-8bc9-5a36c81ada29",
   "metadata": {},
   "outputs": [
    {
     "name": "stdout",
     "output_type": "stream",
     "text": [
      "\n",
      "İnheritance nümunəsi:\n",
      "Gəncə şəhəri, Azərbaycan - Əhali: 350000 | Universitet sayı: 5\n"
     ]
    }
   ],
   "source": [
    "class UniversitetŞəhəri(Şəhər):\n",
    "    \"\"\"Universitet şəhərləri üçün ixtisaslaşdırılmış sinif\"\"\"\n",
    "    \n",
    "    def __init__(self, ad, əhali, universitet_sayı):\n",
    "        # Ata sinfin konstruktorunu çağırmaq\n",
    "        super().__init__(ad, əhali)\n",
    "        self.universitet_sayı = universitet_sayı\n",
    "    \n",
    "    # Metodun üzərinə yazmaq (Method Overriding)\n",
    "    def təsvir(self):\n",
    "        əsas_təsvir = super().təsvir()\n",
    "        return f\"{əsas_təsvir} | Universitet sayı: {self.universitet_sayı}\"\n",
    "\n",
    "# Obyekt yaratmaq\n",
    "gəncə = UniversitetŞəhəri(\"Gəncə\", 350000, 5)\n",
    "print(\"\\nİnheritance nümunəsi:\")\n",
    "print(gəncə.təsvir())"
   ]
  },
  {
   "cell_type": "code",
   "execution_count": 35,
   "id": "b01b937e-7a14-4ea3-bdd4-5ca47469822a",
   "metadata": {},
   "outputs": [],
   "source": [
    "class Heyvan:\n",
    "    def səs(self):\n",
    "        pass\n",
    "\n",
    "class Pişik(Heyvan):\n",
    "    def səs(self):\n",
    "        return \"Miyav\"\n",
    "\n",
    "class İt(Heyvan):\n",
    "    def səs(self):\n",
    "        return \"Hav hav\"\n"
   ]
  },
  {
   "cell_type": "code",
   "execution_count": 36,
   "id": "b65510b5-cc83-42bf-8187-42cc5c1862f5",
   "metadata": {},
   "outputs": [
    {
     "name": "stdout",
     "output_type": "stream",
     "text": [
      "\n",
      "Polymorphism nümunəsi:\n",
      "Miyav\n",
      "Hav hav\n"
     ]
    }
   ],
   "source": [
    "print(\"\\nPolymorphism nümunəsi:\")\n",
    "heyvanlar = [Pişik(), İt()]\n",
    "\n",
    "for heyvan in heyvanlar:\n",
    "    print(heyvan.səs())"
   ]
  },
  {
   "cell_type": "code",
   "execution_count": 37,
   "id": "238370ba-1d40-44e5-be02-55b71ec541fa",
   "metadata": {},
   "outputs": [
    {
     "name": "stdout",
     "output_type": "stream",
     "text": [
      "\n",
      "Property nümunəsi:\n",
      "Sahə: 20\n",
      "Perimetr: 18\n"
     ]
    }
   ],
   "source": [
    "class Düzbucaqlı:\n",
    "    \"\"\"Düzbucaqlı sinfi\"\"\"\n",
    "    \n",
    "    def __init__(self, en, uzunluq):\n",
    "        self.en = en\n",
    "        self.uzunluq = uzunluq\n",
    "    \n",
    "    @property\n",
    "    def sahə(self):\n",
    "        \"\"\"Düzbucaqlının sahəsini hesablayır\"\"\"\n",
    "        return self.en * self.uzunluq\n",
    "    \n",
    "    @property\n",
    "    def perimetr(self):\n",
    "        \"\"\"Düzbucaqlının perimetrini hesablayır\"\"\"\n",
    "        return 2 * (self.en + self.uzunluq)\n",
    "    \n",
    "    @property\n",
    "    def uzunluq(self):\n",
    "        \"\"\"Uzunluq property-si\"\"\"\n",
    "        return self._uzunluq\n",
    "    \n",
    "    @uzunluq.setter\n",
    "    def uzunluq(self, dəyər):\n",
    "        \"\"\"Uzunluq üçün setter\"\"\"\n",
    "        if dəyər <= 0:\n",
    "            raise ValueError(\"Uzunluq müsbət olmalıdır\")\n",
    "        self._uzunluq = dəyər\n",
    "\n",
    "# İstifadə\n",
    "d = Düzbucaqlı(4, 5)\n",
    "print(\"\\nProperty nümunəsi:\")\n",
    "print(\"Sahə:\", d.sahə)\n",
    "print(\"Perimetr:\", d.perimetr)"
   ]
  },
  {
   "cell_type": "code",
   "execution_count": 38,
   "id": "fa8e6a63-4495-47c0-9ad7-43f0fee36816",
   "metadata": {},
   "outputs": [
    {
     "name": "stdout",
     "output_type": "stream",
     "text": [
      "Xəta: Uzunluq müsbət olmalıdır\n"
     ]
    }
   ],
   "source": [
    "try:\n",
    "    d.uzunluq = -10  # Xəta verəcək\n",
    "except ValueError as e:\n",
    "    print(\"Xəta:\", e)"
   ]
  },
  {
   "cell_type": "code",
   "execution_count": 39,
   "id": "a6cbc261-0324-427a-af40-1f84995f2054",
   "metadata": {},
   "outputs": [
    {
     "name": "stdout",
     "output_type": "stream",
     "text": [
      "\n",
      "Sinif decorator nümunəsi:\n",
      "MənimSinifim sinfindən salamlar!\n"
     ]
    }
   ],
   "source": [
    "def sinif_dekoratoru(cls):\n",
    "    \"\"\"Sinifə yeni metod əlavə edən decorator\"\"\"\n",
    "    def yeni_metod(self):\n",
    "        return f\"{self.__class__.__name__} sinfindən salamlar!\"\n",
    "    \n",
    "    cls.salam_ver = yeni_metod\n",
    "    return cls\n",
    "\n",
    "@sinif_dekoratoru\n",
    "class MənimSinifim:\n",
    "    \"\"\"Nümunə sinif\"\"\"\n",
    "    pass\n",
    "\n",
    "# İstifadə\n",
    "obj = MənimSinifim()\n",
    "print(\"\\nSinif decorator nümunəsi:\")\n",
    "print(obj.salam_ver())"
   ]
  },
  {
   "cell_type": "markdown",
   "id": "2fb20ad0-5f5a-4891-88b0-acb3b593ee09",
   "metadata": {},
   "source": [
    "## Inheritance (Miras) nümunəsi"
   ]
  },
  {
   "cell_type": "code",
   "execution_count": 40,
   "id": "56b471fc-db25-49d5-9ceb-3067c4da91e3",
   "metadata": {},
   "outputs": [
    {
     "name": "stdout",
     "output_type": "stream",
     "text": [
      "\n",
      "Inheritance vs Composition:\n",
      "Avtomobil sürülür. Mühərrik işə salındı\n"
     ]
    }
   ],
   "source": [
    "class Mühərrik:\n",
    "    def işə_sal(self):\n",
    "        return \"Mühərrik işə salındı\"\n",
    "\n",
    "class Avtomobil(Mühərrik):\n",
    "    def sür(self):\n",
    "        return f\"Avtomobil sürülür. {self.işə_sal()}\"\n",
    "\n",
    "# Composition nümunəsi\n",
    "class Avtomobil:\n",
    "    def __init__(self):\n",
    "        self.mühərrik = Mühərrik()\n",
    "    \n",
    "    def sür(self):\n",
    "        return f\"Avtomobil sürülür. {self.mühərrik.işə_sal()}\"\n",
    "\n",
    "print(\"\\nInheritance vs Composition:\")\n",
    "avto1 = Avtomobil()\n",
    "print(avto1.sür())"
   ]
  },
  {
   "cell_type": "markdown",
   "id": "afc43ec6-3d99-41c0-bcc0-ea65e7bcd516",
   "metadata": {},
   "source": [
    "## 2.5 Abstract Base Classes (ABC)"
   ]
  },
  {
   "cell_type": "code",
   "execution_count": 41,
   "id": "d95c2e18-9b1d-4b53-ada3-907129bbea42",
   "metadata": {},
   "outputs": [],
   "source": [
    "from abc import ABC, abstractmethod\n",
    "\n",
    "class Şəkil(ABC):\n",
    "    @abstractmethod\n",
    "    def sahə(self):\n",
    "        pass\n",
    "    \n",
    "    @abstractmethod\n",
    "    def perimetr(self):\n",
    "        pass\n",
    "\n",
    "class Düzbucaqlı(Şəkil):\n",
    "    def __init__(self, en, uzunluq):\n",
    "        self.en = en\n",
    "        self.uzunluq = uzunluq\n",
    "    \n",
    "    def sahə(self):\n",
    "        return self.en * self.uzunluq\n",
    "    \n",
    "    def perimetr(self):\n",
    "        return 2 * (self.en + self.uzunluq)"
   ]
  },
  {
   "cell_type": "code",
   "execution_count": 42,
   "id": "9b7c9273-31f9-4754-81df-dab4ab13ea7a",
   "metadata": {},
   "outputs": [
    {
     "name": "stdout",
     "output_type": "stream",
     "text": [
      "\n",
      "Abstract sinif nümunəsi:\n",
      "Xəta: Can't instantiate abstract class Şəkil without an implementation for abstract methods 'perimetr', 'sahə'\n",
      "Düzbucaqlı sahə: 20\n"
     ]
    }
   ],
   "source": [
    "try:\n",
    "    ş = Şəkil()\n",
    "except TypeError as e:\n",
    "    print(\"\\nAbstract sinif nümunəsi:\")\n",
    "    print(\"Xəta:\", e)\n",
    "\n",
    "d = Düzbucaqlı(4, 5)\n",
    "print(\"Düzbucaqlı sahə:\", d.sahə())"
   ]
  },
  {
   "cell_type": "code",
   "execution_count": null,
   "id": "7088d9ac-84ae-4988-a045-e0f6073be5f4",
   "metadata": {},
   "outputs": [],
   "source": []
  },
  {
   "cell_type": "code",
   "execution_count": null,
   "id": "12d7ba85-cb0a-4076-8a73-8720845425f1",
   "metadata": {},
   "outputs": [],
   "source": []
  },
  {
   "cell_type": "code",
   "execution_count": null,
   "id": "47e6b02f-8b61-4f2d-96c2-fbe147e0c2bf",
   "metadata": {},
   "outputs": [],
   "source": []
  },
  {
   "cell_type": "code",
   "execution_count": null,
   "id": "de83a3ca-23ad-4e5d-9d4a-ef6d68a62153",
   "metadata": {},
   "outputs": [],
   "source": []
  },
  {
   "cell_type": "code",
   "execution_count": null,
   "id": "e8a38f04-f0ad-4614-bc42-29706fc4ee38",
   "metadata": {},
   "outputs": [],
   "source": []
  },
  {
   "cell_type": "code",
   "execution_count": null,
   "id": "243814d6-b12a-459b-834a-a1aa96febd6a",
   "metadata": {},
   "outputs": [],
   "source": []
  },
  {
   "cell_type": "code",
   "execution_count": null,
   "id": "90e4593a-df7a-4cbe-8e1d-aafc20b9ac03",
   "metadata": {},
   "outputs": [],
   "source": []
  },
  {
   "cell_type": "code",
   "execution_count": null,
   "id": "1e4be1ac-304b-431d-961a-8ba989d7c735",
   "metadata": {},
   "outputs": [],
   "source": []
  },
  {
   "cell_type": "code",
   "execution_count": null,
   "id": "f53aed98-b769-4044-bbda-ab3feb032a07",
   "metadata": {},
   "outputs": [],
   "source": []
  }
 ],
 "metadata": {
  "kernelspec": {
   "display_name": "Python 3 (ipykernel)",
   "language": "python",
   "name": "python3"
  },
  "language_info": {
   "codemirror_mode": {
    "name": "ipython",
    "version": 3
   },
   "file_extension": ".py",
   "mimetype": "text/x-python",
   "name": "python",
   "nbconvert_exporter": "python",
   "pygments_lexer": "ipython3",
   "version": "3.13.5"
  }
 },
 "nbformat": 4,
 "nbformat_minor": 5
}
